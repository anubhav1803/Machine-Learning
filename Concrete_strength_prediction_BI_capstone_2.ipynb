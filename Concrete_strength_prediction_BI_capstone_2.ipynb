{
  "nbformat": 4,
  "nbformat_minor": 0,
  "metadata": {
    "colab": {
      "name": "Concrete_strength_prediction.ipynb",
      "provenance": [],
      "collapsed_sections": []
    },
    "kernelspec": {
      "display_name": "Python 3",
      "name": "python3"
    },
    "language_info": {
      "name": "python"
    }
  },
  "cells": [
    {
      "cell_type": "code",
      "metadata": {
        "id": "bYMx8XB2RvR6"
      },
      "source": [
        "# from google.colab import drive\n",
        "# drive.mount('/content/drive')"
      ],
      "execution_count": null,
      "outputs": []
    },
    {
      "cell_type": "code",
      "metadata": {
        "id": "R2XKWZfdR4rN"
      },
      "source": [
        "import numpy as np\n",
        "import pandas as pd\n",
        "import matplotlib.pyplot as plt"
      ],
      "execution_count": null,
      "outputs": []
    },
    {
      "cell_type": "code",
      "metadata": {
        "id": "QaoanxhZSizP"
      },
      "source": [
        "import warnings\n",
        "warnings.filterwarnings('ignore')"
      ],
      "execution_count": null,
      "outputs": []
    },
    {
      "cell_type": "code",
      "metadata": {
        "id": "yURFjYJhSnQU"
      },
      "source": [
        "pd.set_option('display.max_rows', 10000)\n",
        "pd.set_option('display.max_columns', 100)"
      ],
      "execution_count": null,
      "outputs": []
    },
    {
      "cell_type": "code",
      "metadata": {
        "id": "zTHfCat-SrX4"
      },
      "source": [
        "import seaborn as sns\n",
        "%matplotlib inline"
      ],
      "execution_count": null,
      "outputs": []
    },
    {
      "cell_type": "code",
      "metadata": {
        "id": "zkVd4y_iSwwG"
      },
      "source": [
        "dataset = pd.read_csv('/content/drive/MyDrive/Concrete_Strength_prediction/Concrete Data.csv') "
      ],
      "execution_count": null,
      "outputs": []
    },
    {
      "cell_type": "code",
      "metadata": {
        "colab": {
          "base_uri": "https://localhost:8080/",
          "height": 204
        },
        "id": "KD0_mhlUTarN",
        "outputId": "09d5fa45-ba79-40f1-a8ef-0fbea74feb0b"
      },
      "source": [
        "dataset.head()"
      ],
      "execution_count": null,
      "outputs": [
        {
          "output_type": "execute_result",
          "data": {
            "text/html": [
              "<div>\n",
              "<style scoped>\n",
              "    .dataframe tbody tr th:only-of-type {\n",
              "        vertical-align: middle;\n",
              "    }\n",
              "\n",
              "    .dataframe tbody tr th {\n",
              "        vertical-align: top;\n",
              "    }\n",
              "\n",
              "    .dataframe thead th {\n",
              "        text-align: right;\n",
              "    }\n",
              "</style>\n",
              "<table border=\"1\" class=\"dataframe\">\n",
              "  <thead>\n",
              "    <tr style=\"text-align: right;\">\n",
              "      <th></th>\n",
              "      <th>Cement</th>\n",
              "      <th>Blast_Furnace_Slag</th>\n",
              "      <th>Fly_Ash</th>\n",
              "      <th>Water</th>\n",
              "      <th>Superplasticizer</th>\n",
              "      <th>Coarse_Aggregate</th>\n",
              "      <th>Fine_Aggregate</th>\n",
              "      <th>Age_in_days</th>\n",
              "      <th>Concrete_compressive_strength</th>\n",
              "    </tr>\n",
              "  </thead>\n",
              "  <tbody>\n",
              "    <tr>\n",
              "      <th>0</th>\n",
              "      <td>540.0</td>\n",
              "      <td>0.0</td>\n",
              "      <td>0.0</td>\n",
              "      <td>162.0</td>\n",
              "      <td>2.5</td>\n",
              "      <td>1040.0</td>\n",
              "      <td>676.0</td>\n",
              "      <td>28</td>\n",
              "      <td>79.99</td>\n",
              "    </tr>\n",
              "    <tr>\n",
              "      <th>1</th>\n",
              "      <td>540.0</td>\n",
              "      <td>0.0</td>\n",
              "      <td>0.0</td>\n",
              "      <td>162.0</td>\n",
              "      <td>2.5</td>\n",
              "      <td>1055.0</td>\n",
              "      <td>676.0</td>\n",
              "      <td>28</td>\n",
              "      <td>61.89</td>\n",
              "    </tr>\n",
              "    <tr>\n",
              "      <th>2</th>\n",
              "      <td>332.5</td>\n",
              "      <td>142.5</td>\n",
              "      <td>0.0</td>\n",
              "      <td>228.0</td>\n",
              "      <td>0.0</td>\n",
              "      <td>932.0</td>\n",
              "      <td>594.0</td>\n",
              "      <td>270</td>\n",
              "      <td>40.27</td>\n",
              "    </tr>\n",
              "    <tr>\n",
              "      <th>3</th>\n",
              "      <td>332.5</td>\n",
              "      <td>142.5</td>\n",
              "      <td>0.0</td>\n",
              "      <td>228.0</td>\n",
              "      <td>0.0</td>\n",
              "      <td>932.0</td>\n",
              "      <td>594.0</td>\n",
              "      <td>365</td>\n",
              "      <td>41.05</td>\n",
              "    </tr>\n",
              "    <tr>\n",
              "      <th>4</th>\n",
              "      <td>198.6</td>\n",
              "      <td>132.4</td>\n",
              "      <td>0.0</td>\n",
              "      <td>192.0</td>\n",
              "      <td>0.0</td>\n",
              "      <td>978.4</td>\n",
              "      <td>825.5</td>\n",
              "      <td>360</td>\n",
              "      <td>44.30</td>\n",
              "    </tr>\n",
              "  </tbody>\n",
              "</table>\n",
              "</div>"
            ],
            "text/plain": [
              "   Cement  Blast_Furnace_Slag  Fly_Ash  Water  Superplasticizer  \\\n",
              "0   540.0                 0.0      0.0  162.0               2.5   \n",
              "1   540.0                 0.0      0.0  162.0               2.5   \n",
              "2   332.5               142.5      0.0  228.0               0.0   \n",
              "3   332.5               142.5      0.0  228.0               0.0   \n",
              "4   198.6               132.4      0.0  192.0               0.0   \n",
              "\n",
              "   Coarse_Aggregate  Fine_Aggregate  Age_in_days  \\\n",
              "0            1040.0           676.0           28   \n",
              "1            1055.0           676.0           28   \n",
              "2             932.0           594.0          270   \n",
              "3             932.0           594.0          365   \n",
              "4             978.4           825.5          360   \n",
              "\n",
              "   Concrete_compressive_strength  \n",
              "0                          79.99  \n",
              "1                          61.89  \n",
              "2                          40.27  \n",
              "3                          41.05  \n",
              "4                          44.30  "
            ]
          },
          "metadata": {
            "tags": []
          },
          "execution_count": 8
        }
      ]
    },
    {
      "cell_type": "code",
      "metadata": {
        "colab": {
          "base_uri": "https://localhost:8080/"
        },
        "id": "zzXHBY8-V_Z0",
        "outputId": "1d527cac-c569-4688-fab8-2d033e41d304"
      },
      "source": [
        "dataset.shape"
      ],
      "execution_count": null,
      "outputs": [
        {
          "output_type": "execute_result",
          "data": {
            "text/plain": [
              "(1030, 9)"
            ]
          },
          "metadata": {
            "tags": []
          },
          "execution_count": 9
        }
      ]
    },
    {
      "cell_type": "code",
      "metadata": {
        "colab": {
          "base_uri": "https://localhost:8080/"
        },
        "id": "zASBPdWtWGXe",
        "outputId": "d0a56701-722a-4a1e-9fd1-f019787666de"
      },
      "source": [
        "dataset.info()"
      ],
      "execution_count": null,
      "outputs": [
        {
          "output_type": "stream",
          "text": [
            "<class 'pandas.core.frame.DataFrame'>\n",
            "RangeIndex: 1030 entries, 0 to 1029\n",
            "Data columns (total 9 columns):\n",
            " #   Column                         Non-Null Count  Dtype  \n",
            "---  ------                         --------------  -----  \n",
            " 0   Cement                         1030 non-null   float64\n",
            " 1   Blast_Furnace_Slag             1030 non-null   float64\n",
            " 2   Fly_Ash                        1030 non-null   float64\n",
            " 3   Water                          1030 non-null   float64\n",
            " 4   Superplasticizer               1030 non-null   float64\n",
            " 5   Coarse_Aggregate               1030 non-null   float64\n",
            " 6   Fine_Aggregate                 1030 non-null   float64\n",
            " 7   Age_in_days                    1030 non-null   int64  \n",
            " 8   Concrete_compressive_strength  1030 non-null   float64\n",
            "dtypes: float64(8), int64(1)\n",
            "memory usage: 72.5 KB\n"
          ],
          "name": "stdout"
        }
      ]
    },
    {
      "cell_type": "code",
      "metadata": {
        "colab": {
          "base_uri": "https://localhost:8080/",
          "height": 297
        },
        "id": "hbj-q78JY3S_",
        "outputId": "d81022f1-9d2a-481e-f619-8562b8e896f9"
      },
      "source": [
        "dataset.describe()"
      ],
      "execution_count": null,
      "outputs": [
        {
          "output_type": "execute_result",
          "data": {
            "text/html": [
              "<div>\n",
              "<style scoped>\n",
              "    .dataframe tbody tr th:only-of-type {\n",
              "        vertical-align: middle;\n",
              "    }\n",
              "\n",
              "    .dataframe tbody tr th {\n",
              "        vertical-align: top;\n",
              "    }\n",
              "\n",
              "    .dataframe thead th {\n",
              "        text-align: right;\n",
              "    }\n",
              "</style>\n",
              "<table border=\"1\" class=\"dataframe\">\n",
              "  <thead>\n",
              "    <tr style=\"text-align: right;\">\n",
              "      <th></th>\n",
              "      <th>Cement</th>\n",
              "      <th>Blast_Furnace_Slag</th>\n",
              "      <th>Fly_Ash</th>\n",
              "      <th>Water</th>\n",
              "      <th>Superplasticizer</th>\n",
              "      <th>Coarse_Aggregate</th>\n",
              "      <th>Fine_Aggregate</th>\n",
              "      <th>Age_in_days</th>\n",
              "      <th>Concrete_compressive_strength</th>\n",
              "    </tr>\n",
              "  </thead>\n",
              "  <tbody>\n",
              "    <tr>\n",
              "      <th>count</th>\n",
              "      <td>1030.000000</td>\n",
              "      <td>1030.000000</td>\n",
              "      <td>1030.000000</td>\n",
              "      <td>1030.000000</td>\n",
              "      <td>1030.000000</td>\n",
              "      <td>1030.000000</td>\n",
              "      <td>1030.000000</td>\n",
              "      <td>1030.000000</td>\n",
              "      <td>1030.000000</td>\n",
              "    </tr>\n",
              "    <tr>\n",
              "      <th>mean</th>\n",
              "      <td>281.167864</td>\n",
              "      <td>73.895825</td>\n",
              "      <td>54.188350</td>\n",
              "      <td>181.567282</td>\n",
              "      <td>6.204660</td>\n",
              "      <td>972.918932</td>\n",
              "      <td>773.580485</td>\n",
              "      <td>45.662136</td>\n",
              "      <td>35.817961</td>\n",
              "    </tr>\n",
              "    <tr>\n",
              "      <th>std</th>\n",
              "      <td>104.506364</td>\n",
              "      <td>86.279342</td>\n",
              "      <td>63.997004</td>\n",
              "      <td>21.354219</td>\n",
              "      <td>5.973841</td>\n",
              "      <td>77.753954</td>\n",
              "      <td>80.175980</td>\n",
              "      <td>63.169912</td>\n",
              "      <td>16.705742</td>\n",
              "    </tr>\n",
              "    <tr>\n",
              "      <th>min</th>\n",
              "      <td>102.000000</td>\n",
              "      <td>0.000000</td>\n",
              "      <td>0.000000</td>\n",
              "      <td>121.800000</td>\n",
              "      <td>0.000000</td>\n",
              "      <td>801.000000</td>\n",
              "      <td>594.000000</td>\n",
              "      <td>1.000000</td>\n",
              "      <td>2.330000</td>\n",
              "    </tr>\n",
              "    <tr>\n",
              "      <th>25%</th>\n",
              "      <td>192.375000</td>\n",
              "      <td>0.000000</td>\n",
              "      <td>0.000000</td>\n",
              "      <td>164.900000</td>\n",
              "      <td>0.000000</td>\n",
              "      <td>932.000000</td>\n",
              "      <td>730.950000</td>\n",
              "      <td>7.000000</td>\n",
              "      <td>23.710000</td>\n",
              "    </tr>\n",
              "    <tr>\n",
              "      <th>50%</th>\n",
              "      <td>272.900000</td>\n",
              "      <td>22.000000</td>\n",
              "      <td>0.000000</td>\n",
              "      <td>185.000000</td>\n",
              "      <td>6.400000</td>\n",
              "      <td>968.000000</td>\n",
              "      <td>779.500000</td>\n",
              "      <td>28.000000</td>\n",
              "      <td>34.445000</td>\n",
              "    </tr>\n",
              "    <tr>\n",
              "      <th>75%</th>\n",
              "      <td>350.000000</td>\n",
              "      <td>142.950000</td>\n",
              "      <td>118.300000</td>\n",
              "      <td>192.000000</td>\n",
              "      <td>10.200000</td>\n",
              "      <td>1029.400000</td>\n",
              "      <td>824.000000</td>\n",
              "      <td>56.000000</td>\n",
              "      <td>46.135000</td>\n",
              "    </tr>\n",
              "    <tr>\n",
              "      <th>max</th>\n",
              "      <td>540.000000</td>\n",
              "      <td>359.400000</td>\n",
              "      <td>200.100000</td>\n",
              "      <td>247.000000</td>\n",
              "      <td>32.200000</td>\n",
              "      <td>1145.000000</td>\n",
              "      <td>992.600000</td>\n",
              "      <td>365.000000</td>\n",
              "      <td>82.600000</td>\n",
              "    </tr>\n",
              "  </tbody>\n",
              "</table>\n",
              "</div>"
            ],
            "text/plain": [
              "            Cement  Blast_Furnace_Slag      Fly_Ash        Water  \\\n",
              "count  1030.000000         1030.000000  1030.000000  1030.000000   \n",
              "mean    281.167864           73.895825    54.188350   181.567282   \n",
              "std     104.506364           86.279342    63.997004    21.354219   \n",
              "min     102.000000            0.000000     0.000000   121.800000   \n",
              "25%     192.375000            0.000000     0.000000   164.900000   \n",
              "50%     272.900000           22.000000     0.000000   185.000000   \n",
              "75%     350.000000          142.950000   118.300000   192.000000   \n",
              "max     540.000000          359.400000   200.100000   247.000000   \n",
              "\n",
              "       Superplasticizer  Coarse_Aggregate  Fine_Aggregate  Age_in_days  \\\n",
              "count       1030.000000       1030.000000     1030.000000  1030.000000   \n",
              "mean           6.204660        972.918932      773.580485    45.662136   \n",
              "std            5.973841         77.753954       80.175980    63.169912   \n",
              "min            0.000000        801.000000      594.000000     1.000000   \n",
              "25%            0.000000        932.000000      730.950000     7.000000   \n",
              "50%            6.400000        968.000000      779.500000    28.000000   \n",
              "75%           10.200000       1029.400000      824.000000    56.000000   \n",
              "max           32.200000       1145.000000      992.600000   365.000000   \n",
              "\n",
              "       Concrete_compressive_strength  \n",
              "count                    1030.000000  \n",
              "mean                       35.817961  \n",
              "std                        16.705742  \n",
              "min                         2.330000  \n",
              "25%                        23.710000  \n",
              "50%                        34.445000  \n",
              "75%                        46.135000  \n",
              "max                        82.600000  "
            ]
          },
          "metadata": {
            "tags": []
          },
          "execution_count": 11
        }
      ]
    },
    {
      "cell_type": "code",
      "metadata": {
        "colab": {
          "base_uri": "https://localhost:8080/",
          "height": 636
        },
        "id": "pXHkEnBCZcWL",
        "outputId": "2a332e5e-93ae-495e-e566-47d20b0650d3"
      },
      "source": [
        "# plotting correlations on a heatmap\n",
        "\n",
        "# figure size\n",
        "plt.figure(figsize=(16,8))\n",
        "\n",
        "# heatmap\n",
        "sns.heatmap(dataset.corr(), cmap=\"YlGnBu\", annot=True)\n",
        "plt.show()"
      ],
      "execution_count": null,
      "outputs": [
        {
          "output_type": "display_data",
          "data": {
            "image/png": "[encoded data removed]",
            "text/plain": [
              "<Figure size 1152x576 with 2 Axes>"
            ]
          },
          "metadata": {
            "tags": [],
            "needs_background": "light"
          }
        }
      ]
    },
    {
      "cell_type": "markdown",
      "metadata": {
        "id": "wRRr3OEvaRUC"
      },
      "source": [
        "We can observe in above correlation matrix :\n",
        "\n",
        "```\n",
        "*   There is High correlation of cement with strength\n",
        "*   Superplasticizer and Age also have good correlation with strength\n",
        "```\n",
        "\n"
      ]
    },
    {
      "cell_type": "code",
      "metadata": {
        "colab": {
          "base_uri": "https://localhost:8080/"
        },
        "id": "VXXeNl2acKDx",
        "outputId": "3afef479-5dc2-4d38-fc65-4be365269d59"
      },
      "source": [
        "dataset.isnull().sum()"
      ],
      "execution_count": null,
      "outputs": [
        {
          "output_type": "execute_result",
          "data": {
            "text/plain": [
              "Cement                           0\n",
              "Blast_Furnace_Slag               0\n",
              "Fly_Ash                          0\n",
              "Water                            0\n",
              "Superplasticizer                 0\n",
              "Coarse_Aggregate                 0\n",
              "Fine_Aggregate                   0\n",
              "Age_in_days                      0\n",
              "Concrete_compressive_strength    0\n",
              "dtype: int64"
            ]
          },
          "metadata": {
            "tags": []
          },
          "execution_count": 13
        }
      ]
    },
    {
      "cell_type": "markdown",
      "metadata": {
        "id": "YyHX3N6M7JyH"
      },
      "source": [
        "# Exploratory Data Analysis"
      ]
    },
    {
      "cell_type": "code",
      "metadata": {
        "colab": {
          "base_uri": "https://localhost:8080/",
          "height": 1000
        },
        "id": "rFswG3c2ocgA",
        "outputId": "d7a9b035-394b-4e34-dca4-91df39a0831d"
      },
      "source": [
        "for i in dataset.columns:\n",
        "    sns.distplot(dataset[i])\n",
        "    plt.show()"
      ],
      "execution_count": null,
      "outputs": [
        {
          "output_type": "display_data",
          "data": {
            "image/png": "[encoded data removed]",
            "text/plain": [
              "<Figure size 432x288 with 1 Axes>"
            ]
          },
          "metadata": {
            "tags": [],
            "needs_background": "light"
          }
        },
        {
          "output_type": "display_data",
          "data": {
            "image/png": "[encoded data removed]",
            "text/plain": [
              "<Figure size 432x288 with 1 Axes>"
            ]
          },
          "metadata": {
            "tags": [],
            "needs_background": "light"
          }
        },
        {
          "output_type": "display_data",
          "data": {
            "image/png": "[encoded data removed]",
            "text/plain": [
              "<Figure size 432x288 with 1 Axes>"
            ]
          },
          "metadata": {
            "tags": [],
            "needs_background": "light"
          }
        },
        {
          "output_type": "display_data",
          "data": {
            "image/png": "[encoded data removed]",
            "text/plain": [
              "<Figure size 432x288 with 1 Axes>"
            ]
          },
          "metadata": {
            "tags": [],
            "needs_background": "light"
          }
        },
        {
          "output_type": "display_data",
          "data": {
            "image/png": "[encoded data removed]",
            "text/plain": [
              "<Figure size 432x288 with 1 Axes>"
            ]
          },
          "metadata": {
            "tags": [],
            "needs_background": "light"
          }
        },
        {
          "output_type": "display_data",
          "data": {
            "image/png": "[encoded data removed]",
            "text/plain": [
              "<Figure size 432x288 with 1 Axes>"
            ]
          },
          "metadata": {
            "tags": [],
            "needs_background": "light"
          }
        },
        {
          "output_type": "display_data",
          "data": {
            "image/png": "[encoded data removed]",
            "text/plain": [
              "<Figure size 432x288 with 1 Axes>"
            ]
          },
          "metadata": {
            "tags": [],
            "needs_background": "light"
          }
        },
        {
          "output_type": "display_data",
          "data": {
            "image/png": "[encoded data removed]",
            "text/plain": [
              "<Figure size 432x288 with 1 Axes>"
            ]
          },
          "metadata": {
            "tags": [],
            "needs_background": "light"
          }
        },
        {
          "output_type": "display_data",
          "data": {
            "image/png": "[encoded data removed]",
            "text/plain": [
              "<Figure size 432x288 with 1 Axes>"
            ]
          },
          "metadata": {
            "tags": [],
            "needs_background": "light"
          }
        }
      ]
    },
    {
      "cell_type": "markdown",
      "metadata": {
        "id": "GZ1FuhkrooDg"
      },
      "source": [
        "**Observations**\n",
        "\n",
        "```\n",
        "1.   Distribution of cement appears nearly normal\n",
        "2.   Water and Superplastic have near normal distributions\n",
        "3.   Age data confirms the presence of outliers\n",
        "4.   Strength is normally distributed\n",
        "```\n",
        "\n"
      ]
    },
    {
      "cell_type": "code",
      "metadata": {
        "id": "Hmh-gY84fyEo"
      },
      "source": [
        "# q1=dataset.quantile(0.25)\n",
        "# q3=dataset.quantile(0.75)\n",
        "# IQR=q3-q1\n",
        "# cwo=((dataset.iloc[:] <(q1-1.5*IQR))|(dataset.iloc[:]>(q3+1.5*IQR))).sum(axis=0)\n",
        "# opdf=pd.DataFrame(cwo,index=dataset.columns,columns=['No. of Outliers'])\n",
        "# opdf['Percentage Outliers']=round(opdf['No. of Outliers']*100/len(dataset),2)\n",
        "# opdf"
      ],
      "execution_count": null,
      "outputs": []
    },
    {
      "cell_type": "markdown",
      "metadata": {
        "id": "cx1l2nU07SBs"
      },
      "source": [
        "**Box Plot : Checking and Removing Outliers**"
      ]
    },
    {
      "cell_type": "code",
      "metadata": {
        "id": "gxvLZec95H0h"
      },
      "source": [
        "# plt.subplots(figsize=(12, 6))\n",
        "# ax = sns.boxplot(data=dataset)\n",
        "# ax.set_xticklabels(ax.get_xticklabels(), rotation=45);"
      ],
      "execution_count": null,
      "outputs": []
    },
    {
      "cell_type": "markdown",
      "metadata": {
        "id": "sodsZRW_JZ3E"
      },
      "source": [
        "\n",
        "Observations\n",
        "```\n",
        "1.   Age Column having maximum number of outliers.\n",
        "2.   Blast_furnace _Slag, water, superplastic, fine aggregate having some outliers.\n",
        "3.   Cement, fly ash, coarse aggregate have no outliers.\n",
        "```\n",
        "\n"
      ]
    },
    {
      "cell_type": "code",
      "metadata": {
        "id": "WbvwSQNICrNx"
      },
      "source": [
        "# # Removing Outliers\n",
        "# def remove_outliers(df, column , minimum, maximum):\n",
        "#     col_values = df[column].values\n",
        "#     df[column] = np.where(np.logical_or(col_values<minimum, col_values>maximum), col_values.mean(), col_values)\n",
        "#     return df"
      ],
      "execution_count": null,
      "outputs": []
    },
    {
      "cell_type": "code",
      "metadata": {
        "id": "QSaC2adeDJ0b"
      },
      "source": [
        "# min_val = dataset[\"Age_in_days\"].min()\n",
        "# max_val = 125\n",
        "# dataset = remove_outliers(df=dataset, column='Age_in_days' , minimum=min_val, maximum=max_val)\n",
        "\n",
        "# min_val = dataset[\"Fine_Aggregate\"].min()\n",
        "# max_val = 950\n",
        "# dataset = remove_outliers(df=dataset, column='Fine_Aggregate' , minimum=min_val, maximum=max_val)\n",
        "\n",
        "# min_val = dataset[\"Superplasticizer\"].min()\n",
        "# max_val = 24\n",
        "# dataset = remove_outliers(df=dataset, column='Superplasticizer' , minimum=min_val, maximum=max_val)\n",
        "\n",
        "# min_val = dataset[\"Blast_Furnace_Slag\"].min()\n",
        "# max_val = 340\n",
        "# dataset = remove_outliers(df=dataset, column='Blast_Furnace_Slag' , minimum=min_val, maximum=max_val)\n",
        "\n",
        "# min_val = 125\n",
        "# max_val = 225\n",
        "# dataset = remove_outliers(df=dataset, column='Water' , minimum=min_val, maximum=max_val)"
      ],
      "execution_count": null,
      "outputs": []
    },
    {
      "cell_type": "code",
      "metadata": {
        "id": "tANi9104FmcJ"
      },
      "source": [
        "# plt.subplots(figsize=(12, 6))\n",
        "# ax = sns.boxplot(data=dataset)\n",
        "# ax.set_xticklabels(ax.get_xticklabels(), rotation=45);"
      ],
      "execution_count": null,
      "outputs": []
    },
    {
      "cell_type": "markdown",
      "metadata": {
        "id": "cow3yqdelp4P"
      },
      "source": [
        "As we can observe in boxplot that we have successfully removed most of the outliers."
      ]
    },
    {
      "cell_type": "markdown",
      "metadata": {
        "id": "5feoM0Usp85s"
      },
      "source": [
        "# Data Preprocessing"
      ]
    },
    {
      "cell_type": "code",
      "metadata": {
        "id": "0BBaOIRtp8A7"
      },
      "source": [
        "# splitting the dataset into independent and dependent variables\n",
        "conc = dataset\n",
        "X = conc.iloc[:,:-1].values\n",
        "y = conc.iloc[:, -1].values\n",
        "y = y.reshape(len(y),1)"
      ],
      "execution_count": null,
      "outputs": []
    },
    {
      "cell_type": "code",
      "metadata": {
        "colab": {
          "base_uri": "https://localhost:8080/"
        },
        "id": "gpVOkCOopRvM",
        "outputId": "53d614ad-75a8-4d9c-8b1b-26e357682b89"
      },
      "source": [
        "X.shape"
      ],
      "execution_count": null,
      "outputs": [
        {
          "output_type": "execute_result",
          "data": {
            "text/plain": [
              "(1030, 8)"
            ]
          },
          "metadata": {
            "tags": []
          },
          "execution_count": 21
        }
      ]
    },
    {
      "cell_type": "code",
      "metadata": {
        "colab": {
          "base_uri": "https://localhost:8080/"
        },
        "id": "Lkvh0aA7rsQP",
        "outputId": "983dd8c6-db88-4bd3-d59d-ea552f3f85fe"
      },
      "source": [
        "y.shape"
      ],
      "execution_count": null,
      "outputs": [
        {
          "output_type": "execute_result",
          "data": {
            "text/plain": [
              "(1030, 1)"
            ]
          },
          "metadata": {
            "tags": []
          },
          "execution_count": 22
        }
      ]
    },
    {
      "cell_type": "code",
      "metadata": {
        "id": "zIaTyqULsBPP"
      },
      "source": [
        "# Splitting the data into train and test split\n",
        "from sklearn.model_selection import train_test_split\n",
        "\n",
        "X_train, X_test, y_train, y_test = train_test_split(X, y, test_size = 0.30, random_state = 0)"
      ],
      "execution_count": null,
      "outputs": []
    },
    {
      "cell_type": "code",
      "metadata": {
        "colab": {
          "base_uri": "https://localhost:8080/"
        },
        "id": "aGH-AEqdwwfk",
        "outputId": "84a6c822-45e2-4390-e551-9f0fa07e169b"
      },
      "source": [
        "print(\"X_train shape\",X_train.shape)\n",
        "print(\"y_train shape\",y_train.shape)\n",
        "print(\"X_test shape\",X_test.shape)\n",
        "print(\"y_test shape\",y_test.shape)"
      ],
      "execution_count": null,
      "outputs": [
        {
          "output_type": "stream",
          "text": [
            "X_train shape (721, 8)\n",
            "y_train shape (721, 1)\n",
            "X_test shape (309, 8)\n",
            "y_test shape (309, 1)\n"
          ],
          "name": "stdout"
        }
      ]
    },
    {
      "cell_type": "code",
      "metadata": {
        "id": "jmapl1zryIUL"
      },
      "source": [
        "from sklearn.preprocessing import StandardScaler\n",
        "sc = StandardScaler()\n",
        "X_train = sc.fit_transform(X_train)\n",
        "X_test = sc.transform(X_test)"
      ],
      "execution_count": null,
      "outputs": []
    },
    {
      "cell_type": "markdown",
      "metadata": {
        "id": "ztl2KndNWQHx"
      },
      "source": [
        "# Predictive Model 1: Linear Regression"
      ]
    },
    {
      "cell_type": "code",
      "metadata": {
        "colab": {
          "base_uri": "https://localhost:8080/"
        },
        "id": "RFvI_5MNyPrK",
        "outputId": "b332ea95-3f87-4656-c585-d8d83a8a8a9e"
      },
      "source": [
        "from sklearn.linear_model import LinearRegression\n",
        "regressor = LinearRegression()\n",
        "regressor.fit(X_train, y_train)"
      ],
      "execution_count": null,
      "outputs": [
        {
          "output_type": "execute_result",
          "data": {
            "text/plain": [
              "LinearRegression(copy_X=True, fit_intercept=True, n_jobs=None, normalize=False)"
            ]
          },
          "metadata": {
            "tags": []
          },
          "execution_count": 26
        }
      ]
    },
    {
      "cell_type": "code",
      "metadata": {
        "colab": {
          "base_uri": "https://localhost:8080/"
        },
        "id": "bQBGIExd1GYa",
        "outputId": "1ba73ce4-a1e1-4d7e-ffb4-c54d581a881c"
      },
      "source": [
        "y_pred = regressor.predict(X_test)\n",
        "np.set_printoptions(precision=2)\n",
        "print(np.concatenate((y_pred.reshape(len(y_pred),1), y_test.reshape(len(y_test),1)),1))"
      ],
      "execution_count": null,
      "outputs": [
        {
          "output_type": "stream",
          "text": [
            "[[39.47 26.06]\n",
            " [14.08 10.35]\n",
            " [60.91 79.3 ]\n",
            " [53.49 74.99]\n",
            " [23.96  9.69]\n",
            " [53.38 47.1 ]\n",
            " [45.65 59.  ]\n",
            " [26.92 22.72]\n",
            " [52.89 61.89]\n",
            " [37.14 52.12]\n",
            " [16.55 17.54]\n",
            " [38.81 48.15]\n",
            " [29.48 38.33]\n",
            " [35.14 17.2 ]\n",
            " [47.8  56.83]\n",
            " [56.46 55.25]\n",
            " [35.44 33.36]\n",
            " [29.2  34.68]\n",
            " [48.35 52.61]\n",
            " [35.12 39.94]\n",
            " [53.45 61.46]\n",
            " [31.87 27.63]\n",
            " [32.38 32.9 ]\n",
            " [47.9  41.64]\n",
            " [23.45 17.54]\n",
            " [23.33 26.85]\n",
            " [69.82 66.9 ]\n",
            " [26.3  21.06]\n",
            " [56.46 61.07]\n",
            " [47.8  66.95]\n",
            " [18.73 20.87]\n",
            " [36.33 48.79]\n",
            " [17.26 24.05]\n",
            " [19.75 47.81]\n",
            " [24.46 21.16]\n",
            " [15.05  6.94]\n",
            " [52.94 28.6 ]\n",
            " [27.79 26.31]\n",
            " [26.74 33.95]\n",
            " [25.96 25.72]\n",
            " [52.52 37.8 ]\n",
            " [30.34 35.17]\n",
            " [26.02 32.24]\n",
            " [35.01 37.81]\n",
            " [53.04 57.23]\n",
            " [54.01 33.4 ]\n",
            " [30.33 30.14]\n",
            " [43.96 33.8 ]\n",
            " [27.49 35.08]\n",
            " [56.66 52.91]\n",
            " [36.42 40.93]\n",
            " [19.19 21.75]\n",
            " [23.3  16.5 ]\n",
            " [34.36 42.35]\n",
            " [43.01 50.94]\n",
            " [47.19 64.02]\n",
            " [35.4  52.2 ]\n",
            " [52.89 53.39]\n",
            " [59.9  64.3 ]\n",
            " [36.31 44.52]\n",
            " [30.99 37.42]\n",
            " [20.58 22.14]\n",
            " [50.34 62.94]\n",
            " [55.61 45.7 ]\n",
            " [20.37 14.64]\n",
            " [43.77 53.58]\n",
            " [33.03 33.72]\n",
            " [33.65 24.58]\n",
            " [19.28 13.2 ]\n",
            " [19.97 18.91]\n",
            " [28.04  7.4 ]\n",
            " [27.55 24.85]\n",
            " [54.46 49.2 ]\n",
            " [19.52 25.57]\n",
            " [35.99 31.38]\n",
            " [50.57 23.35]\n",
            " [28.   45.71]\n",
            " [19.03  6.81]\n",
            " [23.99 27.34]\n",
            " [28.   39.59]\n",
            " [18.06 30.96]\n",
            " [44.34 55.64]\n",
            " [32.63 18.02]\n",
            " [32.65 33.09]\n",
            " [38.23 48.72]\n",
            " [34.63 36.8 ]\n",
            " [48.82 45.9 ]\n",
            " [50.34 46.68]\n",
            " [38.9  40.87]\n",
            " [30.96 35.34]\n",
            " [52.71 65.7 ]\n",
            " [20.5  17.24]\n",
            " [25.7   9.45]\n",
            " [36.99 33.94]\n",
            " [26.14 15.57]\n",
            " [55.41 40.27]\n",
            " [32.24 15.82]\n",
            " [33.65 41.54]\n",
            " [51.3  50.24]\n",
            " [27.1  29.98]\n",
            " [29.71 20.73]\n",
            " [37.82 27.42]\n",
            " [25.24 27.66]\n",
            " [31.55 29.73]\n",
            " [33.68 45.08]\n",
            " [35.19 42.13]\n",
            " [39.25 51.96]\n",
            " [32.22 15.61]\n",
            " [27.93 34.29]\n",
            " [39.48 53.52]\n",
            " [18.01  4.83]\n",
            " [49.01 41.37]\n",
            " [25.16  9.73]\n",
            " [32.62 31.81]\n",
            " [39.84 41.05]\n",
            " [63.61 61.92]\n",
            " [31.12 37.42]\n",
            " [35.33 37.92]\n",
            " [40.87 32.72]\n",
            " [31.4  14.94]\n",
            " [42.25 44.09]\n",
            " [25.26 26.92]\n",
            " [60.89 64.9 ]\n",
            " [26.37 29.22]\n",
            " [17.85 12.46]\n",
            " [19.81  8.  ]\n",
            " [15.63 13.71]\n",
            " [18.82 13.66]\n",
            " [39.81 63.14]\n",
            " [32.35 37.91]\n",
            " [29.86 37.4 ]\n",
            " [47.13 55.06]\n",
            " [33.57 35.23]\n",
            " [24.95 31.42]\n",
            " [18.95 10.73]\n",
            " [54.26 47.97]\n",
            " [60.87 38.89]\n",
            " [36.26 38.8 ]\n",
            " [11.08  4.57]\n",
            " [18.45 10.39]\n",
            " [38.07 29.59]\n",
            " [46.62 54.38]\n",
            " [32.67 22.5 ]\n",
            " [18.24 28.63]\n",
            " [16.45 17.34]\n",
            " [35.42 32.33]\n",
            " [48.01 41.67]\n",
            " [25.33 15.87]\n",
            " [27.44 44.86]\n",
            " [16.44 17.54]\n",
            " [24.69 11.98]\n",
            " [28.24 15.42]\n",
            " [26.44 30.39]\n",
            " [19.24 45.85]\n",
            " [30.89 41.68]\n",
            " [30.62 42.64]\n",
            " [47.84 34.9 ]\n",
            " [30.25 25.45]\n",
            " [30.5  39.3 ]\n",
            " [22.32 27.92]\n",
            " [38.46 52.5 ]\n",
            " [41.49 37.81]\n",
            " [23.87 15.53]\n",
            " [25.79 30.57]\n",
            " [32.75 37.36]\n",
            " [22.7  14.59]\n",
            " [55.64 53.69]\n",
            " [53.35 57.03]\n",
            " [57.17 55.26]\n",
            " [11.1   6.47]\n",
            " [31.02 33.42]\n",
            " [33.42 41.16]\n",
            " [24.45 31.45]\n",
            " [58.27 36.15]\n",
            " [20.99 14.4 ]\n",
            " [21.56 13.36]\n",
            " [16.98  8.54]\n",
            " [48.73 40.29]\n",
            " [23.45 32.04]\n",
            " [39.   51.43]\n",
            " [32.55 21.48]\n",
            " [31.33 29.72]\n",
            " [18.96 14.2 ]\n",
            " [38.09 37.68]\n",
            " [30.87 24.13]\n",
            " [27.87 23.85]\n",
            " [40.33 36.45]\n",
            " [39.51 44.28]\n",
            " [27.8  19.52]\n",
            " [50.34 59.49]\n",
            " [21.2  25.18]\n",
            " [72.93 69.3 ]\n",
            " [44.2  61.23]\n",
            " [27.74 32.92]\n",
            " [14.26  6.28]\n",
            " [28.69 39.7 ]\n",
            " [31.4  33.4 ]\n",
            " [27.88 23.84]\n",
            " [30.57 39.27]\n",
            " [58.4  72.3 ]\n",
            " [17.63 18.13]\n",
            " [20.85 27.53]\n",
            " [41.15 33.76]\n",
            " [30.98 33.01]\n",
            " [33.14 33.72]\n",
            " [23.59 13.82]\n",
            " [39.01 43.89]\n",
            " [30.39 38.21]\n",
            " [31.12 33.42]\n",
            " [25.2  13.12]\n",
            " [49.13 47.22]\n",
            " [22.78 22.32]\n",
            " [22.8  12.47]\n",
            " [22.33 28.94]\n",
            " [26.13 47.03]\n",
            " [21.47 26.32]\n",
            " [22.15 30.44]\n",
            " [39.25 12.64]\n",
            " [19.65 20.77]\n",
            " [39.76 43.8 ]\n",
            " [57.24 66.1 ]\n",
            " [31.65 15.36]\n",
            " [38.97 40.87]\n",
            " [35.9  45.94]\n",
            " [41.16 33.76]\n",
            " [35.76 43.58]\n",
            " [25.55 23.52]\n",
            " [32.21 42.7 ]\n",
            " [33.99 14.14]\n",
            " [45.19 48.4 ]\n",
            " [36.47 34.57]\n",
            " [37.02 35.86]\n",
            " [61.1  59.09]\n",
            " [21.05 24.5 ]\n",
            " [35.43 37.72]\n",
            " [31.16 15.52]\n",
            " [31.67 32.4 ]\n",
            " [35.84 33.05]\n",
            " [30.37 49.25]\n",
            " [59.44 71.7 ]\n",
            " [58.82 54.9 ]\n",
            " [27.15 50.46]\n",
            " [42.21 51.86]\n",
            " [32.87 28.68]\n",
            " [27.55 26.77]\n",
            " [30.88 17.24]\n",
            " [48.96 36.84]\n",
            " [27.95 40.23]\n",
            " [34.82 47.71]\n",
            " [15.77 11.36]\n",
            " [11.68  9.99]\n",
            " [39.92 40.93]\n",
            " [36.06 40.56]\n",
            " [30.66 31.72]\n",
            " [38.5  39.42]\n",
            " [21.66 18.13]\n",
            " [24.44 18.28]\n",
            " [19.58  9.87]\n",
            " [61.3  41.3 ]\n",
            " [30.13 34.56]\n",
            " [38.51 53.96]\n",
            " [70.42 82.6 ]\n",
            " [43.65 54.6 ]\n",
            " [34.51 44.61]\n",
            " [30.46 39.29]\n",
            " [48.59 63.53]\n",
            " [32.49 39.16]\n",
            " [34.88 39.32]\n",
            " [25.57 20.42]\n",
            " [32.97 44.4 ]\n",
            " [54.4  56.34]\n",
            " [30.57 38.5 ]\n",
            " [25.85 32.25]\n",
            " [37.34 42.23]\n",
            " [32.49 46.25]\n",
            " [52.79 33.69]\n",
            " [35.97 44.21]\n",
            " [29.1  33.73]\n",
            " [55.41 64.9 ]\n",
            " [23.3  33.19]\n",
            " [23.18 12.45]\n",
            " [40.1  44.14]\n",
            " [51.41 57.92]\n",
            " [40.59 55.51]\n",
            " [25.05 37.27]\n",
            " [36.9  42.22]\n",
            " [34.18 41.2 ]\n",
            " [45.42 39.78]\n",
            " [60.67 64.9 ]\n",
            " [27.67 39.66]\n",
            " [29.26 23.51]\n",
            " [56.   54.77]\n",
            " [33.46 29.07]\n",
            " [37.91 49.77]\n",
            " [63.78 65.2 ]\n",
            " [28.03 36.59]\n",
            " [51.02 52.01]\n",
            " [35.49 37.27]\n",
            " [36.93 43.58]\n",
            " [34.51 40.68]\n",
            " [28.03 26.97]\n",
            " [44.14 36.25]\n",
            " [21.28 25.73]\n",
            " [16.9  12.18]\n",
            " [54.17 72.99]\n",
            " [27.06 28.63]\n",
            " [15.5  11.39]\n",
            " [22.31 20.08]\n",
            " [36.35 48.28]]\n"
          ],
          "name": "stdout"
        }
      ]
    },
    {
      "cell_type": "code",
      "metadata": {
        "colab": {
          "base_uri": "https://localhost:8080/"
        },
        "id": "6nGjkgzI1Rkp",
        "outputId": "5efe9a70-9661-4996-bcd9-842abe5d4a91"
      },
      "source": [
        "from sklearn.metrics import r2_score\n",
        "coefficient_of_dermination = r2_score(y_test, y_pred)\n",
        "print(coefficient_of_dermination)\n",
        "r2 = coefficient_of_dermination"
      ],
      "execution_count": null,
      "outputs": [
        {
          "output_type": "stream",
          "text": [
            "0.6352987285077925\n"
          ],
          "name": "stdout"
        }
      ]
    },
    {
      "cell_type": "code",
      "metadata": {
        "colab": {
          "base_uri": "https://localhost:8080/"
        },
        "id": "_-pZHHC31-k-",
        "outputId": "dc257a63-e87f-4d4f-dd19-773641bafdd2"
      },
      "source": [
        "Adj_R2 = (1-((1-r2)*(1030-1))/(1030-8-1))\n",
        "print('Adjusted R2 is.....',Adj_R2)"
      ],
      "execution_count": null,
      "outputs": [
        {
          "output_type": "stream",
          "text": [
            "Adjusted R2 is..... 0.6324411279476184\n"
          ],
          "name": "stdout"
        }
      ]
    },
    {
      "cell_type": "code",
      "metadata": {
        "colab": {
          "base_uri": "https://localhost:8080/"
        },
        "id": "lt_I1Z4o2M_9",
        "outputId": "429dad5f-47c3-4405-9dd0-ce8520c6edca"
      },
      "source": [
        "import sklearn.metrics as metrics\n",
        "metrics.mean_absolute_error(y_test, y_pred)"
      ],
      "execution_count": null,
      "outputs": [
        {
          "output_type": "execute_result",
          "data": {
            "text/plain": [
              "7.775625710189037"
            ]
          },
          "metadata": {
            "tags": []
          },
          "execution_count": 30
        }
      ]
    },
    {
      "cell_type": "code",
      "metadata": {
        "id": "OTIj2ou8VDQ7"
      },
      "source": [
        "import sklearn.metrics as metrics\n",
        "def regression_results(y_true, y_pred):\n",
        "\n",
        "    # Regression metrics\n",
        "    explained_variance=metrics.explained_variance_score(y_true, y_pred)\n",
        "    mean_absolute_error=metrics.mean_absolute_error(y_true, y_pred) \n",
        "    mse=metrics.mean_squared_error(y_true, y_pred) \n",
        "#     mean_squared_log_error=metrics.mean_squared_log_error(y_true, y_pred)\n",
        "    median_absolute_error=metrics.median_absolute_error(y_true, y_pred)\n",
        "    r2=metrics.r2_score(y_true, y_pred)\n",
        "    print('explained_variance: ', round(explained_variance,4))    \n",
        "#     print('mean_squared_log_error: ', round(mean_squared_log_error,4))\n",
        "    print('r2: ', round(r2,4))\n",
        "    print('MAE: ', round(mean_absolute_error,4))\n",
        "    print('MSE: ', round(mse,4))\n",
        "    print('RMSE: ', round(np.sqrt(mse),4))\n"
      ],
      "execution_count": null,
      "outputs": []
    },
    {
      "cell_type": "code",
      "metadata": {
        "colab": {
          "base_uri": "https://localhost:8080/"
        },
        "id": "152dMgT0VEVr",
        "outputId": "b4dbd1ff-d0e9-4527-c427-c0a5be376f8b"
      },
      "source": [
        "regression_results(y_test,y_pred)"
      ],
      "execution_count": null,
      "outputs": [
        {
          "output_type": "stream",
          "text": [
            "explained_variance:  0.6386\n",
            "r2:  0.6353\n",
            "MAE:  7.7756\n",
            "MSE:  93.6187\n",
            "RMSE:  9.6757\n"
          ],
          "name": "stdout"
        }
      ]
    },
    {
      "cell_type": "markdown",
      "metadata": {
        "id": "7RK-44sRWZvD"
      },
      "source": [
        "# Predictive Model 3: Decision Tree Regressor"
      ]
    },
    {
      "cell_type": "code",
      "metadata": {
        "colab": {
          "base_uri": "https://localhost:8080/"
        },
        "id": "t_lC-8k_WMmh",
        "outputId": "f57a4073-e6b4-45da-dab0-909a26b9e771"
      },
      "source": [
        "from sklearn.tree import DecisionTreeRegressor\n",
        "regressor = DecisionTreeRegressor(random_state=0)\n",
        "regressor.fit(X_train, y_train)"
      ],
      "execution_count": null,
      "outputs": [
        {
          "output_type": "execute_result",
          "data": {
            "text/plain": [
              "DecisionTreeRegressor(ccp_alpha=0.0, criterion='mse', max_depth=None,\n",
              "                      max_features=None, max_leaf_nodes=None,\n",
              "                      min_impurity_decrease=0.0, min_impurity_split=None,\n",
              "                      min_samples_leaf=1, min_samples_split=2,\n",
              "                      min_weight_fraction_leaf=0.0, presort='deprecated',\n",
              "                      random_state=0, splitter='best')"
            ]
          },
          "metadata": {
            "tags": []
          },
          "execution_count": 33
        }
      ]
    },
    {
      "cell_type": "code",
      "metadata": {
        "colab": {
          "base_uri": "https://localhost:8080/"
        },
        "id": "MkYX9cRPXByK",
        "outputId": "52f3db06-aa29-4ee4-c2af-4cfca908af48"
      },
      "source": [
        "y_pred = regressor.predict(X_test)\n",
        "np.set_printoptions(precision=2)\n",
        "print(np.concatenate((y_pred.reshape(len(y_pred),1), y_test.reshape(len(y_test),1)),1))"
      ],
      "execution_count": null,
      "outputs": [
        {
          "output_type": "stream",
          "text": [
            "[[25.61 26.06]\n",
            " [ 7.51 10.35]\n",
            " [79.3  79.3 ]\n",
            " [56.4  74.99]\n",
            " [10.76  9.69]\n",
            " [54.1  47.1 ]\n",
            " [58.52 59.  ]\n",
            " [19.42 22.72]\n",
            " [79.99 61.89]\n",
            " [56.14 52.12]\n",
            " [17.58 17.54]\n",
            " [40.39 48.15]\n",
            " [39.64 38.33]\n",
            " [12.37 17.2 ]\n",
            " [55.55 56.83]\n",
            " [56.14 55.25]\n",
            " [42.29 33.36]\n",
            " [35.76 34.68]\n",
            " [59.76 52.61]\n",
            " [34.74 39.94]\n",
            " [56.14 61.46]\n",
            " [26.94 27.63]\n",
            " [21.5  32.9 ]\n",
            " [59.76 41.64]\n",
            " [14.54 17.54]\n",
            " [25.18 26.85]\n",
            " [68.3  66.9 ]\n",
            " [31.35 21.06]\n",
            " [56.14 61.07]\n",
            " [66.82 66.95]\n",
            " [19.77 20.87]\n",
            " [48.85 48.79]\n",
            " [24.28 24.05]\n",
            " [27.83 47.81]\n",
            " [21.18 21.16]\n",
            " [ 4.9   6.94]\n",
            " [36.3  28.6 ]\n",
            " [25.37 26.31]\n",
            " [29.89 33.95]\n",
            " [31.64 25.72]\n",
            " [39.3  37.8 ]\n",
            " [31.35 35.17]\n",
            " [31.87 32.24]\n",
            " [38.2  37.81]\n",
            " [38.46 57.23]\n",
            " [33.4  33.4 ]\n",
            " [24.07 30.14]\n",
            " [25.61 33.8 ]\n",
            " [32.82 35.08]\n",
            " [51.73 52.91]\n",
            " [40.93 40.93]\n",
            " [27.83 21.75]\n",
            " [16.5  16.5 ]\n",
            " [39.61 42.35]\n",
            " [56.81 50.94]\n",
            " [43.94 64.02]\n",
            " [29.07 52.2 ]\n",
            " [47.72 53.39]\n",
            " [64.3  64.3 ]\n",
            " [25.46 44.52]\n",
            " [36.45 37.42]\n",
            " [24.45 22.14]\n",
            " [67.77 62.94]\n",
            " [54.9  45.7 ]\n",
            " [17.17 14.64]\n",
            " [76.24 53.58]\n",
            " [39.42 33.72]\n",
            " [25.56 24.58]\n",
            " [13.2  13.2 ]\n",
            " [14.5  18.91]\n",
            " [30.45  7.4 ]\n",
            " [31.64 24.85]\n",
            " [49.2  49.2 ]\n",
            " [27.83 25.57]\n",
            " [33.04 31.38]\n",
            " [30.19 23.35]\n",
            " [22.63 45.71]\n",
            " [13.57  6.81]\n",
            " [31.97 27.34]\n",
            " [42.03 39.59]\n",
            " [21.18 30.96]\n",
            " [51.04 55.64]\n",
            " [24.1  18.02]\n",
            " [34.24 33.09]\n",
            " [52.04 48.72]\n",
            " [47.4  36.8 ]\n",
            " [34.67 45.9 ]\n",
            " [55.45 46.68]\n",
            " [38.63 40.87]\n",
            " [38.56 35.34]\n",
            " [62.05 65.7 ]\n",
            " [14.99 17.24]\n",
            " [12.55  9.45]\n",
            " [50.6  33.94]\n",
            " [15.57 15.57]\n",
            " [41.15 40.27]\n",
            " [24.1  15.82]\n",
            " [41.54 41.54]\n",
            " [46.68 50.24]\n",
            " [36.3  29.98]\n",
            " [19.42 20.73]\n",
            " [30.45 27.42]\n",
            " [23.25 27.66]\n",
            " [25.56 29.73]\n",
            " [42.55 45.08]\n",
            " [42.14 42.13]\n",
            " [56.74 51.96]\n",
            " [15.34 15.61]\n",
            " [31.65 34.29]\n",
            " [53.52 53.52]\n",
            " [13.57  4.83]\n",
            " [41.37 41.37]\n",
            " [16.11  9.73]\n",
            " [34.24 31.81]\n",
            " [52.3  41.05]\n",
            " [58.78 61.92]\n",
            " [39.09 37.42]\n",
            " [37.91 37.92]\n",
            " [31.35 32.72]\n",
            " [19.42 14.94]\n",
            " [55.94 44.09]\n",
            " [26.92 26.92]\n",
            " [64.3  64.9 ]\n",
            " [27.22 29.22]\n",
            " [12.46 12.46]\n",
            " [10.79  8.  ]\n",
            " [11.48 13.71]\n",
            " [ 7.51 13.66]\n",
            " [25.18 63.14]\n",
            " [37.23 37.91]\n",
            " [30.22 37.4 ]\n",
            " [56.14 55.06]\n",
            " [34.67 35.23]\n",
            " [31.42 31.42]\n",
            " [ 9.62 10.73]\n",
            " [56.14 47.97]\n",
            " [31.35 38.89]\n",
            " [33.04 38.8 ]\n",
            " [ 4.78  4.57]\n",
            " [15.03 10.39]\n",
            " [31.35 29.59]\n",
            " [51.73 54.38]\n",
            " [22.95 22.5 ]\n",
            " [28.63 28.63]\n",
            " [18.42 17.34]\n",
            " [33.7  32.33]\n",
            " [34.67 41.67]\n",
            " [ 9.01 15.87]\n",
            " [44.87 44.86]\n",
            " [17.58 17.54]\n",
            " [17.22 11.98]\n",
            " [15.42 15.42]\n",
            " [17.84 30.39]\n",
            " [39.44 45.85]\n",
            " [48.85 41.68]\n",
            " [42.64 42.64]\n",
            " [49.2  34.9 ]\n",
            " [24.07 25.45]\n",
            " [26.91 39.3 ]\n",
            " [27.83 27.92]\n",
            " [30.85 52.5 ]\n",
            " [32.63 37.81]\n",
            " [15.52 15.53]\n",
            " [49.9  30.57]\n",
            " [37.36 37.36]\n",
            " [ 7.51 14.59]\n",
            " [50.66 53.69]\n",
            " [47.72 57.03]\n",
            " [51.73 55.26]\n",
            " [11.41  6.47]\n",
            " [39.42 33.42]\n",
            " [39.61 41.16]\n",
            " [31.74 31.45]\n",
            " [34.49 36.15]\n",
            " [10.76 14.4 ]\n",
            " [19.42 13.36]\n",
            " [ 8.54  8.54]\n",
            " [39.   40.29]\n",
            " [31.97 32.04]\n",
            " [51.26 51.43]\n",
            " [12.37 21.48]\n",
            " [25.56 29.72]\n",
            " [14.5  14.2 ]\n",
            " [33.54 37.68]\n",
            " [12.73 24.13]\n",
            " [37.43 23.85]\n",
            " [31.35 36.45]\n",
            " [44.28 44.28]\n",
            " [13.18 19.52]\n",
            " [67.77 59.49]\n",
            " [31.18 25.18]\n",
            " [68.3  69.3 ]\n",
            " [61.24 61.23]\n",
            " [34.49 32.92]\n",
            " [ 4.78  6.28]\n",
            " [47.78 39.7 ]\n",
            " [33.4  33.4 ]\n",
            " [23.84 23.84]\n",
            " [36.97 39.27]\n",
            " [68.3  72.3 ]\n",
            " [22.53 18.13]\n",
            " [27.83 27.53]\n",
            " [35.31 33.76]\n",
            " [17.82 33.01]\n",
            " [39.42 33.72]\n",
            " [ 8.49 13.82]\n",
            " [43.94 43.89]\n",
            " [31.65 38.21]\n",
            " [39.42 33.42]\n",
            " [17.22 13.12]\n",
            " [54.32 47.22]\n",
            " [29.93 22.32]\n",
            " [10.03 12.47]\n",
            " [31.03 28.94]\n",
            " [48.7  47.03]\n",
            " [25.46 26.32]\n",
            " [33.   30.44]\n",
            " [25.61 12.64]\n",
            " [22.53 20.77]\n",
            " [41.94 43.8 ]\n",
            " [64.3  66.1 ]\n",
            " [21.02 15.36]\n",
            " [38.63 40.87]\n",
            " [44.64 45.94]\n",
            " [35.31 33.76]\n",
            " [40.15 43.58]\n",
            " [23.52 23.52]\n",
            " [46.64 42.7 ]\n",
            " [25.89 14.14]\n",
            " [42.42 48.4 ]\n",
            " [42.42 34.57]\n",
            " [35.87 35.86]\n",
            " [46.2  59.09]\n",
            " [22.44 24.5 ]\n",
            " [40.76 37.72]\n",
            " [13.62 15.52]\n",
            " [32.4  32.4 ]\n",
            " [30.65 33.05]\n",
            " [21.07 49.25]\n",
            " [66.   71.7 ]\n",
            " [52.2  54.9 ]\n",
            " [56.14 50.46]\n",
            " [33.12 51.86]\n",
            " [42.29 28.68]\n",
            " [20.92 26.77]\n",
            " [15.69 17.24]\n",
            " [34.67 36.84]\n",
            " [22.63 40.23]\n",
            " [47.78 47.71]\n",
            " [11.65 11.36]\n",
            " [15.07  9.99]\n",
            " [61.24 40.93]\n",
            " [40.76 40.56]\n",
            " [33.56 31.72]\n",
            " [39.42 39.42]\n",
            " [20.28 18.13]\n",
            " [18.29 18.28]\n",
            " [11.85  9.87]\n",
            " [22.95 41.3 ]\n",
            " [23.25 34.56]\n",
            " [48.99 53.96]\n",
            " [79.3  82.6 ]\n",
            " [33.12 54.6 ]\n",
            " [44.61 44.61]\n",
            " [37.43 39.29]\n",
            " [66.42 63.53]\n",
            " [27.23 39.16]\n",
            " [32.63 39.32]\n",
            " [12.37 20.42]\n",
            " [42.55 44.4 ]\n",
            " [56.14 56.34]\n",
            " [28.47 38.5 ]\n",
            " [31.87 32.25]\n",
            " [41.54 42.23]\n",
            " [46.24 46.25]\n",
            " [38.22 33.69]\n",
            " [40.15 44.21]\n",
            " [24.48 33.73]\n",
            " [59.89 64.9 ]\n",
            " [32.53 33.19]\n",
            " [12.18 12.45]\n",
            " [42.03 44.14]\n",
            " [55.55 57.92]\n",
            " [31.12 55.51]\n",
            " [31.64 37.27]\n",
            " [38.77 42.22]\n",
            " [46.39 41.2 ]\n",
            " [40.76 39.78]\n",
            " [68.1  64.9 ]\n",
            " [43.57 39.66]\n",
            " [19.42 23.51]\n",
            " [56.14 54.77]\n",
            " [29.07 29.07]\n",
            " [49.77 49.77]\n",
            " [65.2  65.2 ]\n",
            " [43.25 36.59]\n",
            " [38.66 52.01]\n",
            " [42.55 37.27]\n",
            " [43.57 43.58]\n",
            " [38.63 40.68]\n",
            " [27.87 26.97]\n",
            " [33.12 36.25]\n",
            " [18.29 25.73]\n",
            " [12.18 12.18]\n",
            " [76.8  72.99]\n",
            " [36.56 28.63]\n",
            " [10.79 11.39]\n",
            " [29.93 20.08]\n",
            " [34.74 48.28]]\n"
          ],
          "name": "stdout"
        }
      ]
    },
    {
      "cell_type": "code",
      "metadata": {
        "colab": {
          "base_uri": "https://localhost:8080/"
        },
        "id": "xcJJ39s0X_h6",
        "outputId": "ac30426d-f143-4bc7-e7e0-8063c36658d9"
      },
      "source": [
        "from sklearn.metrics import r2_score\n",
        "coefficient_of_dermination = r2_score(y_test, y_pred)\n",
        "print(coefficient_of_dermination)\n",
        "r2 = coefficient_of_dermination"
      ],
      "execution_count": null,
      "outputs": [
        {
          "output_type": "stream",
          "text": [
            "0.7729539863359284\n"
          ],
          "name": "stdout"
        }
      ]
    },
    {
      "cell_type": "code",
      "metadata": {
        "colab": {
          "base_uri": "https://localhost:8080/"
        },
        "id": "qAOOVwIEYFee",
        "outputId": "1ce9e77c-51f5-467f-9bea-3f7a9038b910"
      },
      "source": [
        "Adj_R2 = (1-((1-r2)*(1030-1))/(1030-8-1))\n",
        "print('Adjusted R2 is.....',Adj_R2)"
      ],
      "execution_count": null,
      "outputs": [
        {
          "output_type": "stream",
          "text": [
            "Adjusted R2 is..... 0.7711749774139768\n"
          ],
          "name": "stdout"
        }
      ]
    },
    {
      "cell_type": "code",
      "metadata": {
        "id": "wCd6_IN7YI83"
      },
      "source": [
        "import sklearn.metrics as metrics\n",
        "def regression_results(y_true, y_pred):\n",
        "\n",
        "    # Regression metrics\n",
        "    explained_variance=metrics.explained_variance_score(y_true, y_pred)\n",
        "    mean_absolute_error=metrics.mean_absolute_error(y_true, y_pred) \n",
        "    mse=metrics.mean_squared_error(y_true, y_pred) \n",
        "#     mean_squared_log_error=metrics.mean_squared_log_error(y_true, y_pred)\n",
        "    median_absolute_error=metrics.median_absolute_error(y_true, y_pred)\n",
        "    r2=metrics.r2_score(y_true, y_pred)\n",
        "    print('explained_variance: ', round(explained_variance,4))    \n",
        "#     print('mean_squared_log_error: ', round(mean_squared_log_error,4))\n",
        "    print('r2: ', round(r2,4))\n",
        "    print('MAE: ', round(mean_absolute_error,4))\n",
        "    print('MSE: ', round(mse,4))\n",
        "    print('RMSE: ', round(np.sqrt(mse),4))\n"
      ],
      "execution_count": null,
      "outputs": []
    },
    {
      "cell_type": "code",
      "metadata": {
        "colab": {
          "base_uri": "https://localhost:8080/"
        },
        "id": "c2mX2Yh1YM8l",
        "outputId": "62312f55-ccf4-4c11-c130-638509594662"
      },
      "source": [
        "regression_results(y_test,y_pred)"
      ],
      "execution_count": null,
      "outputs": [
        {
          "output_type": "stream",
          "text": [
            "explained_variance:  0.775\n",
            "r2:  0.773\n",
            "MAE:  4.9561\n",
            "MSE:  58.2827\n",
            "RMSE:  7.6343\n"
          ],
          "name": "stdout"
        }
      ]
    },
    {
      "cell_type": "markdown",
      "metadata": {
        "id": "Z0f9zeS6Y-sA"
      },
      "source": [
        "# Predictive Model 3: Random Forest Regression"
      ]
    },
    {
      "cell_type": "code",
      "metadata": {
        "colab": {
          "base_uri": "https://localhost:8080/"
        },
        "id": "_y3Xjek7Yr93",
        "outputId": "32008a12-6f71-414f-c3c4-2561961f3477"
      },
      "source": [
        "from sklearn.ensemble import RandomForestRegressor\n",
        "regressor = RandomForestRegressor(n_estimators = 10, random_state = 0)\n",
        "regressor.fit(X_train,y_train)"
      ],
      "execution_count": null,
      "outputs": [
        {
          "output_type": "execute_result",
          "data": {
            "text/plain": [
              "RandomForestRegressor(bootstrap=True, ccp_alpha=0.0, criterion='mse',\n",
              "                      max_depth=None, max_features='auto', max_leaf_nodes=None,\n",
              "                      max_samples=None, min_impurity_decrease=0.0,\n",
              "                      min_impurity_split=None, min_samples_leaf=1,\n",
              "                      min_samples_split=2, min_weight_fraction_leaf=0.0,\n",
              "                      n_estimators=10, n_jobs=None, oob_score=False,\n",
              "                      random_state=0, verbose=0, warm_start=False)"
            ]
          },
          "metadata": {
            "tags": []
          },
          "execution_count": 39
        }
      ]
    },
    {
      "cell_type": "code",
      "metadata": {
        "colab": {
          "base_uri": "https://localhost:8080/"
        },
        "id": "goVCZYNcZpY7",
        "outputId": "5670052c-88fa-4796-cba8-329b3f1948e8"
      },
      "source": [
        "y_pred = regressor.predict(X_test)\n",
        "np.set_printoptions(precision=2)\n",
        "print(np.concatenate((y_pred.reshape(len(y_pred),1), y_test.reshape(len(y_test),1)),1))"
      ],
      "execution_count": null,
      "outputs": [
        {
          "output_type": "stream",
          "text": [
            "[[28.98 26.06]\n",
            " [ 7.91 10.35]\n",
            " [79.1  79.3 ]\n",
            " [63.29 74.99]\n",
            " [10.95  9.69]\n",
            " [50.09 47.1 ]\n",
            " [63.15 59.  ]\n",
            " [27.35 22.72]\n",
            " [71.34 61.89]\n",
            " [54.96 52.12]\n",
            " [17.47 17.54]\n",
            " [40.26 48.15]\n",
            " [34.75 38.33]\n",
            " [13.61 17.2 ]\n",
            " [51.13 56.83]\n",
            " [56.14 55.25]\n",
            " [38.21 33.36]\n",
            " [35.3  34.68]\n",
            " [52.21 52.61]\n",
            " [38.44 39.94]\n",
            " [63.64 61.46]\n",
            " [27.74 27.63]\n",
            " [27.68 32.9 ]\n",
            " [47.89 41.64]\n",
            " [14.58 17.54]\n",
            " [26.38 26.85]\n",
            " [64.43 66.9 ]\n",
            " [25.51 21.06]\n",
            " [56.14 61.07]\n",
            " [64.61 66.95]\n",
            " [21.96 20.87]\n",
            " [46.07 48.79]\n",
            " [27.68 24.05]\n",
            " [36.57 47.81]\n",
            " [19.59 21.16]\n",
            " [ 7.36  6.94]\n",
            " [35.28 28.6 ]\n",
            " [28.42 26.31]\n",
            " [34.84 33.95]\n",
            " [29.64 25.72]\n",
            " [36.79 37.8 ]\n",
            " [34.28 35.17]\n",
            " [30.14 32.24]\n",
            " [38.9  37.81]\n",
            " [58.02 57.23]\n",
            " [32.34 33.4 ]\n",
            " [28.55 30.14]\n",
            " [37.27 33.8 ]\n",
            " [33.88 35.08]\n",
            " [50.4  52.91]\n",
            " [40.87 40.93]\n",
            " [28.75 21.75]\n",
            " [18.53 16.5 ]\n",
            " [37.35 42.35]\n",
            " [50.57 50.94]\n",
            " [47.15 64.02]\n",
            " [47.44 52.2 ]\n",
            " [57.6  53.39]\n",
            " [64.3  64.3 ]\n",
            " [39.22 44.52]\n",
            " [36.09 37.42]\n",
            " [23.38 22.14]\n",
            " [59.68 62.94]\n",
            " [41.93 45.7 ]\n",
            " [11.7  14.64]\n",
            " [62.58 53.58]\n",
            " [38.02 33.72]\n",
            " [25.97 24.58]\n",
            " [15.84 13.2 ]\n",
            " [14.8  18.91]\n",
            " [17.09  7.4 ]\n",
            " [26.23 24.85]\n",
            " [48.96 49.2 ]\n",
            " [25.99 25.57]\n",
            " [38.81 31.38]\n",
            " [30.72 23.35]\n",
            " [28.81 45.71]\n",
            " [14.58  6.81]\n",
            " [33.94 27.34]\n",
            " [38.58 39.59]\n",
            " [19.86 30.96]\n",
            " [50.67 55.64]\n",
            " [19.14 18.02]\n",
            " [28.38 33.09]\n",
            " [46.32 48.72]\n",
            " [34.46 36.8 ]\n",
            " [37.04 45.9 ]\n",
            " [52.85 46.68]\n",
            " [48.57 40.87]\n",
            " [38.37 35.34]\n",
            " [63.3  65.7 ]\n",
            " [16.11 17.24]\n",
            " [13.83  9.45]\n",
            " [42.19 33.94]\n",
            " [14.44 15.57]\n",
            " [42.1  40.27]\n",
            " [17.03 15.82]\n",
            " [40.72 41.54]\n",
            " [50.7  50.24]\n",
            " [32.14 29.98]\n",
            " [12.44 20.73]\n",
            " [19.1  27.42]\n",
            " [26.46 27.66]\n",
            " [29.   29.73]\n",
            " [39.36 45.08]\n",
            " [42.2  42.13]\n",
            " [52.56 51.96]\n",
            " [16.92 15.61]\n",
            " [33.05 34.29]\n",
            " [47.09 53.52]\n",
            " [ 7.73  4.83]\n",
            " [49.74 41.37]\n",
            " [16.75  9.73]\n",
            " [28.38 31.81]\n",
            " [43.03 41.05]\n",
            " [59.02 61.92]\n",
            " [36.27 37.42]\n",
            " [36.42 37.92]\n",
            " [36.84 32.72]\n",
            " [12.98 14.94]\n",
            " [47.15 44.09]\n",
            " [30.49 26.92]\n",
            " [65.64 64.9 ]\n",
            " [26.91 29.22]\n",
            " [13.28 12.46]\n",
            " [11.2   8.  ]\n",
            " [11.36 13.71]\n",
            " [ 8.44 13.66]\n",
            " [52.44 63.14]\n",
            " [37.88 37.91]\n",
            " [31.21 37.4 ]\n",
            " [54.96 55.06]\n",
            " [38.15 35.23]\n",
            " [30.74 31.42]\n",
            " [12.31 10.73]\n",
            " [61.41 47.97]\n",
            " [37.75 38.89]\n",
            " [37.89 38.8 ]\n",
            " [ 4.85  4.57]\n",
            " [ 8.73 10.39]\n",
            " [36.53 29.59]\n",
            " [51.16 54.38]\n",
            " [21.92 22.5 ]\n",
            " [30.3  28.63]\n",
            " [20.4  17.34]\n",
            " [33.22 32.33]\n",
            " [38.24 41.67]\n",
            " [12.55 15.87]\n",
            " [44.74 44.86]\n",
            " [17.47 17.54]\n",
            " [17.   11.98]\n",
            " [15.71 15.42]\n",
            " [20.75 30.39]\n",
            " [40.74 45.85]\n",
            " [34.4  41.68]\n",
            " [35.52 42.64]\n",
            " [47.77 34.9 ]\n",
            " [27.89 25.45]\n",
            " [29.72 39.3 ]\n",
            " [30.63 27.92]\n",
            " [47.46 52.5 ]\n",
            " [35.92 37.81]\n",
            " [15.29 15.53]\n",
            " [39.77 30.57]\n",
            " [35.61 37.36]\n",
            " [ 8.42 14.59]\n",
            " [49.83 53.69]\n",
            " [48.05 57.03]\n",
            " [51.16 55.26]\n",
            " [ 9.28  6.47]\n",
            " [43.92 33.42]\n",
            " [37.23 41.16]\n",
            " [33.78 31.45]\n",
            " [34.59 36.15]\n",
            " [10.84 14.4 ]\n",
            " [16.45 13.36]\n",
            " [15.28  8.54]\n",
            " [37.72 40.29]\n",
            " [34.15 32.04]\n",
            " [57.39 51.43]\n",
            " [14.82 21.48]\n",
            " [29.   29.72]\n",
            " [15.34 14.2 ]\n",
            " [37.89 37.68]\n",
            " [20.06 24.13]\n",
            " [52.08 23.85]\n",
            " [37.42 36.45]\n",
            " [44.21 44.28]\n",
            " [16.03 19.52]\n",
            " [59.68 59.49]\n",
            " [32.13 25.18]\n",
            " [68.88 69.3 ]\n",
            " [57.62 61.23]\n",
            " [33.78 32.92]\n",
            " [ 5.8   6.28]\n",
            " [45.91 39.7 ]\n",
            " [33.55 33.4 ]\n",
            " [24.64 23.84]\n",
            " [34.99 39.27]\n",
            " [64.98 72.3 ]\n",
            " [22.99 18.13]\n",
            " [30.73 27.53]\n",
            " [35.56 33.76]\n",
            " [26.75 33.01]\n",
            " [38.02 33.72]\n",
            " [ 9.98 13.82]\n",
            " [47.73 43.89]\n",
            " [32.9  38.21]\n",
            " [43.92 33.42]\n",
            " [17.   13.12]\n",
            " [52.33 47.22]\n",
            " [25.71 22.32]\n",
            " [12.18 12.47]\n",
            " [30.71 28.94]\n",
            " [49.11 47.03]\n",
            " [26.22 26.32]\n",
            " [28.4  30.44]\n",
            " [28.98 12.64]\n",
            " [22.26 20.77]\n",
            " [41.17 43.8 ]\n",
            " [67.58 66.1 ]\n",
            " [21.35 15.36]\n",
            " [48.57 40.87]\n",
            " [42.76 45.94]\n",
            " [35.56 33.76]\n",
            " [38.61 43.58]\n",
            " [23.09 23.52]\n",
            " [44.34 42.7 ]\n",
            " [21.86 14.14]\n",
            " [43.61 48.4 ]\n",
            " [35.06 34.57]\n",
            " [38.03 35.86]\n",
            " [51.36 59.09]\n",
            " [23.99 24.5 ]\n",
            " [36.39 37.72]\n",
            " [14.64 15.52]\n",
            " [32.88 32.4 ]\n",
            " [33.08 33.05]\n",
            " [29.52 49.25]\n",
            " [70.04 71.7 ]\n",
            " [56.76 54.9 ]\n",
            " [50.59 50.46]\n",
            " [38.41 51.86]\n",
            " [33.48 28.68]\n",
            " [22.6  26.77]\n",
            " [18.43 17.24]\n",
            " [36.77 36.84]\n",
            " [28.45 40.23]\n",
            " [46.23 47.71]\n",
            " [11.47 11.36]\n",
            " [11.06  9.99]\n",
            " [44.4  40.93]\n",
            " [39.63 40.56]\n",
            " [38.01 31.72]\n",
            " [41.64 39.42]\n",
            " [20.11 18.13]\n",
            " [23.19 18.28]\n",
            " [11.95  9.87]\n",
            " [33.58 41.3 ]\n",
            " [30.02 34.56]\n",
            " [55.   53.96]\n",
            " [75.36 82.6 ]\n",
            " [42.51 54.6 ]\n",
            " [43.43 44.61]\n",
            " [38.42 39.29]\n",
            " [63.98 63.53]\n",
            " [33.09 39.16]\n",
            " [32.78 39.32]\n",
            " [16.63 20.42]\n",
            " [42.71 44.4 ]\n",
            " [61.41 56.34]\n",
            " [29.39 38.5 ]\n",
            " [30.14 32.25]\n",
            " [41.84 42.23]\n",
            " [44.58 46.25]\n",
            " [41.68 33.69]\n",
            " [38.61 44.21]\n",
            " [31.17 33.73]\n",
            " [59.62 64.9 ]\n",
            " [29.51 33.19]\n",
            " [13.39 12.45]\n",
            " [47.18 44.14]\n",
            " [57.72 57.92]\n",
            " [47.03 55.51]\n",
            " [30.4  37.27]\n",
            " [33.56 42.22]\n",
            " [41.47 41.2 ]\n",
            " [40.03 39.78]\n",
            " [70.77 64.9 ]\n",
            " [40.16 39.66]\n",
            " [30.23 23.51]\n",
            " [62.11 54.77]\n",
            " [37.26 29.07]\n",
            " [45.65 49.77]\n",
            " [65.2  65.2 ]\n",
            " [35.98 36.59]\n",
            " [39.6  52.01]\n",
            " [47.53 37.27]\n",
            " [43.72 43.58]\n",
            " [38.15 40.68]\n",
            " [30.85 26.97]\n",
            " [33.88 36.25]\n",
            " [26.59 25.73]\n",
            " [13.67 12.18]\n",
            " [69.43 72.99]\n",
            " [31.57 28.63]\n",
            " [10.64 11.39]\n",
            " [25.59 20.08]\n",
            " [43.03 48.28]]\n"
          ],
          "name": "stdout"
        }
      ]
    },
    {
      "cell_type": "code",
      "metadata": {
        "colab": {
          "base_uri": "https://localhost:8080/"
        },
        "id": "ss0biHynZyU0",
        "outputId": "9ffa26ca-e47a-40f4-cc2d-fba48e85b2a9"
      },
      "source": [
        "from sklearn.metrics import r2_score\n",
        "coefficient_of_dermination = r2_score(y_test, y_pred)\n",
        "print(coefficient_of_dermination)\n",
        "r2 = coefficient_of_dermination"
      ],
      "execution_count": null,
      "outputs": [
        {
          "output_type": "stream",
          "text": [
            "0.8907929451251135\n"
          ],
          "name": "stdout"
        }
      ]
    },
    {
      "cell_type": "code",
      "metadata": {
        "colab": {
          "base_uri": "https://localhost:8080/"
        },
        "id": "SQx3WG5mZ6RV",
        "outputId": "b556f2ba-3ec8-4d39-8b68-5a432e1c0634"
      },
      "source": [
        "Adj_R2 = (1-((1-r2)*(1030-1))/(1030-8-1))\n",
        "print('Adjusted R2 is.....',Adj_R2)"
      ],
      "execution_count": null,
      "outputs": [
        {
          "output_type": "stream",
          "text": [
            "Adjusted R2 is..... 0.8899372581133612\n"
          ],
          "name": "stdout"
        }
      ]
    },
    {
      "cell_type": "code",
      "metadata": {
        "id": "OefBeKFqZ-iO"
      },
      "source": [
        "import sklearn.metrics as metrics\n",
        "def regression_results(y_true, y_pred):\n",
        "\n",
        "    # Regression metrics\n",
        "    explained_variance=metrics.explained_variance_score(y_true, y_pred)\n",
        "    mean_absolute_error=metrics.mean_absolute_error(y_true, y_pred) \n",
        "    mse=metrics.mean_squared_error(y_true, y_pred) \n",
        "#     mean_squared_log_error=metrics.mean_squared_log_error(y_true, y_pred)\n",
        "    median_absolute_error=metrics.median_absolute_error(y_true, y_pred)\n",
        "    r2=metrics.r2_score(y_true, y_pred)\n",
        "    print('explained_variance: ', round(explained_variance,4))    \n",
        "#     print('mean_squared_log_error: ', round(mean_squared_log_error,4))\n",
        "    print('r2: ', round(r2,4))\n",
        "    print('MAE: ', round(mean_absolute_error,4))\n",
        "    print('MSE: ', round(mse,4))\n",
        "    print('RMSE: ', round(np.sqrt(mse),4))\n"
      ],
      "execution_count": null,
      "outputs": []
    },
    {
      "cell_type": "code",
      "metadata": {
        "colab": {
          "base_uri": "https://localhost:8080/"
        },
        "id": "iIXiMvhpZ_4X",
        "outputId": "78140d89-33cb-4803-9494-0b790b73d691"
      },
      "source": [
        "regression_results(y_test,y_pred)"
      ],
      "execution_count": null,
      "outputs": [
        {
          "output_type": "stream",
          "text": [
            "explained_variance:  0.891\n",
            "r2:  0.8908\n",
            "MAE:  3.8084\n",
            "MSE:  28.0334\n",
            "RMSE:  5.2947\n"
          ],
          "name": "stdout"
        }
      ]
    },
    {
      "cell_type": "markdown",
      "metadata": {
        "id": "c1WyoW1kaa_a"
      },
      "source": [
        "# **Feature Importance**"
      ]
    },
    {
      "cell_type": "code",
      "metadata": {
        "colab": {
          "base_uri": "https://localhost:8080/"
        },
        "id": "OZ4aLCa9lDRV",
        "outputId": "1ef4e37a-2b0b-40af-fb25-e01709b16e7b"
      },
      "source": [
        "conc.columns"
      ],
      "execution_count": null,
      "outputs": [
        {
          "output_type": "execute_result",
          "data": {
            "text/plain": [
              "Index(['Cement', 'Blast_Furnace_Slag', 'Fly_Ash', 'Water', 'Superplasticizer',\n",
              "       'Coarse_Aggregate', 'Fine_Aggregate', 'Age_in_days',\n",
              "       'Concrete_compressive_strength'],\n",
              "      dtype='object')"
            ]
          },
          "metadata": {
            "tags": []
          },
          "execution_count": 45
        }
      ]
    },
    {
      "cell_type": "code",
      "metadata": {
        "colab": {
          "base_uri": "https://localhost:8080/"
        },
        "id": "IckHSbtKlgRG",
        "outputId": "1a293fec-e5ef-4d71-d1f1-ca8bcb1e155c"
      },
      "source": [
        "from sklearn.preprocessing import scale\n",
        "from matplotlib import pyplot\n",
        "X_scale = X\n",
        "X_scale = pd.DataFrame(X_scale)\n",
        "cols = X_scale.columns\n",
        "X_scale = pd.DataFrame(scale(X_scale))\n",
        "X_scale.columns = cols\n",
        "X_scale.columns\n",
        "model = RandomForestRegressor(n_estimators = 10, random_state = 0)\n",
        "# fit the model\n",
        "model.fit(X_scale, y)\n",
        "# get importance\n",
        "importance = model.feature_importances_\n",
        "l1=[]\n",
        "l0=[]\n",
        "# summarize feature importance\n",
        "for i,v in enumerate(importance):\n",
        "    print('Feature: %0d, Score: %.5f' % (i,v))\n",
        "    l1.append(v);\n",
        "    l0.append(i);\n",
        "    # df = pd.DataFrame({\"Feature\": l0})\n",
        "    ds = pd.DataFrame({'Score': l1})\n",
        "    \n",
        "\n"
      ],
      "execution_count": null,
      "outputs": [
        {
          "output_type": "stream",
          "text": [
            "Feature: 0, Score: 0.30482\n",
            "Feature: 1, Score: 0.08500\n",
            "Feature: 2, Score: 0.02030\n",
            "Feature: 3, Score: 0.09500\n",
            "Feature: 4, Score: 0.07517\n",
            "Feature: 5, Score: 0.02306\n",
            "Feature: 6, Score: 0.03522\n",
            "Feature: 7, Score: 0.36143\n"
          ],
          "name": "stdout"
        }
      ]
    },
    {
      "cell_type": "code",
      "metadata": {
        "id": "hjwgkgPf4zl7"
      },
      "source": [
        "# ds.sort_values(by='Score', inplace= True)"
      ],
      "execution_count": null,
      "outputs": []
    },
    {
      "cell_type": "code",
      "metadata": {
        "id": "syiJ-4YC_KHc"
      },
      "source": [
        "# ds = ds.values.tolist()"
      ],
      "execution_count": null,
      "outputs": []
    },
    {
      "cell_type": "code",
      "metadata": {
        "id": "J-0el9l00Ezr"
      },
      "source": [
        "labels = ['Fly_Ash','Coarse_Aggregate','Fine_Aggregate','Superplasticizer','Blast_Furnace_Slag','Water','Cement','Age_in_days']\n",
        "values = [0.015521362089047712,0.02981439453039121,0.03305379572588684,0.054141495615557284,0.08807498372424608,0.12440299503903117,0.30235118844534514,0.35263978483049463]"
      ],
      "execution_count": null,
      "outputs": []
    },
    {
      "cell_type": "code",
      "metadata": {
        "colab": {
          "base_uri": "https://localhost:8080/",
          "height": 295
        },
        "id": "Q2onMQidEjHn",
        "outputId": "faeeaae8-d51e-46c6-b0d9-799984ab0307"
      },
      "source": [
        "# ds.plot.barh(title = 'partner_category and Is_Fraud',color = 'purple')\n",
        "plt.barh(labels, values)\n",
        "plt.ylabel('Features')\n",
        "plt.xlabel('Importance')\n",
        "plt.title('Important Features')\n",
        "plt.show()\n"
      ],
      "execution_count": null,
      "outputs": [
        {
          "output_type": "display_data",
          "data": {
            "image/png": "[encoded data removed]",
            "text/plain": [
              "<Figure size 432x288 with 1 Axes>"
            ]
          },
          "metadata": {
            "tags": [],
            "needs_background": "light"
          }
        }
      ]
    },
    {
      "cell_type": "markdown",
      "metadata": {
        "id": "L2YKeEZDRLTz"
      },
      "source": [
        "## **Now I will Try using some Feature Selection Methods to select only that feature which makes our model robust and better.**"
      ]
    },
    {
      "cell_type": "markdown",
      "metadata": {
        "id": "YtvLgITzRwHz"
      },
      "source": [
        "**Backward Elimination**"
      ]
    },
    {
      "cell_type": "code",
      "metadata": {
        "colab": {
          "base_uri": "https://localhost:8080/"
        },
        "id": "EhiuHeDSQ_jc",
        "outputId": "55723282-c32c-408c-b9b1-d795fea3ad1a"
      },
      "source": [
        "#Adding constant column of ones, mandatory for sm.OLS model\n",
        "import statsmodels.regression.linear_model as lm\n",
        "import statsmodels.regression.linear_model as sm\n",
        "import statsmodels.api as smm\n",
        "X_1 = smm.add_constant(X)\n",
        "#Fitting sm.OLS model\n",
        "model = lm.OLS(y,X_1).fit()\n",
        "model.pvalues"
      ],
      "execution_count": null,
      "outputs": [
        {
          "output_type": "execute_result",
          "data": {
            "text/plain": [
              "array([3.80e-01, 1.90e-41, 1.60e-23, 5.02e-12, 2.01e-04, 1.81e-03,\n",
              "       5.44e-02, 5.95e-02, 5.78e-82])"
            ]
          },
          "metadata": {
            "tags": []
          },
          "execution_count": 51
        }
      ]
    },
    {
      "cell_type": "code",
      "metadata": {
        "colab": {
          "base_uri": "https://localhost:8080/"
        },
        "id": "DpPqWTM5R5Y1",
        "outputId": "863d5d2a-45c1-47ac-f154-c8b819db362e"
      },
      "source": [
        "#Backward Elimination\n",
        "X1 = pd.DataFrame(X)\n",
        "cols = list(X1.columns)\n",
        "pmax = 1\n",
        "while (len(cols)>0):\n",
        "    p= []\n",
        "    X_1 = X1[cols]\n",
        "    X_1 = smm.add_constant(X_1)\n",
        "    model = sm.OLS(y,X_1).fit()\n",
        "    p = pd.Series(model.pvalues.values[1:],index = cols)      \n",
        "    pmax = max(p)\n",
        "    feature_with_p_max = p.idxmax()\n",
        "    if(pmax>0.05):\n",
        "        cols.remove(feature_with_p_max)\n",
        "    else:\n",
        "        break\n",
        "selected_features_BE = cols\n",
        "print(selected_features_BE)"
      ],
      "execution_count": null,
      "outputs": [
        {
          "output_type": "stream",
          "text": [
            "[0, 1, 2, 3, 4, 7]\n"
          ],
          "name": "stdout"
        }
      ]
    },
    {
      "cell_type": "markdown",
      "metadata": {
        "id": "rqNrQ5qPXHl4"
      },
      "source": [
        "**'Cement', 'Blast_Furnace_Slag', 'Fly_Ash', 'Water', 'Superplasticizer','Age_in_days' are the features I got using Backward elimination**\n"
      ]
    },
    {
      "cell_type": "markdown",
      "metadata": {
        "id": "uSQ38i2XXRy7"
      },
      "source": [
        "Now I will make model on all these features."
      ]
    },
    {
      "cell_type": "code",
      "metadata": {
        "id": "4QbkBnc4WLwO"
      },
      "source": [
        "X = conc.loc[:, ['Cement', 'Blast_Furnace_Slag', 'Fly_Ash', 'Water', 'Superplasticizer','Age_in_days']]\n",
        "y = conc.loc[:,['Concrete_compressive_strength']]"
      ],
      "execution_count": null,
      "outputs": []
    },
    {
      "cell_type": "code",
      "metadata": {
        "id": "IruknX1VhZDF"
      },
      "source": [
        "# Splitting the data into train and test split\n",
        "from sklearn.model_selection import train_test_split\n",
        "\n",
        "X_train, X_test, y_train, y_test = train_test_split(X, y, test_size = 0.30, random_state = 0)"
      ],
      "execution_count": null,
      "outputs": []
    },
    {
      "cell_type": "code",
      "metadata": {
        "colab": {
          "base_uri": "https://localhost:8080/"
        },
        "id": "tH4QAzU2h26h",
        "outputId": "d5c4bb81-72c8-460f-961f-1bfc42c77374"
      },
      "source": [
        "print(\"X_train shape\",X_train.shape)\n",
        "print(\"y_train shape\",y_train.shape)\n",
        "print(\"X_test shape\",X_test.shape)\n",
        "print(\"y_test shape\",y_test.shape)"
      ],
      "execution_count": null,
      "outputs": [
        {
          "output_type": "stream",
          "text": [
            "X_train shape (721, 6)\n",
            "y_train shape (721, 1)\n",
            "X_test shape (309, 6)\n",
            "y_test shape (309, 1)\n"
          ],
          "name": "stdout"
        }
      ]
    },
    {
      "cell_type": "code",
      "metadata": {
        "id": "Jv4mTLNAh8b7"
      },
      "source": [
        "from sklearn.preprocessing import StandardScaler\n",
        "sc = StandardScaler()\n",
        "X_train = sc.fit_transform(X_train)\n",
        "X_test = sc.transform(X_test)"
      ],
      "execution_count": null,
      "outputs": []
    },
    {
      "cell_type": "markdown",
      "metadata": {
        "id": "XcDjro1giIOQ"
      },
      "source": [
        "**Predictive Model 1: Linear Regression**"
      ]
    },
    {
      "cell_type": "code",
      "metadata": {
        "colab": {
          "base_uri": "https://localhost:8080/"
        },
        "id": "b2aMgDBMiHwa",
        "outputId": "7544642b-ce02-4645-fdb6-0daffe8d4833"
      },
      "source": [
        "from sklearn.linear_model import LinearRegression\n",
        "regressor = LinearRegression()\n",
        "regressor.fit(X_train, y_train)"
      ],
      "execution_count": null,
      "outputs": [
        {
          "output_type": "execute_result",
          "data": {
            "text/plain": [
              "LinearRegression(copy_X=True, fit_intercept=True, n_jobs=None, normalize=False)"
            ]
          },
          "metadata": {
            "tags": []
          },
          "execution_count": 57
        }
      ]
    },
    {
      "cell_type": "code",
      "metadata": {
        "id": "Tay8YaPqinZJ"
      },
      "source": [
        "y_pred = regressor.predict(X_test)"
      ],
      "execution_count": null,
      "outputs": []
    },
    {
      "cell_type": "code",
      "metadata": {
        "colab": {
          "base_uri": "https://localhost:8080/"
        },
        "id": "T93i03XdkiGR",
        "outputId": "788ab96e-0c14-408b-d947-4d49436049a3"
      },
      "source": [
        "from sklearn.metrics import r2_score\n",
        "coefficient_of_dermination = r2_score(y_test, y_pred)\n",
        "print(coefficient_of_dermination)\n",
        "r2 = coefficient_of_dermination"
      ],
      "execution_count": null,
      "outputs": [
        {
          "output_type": "stream",
          "text": [
            "0.6374040663473708\n"
          ],
          "name": "stdout"
        }
      ]
    },
    {
      "cell_type": "code",
      "metadata": {
        "colab": {
          "base_uri": "https://localhost:8080/"
        },
        "id": "cW8T1yauk077",
        "outputId": "34cc0510-fd8f-4ab3-9407-66162483dff6"
      },
      "source": [
        "Adj_R2 = (1-((1-r2)*(1030-1))/(1030-7-1))\n",
        "print('Adjusted R2 is.....',Adj_R2)"
      ],
      "execution_count": null,
      "outputs": [
        {
          "output_type": "stream",
          "text": [
            "Adjusted R2 is..... 0.6349205325552295\n"
          ],
          "name": "stdout"
        }
      ]
    },
    {
      "cell_type": "code",
      "metadata": {
        "id": "vxqpvlgok-Oa"
      },
      "source": [
        "import sklearn.metrics as metrics\n",
        "def regression_results(y_true, y_pred):\n",
        "\n",
        "    # Regression metrics\n",
        "    explained_variance=metrics.explained_variance_score(y_true, y_pred)\n",
        "    mean_absolute_error=metrics.mean_absolute_error(y_true, y_pred) \n",
        "    mse=metrics.mean_squared_error(y_true, y_pred) \n",
        "#     mean_squared_log_error=metrics.mean_squared_log_error(y_true, y_pred)\n",
        "    median_absolute_error=metrics.median_absolute_error(y_true, y_pred)\n",
        "    r2=metrics.r2_score(y_true, y_pred)\n",
        "    print('explained_variance: ', round(explained_variance,4))    \n",
        "#     print('mean_squared_log_error: ', round(mean_squared_log_error,4))\n",
        "    print('r2: ', round(r2,4))\n",
        "    print('MAE: ', round(mean_absolute_error,4))\n",
        "    print('MSE: ', round(mse,4))\n",
        "    print('RMSE: ', round(np.sqrt(mse),4))\n"
      ],
      "execution_count": null,
      "outputs": []
    },
    {
      "cell_type": "code",
      "metadata": {
        "colab": {
          "base_uri": "https://localhost:8080/"
        },
        "id": "8qFUoXUSlFJD",
        "outputId": "06325990-797f-498b-cd80-b1cd9abcd064"
      },
      "source": [
        "regression_results(y_test,y_pred)"
      ],
      "execution_count": null,
      "outputs": [
        {
          "output_type": "stream",
          "text": [
            "explained_variance:  0.6403\n",
            "r2:  0.6374\n",
            "MAE:  7.7396\n",
            "MSE:  93.0783\n",
            "RMSE:  9.6477\n"
          ],
          "name": "stdout"
        }
      ]
    },
    {
      "cell_type": "markdown",
      "metadata": {
        "id": "pQV5KEAnmc09"
      },
      "source": [
        "**Predictive Model 2: Decision Tree Regressor**"
      ]
    },
    {
      "cell_type": "code",
      "metadata": {
        "colab": {
          "base_uri": "https://localhost:8080/"
        },
        "id": "jqUzyq4nmaPa",
        "outputId": "9f683e78-60f8-4a14-8d2c-370eb5abea86"
      },
      "source": [
        "from sklearn.tree import DecisionTreeRegressor\n",
        "regressor = DecisionTreeRegressor(random_state=0)\n",
        "regressor.fit(X_train, y_train)"
      ],
      "execution_count": null,
      "outputs": [
        {
          "output_type": "execute_result",
          "data": {
            "text/plain": [
              "DecisionTreeRegressor(ccp_alpha=0.0, criterion='mse', max_depth=None,\n",
              "                      max_features=None, max_leaf_nodes=None,\n",
              "                      min_impurity_decrease=0.0, min_impurity_split=None,\n",
              "                      min_samples_leaf=1, min_samples_split=2,\n",
              "                      min_weight_fraction_leaf=0.0, presort='deprecated',\n",
              "                      random_state=0, splitter='best')"
            ]
          },
          "metadata": {
            "tags": []
          },
          "execution_count": 63
        }
      ]
    },
    {
      "cell_type": "code",
      "metadata": {
        "id": "itPhgaF4m3eR"
      },
      "source": [
        "y_pred = regressor.predict(X_test)"
      ],
      "execution_count": null,
      "outputs": []
    },
    {
      "cell_type": "code",
      "metadata": {
        "colab": {
          "base_uri": "https://localhost:8080/"
        },
        "id": "fiHrFIhEnBX_",
        "outputId": "2ebb776c-596f-485f-d38c-32a687e1ae82"
      },
      "source": [
        "from sklearn.metrics import r2_score\n",
        "coefficient_of_dermination = r2_score(y_test, y_pred)\n",
        "print(coefficient_of_dermination)\n",
        "r2 = coefficient_of_dermination"
      ],
      "execution_count": null,
      "outputs": [
        {
          "output_type": "stream",
          "text": [
            "0.8107630434217364\n"
          ],
          "name": "stdout"
        }
      ]
    },
    {
      "cell_type": "code",
      "metadata": {
        "colab": {
          "base_uri": "https://localhost:8080/"
        },
        "id": "rU63_hhfnSxZ",
        "outputId": "9aa55929-2b4e-434c-d34e-12a7ae8f0266"
      },
      "source": [
        "Adj_R2 = (1-((1-r2)*(1030-1))/(1030-7-1))\n",
        "print('Adjusted R2 is.....',Adj_R2)"
      ],
      "execution_count": null,
      "outputs": [
        {
          "output_type": "stream",
          "text": [
            "Adjusted R2 is..... 0.8094668998835292\n"
          ],
          "name": "stdout"
        }
      ]
    },
    {
      "cell_type": "code",
      "metadata": {
        "id": "LBHUcMwznWgU"
      },
      "source": [
        "import sklearn.metrics as metrics\n",
        "def regression_results(y_true, y_pred):\n",
        "\n",
        "    # Regression metrics\n",
        "    explained_variance=metrics.explained_variance_score(y_true, y_pred)\n",
        "    mean_absolute_error=metrics.mean_absolute_error(y_true, y_pred) \n",
        "    mse=metrics.mean_squared_error(y_true, y_pred) \n",
        "#     mean_squared_log_error=metrics.mean_squared_log_error(y_true, y_pred)\n",
        "    median_absolute_error=metrics.median_absolute_error(y_true, y_pred)\n",
        "    r2=metrics.r2_score(y_true, y_pred)\n",
        "    print('explained_variance: ', round(explained_variance,4))    \n",
        "#     print('mean_squared_log_error: ', round(mean_squared_log_error,4))\n",
        "    print('r2: ', round(r2,4))\n",
        "    print('MAE: ', round(mean_absolute_error,4))\n",
        "    print('MSE: ', round(mse,4))\n",
        "    print('RMSE: ', round(np.sqrt(mse),4))\n"
      ],
      "execution_count": null,
      "outputs": []
    },
    {
      "cell_type": "code",
      "metadata": {
        "colab": {
          "base_uri": "https://localhost:8080/"
        },
        "id": "OEYW_Uo8ne19",
        "outputId": "f1f3fbbf-5546-4c10-8a6f-2bfbc671afd7"
      },
      "source": [
        "regression_results(y_test,y_pred)"
      ],
      "execution_count": null,
      "outputs": [
        {
          "output_type": "stream",
          "text": [
            "explained_variance:  0.8115\n",
            "r2:  0.8108\n",
            "MAE:  4.3782\n",
            "MSE:  48.5771\n",
            "RMSE:  6.9697\n"
          ],
          "name": "stdout"
        }
      ]
    },
    {
      "cell_type": "markdown",
      "metadata": {
        "id": "52cMixhtn1TF"
      },
      "source": [
        "**Predictive Model 3: Random Forest Regression**"
      ]
    },
    {
      "cell_type": "code",
      "metadata": {
        "colab": {
          "base_uri": "https://localhost:8080/"
        },
        "id": "trvz2VcTn9xK",
        "outputId": "65119417-f5c2-489e-a2a1-b24bcc879282"
      },
      "source": [
        "from sklearn.ensemble import RandomForestRegressor\n",
        "regressor = RandomForestRegressor(n_estimators = 10, random_state = 0)\n",
        "regressor.fit(X_train,y_train)"
      ],
      "execution_count": null,
      "outputs": [
        {
          "output_type": "execute_result",
          "data": {
            "text/plain": [
              "RandomForestRegressor(bootstrap=True, ccp_alpha=0.0, criterion='mse',\n",
              "                      max_depth=None, max_features='auto', max_leaf_nodes=None,\n",
              "                      max_samples=None, min_impurity_decrease=0.0,\n",
              "                      min_impurity_split=None, min_samples_leaf=1,\n",
              "                      min_samples_split=2, min_weight_fraction_leaf=0.0,\n",
              "                      n_estimators=10, n_jobs=None, oob_score=False,\n",
              "                      random_state=0, verbose=0, warm_start=False)"
            ]
          },
          "metadata": {
            "tags": []
          },
          "execution_count": 69
        }
      ]
    },
    {
      "cell_type": "code",
      "metadata": {
        "id": "u0KLstHcoSRY"
      },
      "source": [
        "y_pred = regressor.predict(X_test)"
      ],
      "execution_count": null,
      "outputs": []
    },
    {
      "cell_type": "code",
      "metadata": {
        "colab": {
          "base_uri": "https://localhost:8080/"
        },
        "id": "7IBxOdQZoWWS",
        "outputId": "eb04f6b5-7382-4e47-e3a3-6d5b40808984"
      },
      "source": [
        "from sklearn.metrics import r2_score\n",
        "coefficient_of_dermination = r2_score(y_test, y_pred)\n",
        "print(coefficient_of_dermination)\n",
        "r2 = coefficient_of_dermination"
      ],
      "execution_count": null,
      "outputs": [
        {
          "output_type": "stream",
          "text": [
            "0.9103350139186328\n"
          ],
          "name": "stdout"
        }
      ]
    },
    {
      "cell_type": "code",
      "metadata": {
        "colab": {
          "base_uri": "https://localhost:8080/"
        },
        "id": "fPnKYJ3Hoc1G",
        "outputId": "bd56465f-5cd3-4ad2-db53-fec48fa12b59"
      },
      "source": [
        "Adj_R2 = (1-((1-r2)*(1030-1))/(1030-7-1))\n",
        "print('Adjusted R2 is.....',Adj_R2)"
      ],
      "execution_count": null,
      "outputs": [
        {
          "output_type": "stream",
          "text": [
            "Adjusted R2 is..... 0.9097208701783495\n"
          ],
          "name": "stdout"
        }
      ]
    },
    {
      "cell_type": "code",
      "metadata": {
        "id": "LRrGDE8RojL3"
      },
      "source": [
        "import sklearn.metrics as metrics\n",
        "def regression_results(y_true, y_pred):\n",
        "\n",
        "    # Regression metrics\n",
        "    explained_variance=metrics.explained_variance_score(y_true, y_pred)\n",
        "    mean_absolute_error=metrics.mean_absolute_error(y_true, y_pred) \n",
        "    mse=metrics.mean_squared_error(y_true, y_pred) \n",
        "#     mean_squared_log_error=metrics.mean_squared_log_error(y_true, y_pred)\n",
        "    median_absolute_error=metrics.median_absolute_error(y_true, y_pred)\n",
        "    r2=metrics.r2_score(y_true, y_pred)\n",
        "    print('explained_variance: ', round(explained_variance,4))    \n",
        "#     print('mean_squared_log_error: ', round(mean_squared_log_error,4))\n",
        "    print('r2: ', round(r2,4))\n",
        "    print('MAE: ', round(mean_absolute_error,4))\n",
        "    print('MSE: ', round(mse,4))\n",
        "    print('RMSE: ', round(np.sqrt(mse),4))\n"
      ],
      "execution_count": null,
      "outputs": []
    },
    {
      "cell_type": "code",
      "metadata": {
        "colab": {
          "base_uri": "https://localhost:8080/"
        },
        "id": "mw-Cw72eonsS",
        "outputId": "8b4fc84d-7891-4967-856d-7ac483d7e6e4"
      },
      "source": [
        "regression_results(y_test,y_pred)"
      ],
      "execution_count": null,
      "outputs": [
        {
          "output_type": "stream",
          "text": [
            "explained_variance:  0.9107\n",
            "r2:  0.9103\n",
            "MAE:  3.521\n",
            "MSE:  23.017\n",
            "RMSE:  4.7976\n"
          ],
          "name": "stdout"
        }
      ]
    },
    {
      "cell_type": "markdown",
      "metadata": {
        "id": "VLzBMPyDqUbR"
      },
      "source": [
        "# **Recursive Feature Elimination**"
      ]
    },
    {
      "cell_type": "code",
      "metadata": {
        "id": "S10lSJOVpGHd"
      },
      "source": [
        "X = conc.iloc[:,:-1].values\n",
        "y = conc.iloc[:, -1].values\n",
        "y = y.reshape(len(y),1)"
      ],
      "execution_count": null,
      "outputs": []
    },
    {
      "cell_type": "code",
      "metadata": {
        "colab": {
          "base_uri": "https://localhost:8080/"
        },
        "id": "_TSpuHutrfFi",
        "outputId": "dfc22181-25c1-46b2-84af-a2c2cfca0373"
      },
      "source": [
        " # importing necessary libary for RFE\n",
        "from sklearn.feature_selection import RFE\n",
        "#no of features\n",
        "nof_list=np.arange(1,9)            \n",
        "high_score=0\n",
        "#Variable to store the optimum features\n",
        "nof=0           \n",
        "score_list =[]\n",
        "for n in range(len(nof_list)):\n",
        "    X_train, X_test, y_train, y_test = train_test_split(X,y, test_size = 0.25, random_state = 0)\n",
        "    model = LinearRegression()\n",
        "    rfe = RFE(model,nof_list[n])\n",
        "    X_train_rfe = rfe.fit_transform(X_train,y_train)\n",
        "    X_test_rfe = rfe.transform(X_test)\n",
        "    model.fit(X_train_rfe,y_train)\n",
        "    score = model.score(X_test_rfe,y_test)\n",
        "    score_list.append(score)\n",
        "    if(score>high_score):\n",
        "        high_score = score\n",
        "        nof = nof_list[n]\n",
        "print(\"Optimum number of features: %d\" %nof)\n",
        "print(\"Score with %d features: %f\" % (nof, high_score))"
      ],
      "execution_count": null,
      "outputs": [
        {
          "output_type": "stream",
          "text": [
            "Optimum number of features: 6\n",
            "Score with 6 features: 0.627310\n"
          ],
          "name": "stdout"
        }
      ]
    },
    {
      "cell_type": "code",
      "metadata": {
        "colab": {
          "base_uri": "https://localhost:8080/"
        },
        "id": "W5Bhsilor7YL",
        "outputId": "78316489-0c87-4b4b-a372-89b49e1819c8"
      },
      "source": [
        "X1 = pd.DataFrame(X)\n",
        "cols = list(X1.columns)\n",
        "model = LinearRegression()\n",
        "#Initializing RFE model\n",
        "rfe = RFE(model, 6)             \n",
        "#Transforming data using RFE\n",
        "X_rfe = rfe.fit_transform(X,y)  \n",
        "#Fitting the data to model\n",
        "model.fit(X_rfe,y)              \n",
        "temp = pd.Series(rfe.support_,index = cols)\n",
        "selected_features_rfe = temp[temp==True].index\n",
        "print(selected_features_rfe)"
      ],
      "execution_count": null,
      "outputs": [
        {
          "output_type": "stream",
          "text": [
            "Int64Index([0, 1, 2, 3, 4, 7], dtype='int64')\n"
          ],
          "name": "stdout"
        }
      ]
    },
    {
      "cell_type": "markdown",
      "metadata": {
        "id": "PyR7_cvduFlD"
      },
      "source": [
        "**We got same features again using RFE. We have already made and tried different features on above features.**"
      ]
    },
    {
      "cell_type": "markdown",
      "metadata": {
        "id": "zAG07wiyjbDi"
      },
      "source": [
        "# Now trying hyperparameter tuning on Random Forest to find best attributes and features to make my model better "
      ]
    },
    {
      "cell_type": "code",
      "metadata": {
        "id": "kptlIlkpf0kA"
      },
      "source": [
        "X = conc.iloc[:,:-1].values\n",
        "y = conc.iloc[:, -1].values\n",
        "y = y.reshape(len(y),1)"
      ],
      "execution_count": null,
      "outputs": []
    },
    {
      "cell_type": "code",
      "metadata": {
        "id": "rzMI33FrjpMc"
      },
      "source": [
        "\n",
        "# Splitting the dataset into the Training set and Test set\n",
        "from sklearn.model_selection import train_test_split\n",
        "X_train, X_test, y_train, y_test = train_test_split(X, y, test_size = 0.25, random_state =0)\n"
      ],
      "execution_count": null,
      "outputs": []
    },
    {
      "cell_type": "code",
      "metadata": {
        "id": "i6AGTzq7m9c1"
      },
      "source": [
        "# Feature Scaling\n",
        "from sklearn.preprocessing import StandardScaler\n",
        "sc = StandardScaler()\n",
        "X_train = sc.fit_transform(X_train)\n",
        "X_test = sc.transform(X_test)"
      ],
      "execution_count": null,
      "outputs": []
    },
    {
      "cell_type": "code",
      "metadata": {
        "colab": {
          "base_uri": "https://localhost:8080/"
        },
        "id": "iZVT4P4VnFdX",
        "outputId": "a5733db5-14da-4f7f-d2dd-e435539bc104"
      },
      "source": [
        "from sklearn.ensemble import RandomForestRegressor\n",
        "regressor=RandomForestRegressor()\n",
        "n_estimators = [int(x) for x in np.linspace(start = 100, stop = 1200, num = 12)]\n",
        "print(n_estimators)"
      ],
      "execution_count": null,
      "outputs": [
        {
          "output_type": "stream",
          "text": [
            "[100, 200, 300, 400, 500, 600, 700, 800, 900, 1000, 1100, 1200]\n"
          ],
          "name": "stdout"
        }
      ]
    },
    {
      "cell_type": "code",
      "metadata": {
        "id": "9doe-8_CnKaZ"
      },
      "source": [
        "from sklearn.model_selection import RandomizedSearchCV\n",
        "\n",
        "#Randomized Search CV\n",
        "\n",
        "# Number of trees in random forest\n",
        "n_estimators = [int(x) for x in np.linspace(start = 100, stop = 1200, num = 12)]\n",
        "# Number of features to consider at every split\n",
        "max_features = ['auto', 'sqrt']\n",
        "# Maximum number of levels in tree\n",
        "max_depth = [int(x) for x in np.linspace(5, 30, num = 6)]\n",
        "# max_depth.append(None)\n",
        "# Minimum number of samples required to split a node\n",
        "min_samples_split = [2, 5, 10, 15, 100]\n",
        "# Minimum number of samples required at each leaf node\n",
        "min_samples_leaf = [1, 2, 5, 10]"
      ],
      "execution_count": null,
      "outputs": []
    },
    {
      "cell_type": "code",
      "metadata": {
        "id": "KQhLPD3fnUin",
        "colab": {
          "base_uri": "https://localhost:8080/"
        },
        "outputId": "8b75d652-7c80-4f14-8f1c-234cd826b6a6"
      },
      "source": [
        "random_grid = {'n_estimators': n_estimators,\n",
        "               'max_features': max_features,\n",
        "               'max_depth': max_depth,\n",
        "               'min_samples_split': min_samples_split,\n",
        "               'min_samples_leaf': min_samples_leaf}\n",
        "\n",
        "print(random_grid)"
      ],
      "execution_count": null,
      "outputs": [
        {
          "output_type": "stream",
          "text": [
            "{'n_estimators': [100, 200, 300, 400, 500, 600, 700, 800, 900, 1000, 1100, 1200], 'max_features': ['auto', 'sqrt'], 'max_depth': [5, 10, 15, 20, 25, 30], 'min_samples_split': [2, 5, 10, 15, 100], 'min_samples_leaf': [1, 2, 5, 10]}\n"
          ],
          "name": "stdout"
        }
      ]
    },
    {
      "cell_type": "code",
      "metadata": {
        "id": "BkakOipdnnrS"
      },
      "source": [
        "\n",
        "# Use the random grid to search for best hyperparameters\n",
        "# First create the base model to tune\n",
        "rf = RandomForestRegressor()\n"
      ],
      "execution_count": null,
      "outputs": []
    },
    {
      "cell_type": "code",
      "metadata": {
        "id": "GBVdRXEbnuP8"
      },
      "source": [
        "\n",
        "# Random search of parameters, using 3 fold cross validation, \n",
        "# search across 100 different combinations\n",
        "rf_random = RandomizedSearchCV(estimator = rf, param_distributions = random_grid,scoring='neg_mean_squared_error', n_iter = 10, cv = 5, verbose=2, random_state=42, n_jobs = 1)"
      ],
      "execution_count": null,
      "outputs": []
    },
    {
      "cell_type": "code",
      "metadata": {
        "colab": {
          "base_uri": "https://localhost:8080/"
        },
        "id": "4WdpnvVVQWBx",
        "outputId": "82a4c87a-7d44-4daa-bd9b-c01cdfc03aed"
      },
      "source": [
        "rf_random.fit(X_train,y_train)"
      ],
      "execution_count": null,
      "outputs": [
        {
          "output_type": "stream",
          "text": [
            "Fitting 5 folds for each of 10 candidates, totalling 50 fits\n",
            "[CV] n_estimators=900, min_samples_split=5, min_samples_leaf=5, max_features=sqrt, max_depth=10 \n"
          ],
          "name": "stdout"
        },
        {
          "output_type": "stream",
          "text": [
            "[Parallel(n_jobs=1)]: Using backend SequentialBackend with 1 concurrent workers.\n"
          ],
          "name": "stderr"
        },
        {
          "output_type": "stream",
          "text": [
            "[CV]  n_estimators=900, min_samples_split=5, min_samples_leaf=5, max_features=sqrt, max_depth=10, total=   1.5s\n",
            "[CV] n_estimators=900, min_samples_split=5, min_samples_leaf=5, max_features=sqrt, max_depth=10 \n"
          ],
          "name": "stdout"
        },
        {
          "output_type": "stream",
          "text": [
            "[Parallel(n_jobs=1)]: Done   1 out of   1 | elapsed:    1.5s remaining:    0.0s\n"
          ],
          "name": "stderr"
        },
        {
          "output_type": "stream",
          "text": [
            "[CV]  n_estimators=900, min_samples_split=5, min_samples_leaf=5, max_features=sqrt, max_depth=10, total=   1.6s\n",
            "[CV] n_estimators=900, min_samples_split=5, min_samples_leaf=5, max_features=sqrt, max_depth=10 \n",
            "[CV]  n_estimators=900, min_samples_split=5, min_samples_leaf=5, max_features=sqrt, max_depth=10, total=   1.5s\n",
            "[CV] n_estimators=900, min_samples_split=5, min_samples_leaf=5, max_features=sqrt, max_depth=10 \n",
            "[CV]  n_estimators=900, min_samples_split=5, min_samples_leaf=5, max_features=sqrt, max_depth=10, total=   1.5s\n",
            "[CV] n_estimators=900, min_samples_split=5, min_samples_leaf=5, max_features=sqrt, max_depth=10 \n",
            "[CV]  n_estimators=900, min_samples_split=5, min_samples_leaf=5, max_features=sqrt, max_depth=10, total=   1.5s\n",
            "[CV] n_estimators=1100, min_samples_split=10, min_samples_leaf=2, max_features=sqrt, max_depth=15 \n",
            "[CV]  n_estimators=1100, min_samples_split=10, min_samples_leaf=2, max_features=sqrt, max_depth=15, total=   1.9s\n",
            "[CV] n_estimators=1100, min_samples_split=10, min_samples_leaf=2, max_features=sqrt, max_depth=15 \n",
            "[CV]  n_estimators=1100, min_samples_split=10, min_samples_leaf=2, max_features=sqrt, max_depth=15, total=   1.9s\n",
            "[CV] n_estimators=1100, min_samples_split=10, min_samples_leaf=2, max_features=sqrt, max_depth=15 \n",
            "[CV]  n_estimators=1100, min_samples_split=10, min_samples_leaf=2, max_features=sqrt, max_depth=15, total=   1.8s\n",
            "[CV] n_estimators=1100, min_samples_split=10, min_samples_leaf=2, max_features=sqrt, max_depth=15 \n",
            "[CV]  n_estimators=1100, min_samples_split=10, min_samples_leaf=2, max_features=sqrt, max_depth=15, total=   1.8s\n",
            "[CV] n_estimators=1100, min_samples_split=10, min_samples_leaf=2, max_features=sqrt, max_depth=15 \n",
            "[CV]  n_estimators=1100, min_samples_split=10, min_samples_leaf=2, max_features=sqrt, max_depth=15, total=   1.9s\n",
            "[CV] n_estimators=300, min_samples_split=100, min_samples_leaf=5, max_features=auto, max_depth=15 \n",
            "[CV]  n_estimators=300, min_samples_split=100, min_samples_leaf=5, max_features=auto, max_depth=15, total=   0.6s\n",
            "[CV] n_estimators=300, min_samples_split=100, min_samples_leaf=5, max_features=auto, max_depth=15 \n",
            "[CV]  n_estimators=300, min_samples_split=100, min_samples_leaf=5, max_features=auto, max_depth=15, total=   0.6s\n",
            "[CV] n_estimators=300, min_samples_split=100, min_samples_leaf=5, max_features=auto, max_depth=15 \n",
            "[CV]  n_estimators=300, min_samples_split=100, min_samples_leaf=5, max_features=auto, max_depth=15, total=   0.6s\n",
            "[CV] n_estimators=300, min_samples_split=100, min_samples_leaf=5, max_features=auto, max_depth=15 \n",
            "[CV]  n_estimators=300, min_samples_split=100, min_samples_leaf=5, max_features=auto, max_depth=15, total=   0.6s\n",
            "[CV] n_estimators=300, min_samples_split=100, min_samples_leaf=5, max_features=auto, max_depth=15 \n",
            "[CV]  n_estimators=300, min_samples_split=100, min_samples_leaf=5, max_features=auto, max_depth=15, total=   0.5s\n",
            "[CV] n_estimators=400, min_samples_split=5, min_samples_leaf=5, max_features=auto, max_depth=15 \n",
            "[CV]  n_estimators=400, min_samples_split=5, min_samples_leaf=5, max_features=auto, max_depth=15, total=   1.0s\n",
            "[CV] n_estimators=400, min_samples_split=5, min_samples_leaf=5, max_features=auto, max_depth=15 \n",
            "[CV]  n_estimators=400, min_samples_split=5, min_samples_leaf=5, max_features=auto, max_depth=15, total=   1.1s\n",
            "[CV] n_estimators=400, min_samples_split=5, min_samples_leaf=5, max_features=auto, max_depth=15 \n",
            "[CV]  n_estimators=400, min_samples_split=5, min_samples_leaf=5, max_features=auto, max_depth=15, total=   1.0s\n",
            "[CV] n_estimators=400, min_samples_split=5, min_samples_leaf=5, max_features=auto, max_depth=15 \n",
            "[CV]  n_estimators=400, min_samples_split=5, min_samples_leaf=5, max_features=auto, max_depth=15, total=   1.0s\n",
            "[CV] n_estimators=400, min_samples_split=5, min_samples_leaf=5, max_features=auto, max_depth=15 \n",
            "[CV]  n_estimators=400, min_samples_split=5, min_samples_leaf=5, max_features=auto, max_depth=15, total=   1.0s\n",
            "[CV] n_estimators=700, min_samples_split=5, min_samples_leaf=10, max_features=auto, max_depth=20 \n",
            "[CV]  n_estimators=700, min_samples_split=5, min_samples_leaf=10, max_features=auto, max_depth=20, total=   1.6s\n",
            "[CV] n_estimators=700, min_samples_split=5, min_samples_leaf=10, max_features=auto, max_depth=20 \n",
            "[CV]  n_estimators=700, min_samples_split=5, min_samples_leaf=10, max_features=auto, max_depth=20, total=   1.6s\n",
            "[CV] n_estimators=700, min_samples_split=5, min_samples_leaf=10, max_features=auto, max_depth=20 \n",
            "[CV]  n_estimators=700, min_samples_split=5, min_samples_leaf=10, max_features=auto, max_depth=20, total=   1.6s\n",
            "[CV] n_estimators=700, min_samples_split=5, min_samples_leaf=10, max_features=auto, max_depth=20 \n",
            "[CV]  n_estimators=700, min_samples_split=5, min_samples_leaf=10, max_features=auto, max_depth=20, total=   1.6s\n",
            "[CV] n_estimators=700, min_samples_split=5, min_samples_leaf=10, max_features=auto, max_depth=20 \n",
            "[CV]  n_estimators=700, min_samples_split=5, min_samples_leaf=10, max_features=auto, max_depth=20, total=   1.6s\n",
            "[CV] n_estimators=1000, min_samples_split=2, min_samples_leaf=1, max_features=sqrt, max_depth=25 \n",
            "[CV]  n_estimators=1000, min_samples_split=2, min_samples_leaf=1, max_features=sqrt, max_depth=25, total=   2.1s\n",
            "[CV] n_estimators=1000, min_samples_split=2, min_samples_leaf=1, max_features=sqrt, max_depth=25 \n",
            "[CV]  n_estimators=1000, min_samples_split=2, min_samples_leaf=1, max_features=sqrt, max_depth=25, total=   2.0s\n",
            "[CV] n_estimators=1000, min_samples_split=2, min_samples_leaf=1, max_features=sqrt, max_depth=25 \n",
            "[CV]  n_estimators=1000, min_samples_split=2, min_samples_leaf=1, max_features=sqrt, max_depth=25, total=   2.0s\n",
            "[CV] n_estimators=1000, min_samples_split=2, min_samples_leaf=1, max_features=sqrt, max_depth=25 \n",
            "[CV]  n_estimators=1000, min_samples_split=2, min_samples_leaf=1, max_features=sqrt, max_depth=25, total=   2.0s\n",
            "[CV] n_estimators=1000, min_samples_split=2, min_samples_leaf=1, max_features=sqrt, max_depth=25 \n",
            "[CV]  n_estimators=1000, min_samples_split=2, min_samples_leaf=1, max_features=sqrt, max_depth=25, total=   2.0s\n",
            "[CV] n_estimators=1100, min_samples_split=15, min_samples_leaf=10, max_features=sqrt, max_depth=5 \n",
            "[CV]  n_estimators=1100, min_samples_split=15, min_samples_leaf=10, max_features=sqrt, max_depth=5, total=   1.6s\n",
            "[CV] n_estimators=1100, min_samples_split=15, min_samples_leaf=10, max_features=sqrt, max_depth=5 \n",
            "[CV]  n_estimators=1100, min_samples_split=15, min_samples_leaf=10, max_features=sqrt, max_depth=5, total=   1.6s\n",
            "[CV] n_estimators=1100, min_samples_split=15, min_samples_leaf=10, max_features=sqrt, max_depth=5 \n",
            "[CV]  n_estimators=1100, min_samples_split=15, min_samples_leaf=10, max_features=sqrt, max_depth=5, total=   1.7s\n",
            "[CV] n_estimators=1100, min_samples_split=15, min_samples_leaf=10, max_features=sqrt, max_depth=5 \n",
            "[CV]  n_estimators=1100, min_samples_split=15, min_samples_leaf=10, max_features=sqrt, max_depth=5, total=   1.7s\n",
            "[CV] n_estimators=1100, min_samples_split=15, min_samples_leaf=10, max_features=sqrt, max_depth=5 \n",
            "[CV]  n_estimators=1100, min_samples_split=15, min_samples_leaf=10, max_features=sqrt, max_depth=5, total=   1.7s\n",
            "[CV] n_estimators=300, min_samples_split=15, min_samples_leaf=1, max_features=sqrt, max_depth=15 \n",
            "[CV]  n_estimators=300, min_samples_split=15, min_samples_leaf=1, max_features=sqrt, max_depth=15, total=   0.5s\n",
            "[CV] n_estimators=300, min_samples_split=15, min_samples_leaf=1, max_features=sqrt, max_depth=15 \n",
            "[CV]  n_estimators=300, min_samples_split=15, min_samples_leaf=1, max_features=sqrt, max_depth=15, total=   0.5s\n",
            "[CV] n_estimators=300, min_samples_split=15, min_samples_leaf=1, max_features=sqrt, max_depth=15 \n",
            "[CV]  n_estimators=300, min_samples_split=15, min_samples_leaf=1, max_features=sqrt, max_depth=15, total=   0.5s\n",
            "[CV] n_estimators=300, min_samples_split=15, min_samples_leaf=1, max_features=sqrt, max_depth=15 \n",
            "[CV]  n_estimators=300, min_samples_split=15, min_samples_leaf=1, max_features=sqrt, max_depth=15, total=   0.5s\n",
            "[CV] n_estimators=300, min_samples_split=15, min_samples_leaf=1, max_features=sqrt, max_depth=15 \n",
            "[CV]  n_estimators=300, min_samples_split=15, min_samples_leaf=1, max_features=sqrt, max_depth=15, total=   0.5s\n",
            "[CV] n_estimators=700, min_samples_split=10, min_samples_leaf=2, max_features=sqrt, max_depth=5 \n",
            "[CV]  n_estimators=700, min_samples_split=10, min_samples_leaf=2, max_features=sqrt, max_depth=5, total=   1.1s\n",
            "[CV] n_estimators=700, min_samples_split=10, min_samples_leaf=2, max_features=sqrt, max_depth=5 \n",
            "[CV]  n_estimators=700, min_samples_split=10, min_samples_leaf=2, max_features=sqrt, max_depth=5, total=   1.0s\n",
            "[CV] n_estimators=700, min_samples_split=10, min_samples_leaf=2, max_features=sqrt, max_depth=5 \n",
            "[CV]  n_estimators=700, min_samples_split=10, min_samples_leaf=2, max_features=sqrt, max_depth=5, total=   1.1s\n",
            "[CV] n_estimators=700, min_samples_split=10, min_samples_leaf=2, max_features=sqrt, max_depth=5 \n",
            "[CV]  n_estimators=700, min_samples_split=10, min_samples_leaf=2, max_features=sqrt, max_depth=5, total=   1.1s\n",
            "[CV] n_estimators=700, min_samples_split=10, min_samples_leaf=2, max_features=sqrt, max_depth=5 \n",
            "[CV]  n_estimators=700, min_samples_split=10, min_samples_leaf=2, max_features=sqrt, max_depth=5, total=   1.1s\n",
            "[CV] n_estimators=700, min_samples_split=15, min_samples_leaf=1, max_features=auto, max_depth=20 \n",
            "[CV]  n_estimators=700, min_samples_split=15, min_samples_leaf=1, max_features=auto, max_depth=20, total=   1.8s\n",
            "[CV] n_estimators=700, min_samples_split=15, min_samples_leaf=1, max_features=auto, max_depth=20 \n",
            "[CV]  n_estimators=700, min_samples_split=15, min_samples_leaf=1, max_features=auto, max_depth=20, total=   1.8s\n",
            "[CV] n_estimators=700, min_samples_split=15, min_samples_leaf=1, max_features=auto, max_depth=20 \n",
            "[CV]  n_estimators=700, min_samples_split=15, min_samples_leaf=1, max_features=auto, max_depth=20, total=   1.8s\n",
            "[CV] n_estimators=700, min_samples_split=15, min_samples_leaf=1, max_features=auto, max_depth=20 \n",
            "[CV]  n_estimators=700, min_samples_split=15, min_samples_leaf=1, max_features=auto, max_depth=20, total=   1.8s\n",
            "[CV] n_estimators=700, min_samples_split=15, min_samples_leaf=1, max_features=auto, max_depth=20 \n",
            "[CV]  n_estimators=700, min_samples_split=15, min_samples_leaf=1, max_features=auto, max_depth=20, total=   1.8s\n"
          ],
          "name": "stdout"
        },
        {
          "output_type": "stream",
          "text": [
            "[Parallel(n_jobs=1)]: Done  50 out of  50 | elapsed:  1.1min finished\n"
          ],
          "name": "stderr"
        },
        {
          "output_type": "execute_result",
          "data": {
            "text/plain": [
              "RandomizedSearchCV(cv=5, error_score=nan,\n",
              "                   estimator=RandomForestRegressor(bootstrap=True,\n",
              "                                                   ccp_alpha=0.0,\n",
              "                                                   criterion='mse',\n",
              "                                                   max_depth=None,\n",
              "                                                   max_features='auto',\n",
              "                                                   max_leaf_nodes=None,\n",
              "                                                   max_samples=None,\n",
              "                                                   min_impurity_decrease=0.0,\n",
              "                                                   min_impurity_split=None,\n",
              "                                                   min_samples_leaf=1,\n",
              "                                                   min_samples_split=2,\n",
              "                                                   min_weight_fraction_leaf=0.0,\n",
              "                                                   n_estimators=100,\n",
              "                                                   n_jobs=None, oob_score=Fals...\n",
              "                   iid='deprecated', n_iter=10, n_jobs=1,\n",
              "                   param_distributions={'max_depth': [5, 10, 15, 20, 25, 30],\n",
              "                                        'max_features': ['auto', 'sqrt'],\n",
              "                                        'min_samples_leaf': [1, 2, 5, 10],\n",
              "                                        'min_samples_split': [2, 5, 10, 15,\n",
              "                                                              100],\n",
              "                                        'n_estimators': [100, 200, 300, 400,\n",
              "                                                         500, 600, 700, 800,\n",
              "                                                         900, 1000, 1100,\n",
              "                                                         1200]},\n",
              "                   pre_dispatch='2*n_jobs', random_state=42, refit=True,\n",
              "                   return_train_score=False, scoring='neg_mean_squared_error',\n",
              "                   verbose=2)"
            ]
          },
          "metadata": {
            "tags": []
          },
          "execution_count": 86
        }
      ]
    },
    {
      "cell_type": "code",
      "metadata": {
        "colab": {
          "base_uri": "https://localhost:8080/"
        },
        "id": "GstZe6NfntxP",
        "outputId": "6a1010ce-3f55-43f0-cc41-8b61129b80a8"
      },
      "source": [
        "rf_random.best_params_"
      ],
      "execution_count": null,
      "outputs": [
        {
          "output_type": "execute_result",
          "data": {
            "text/plain": [
              "{'max_depth': 25,\n",
              " 'max_features': 'sqrt',\n",
              " 'min_samples_leaf': 1,\n",
              " 'min_samples_split': 2,\n",
              " 'n_estimators': 1000}"
            ]
          },
          "metadata": {
            "tags": []
          },
          "execution_count": 87
        }
      ]
    },
    {
      "cell_type": "code",
      "metadata": {
        "colab": {
          "base_uri": "https://localhost:8080/"
        },
        "id": "JLx6W73_oiK-",
        "outputId": "5b346c16-16cd-487a-efe6-deab2caafe8f"
      },
      "source": [
        "rf_random.best_score_"
      ],
      "execution_count": null,
      "outputs": [
        {
          "output_type": "execute_result",
          "data": {
            "text/plain": [
              "-32.08103775180856"
            ]
          },
          "metadata": {
            "tags": []
          },
          "execution_count": 88
        }
      ]
    },
    {
      "cell_type": "code",
      "metadata": {
        "id": "5HE0vkcDo4yg"
      },
      "source": [
        "y_pred=rf_random.predict(X_test)"
      ],
      "execution_count": null,
      "outputs": []
    },
    {
      "cell_type": "code",
      "metadata": {
        "colab": {
          "base_uri": "https://localhost:8080/",
          "height": 394
        },
        "id": "wheHUxF2P_J5",
        "outputId": "00d750a1-e669-4e59-e8e1-3cea3f5aa19f"
      },
      "source": [
        "plt.figure(figsize = (6,6))\n",
        "sns.distplot(y_test-y_pred)"
      ],
      "execution_count": null,
      "outputs": [
        {
          "output_type": "execute_result",
          "data": {
            "text/plain": [
              "<matplotlib.axes._subplots.AxesSubplot at 0x7fec54d69b10>"
            ]
          },
          "metadata": {
            "tags": []
          },
          "execution_count": 90
        },
        {
          "output_type": "display_data",
          "data": {
            "image/png": "[encoded data removed]",
            "text/plain": [
              "<Figure size 432x432 with 1 Axes>"
            ]
          },
          "metadata": {
            "tags": [],
            "needs_background": "light"
          }
        }
      ]
    },
    {
      "cell_type": "code",
      "metadata": {
        "colab": {
          "base_uri": "https://localhost:8080/",
          "height": 391
        },
        "id": "rxB3TGdcQDvD",
        "outputId": "84fae5a7-09fc-4238-d519-ae494ce83793"
      },
      "source": [
        "plt.figure(figsize=(6,6))\n",
        "plt.scatter(y_test,y_pred)"
      ],
      "execution_count": null,
      "outputs": [
        {
          "output_type": "execute_result",
          "data": {
            "text/plain": [
              "<matplotlib.collections.PathCollection at 0x7fec54bfc6d0>"
            ]
          },
          "metadata": {
            "tags": []
          },
          "execution_count": 91
        },
        {
          "output_type": "display_data",
          "data": {
            "image/png": "[encoded data removed]",
            "text/plain": [
              "<Figure size 432x432 with 1 Axes>"
            ]
          },
          "metadata": {
            "tags": [],
            "needs_background": "light"
          }
        }
      ]
    },
    {
      "cell_type": "code",
      "metadata": {
        "colab": {
          "base_uri": "https://localhost:8080/"
        },
        "id": "9RX9-3AZo6oL",
        "outputId": "2b9b5507-f2f8-41df-f3ea-d31d6cbe8071"
      },
      "source": [
        "\n",
        "# metrics\n",
        "from sklearn.metrics import r2_score\n",
        "\n",
        "print(r2_score(y_true=y_test, y_pred=y_pred))\n",
        "r2 = r2_score(y_true=y_test, y_pred=y_pred)"
      ],
      "execution_count": null,
      "outputs": [
        {
          "output_type": "stream",
          "text": [
            "0.8976537880636116\n"
          ],
          "name": "stdout"
        }
      ]
    },
    {
      "cell_type": "code",
      "metadata": {
        "colab": {
          "base_uri": "https://localhost:8080/"
        },
        "id": "6c-YhQ7Lo-xl",
        "outputId": "ec75d59e-155f-4fc2-dd16-1cdb5af2acee"
      },
      "source": [
        "Adj_R2 = (1-((1-r2)*(1030-1))/(1030-8-1))\n",
        "print('Adjusted R2 is.....',Adj_R2)"
      ],
      "execution_count": null,
      "outputs": [
        {
          "output_type": "stream",
          "text": [
            "Adjusted R2 is..... 0.8968518588809563\n"
          ],
          "name": "stdout"
        }
      ]
    },
    {
      "cell_type": "code",
      "metadata": {
        "id": "sd3syN28pKJG"
      },
      "source": [
        "import sklearn.metrics as metrics\n",
        "def regression_results(y_true, y_pred):\n",
        "\n",
        "    # Regression metrics\n",
        "    explained_variance=metrics.explained_variance_score(y_true, y_pred)\n",
        "    mean_absolute_error=metrics.mean_absolute_error(y_true, y_pred) \n",
        "    mse=metrics.mean_squared_error(y_true, y_pred) \n",
        "    mean_squared_log_error=metrics.mean_squared_log_error(y_true, y_pred)\n",
        "    median_absolute_error=metrics.median_absolute_error(y_true, y_pred)\n",
        "    r2=metrics.r2_score(y_true, y_pred)\n",
        "    print('explained_variance: ', round(explained_variance,4))    \n",
        "    print('mean_squared_log_error: ', round(mean_squared_log_error,4))\n",
        "    print('r2: ', round(r2,4))\n",
        "    print('MAE: ', round(mean_absolute_error,4))\n",
        "    print('MSE: ', round(mse,4))\n",
        "    print('RMSE: ', round(np.sqrt(mse),4))"
      ],
      "execution_count": null,
      "outputs": []
    },
    {
      "cell_type": "code",
      "metadata": {
        "colab": {
          "base_uri": "https://localhost:8080/"
        },
        "id": "vrh385QlpPdR",
        "outputId": "32bac830-3a9a-4839-e5eb-f7da6fbad86a"
      },
      "source": [
        " regression_results(y_test,y_pred)"
      ],
      "execution_count": null,
      "outputs": [
        {
          "output_type": "stream",
          "text": [
            "explained_variance:  0.8977\n",
            "mean_squared_log_error:  0.0378\n",
            "r2:  0.8977\n",
            "MAE:  3.6852\n",
            "MSE:  26.0639\n",
            "RMSE:  5.1053\n"
          ],
          "name": "stdout"
        }
      ]
    }
  ]
}