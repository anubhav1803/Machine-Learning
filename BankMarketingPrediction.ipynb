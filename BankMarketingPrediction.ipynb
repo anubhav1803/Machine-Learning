{
 "cells": [
  {
   "cell_type": "code",
   "execution_count": 1,
   "metadata": {},
   "outputs": [],
   "source": [
    "import numpy as np\n",
    "import pandas as pd\n",
    "import matplotlib.pyplot as plt\n"
   ]
  },
  {
   "cell_type": "code",
   "execution_count": 2,
   "metadata": {},
   "outputs": [],
   "source": [
    "import warnings\n",
    "warnings.filterwarnings('ignore')\n"
   ]
  },
  {
   "cell_type": "code",
   "execution_count": 3,
   "metadata": {},
   "outputs": [],
   "source": [
    "pd.set_option('display.max_rows', 10000)\n",
    "pd.set_option('display.max_columns', 100)"
   ]
  },
  {
   "cell_type": "code",
   "execution_count": 4,
   "metadata": {},
   "outputs": [],
   "source": [
    "import seaborn as sns\n",
    "%matplotlib inline"
   ]
  },
  {
   "cell_type": "code",
   "execution_count": 5,
   "metadata": {},
   "outputs": [],
   "source": [
    "dataset = pd.read_csv(r'C:\\Users\\ANUBHAV CHAUHAN\\Desktop\\MachineLearning Project\\ML Project1_BMP\\bank-marketing.csv')"
   ]
  },
  {
   "cell_type": "code",
   "execution_count": 6,
   "metadata": {},
   "outputs": [
    {
     "data": {
      "text/html": [
       "<div>\n",
       "<style scoped>\n",
       "    .dataframe tbody tr th:only-of-type {\n",
       "        vertical-align: middle;\n",
       "    }\n",
       "\n",
       "    .dataframe tbody tr th {\n",
       "        vertical-align: top;\n",
       "    }\n",
       "\n",
       "    .dataframe thead th {\n",
       "        text-align: right;\n",
       "    }\n",
       "</style>\n",
       "<table border=\"1\" class=\"dataframe\">\n",
       "  <thead>\n",
       "    <tr style=\"text-align: right;\">\n",
       "      <th></th>\n",
       "      <th>age</th>\n",
       "      <th>job</th>\n",
       "      <th>salary</th>\n",
       "      <th>marital</th>\n",
       "      <th>education</th>\n",
       "      <th>targeted</th>\n",
       "      <th>default</th>\n",
       "      <th>balance</th>\n",
       "      <th>housing</th>\n",
       "      <th>loan</th>\n",
       "      <th>contact</th>\n",
       "      <th>day</th>\n",
       "      <th>month</th>\n",
       "      <th>duration</th>\n",
       "      <th>campaign</th>\n",
       "      <th>pdays</th>\n",
       "      <th>previous</th>\n",
       "      <th>poutcome</th>\n",
       "      <th>response</th>\n",
       "    </tr>\n",
       "  </thead>\n",
       "  <tbody>\n",
       "    <tr>\n",
       "      <th>0</th>\n",
       "      <td>58</td>\n",
       "      <td>management</td>\n",
       "      <td>100000</td>\n",
       "      <td>married</td>\n",
       "      <td>tertiary</td>\n",
       "      <td>yes</td>\n",
       "      <td>no</td>\n",
       "      <td>2143</td>\n",
       "      <td>yes</td>\n",
       "      <td>no</td>\n",
       "      <td>unknown</td>\n",
       "      <td>5</td>\n",
       "      <td>may</td>\n",
       "      <td>261</td>\n",
       "      <td>1</td>\n",
       "      <td>-1</td>\n",
       "      <td>0</td>\n",
       "      <td>unknown</td>\n",
       "      <td>no</td>\n",
       "    </tr>\n",
       "    <tr>\n",
       "      <th>1</th>\n",
       "      <td>44</td>\n",
       "      <td>technician</td>\n",
       "      <td>60000</td>\n",
       "      <td>single</td>\n",
       "      <td>secondary</td>\n",
       "      <td>yes</td>\n",
       "      <td>no</td>\n",
       "      <td>29</td>\n",
       "      <td>yes</td>\n",
       "      <td>no</td>\n",
       "      <td>unknown</td>\n",
       "      <td>5</td>\n",
       "      <td>may</td>\n",
       "      <td>151</td>\n",
       "      <td>1</td>\n",
       "      <td>-1</td>\n",
       "      <td>0</td>\n",
       "      <td>unknown</td>\n",
       "      <td>no</td>\n",
       "    </tr>\n",
       "    <tr>\n",
       "      <th>2</th>\n",
       "      <td>33</td>\n",
       "      <td>entrepreneur</td>\n",
       "      <td>120000</td>\n",
       "      <td>married</td>\n",
       "      <td>secondary</td>\n",
       "      <td>yes</td>\n",
       "      <td>no</td>\n",
       "      <td>2</td>\n",
       "      <td>yes</td>\n",
       "      <td>yes</td>\n",
       "      <td>unknown</td>\n",
       "      <td>5</td>\n",
       "      <td>may</td>\n",
       "      <td>76</td>\n",
       "      <td>1</td>\n",
       "      <td>-1</td>\n",
       "      <td>0</td>\n",
       "      <td>unknown</td>\n",
       "      <td>no</td>\n",
       "    </tr>\n",
       "    <tr>\n",
       "      <th>3</th>\n",
       "      <td>47</td>\n",
       "      <td>blue-collar</td>\n",
       "      <td>20000</td>\n",
       "      <td>married</td>\n",
       "      <td>unknown</td>\n",
       "      <td>no</td>\n",
       "      <td>no</td>\n",
       "      <td>1506</td>\n",
       "      <td>yes</td>\n",
       "      <td>no</td>\n",
       "      <td>unknown</td>\n",
       "      <td>5</td>\n",
       "      <td>may</td>\n",
       "      <td>92</td>\n",
       "      <td>1</td>\n",
       "      <td>-1</td>\n",
       "      <td>0</td>\n",
       "      <td>unknown</td>\n",
       "      <td>no</td>\n",
       "    </tr>\n",
       "    <tr>\n",
       "      <th>4</th>\n",
       "      <td>33</td>\n",
       "      <td>unknown</td>\n",
       "      <td>0</td>\n",
       "      <td>single</td>\n",
       "      <td>unknown</td>\n",
       "      <td>no</td>\n",
       "      <td>no</td>\n",
       "      <td>1</td>\n",
       "      <td>no</td>\n",
       "      <td>no</td>\n",
       "      <td>unknown</td>\n",
       "      <td>5</td>\n",
       "      <td>may</td>\n",
       "      <td>198</td>\n",
       "      <td>1</td>\n",
       "      <td>-1</td>\n",
       "      <td>0</td>\n",
       "      <td>unknown</td>\n",
       "      <td>no</td>\n",
       "    </tr>\n",
       "  </tbody>\n",
       "</table>\n",
       "</div>"
      ],
      "text/plain": [
       "   age           job  salary  marital  education targeted default  balance  \\\n",
       "0   58    management  100000  married   tertiary      yes      no     2143   \n",
       "1   44    technician   60000   single  secondary      yes      no       29   \n",
       "2   33  entrepreneur  120000  married  secondary      yes      no        2   \n",
       "3   47   blue-collar   20000  married    unknown       no      no     1506   \n",
       "4   33       unknown       0   single    unknown       no      no        1   \n",
       "\n",
       "  housing loan  contact  day month  duration  campaign  pdays  previous  \\\n",
       "0     yes   no  unknown    5   may       261         1     -1         0   \n",
       "1     yes   no  unknown    5   may       151         1     -1         0   \n",
       "2     yes  yes  unknown    5   may        76         1     -1         0   \n",
       "3     yes   no  unknown    5   may        92         1     -1         0   \n",
       "4      no   no  unknown    5   may       198         1     -1         0   \n",
       "\n",
       "  poutcome response  \n",
       "0  unknown       no  \n",
       "1  unknown       no  \n",
       "2  unknown       no  \n",
       "3  unknown       no  \n",
       "4  unknown       no  "
      ]
     },
     "execution_count": 6,
     "metadata": {},
     "output_type": "execute_result"
    }
   ],
   "source": [
    "dataset.head()"
   ]
  },
  {
   "cell_type": "code",
   "execution_count": 7,
   "metadata": {},
   "outputs": [
    {
     "name": "stdout",
     "output_type": "stream",
     "text": [
      "<class 'pandas.core.frame.DataFrame'>\n",
      "RangeIndex: 45211 entries, 0 to 45210\n",
      "Data columns (total 19 columns):\n",
      " #   Column     Non-Null Count  Dtype \n",
      "---  ------     --------------  ----- \n",
      " 0   age        45211 non-null  int64 \n",
      " 1   job        45211 non-null  object\n",
      " 2   salary     45211 non-null  int64 \n",
      " 3   marital    45211 non-null  object\n",
      " 4   education  45211 non-null  object\n",
      " 5   targeted   45211 non-null  object\n",
      " 6   default    45211 non-null  object\n",
      " 7   balance    45211 non-null  int64 \n",
      " 8   housing    45211 non-null  object\n",
      " 9   loan       45211 non-null  object\n",
      " 10  contact    45211 non-null  object\n",
      " 11  day        45211 non-null  int64 \n",
      " 12  month      45211 non-null  object\n",
      " 13  duration   45211 non-null  int64 \n",
      " 14  campaign   45211 non-null  int64 \n",
      " 15  pdays      45211 non-null  int64 \n",
      " 16  previous   45211 non-null  int64 \n",
      " 17  poutcome   45211 non-null  object\n",
      " 18  response   45211 non-null  object\n",
      "dtypes: int64(8), object(11)\n",
      "memory usage: 6.6+ MB\n"
     ]
    }
   ],
   "source": [
    "dataset.info()"
   ]
  },
  {
   "cell_type": "code",
   "execution_count": 8,
   "metadata": {},
   "outputs": [],
   "source": [
    "# iterated through dataset and stored data with datatype as 'object' to new variable cat_col\n",
    "\n",
    "cat_col = [n for n in dataset.columns if dataset[n].dtypes == 'object']"
   ]
  },
  {
   "cell_type": "code",
   "execution_count": 9,
   "metadata": {},
   "outputs": [
    {
     "name": "stdout",
     "output_type": "stream",
     "text": [
      "job \n",
      "\n",
      "\n",
      "blue-collar      9732\n",
      "management       9458\n",
      "technician       7597\n",
      "admin.           5171\n",
      "services         4154\n",
      "retired          2264\n",
      "self-employed    1579\n",
      "entrepreneur     1487\n",
      "unemployed       1303\n",
      "housemaid        1240\n",
      "student           938\n",
      "unknown           288\n",
      "Name: job, dtype: int64\n",
      "========================================================================================\n",
      "marital \n",
      "\n",
      "\n",
      "married     27214\n",
      "single      12790\n",
      "divorced     5207\n",
      "Name: marital, dtype: int64\n",
      "========================================================================================\n",
      "education \n",
      "\n",
      "\n",
      "secondary    23202\n",
      "tertiary     13301\n",
      "primary       6851\n",
      "unknown       1857\n",
      "Name: education, dtype: int64\n",
      "========================================================================================\n",
      "targeted \n",
      "\n",
      "\n",
      "yes    37091\n",
      "no      8120\n",
      "Name: targeted, dtype: int64\n",
      "========================================================================================\n",
      "default \n",
      "\n",
      "\n",
      "no     44396\n",
      "yes      815\n",
      "Name: default, dtype: int64\n",
      "========================================================================================\n",
      "housing \n",
      "\n",
      "\n",
      "yes    25130\n",
      "no     20081\n",
      "Name: housing, dtype: int64\n",
      "========================================================================================\n",
      "loan \n",
      "\n",
      "\n",
      "no     37967\n",
      "yes     7244\n",
      "Name: loan, dtype: int64\n",
      "========================================================================================\n",
      "contact \n",
      "\n",
      "\n",
      "cellular     29285\n",
      "unknown      13020\n",
      "telephone     2906\n",
      "Name: contact, dtype: int64\n",
      "========================================================================================\n",
      "month \n",
      "\n",
      "\n",
      "may    13766\n",
      "jul     6895\n",
      "aug     6247\n",
      "jun     5341\n",
      "nov     3970\n",
      "apr     2932\n",
      "feb     2649\n",
      "jan     1403\n",
      "oct      738\n",
      "sep      579\n",
      "mar      477\n",
      "dec      214\n",
      "Name: month, dtype: int64\n",
      "========================================================================================\n",
      "poutcome \n",
      "\n",
      "\n",
      "unknown    36959\n",
      "failure     4901\n",
      "other       1840\n",
      "success     1511\n",
      "Name: poutcome, dtype: int64\n",
      "========================================================================================\n",
      "response \n",
      "\n",
      "\n",
      "no     39922\n",
      "yes     5289\n",
      "Name: response, dtype: int64\n",
      "========================================================================================\n"
     ]
    }
   ],
   "source": [
    "#obtain the value count of each column holding a categorical data \n",
    "\n",
    "for col in cat_col:\n",
    "    print(col, '\\n\\n')\n",
    "    print(dataset[col].value_counts())\n",
    "    print(\"======================\" * 4)"
   ]
  },
  {
   "cell_type": "code",
   "execution_count": 10,
   "metadata": {},
   "outputs": [
    {
     "data": {
      "text/plain": [
       "age          0\n",
       "job          0\n",
       "salary       0\n",
       "marital      0\n",
       "education    0\n",
       "targeted     0\n",
       "default      0\n",
       "balance      0\n",
       "housing      0\n",
       "loan         0\n",
       "contact      0\n",
       "day          0\n",
       "month        0\n",
       "duration     0\n",
       "campaign     0\n",
       "pdays        0\n",
       "previous     0\n",
       "poutcome     0\n",
       "response     0\n",
       "dtype: int64"
      ]
     },
     "execution_count": 10,
     "metadata": {},
     "output_type": "execute_result"
    }
   ],
   "source": [
    "dataset.isnull().sum()"
   ]
  },
  {
   "cell_type": "code",
   "execution_count": 11,
   "metadata": {},
   "outputs": [
    {
     "data": {
      "text/html": [
       "<div>\n",
       "<style scoped>\n",
       "    .dataframe tbody tr th:only-of-type {\n",
       "        vertical-align: middle;\n",
       "    }\n",
       "\n",
       "    .dataframe tbody tr th {\n",
       "        vertical-align: top;\n",
       "    }\n",
       "\n",
       "    .dataframe thead th {\n",
       "        text-align: right;\n",
       "    }\n",
       "</style>\n",
       "<table border=\"1\" class=\"dataframe\">\n",
       "  <thead>\n",
       "    <tr style=\"text-align: right;\">\n",
       "      <th></th>\n",
       "      <th>age</th>\n",
       "      <th>salary</th>\n",
       "      <th>balance</th>\n",
       "      <th>day</th>\n",
       "      <th>duration</th>\n",
       "      <th>campaign</th>\n",
       "      <th>pdays</th>\n",
       "      <th>previous</th>\n",
       "    </tr>\n",
       "  </thead>\n",
       "  <tbody>\n",
       "    <tr>\n",
       "      <th>count</th>\n",
       "      <td>45211.000000</td>\n",
       "      <td>45211.000000</td>\n",
       "      <td>45211.000000</td>\n",
       "      <td>45211.000000</td>\n",
       "      <td>45211.000000</td>\n",
       "      <td>45211.000000</td>\n",
       "      <td>45211.000000</td>\n",
       "      <td>45211.000000</td>\n",
       "    </tr>\n",
       "    <tr>\n",
       "      <th>mean</th>\n",
       "      <td>40.936210</td>\n",
       "      <td>57006.171065</td>\n",
       "      <td>1362.272058</td>\n",
       "      <td>15.806419</td>\n",
       "      <td>258.163080</td>\n",
       "      <td>2.763841</td>\n",
       "      <td>40.197828</td>\n",
       "      <td>0.580323</td>\n",
       "    </tr>\n",
       "    <tr>\n",
       "      <th>std</th>\n",
       "      <td>10.618762</td>\n",
       "      <td>32085.718415</td>\n",
       "      <td>3044.765829</td>\n",
       "      <td>8.322476</td>\n",
       "      <td>257.527812</td>\n",
       "      <td>3.098021</td>\n",
       "      <td>100.128746</td>\n",
       "      <td>2.303441</td>\n",
       "    </tr>\n",
       "    <tr>\n",
       "      <th>min</th>\n",
       "      <td>18.000000</td>\n",
       "      <td>0.000000</td>\n",
       "      <td>-8019.000000</td>\n",
       "      <td>1.000000</td>\n",
       "      <td>0.000000</td>\n",
       "      <td>1.000000</td>\n",
       "      <td>-1.000000</td>\n",
       "      <td>0.000000</td>\n",
       "    </tr>\n",
       "    <tr>\n",
       "      <th>25%</th>\n",
       "      <td>33.000000</td>\n",
       "      <td>20000.000000</td>\n",
       "      <td>72.000000</td>\n",
       "      <td>8.000000</td>\n",
       "      <td>103.000000</td>\n",
       "      <td>1.000000</td>\n",
       "      <td>-1.000000</td>\n",
       "      <td>0.000000</td>\n",
       "    </tr>\n",
       "    <tr>\n",
       "      <th>50%</th>\n",
       "      <td>39.000000</td>\n",
       "      <td>60000.000000</td>\n",
       "      <td>448.000000</td>\n",
       "      <td>16.000000</td>\n",
       "      <td>180.000000</td>\n",
       "      <td>2.000000</td>\n",
       "      <td>-1.000000</td>\n",
       "      <td>0.000000</td>\n",
       "    </tr>\n",
       "    <tr>\n",
       "      <th>75%</th>\n",
       "      <td>48.000000</td>\n",
       "      <td>70000.000000</td>\n",
       "      <td>1428.000000</td>\n",
       "      <td>21.000000</td>\n",
       "      <td>319.000000</td>\n",
       "      <td>3.000000</td>\n",
       "      <td>-1.000000</td>\n",
       "      <td>0.000000</td>\n",
       "    </tr>\n",
       "    <tr>\n",
       "      <th>max</th>\n",
       "      <td>95.000000</td>\n",
       "      <td>120000.000000</td>\n",
       "      <td>102127.000000</td>\n",
       "      <td>31.000000</td>\n",
       "      <td>4918.000000</td>\n",
       "      <td>63.000000</td>\n",
       "      <td>871.000000</td>\n",
       "      <td>275.000000</td>\n",
       "    </tr>\n",
       "  </tbody>\n",
       "</table>\n",
       "</div>"
      ],
      "text/plain": [
       "                age         salary        balance           day      duration  \\\n",
       "count  45211.000000   45211.000000   45211.000000  45211.000000  45211.000000   \n",
       "mean      40.936210   57006.171065    1362.272058     15.806419    258.163080   \n",
       "std       10.618762   32085.718415    3044.765829      8.322476    257.527812   \n",
       "min       18.000000       0.000000   -8019.000000      1.000000      0.000000   \n",
       "25%       33.000000   20000.000000      72.000000      8.000000    103.000000   \n",
       "50%       39.000000   60000.000000     448.000000     16.000000    180.000000   \n",
       "75%       48.000000   70000.000000    1428.000000     21.000000    319.000000   \n",
       "max       95.000000  120000.000000  102127.000000     31.000000   4918.000000   \n",
       "\n",
       "           campaign         pdays      previous  \n",
       "count  45211.000000  45211.000000  45211.000000  \n",
       "mean       2.763841     40.197828      0.580323  \n",
       "std        3.098021    100.128746      2.303441  \n",
       "min        1.000000     -1.000000      0.000000  \n",
       "25%        1.000000     -1.000000      0.000000  \n",
       "50%        2.000000     -1.000000      0.000000  \n",
       "75%        3.000000     -1.000000      0.000000  \n",
       "max       63.000000    871.000000    275.000000  "
      ]
     },
     "execution_count": 11,
     "metadata": {},
     "output_type": "execute_result"
    }
   ],
   "source": [
    "dataset.describe()"
   ]
  },
  {
   "cell_type": "code",
   "execution_count": 12,
   "metadata": {},
   "outputs": [
    {
     "data": {
      "text/html": [
       "<div>\n",
       "<style scoped>\n",
       "    .dataframe tbody tr th:only-of-type {\n",
       "        vertical-align: middle;\n",
       "    }\n",
       "\n",
       "    .dataframe tbody tr th {\n",
       "        vertical-align: top;\n",
       "    }\n",
       "\n",
       "    .dataframe thead th {\n",
       "        text-align: right;\n",
       "    }\n",
       "</style>\n",
       "<table border=\"1\" class=\"dataframe\">\n",
       "  <thead>\n",
       "    <tr style=\"text-align: right;\">\n",
       "      <th></th>\n",
       "      <th>age</th>\n",
       "      <th>salary</th>\n",
       "      <th>balance</th>\n",
       "      <th>day</th>\n",
       "      <th>duration</th>\n",
       "      <th>campaign</th>\n",
       "      <th>pdays</th>\n",
       "      <th>previous</th>\n",
       "    </tr>\n",
       "  </thead>\n",
       "  <tbody>\n",
       "    <tr>\n",
       "      <th>age</th>\n",
       "      <td>1.000000</td>\n",
       "      <td>0.024357</td>\n",
       "      <td>0.097783</td>\n",
       "      <td>-0.009120</td>\n",
       "      <td>-0.004648</td>\n",
       "      <td>0.004760</td>\n",
       "      <td>-0.023758</td>\n",
       "      <td>0.001288</td>\n",
       "    </tr>\n",
       "    <tr>\n",
       "      <th>salary</th>\n",
       "      <td>0.024357</td>\n",
       "      <td>1.000000</td>\n",
       "      <td>0.055469</td>\n",
       "      <td>0.027864</td>\n",
       "      <td>-0.009937</td>\n",
       "      <td>0.015005</td>\n",
       "      <td>-0.014968</td>\n",
       "      <td>0.014564</td>\n",
       "    </tr>\n",
       "    <tr>\n",
       "      <th>balance</th>\n",
       "      <td>0.097783</td>\n",
       "      <td>0.055469</td>\n",
       "      <td>1.000000</td>\n",
       "      <td>0.004503</td>\n",
       "      <td>0.021560</td>\n",
       "      <td>-0.014578</td>\n",
       "      <td>0.003435</td>\n",
       "      <td>0.016674</td>\n",
       "    </tr>\n",
       "    <tr>\n",
       "      <th>day</th>\n",
       "      <td>-0.009120</td>\n",
       "      <td>0.027864</td>\n",
       "      <td>0.004503</td>\n",
       "      <td>1.000000</td>\n",
       "      <td>-0.030206</td>\n",
       "      <td>0.162490</td>\n",
       "      <td>-0.093044</td>\n",
       "      <td>-0.051710</td>\n",
       "    </tr>\n",
       "    <tr>\n",
       "      <th>duration</th>\n",
       "      <td>-0.004648</td>\n",
       "      <td>-0.009937</td>\n",
       "      <td>0.021560</td>\n",
       "      <td>-0.030206</td>\n",
       "      <td>1.000000</td>\n",
       "      <td>-0.084570</td>\n",
       "      <td>-0.001565</td>\n",
       "      <td>0.001203</td>\n",
       "    </tr>\n",
       "    <tr>\n",
       "      <th>campaign</th>\n",
       "      <td>0.004760</td>\n",
       "      <td>0.015005</td>\n",
       "      <td>-0.014578</td>\n",
       "      <td>0.162490</td>\n",
       "      <td>-0.084570</td>\n",
       "      <td>1.000000</td>\n",
       "      <td>-0.088628</td>\n",
       "      <td>-0.032855</td>\n",
       "    </tr>\n",
       "    <tr>\n",
       "      <th>pdays</th>\n",
       "      <td>-0.023758</td>\n",
       "      <td>-0.014968</td>\n",
       "      <td>0.003435</td>\n",
       "      <td>-0.093044</td>\n",
       "      <td>-0.001565</td>\n",
       "      <td>-0.088628</td>\n",
       "      <td>1.000000</td>\n",
       "      <td>0.454820</td>\n",
       "    </tr>\n",
       "    <tr>\n",
       "      <th>previous</th>\n",
       "      <td>0.001288</td>\n",
       "      <td>0.014564</td>\n",
       "      <td>0.016674</td>\n",
       "      <td>-0.051710</td>\n",
       "      <td>0.001203</td>\n",
       "      <td>-0.032855</td>\n",
       "      <td>0.454820</td>\n",
       "      <td>1.000000</td>\n",
       "    </tr>\n",
       "  </tbody>\n",
       "</table>\n",
       "</div>"
      ],
      "text/plain": [
       "               age    salary   balance       day  duration  campaign  \\\n",
       "age       1.000000  0.024357  0.097783 -0.009120 -0.004648  0.004760   \n",
       "salary    0.024357  1.000000  0.055469  0.027864 -0.009937  0.015005   \n",
       "balance   0.097783  0.055469  1.000000  0.004503  0.021560 -0.014578   \n",
       "day      -0.009120  0.027864  0.004503  1.000000 -0.030206  0.162490   \n",
       "duration -0.004648 -0.009937  0.021560 -0.030206  1.000000 -0.084570   \n",
       "campaign  0.004760  0.015005 -0.014578  0.162490 -0.084570  1.000000   \n",
       "pdays    -0.023758 -0.014968  0.003435 -0.093044 -0.001565 -0.088628   \n",
       "previous  0.001288  0.014564  0.016674 -0.051710  0.001203 -0.032855   \n",
       "\n",
       "             pdays  previous  \n",
       "age      -0.023758  0.001288  \n",
       "salary   -0.014968  0.014564  \n",
       "balance   0.003435  0.016674  \n",
       "day      -0.093044 -0.051710  \n",
       "duration -0.001565  0.001203  \n",
       "campaign -0.088628 -0.032855  \n",
       "pdays     1.000000  0.454820  \n",
       "previous  0.454820  1.000000  "
      ]
     },
     "execution_count": 12,
     "metadata": {},
     "output_type": "execute_result"
    }
   ],
   "source": [
    "dataset.corr()"
   ]
  },
  {
   "cell_type": "markdown",
   "metadata": {},
   "source": [
    "### Exploring Categorical Columns"
   ]
  },
  {
   "cell_type": "code",
   "execution_count": 13,
   "metadata": {},
   "outputs": [
    {
     "data": {
      "image/png": "[encoded data removed]",
      "text/plain": [
       "<Figure size 1440x1440 with 12 Axes>"
      ]
     },
     "metadata": {
      "needs_background": "light"
     },
     "output_type": "display_data"
    }
   ],
   "source": [
    "cat_columns = ['job', 'marital', 'education', 'targeted', 'default', 'housing', 'loan', 'contact', 'month','poutcome', 'response']\n",
    "\n",
    "fig, axs = plt.subplots(4, 3, sharex=False, sharey=False, figsize=(20, 20))\n",
    "\n",
    "counter = 0\n",
    "for cat_column in cat_columns:\n",
    "    value_counts = dataset[cat_column].value_counts()\n",
    "    \n",
    "    trace_x = counter // 3\n",
    "    trace_y = counter % 3\n",
    "    x_pos = np.arange(0, len(value_counts))\n",
    "    \n",
    "    axs[trace_x, trace_y].bar(x_pos, value_counts.values, tick_label = value_counts.index)\n",
    "    \n",
    "    axs[trace_x, trace_y].set_title(cat_column)\n",
    "    \n",
    "    for tick in axs[trace_x, trace_y].get_xticklabels():\n",
    "        tick.set_rotation(90)\n",
    "    \n",
    "    counter += 1\n",
    "\n",
    "plt.show()"
   ]
  },
  {
   "cell_type": "markdown",
   "metadata": {},
   "source": [
    "### Exploring numerical columns"
   ]
  },
  {
   "cell_type": "code",
   "execution_count": 14,
   "metadata": {},
   "outputs": [
    {
     "data": {
      "image/png": "[encoded data removed]",
      "text/plain": [
       "<Figure size 1440x1080 with 6 Axes>"
      ]
     },
     "metadata": {
      "needs_background": "light"
     },
     "output_type": "display_data"
    }
   ],
   "source": [
    "num_columns = ['balance', 'day','duration', 'campaign', 'pdays', 'previous']\n",
    "\n",
    "fig, axs = plt.subplots(2, 3, sharex=False, sharey=False, figsize=(20, 15))\n",
    "\n",
    "counter = 0\n",
    "for num_column in num_columns:\n",
    "    \n",
    "    trace_x = counter // 3\n",
    "    trace_y = counter % 3\n",
    "    \n",
    "    axs[trace_x, trace_y].hist(dataset[num_column])\n",
    "    \n",
    "    axs[trace_x, trace_y].set_title(num_column)\n",
    "    \n",
    "    counter += 1\n",
    "\n",
    "plt.show()"
   ]
  },
  {
   "cell_type": "markdown",
   "metadata": {},
   "source": [
    "### We can see that numerical columns have outliers, especially 'pdays', and 'campaign' columns. Possibly there are incorrect values(noisy data), so we should look closer at the data and decide how do we manage the noise. lets look closer at pdays and campaign."
   ]
  },
  {
   "cell_type": "code",
   "execution_count": 15,
   "metadata": {},
   "outputs": [
    {
     "data": {
      "text/html": [
       "<div>\n",
       "<style scoped>\n",
       "    .dataframe tbody tr th:only-of-type {\n",
       "        vertical-align: middle;\n",
       "    }\n",
       "\n",
       "    .dataframe tbody tr th {\n",
       "        vertical-align: top;\n",
       "    }\n",
       "\n",
       "    .dataframe thead th {\n",
       "        text-align: right;\n",
       "    }\n",
       "</style>\n",
       "<table border=\"1\" class=\"dataframe\">\n",
       "  <thead>\n",
       "    <tr style=\"text-align: right;\">\n",
       "      <th></th>\n",
       "      <th>pdays</th>\n",
       "      <th>campaign</th>\n",
       "    </tr>\n",
       "  </thead>\n",
       "  <tbody>\n",
       "    <tr>\n",
       "      <th>count</th>\n",
       "      <td>45211.000000</td>\n",
       "      <td>45211.000000</td>\n",
       "    </tr>\n",
       "    <tr>\n",
       "      <th>mean</th>\n",
       "      <td>40.197828</td>\n",
       "      <td>2.763841</td>\n",
       "    </tr>\n",
       "    <tr>\n",
       "      <th>std</th>\n",
       "      <td>100.128746</td>\n",
       "      <td>3.098021</td>\n",
       "    </tr>\n",
       "    <tr>\n",
       "      <th>min</th>\n",
       "      <td>-1.000000</td>\n",
       "      <td>1.000000</td>\n",
       "    </tr>\n",
       "    <tr>\n",
       "      <th>25%</th>\n",
       "      <td>-1.000000</td>\n",
       "      <td>1.000000</td>\n",
       "    </tr>\n",
       "    <tr>\n",
       "      <th>50%</th>\n",
       "      <td>-1.000000</td>\n",
       "      <td>2.000000</td>\n",
       "    </tr>\n",
       "    <tr>\n",
       "      <th>75%</th>\n",
       "      <td>-1.000000</td>\n",
       "      <td>3.000000</td>\n",
       "    </tr>\n",
       "    <tr>\n",
       "      <th>max</th>\n",
       "      <td>871.000000</td>\n",
       "      <td>63.000000</td>\n",
       "    </tr>\n",
       "  </tbody>\n",
       "</table>\n",
       "</div>"
      ],
      "text/plain": [
       "              pdays      campaign\n",
       "count  45211.000000  45211.000000\n",
       "mean      40.197828      2.763841\n",
       "std      100.128746      3.098021\n",
       "min       -1.000000      1.000000\n",
       "25%       -1.000000      1.000000\n",
       "50%       -1.000000      2.000000\n",
       "75%       -1.000000      3.000000\n",
       "max      871.000000     63.000000"
      ]
     },
     "execution_count": 15,
     "metadata": {},
     "output_type": "execute_result"
    }
   ],
   "source": [
    "dataset[['pdays', 'campaign']].describe()"
   ]
  },
  {
   "cell_type": "markdown",
   "metadata": {},
   "source": [
    "#### Percentage of 'pdays' values above 400:"
   ]
  },
  {
   "cell_type": "code",
   "execution_count": 16,
   "metadata": {},
   "outputs": [
    {
     "data": {
      "text/plain": [
       "0.5175731569750724"
      ]
     },
     "execution_count": 16,
     "metadata": {},
     "output_type": "execute_result"
    }
   ],
   "source": [
    "len (dataset[dataset['pdays'] > 400] ) / len(dataset) *100"
   ]
  },
  {
   "cell_type": "markdown",
   "metadata": {},
   "source": [
    "#### Perrcentage of 'pdays' values of -1:"
   ]
  },
  {
   "cell_type": "code",
   "execution_count": 17,
   "metadata": {},
   "outputs": [
    {
     "data": {
      "text/plain": [
       "81.73674548229414"
      ]
     },
     "execution_count": 17,
     "metadata": {},
     "output_type": "execute_result"
    }
   ],
   "source": [
    "len (dataset[dataset['pdays'] == -1] ) / len(dataset) *100"
   ]
  },
  {
   "cell_type": "markdown",
   "metadata": {},
   "source": [
    "### pdays : number of days that passed by after the client was last contacted from a previous campaign (numeric; 999 means client was not previously contacted)\n",
    "\n",
    "### Note: Mean(pdays) = 40.19, Median(pdays) = -1.0, Minimum(pdays) = -1.0\n",
    "\n",
    "### Looking closer into 'pdays' data we can see that:\n",
    "#### 1. only 0.51% of values above 400. They are possibly outliers, so we should consider imputing something (possibly mean value) instead of these values.\n",
    "#### 2. -1 possibly means that the client wasn't contacted before or stands for missing data. , so I will replace -1 by 999 as written in dataset description.\n"
   ]
  },
  {
   "cell_type": "code",
   "execution_count": null,
   "metadata": {},
   "outputs": [],
   "source": []
  },
  {
   "cell_type": "markdown",
   "metadata": {},
   "source": [
    "#### - Plot a horizontal bar graph with the median values of balance for each education level value. Which group has the highest median?"
   ]
  },
  {
   "cell_type": "code",
   "execution_count": 18,
   "metadata": {},
   "outputs": [
    {
     "data": {
      "image/png": "[encoded data removed]",
      "text/plain": [
       "<Figure size 1080x432 with 1 Axes>"
      ]
     },
     "metadata": {
      "needs_background": "light"
     },
     "output_type": "display_data"
    }
   ],
   "source": [
    "edu = dataset.groupby('education')['balance'].median().sort_values().plot(kind = 'barh', color = 'green', figsize = (15,6))\n",
    "edu.set_xlabel('Balance',fontsize = 15)\n",
    "edu.set_ylabel('Education',fontsize = 15)\n",
    "edu.set_title('Median values of balance for each education level',fontsize = 15)\n",
    "plt.show()"
   ]
  },
  {
   "cell_type": "markdown",
   "metadata": {},
   "source": [
    "### 'tertiary' group has the highest median"
   ]
  },
  {
   "cell_type": "markdown",
   "metadata": {},
   "source": [
    "### - Make a box plot for pdays. Do you see any outliers?"
   ]
  },
  {
   "cell_type": "code",
   "execution_count": 19,
   "metadata": {},
   "outputs": [
    {
     "data": {
      "image/png": "[encoded data removed]",
      "text/plain": [
       "<Figure size 432x288 with 1 Axes>"
      ]
     },
     "metadata": {
      "needs_background": "light"
     },
     "output_type": "display_data"
    },
    {
     "data": {
      "text/plain": [
       "<Figure size 1080x432 with 0 Axes>"
      ]
     },
     "metadata": {},
     "output_type": "display_data"
    }
   ],
   "source": [
    "plt.boxplot(dataset['pdays'])\n",
    "fig = plt.figure(figsize =(15,6))\n",
    "plt.show()"
   ]
  },
  {
   "cell_type": "markdown",
   "metadata": {},
   "source": [
    "#### As we can see above pdays contains too much noise in data."
   ]
  },
  {
   "cell_type": "markdown",
   "metadata": {},
   "source": [
    "### @ Analysis of the response variable"
   ]
  },
  {
   "cell_type": "markdown",
   "metadata": {},
   "source": [
    "#### It is very important to look at the response column, which holds the information, which we are going to predict. In our case we should compare its values to other columns.\n",
    "#### First of all we should look at the number of 'yes' and 'no' values in the response column ."
   ]
  },
  {
   "cell_type": "code",
   "execution_count": 20,
   "metadata": {},
   "outputs": [
    {
     "data": {
      "image/png": "[encoded data removed]",
      "text/plain": [
       "<Figure size 432x288 with 1 Axes>"
      ]
     },
     "metadata": {
      "needs_background": "light"
     },
     "output_type": "display_data"
    }
   ],
   "source": [
    "value_counts.plot.bar(title = 'Response Value counts', color=('green','cyan'))\n",
    "\n",
    "plt.show()"
   ]
  },
  {
   "cell_type": "code",
   "execution_count": 21,
   "metadata": {},
   "outputs": [
    {
     "data": {
      "text/plain": [
       "no     39922\n",
       "yes     5289\n",
       "Name: response, dtype: int64"
      ]
     },
     "execution_count": 21,
     "metadata": {},
     "output_type": "execute_result"
    }
   ],
   "source": [
    "dataset['response'].value_counts()"
   ]
  },
  {
   "cell_type": "markdown",
   "metadata": {},
   "source": [
    "### As we can observe from the above figure that 'no' and 'yes' varies too much from each other. \n",
    "#### yes constitutes to 11.7% from the overall response variable and no constitutes to 88.3%. \n",
    "### Therefore this scenerio represents a case of Imbalanced class.  Imbalanced Classes arises from classification problems where the classes are not represented equally.\n",
    "### So, I will use confusion metric for accuracy of the model with precision, recall, F1 score, MCC and then I will compare each of the metric for the best accuracy metric."
   ]
  },
  {
   "cell_type": "markdown",
   "metadata": {},
   "source": [
    "###  @ Performing bi-variate analysis to identify the features that are directly associated with the target variable. "
   ]
  },
  {
   "cell_type": "markdown",
   "metadata": {},
   "source": [
    "#### Let's see how 'response' column value varies depending on other categorical columns' values:"
   ]
  },
  {
   "cell_type": "markdown",
   "metadata": {},
   "source": [
    "#### Visualization"
   ]
  },
  {
   "cell_type": "code",
   "execution_count": 22,
   "metadata": {},
   "outputs": [
    {
     "data": {
      "text/plain": [
       "<matplotlib.axes._subplots.AxesSubplot at 0x1a7e9e414c0>"
      ]
     },
     "execution_count": 22,
     "metadata": {},
     "output_type": "execute_result"
    },
    {
     "data": {
      "image/png": "[encoded data removed]",
      "text/plain": [
       "<Figure size 432x288 with 1 Axes>"
      ]
     },
     "metadata": {
      "needs_background": "light"
     },
     "output_type": "display_data"
    }
   ],
   "source": [
    "# Job and Response\n",
    "job_res = pd.DataFrame()\n",
    "\n",
    "job_res['yes'] = dataset[dataset['response'] == 'yes']['job'].value_counts()\n",
    "job_res['no'] = dataset[dataset['response'] == 'no']['job'].value_counts()\n",
    "\n",
    "job_res.plot.bar(title = 'Job and Response')"
   ]
  },
  {
   "cell_type": "markdown",
   "metadata": {},
   "source": [
    "#### The job of a user can influence the final result of the dependent variable because they obviously earn different salaries. Intuitively, we know a user who has a blue-collar, management, technician job has a high tendency of subscribing to the next campaign than an unemployed person.\n"
   ]
  },
  {
   "cell_type": "code",
   "execution_count": 23,
   "metadata": {},
   "outputs": [
    {
     "data": {
      "text/plain": [
       "<matplotlib.axes._subplots.AxesSubplot at 0x1a7ea9b61c0>"
      ]
     },
     "execution_count": 23,
     "metadata": {},
     "output_type": "execute_result"
    },
    {
     "data": {
      "image/png": "[encoded data removed]",
      "text/plain": [
       "<Figure size 432x288 with 1 Axes>"
      ]
     },
     "metadata": {
      "needs_background": "light"
     },
     "output_type": "display_data"
    }
   ],
   "source": [
    "# marital status and response\n",
    "m_res = pd.DataFrame()\n",
    "\n",
    "m_res['yes'] = dataset[dataset['response'] == 'yes']['marital'].value_counts()\n",
    "m_res['no'] = dataset[dataset['response'] == 'no']['marital'].value_counts()\n",
    "\n",
    "m_res.plot.bar(title = 'Marital Status and Response')"
   ]
  },
  {
   "cell_type": "markdown",
   "metadata": {},
   "source": [
    "#### Married person has high tendency of subscribing to the next campaign and divorced tends to less interested in subscribing."
   ]
  },
  {
   "cell_type": "code",
   "execution_count": 24,
   "metadata": {},
   "outputs": [
    {
     "data": {
      "text/plain": [
       "<matplotlib.axes._subplots.AxesSubplot at 0x1a7e9f41c40>"
      ]
     },
     "execution_count": 24,
     "metadata": {},
     "output_type": "execute_result"
    },
    {
     "data": {
      "image/png": "[encoded data removed]",
      "text/plain": [
       "<Figure size 432x288 with 1 Axes>"
      ]
     },
     "metadata": {
      "needs_background": "light"
     },
     "output_type": "display_data"
    }
   ],
   "source": [
    "# education and response\n",
    "edu_res = pd.DataFrame()\n",
    "\n",
    "edu_res['yes'] = dataset[dataset['response'] == 'yes']['education'].value_counts()\n",
    "edu_res['no'] = dataset[dataset['response'] == 'no']['education'].value_counts()\n",
    "\n",
    "edu_res.plot.bar(title = 'Education and Response')"
   ]
  },
  {
   "cell_type": "markdown",
   "metadata": {},
   "source": [
    "#### Also the education of the user is also an influence to our dependent variable. we can see from the plot that secondary and tertiary educated people has both the most user with both sub (yes) and no_sub (no). while the unknown have the least which is normal."
   ]
  },
  {
   "cell_type": "code",
   "execution_count": 25,
   "metadata": {},
   "outputs": [
    {
     "data": {
      "text/plain": [
       "<matplotlib.axes._subplots.AxesSubplot at 0x1a7e9f81df0>"
      ]
     },
     "execution_count": 25,
     "metadata": {},
     "output_type": "execute_result"
    },
    {
     "data": {
      "image/png": "[encoded data removed]",
      "text/plain": [
       "<Figure size 432x288 with 1 Axes>"
      ]
     },
     "metadata": {
      "needs_background": "light"
     },
     "output_type": "display_data"
    }
   ],
   "source": [
    "# Type of contact and response\n",
    "con_res = pd.DataFrame()\n",
    "\n",
    "con_res['yes'] = dataset[dataset['response'] == 'yes']['contact'].value_counts()\n",
    "con_res['no'] = dataset[dataset['response'] == 'no']['contact'].value_counts()\n",
    "\n",
    "con_res.plot.bar(title = 'Type of contact and Response')"
   ]
  },
  {
   "cell_type": "code",
   "execution_count": 26,
   "metadata": {},
   "outputs": [
    {
     "data": {
      "text/plain": [
       "<matplotlib.axes._subplots.AxesSubplot at 0x1a7ea1a8580>"
      ]
     },
     "execution_count": 26,
     "metadata": {},
     "output_type": "execute_result"
    },
    {
     "data": {
      "image/png": "[encoded data removed]",
      "text/plain": [
       "<Figure size 432x288 with 1 Axes>"
      ]
     },
     "metadata": {
      "needs_background": "light"
     },
     "output_type": "display_data"
    }
   ],
   "source": [
    "#target and response\n",
    "\n",
    "tar_res = pd.DataFrame()\n",
    "\n",
    "tar_res['yes'] = dataset[dataset['response'] == 'yes']['targeted'].value_counts()\n",
    "tar_res['no'] = dataset[dataset['response'] == 'no']['targeted'].value_counts()\n",
    "\n",
    "tar_res.plot.bar(title = 'Targeted and Response')"
   ]
  },
  {
   "cell_type": "code",
   "execution_count": 27,
   "metadata": {},
   "outputs": [
    {
     "data": {
      "text/plain": [
       "<matplotlib.axes._subplots.AxesSubplot at 0x1a7ea1b8490>"
      ]
     },
     "execution_count": 27,
     "metadata": {},
     "output_type": "execute_result"
    },
    {
     "data": {
      "image/png": "[encoded data removed]",
      "text/plain": [
       "<Figure size 432x288 with 1 Axes>"
      ]
     },
     "metadata": {
      "needs_background": "light"
     },
     "output_type": "display_data"
    }
   ],
   "source": [
    "# default and response\n",
    "def_res = pd.DataFrame()\n",
    "\n",
    "def_res['yes'] = dataset[dataset['response'] == 'yes']['default'].value_counts()\n",
    "def_res['no'] = dataset[dataset['response'] == 'no']['default'].value_counts()\n",
    "\n",
    "def_res.plot.bar(title = 'Default and Response')"
   ]
  },
  {
   "cell_type": "markdown",
   "metadata": {},
   "source": [
    "#### The user credit is in default or not is also an influence on our target variable. As we can see that the person whose credit is not in default has both the most user with both sub (yes) and no_sub (no)."
   ]
  },
  {
   "cell_type": "code",
   "execution_count": 28,
   "metadata": {},
   "outputs": [
    {
     "data": {
      "text/plain": [
       "<matplotlib.axes._subplots.AxesSubplot at 0x1a7ea26fca0>"
      ]
     },
     "execution_count": 28,
     "metadata": {},
     "output_type": "execute_result"
    },
    {
     "data": {
      "image/png": "[encoded data removed]",
      "text/plain": [
       "<Figure size 432x288 with 1 Axes>"
      ]
     },
     "metadata": {
      "needs_background": "light"
     },
     "output_type": "display_data"
    }
   ],
   "source": [
    "# housing and response\n",
    "hs_res = pd.DataFrame()\n",
    "\n",
    "hs_res['yes'] = dataset[dataset['response'] == 'yes']['housing'].value_counts()\n",
    "hs_res['no'] = dataset[dataset['response'] == 'no']['housing'].value_counts()\n",
    "\n",
    "hs_res.plot.bar(title = 'Housing and Response')"
   ]
  },
  {
   "cell_type": "markdown",
   "metadata": {},
   "source": [
    "#### As we can see the clients has housing loan tends to less subsribed to term deposit than who does'nt have housing loan. "
   ]
  },
  {
   "cell_type": "code",
   "execution_count": 29,
   "metadata": {},
   "outputs": [
    {
     "data": {
      "text/plain": [
       "<matplotlib.axes._subplots.AxesSubplot at 0x1a7ea2cdcd0>"
      ]
     },
     "execution_count": 29,
     "metadata": {},
     "output_type": "execute_result"
    },
    {
     "data": {
      "image/png": "[encoded data removed]",
      "text/plain": [
       "<Figure size 432x288 with 1 Axes>"
      ]
     },
     "metadata": {
      "needs_background": "light"
     },
     "output_type": "display_data"
    }
   ],
   "source": [
    "# loan and response\n",
    "l_res = pd.DataFrame()\n",
    "\n",
    "l_res['yes'] = dataset[dataset['response'] == 'yes']['loan'].value_counts()\n",
    "l_res['no'] = dataset[dataset['response'] == 'no']['loan'].value_counts()\n",
    "\n",
    "l_res.plot.bar(title = 'Loan and Response')"
   ]
  },
  {
   "cell_type": "markdown",
   "metadata": {},
   "source": [
    "#### As we can observe above the clients that have no personal loan has both the most user with both sub (yes) and no_sub (no)."
   ]
  },
  {
   "cell_type": "code",
   "execution_count": 30,
   "metadata": {},
   "outputs": [
    {
     "data": {
      "text/plain": [
       "<matplotlib.axes._subplots.AxesSubplot at 0x1a7ea334640>"
      ]
     },
     "execution_count": 30,
     "metadata": {},
     "output_type": "execute_result"
    },
    {
     "data": {
      "image/png": "[encoded data removed]",
      "text/plain": [
       "<Figure size 432x288 with 1 Axes>"
      ]
     },
     "metadata": {
      "needs_background": "light"
     },
     "output_type": "display_data"
    }
   ],
   "source": [
    "# Month and Response\n",
    "mon_res = pd.DataFrame()\n",
    "\n",
    "mon_res['yes'] = dataset[dataset['response'] == 'yes']['month'].value_counts()\n",
    "mon_res['no'] = dataset[dataset['response'] == 'no']['month'].value_counts()\n",
    "\n",
    "mon_res.plot.bar(title = 'Month and Response')"
   ]
  },
  {
   "cell_type": "markdown",
   "metadata": {},
   "source": [
    "#### As we can see that in may,jul,aug most of the subscriptions happened, while in sep, oct there were very least subscriptions and in dec there where not at all any subcriptions."
   ]
  },
  {
   "cell_type": "code",
   "execution_count": 31,
   "metadata": {},
   "outputs": [
    {
     "data": {
      "text/plain": [
       "<matplotlib.axes._subplots.AxesSubplot at 0x1a7ea3d7400>"
      ]
     },
     "execution_count": 31,
     "metadata": {},
     "output_type": "execute_result"
    },
    {
     "data": {
      "image/png": "[encoded data removed]",
      "text/plain": [
       "<Figure size 432x288 with 1 Axes>"
      ]
     },
     "metadata": {
      "needs_background": "light"
     },
     "output_type": "display_data"
    }
   ],
   "source": [
    "\n",
    "pout_res = pd.DataFrame()\n",
    "\n",
    "pout_res['yes'] = dataset[dataset['response'] == 'yes']['poutcome'].value_counts()\n",
    "pout_res['no'] = dataset[dataset['response'] == 'no']['poutcome'].value_counts()\n",
    "\n",
    "pout_res.plot.bar(title = 'Poutcome and Response')"
   ]
  },
  {
   "cell_type": "code",
   "execution_count": 32,
   "metadata": {},
   "outputs": [
    {
     "data": {
      "text/plain": [
       "81.74780473778506"
      ]
     },
     "execution_count": 32,
     "metadata": {},
     "output_type": "execute_result"
    }
   ],
   "source": [
    "len (dataset[dataset['poutcome'] == 'unknown'] ) / len(dataset) *100"
   ]
  },
  {
   "cell_type": "markdown",
   "metadata": {},
   "source": [
    "#### As we can in poutcome 80% of the data is unknown so we drop this column."
   ]
  },
  {
   "cell_type": "code",
   "execution_count": 33,
   "metadata": {},
   "outputs": [
    {
     "data": {
      "text/plain": [
       "<matplotlib.axes._subplots.AxesSubplot at 0x1a7ea44e9d0>"
      ]
     },
     "execution_count": 33,
     "metadata": {},
     "output_type": "execute_result"
    },
    {
     "data": {
      "image/png": "[encoded data removed]",
      "text/plain": [
       "<Figure size 720x432 with 1 Axes>"
      ]
     },
     "metadata": {
      "needs_background": "light"
     },
     "output_type": "display_data"
    }
   ],
   "source": [
    "plt.figure(figsize = (10,6))\n",
    "sns.distplot(a = dataset['age'], kde = False)"
   ]
  },
  {
   "cell_type": "markdown",
   "metadata": {},
   "source": [
    "#### from the distplot above on our independent variable ‘age’, we can tell that most of the users are within the age 30 - 45. and we have less users from 60 upward"
   ]
  },
  {
   "cell_type": "code",
   "execution_count": null,
   "metadata": {},
   "outputs": [],
   "source": []
  },
  {
   "cell_type": "markdown",
   "metadata": {},
   "source": [
    "### @ Convert the response variable to a convenient form"
   ]
  },
  {
   "cell_type": "code",
   "execution_count": 34,
   "metadata": {},
   "outputs": [],
   "source": [
    "dataset.response.replace(('yes','no'),(1,0),inplace = True)"
   ]
  },
  {
   "cell_type": "code",
   "execution_count": 35,
   "metadata": {},
   "outputs": [
    {
     "data": {
      "text/plain": [
       "0    0\n",
       "1    0\n",
       "2    0\n",
       "3    0\n",
       "4    0\n",
       "5    0\n",
       "6    0\n",
       "7    0\n",
       "8    0\n",
       "9    0\n",
       "Name: response, dtype: int64"
      ]
     },
     "execution_count": 35,
     "metadata": {},
     "output_type": "execute_result"
    }
   ],
   "source": [
    "dataset['response'].head(10)"
   ]
  },
  {
   "cell_type": "markdown",
   "metadata": {},
   "source": [
    "#### Are the features about the previous campaign data useful?"
   ]
  },
  {
   "cell_type": "code",
   "execution_count": 36,
   "metadata": {},
   "outputs": [
    {
     "data": {
      "image/png": "[encoded data removed]",
      "text/plain": [
       "<Figure size 1080x432 with 1 Axes>"
      ]
     },
     "metadata": {
      "needs_background": "light"
     },
     "output_type": "display_data"
    }
   ],
   "source": [
    "edu = dataset.groupby('response')['previous'].sum().plot(kind = 'barh', color = 'green', figsize = (15,6))\n",
    "edu.set_xlabel('Balance',fontsize = 15)\n",
    "edu.set_ylabel('Education',fontsize = 15)\n",
    "edu.set_title('Median values of balance for each education level',fontsize = 15)\n",
    "plt.show()"
   ]
  },
  {
   "cell_type": "markdown",
   "metadata": {},
   "source": [
    "#### yes, features about the 'previous' campaign data is useful as it tells that after the no. of calls performed before this campaign, the client subscribes for term deposit or not."
   ]
  },
  {
   "cell_type": "markdown",
   "metadata": {},
   "source": [
    "### @ Are pdays and poutcome associated with the target? If yes, and if you plan to use them – how do you handle the pdays column with a value of -1 where the previous campaign data is missing? Explain your approach and your decision."
   ]
  },
  {
   "cell_type": "code",
   "execution_count": 37,
   "metadata": {},
   "outputs": [],
   "source": [
    "#first of all replacing -1 with 999 in pdays as written in dataset description that 999 means client was not previously contacted.\n",
    "dataset.pdays.replace((-1),(999), inplace = True)"
   ]
  },
  {
   "cell_type": "code",
   "execution_count": 38,
   "metadata": {},
   "outputs": [
    {
     "name": "stdout",
     "output_type": "stream",
     "text": [
      "Pearsons correlation: -0.179\n"
     ]
    }
   ],
   "source": [
    "from scipy.stats import pearsonr\n",
    "\n",
    "corr, _ = pearsonr(dataset['pdays'], dataset['response'])\n",
    "print('Pearsons correlation: %.3f' % corr)"
   ]
  },
  {
   "cell_type": "markdown",
   "metadata": {},
   "source": [
    "#### --> From the above pearsons correlation we can say that pdays has small negative linear correlation with response variable."
   ]
  },
  {
   "cell_type": "markdown",
   "metadata": {},
   "source": [
    "#### --> From the above barplot where we were checking association of poutcome with response variable we can say that 80% of the data is unknown, therefore I dont think it will help in our predictions and in model, therefore I will drop it."
   ]
  },
  {
   "cell_type": "markdown",
   "metadata": {},
   "source": [
    "#### --> Yes, I plan to use pdays column, and what I have done is, I have replaced -1 with 999 that means client was not previously contacted."
   ]
  },
  {
   "cell_type": "markdown",
   "metadata": {},
   "source": [
    "### Data cleaning"
   ]
  },
  {
   "cell_type": "code",
   "execution_count": 39,
   "metadata": {},
   "outputs": [],
   "source": [
    "# dropping poutcome\n",
    "dataset = pd.DataFrame(dataset)\n",
    "dataset.drop(['poutcome'], axis = 1, inplace = True) \n"
   ]
  },
  {
   "cell_type": "code",
   "execution_count": 40,
   "metadata": {},
   "outputs": [],
   "source": [
    "#I have also imputed -1 value of pdays, I have replaced it with 999."
   ]
  },
  {
   "cell_type": "markdown",
   "metadata": {},
   "source": [
    "### Feature Engineering"
   ]
  },
  {
   "cell_type": "code",
   "execution_count": 41,
   "metadata": {},
   "outputs": [
    {
     "data": {
      "text/plain": [
       "(45211, 18)"
      ]
     },
     "execution_count": 41,
     "metadata": {},
     "output_type": "execute_result"
    }
   ],
   "source": [
    "# dataset shape before creating dummy variable for categorical data\n",
    "dataset.shape"
   ]
  },
  {
   "cell_type": "code",
   "execution_count": 42,
   "metadata": {},
   "outputs": [],
   "source": [
    "dataset1 = dataset"
   ]
  },
  {
   "cell_type": "code",
   "execution_count": 43,
   "metadata": {},
   "outputs": [],
   "source": [
    "# storing our dummy variable data in new variable dataset_new\n",
    "# Here I am creating dummy variable for categorical data.\n",
    "dataset_new = pd.get_dummies(dataset,columns = ['job','marital','education','targeted','default',\n",
    "                                   'housing','loan','contact','month'], drop_first = True)"
   ]
  },
  {
   "cell_type": "code",
   "execution_count": 44,
   "metadata": {},
   "outputs": [
    {
     "data": {
      "text/plain": [
       "(45211, 42)"
      ]
     },
     "execution_count": 44,
     "metadata": {},
     "output_type": "execute_result"
    }
   ],
   "source": [
    "dataset_new.shape"
   ]
  },
  {
   "cell_type": "code",
   "execution_count": 45,
   "metadata": {},
   "outputs": [
    {
     "data": {
      "text/html": [
       "<div>\n",
       "<style scoped>\n",
       "    .dataframe tbody tr th:only-of-type {\n",
       "        vertical-align: middle;\n",
       "    }\n",
       "\n",
       "    .dataframe tbody tr th {\n",
       "        vertical-align: top;\n",
       "    }\n",
       "\n",
       "    .dataframe thead th {\n",
       "        text-align: right;\n",
       "    }\n",
       "</style>\n",
       "<table border=\"1\" class=\"dataframe\">\n",
       "  <thead>\n",
       "    <tr style=\"text-align: right;\">\n",
       "      <th></th>\n",
       "      <th>age</th>\n",
       "      <th>salary</th>\n",
       "      <th>balance</th>\n",
       "      <th>day</th>\n",
       "      <th>duration</th>\n",
       "      <th>campaign</th>\n",
       "      <th>pdays</th>\n",
       "      <th>previous</th>\n",
       "      <th>response</th>\n",
       "      <th>job_blue-collar</th>\n",
       "      <th>job_entrepreneur</th>\n",
       "      <th>job_housemaid</th>\n",
       "      <th>job_management</th>\n",
       "      <th>job_retired</th>\n",
       "      <th>job_self-employed</th>\n",
       "      <th>job_services</th>\n",
       "      <th>job_student</th>\n",
       "      <th>job_technician</th>\n",
       "      <th>job_unemployed</th>\n",
       "      <th>job_unknown</th>\n",
       "      <th>marital_married</th>\n",
       "      <th>marital_single</th>\n",
       "      <th>education_secondary</th>\n",
       "      <th>education_tertiary</th>\n",
       "      <th>education_unknown</th>\n",
       "      <th>targeted_yes</th>\n",
       "      <th>default_yes</th>\n",
       "      <th>housing_yes</th>\n",
       "      <th>loan_yes</th>\n",
       "      <th>contact_telephone</th>\n",
       "      <th>contact_unknown</th>\n",
       "      <th>month_aug</th>\n",
       "      <th>month_dec</th>\n",
       "      <th>month_feb</th>\n",
       "      <th>month_jan</th>\n",
       "      <th>month_jul</th>\n",
       "      <th>month_jun</th>\n",
       "      <th>month_mar</th>\n",
       "      <th>month_may</th>\n",
       "      <th>month_nov</th>\n",
       "      <th>month_oct</th>\n",
       "      <th>month_sep</th>\n",
       "    </tr>\n",
       "  </thead>\n",
       "  <tbody>\n",
       "    <tr>\n",
       "      <th>0</th>\n",
       "      <td>58</td>\n",
       "      <td>100000</td>\n",
       "      <td>2143</td>\n",
       "      <td>5</td>\n",
       "      <td>261</td>\n",
       "      <td>1</td>\n",
       "      <td>999</td>\n",
       "      <td>0</td>\n",
       "      <td>0</td>\n",
       "      <td>0</td>\n",
       "      <td>0</td>\n",
       "      <td>0</td>\n",
       "      <td>1</td>\n",
       "      <td>0</td>\n",
       "      <td>0</td>\n",
       "      <td>0</td>\n",
       "      <td>0</td>\n",
       "      <td>0</td>\n",
       "      <td>0</td>\n",
       "      <td>0</td>\n",
       "      <td>1</td>\n",
       "      <td>0</td>\n",
       "      <td>0</td>\n",
       "      <td>1</td>\n",
       "      <td>0</td>\n",
       "      <td>1</td>\n",
       "      <td>0</td>\n",
       "      <td>1</td>\n",
       "      <td>0</td>\n",
       "      <td>0</td>\n",
       "      <td>1</td>\n",
       "      <td>0</td>\n",
       "      <td>0</td>\n",
       "      <td>0</td>\n",
       "      <td>0</td>\n",
       "      <td>0</td>\n",
       "      <td>0</td>\n",
       "      <td>0</td>\n",
       "      <td>1</td>\n",
       "      <td>0</td>\n",
       "      <td>0</td>\n",
       "      <td>0</td>\n",
       "    </tr>\n",
       "    <tr>\n",
       "      <th>1</th>\n",
       "      <td>44</td>\n",
       "      <td>60000</td>\n",
       "      <td>29</td>\n",
       "      <td>5</td>\n",
       "      <td>151</td>\n",
       "      <td>1</td>\n",
       "      <td>999</td>\n",
       "      <td>0</td>\n",
       "      <td>0</td>\n",
       "      <td>0</td>\n",
       "      <td>0</td>\n",
       "      <td>0</td>\n",
       "      <td>0</td>\n",
       "      <td>0</td>\n",
       "      <td>0</td>\n",
       "      <td>0</td>\n",
       "      <td>0</td>\n",
       "      <td>1</td>\n",
       "      <td>0</td>\n",
       "      <td>0</td>\n",
       "      <td>0</td>\n",
       "      <td>1</td>\n",
       "      <td>1</td>\n",
       "      <td>0</td>\n",
       "      <td>0</td>\n",
       "      <td>1</td>\n",
       "      <td>0</td>\n",
       "      <td>1</td>\n",
       "      <td>0</td>\n",
       "      <td>0</td>\n",
       "      <td>1</td>\n",
       "      <td>0</td>\n",
       "      <td>0</td>\n",
       "      <td>0</td>\n",
       "      <td>0</td>\n",
       "      <td>0</td>\n",
       "      <td>0</td>\n",
       "      <td>0</td>\n",
       "      <td>1</td>\n",
       "      <td>0</td>\n",
       "      <td>0</td>\n",
       "      <td>0</td>\n",
       "    </tr>\n",
       "    <tr>\n",
       "      <th>2</th>\n",
       "      <td>33</td>\n",
       "      <td>120000</td>\n",
       "      <td>2</td>\n",
       "      <td>5</td>\n",
       "      <td>76</td>\n",
       "      <td>1</td>\n",
       "      <td>999</td>\n",
       "      <td>0</td>\n",
       "      <td>0</td>\n",
       "      <td>0</td>\n",
       "      <td>1</td>\n",
       "      <td>0</td>\n",
       "      <td>0</td>\n",
       "      <td>0</td>\n",
       "      <td>0</td>\n",
       "      <td>0</td>\n",
       "      <td>0</td>\n",
       "      <td>0</td>\n",
       "      <td>0</td>\n",
       "      <td>0</td>\n",
       "      <td>1</td>\n",
       "      <td>0</td>\n",
       "      <td>1</td>\n",
       "      <td>0</td>\n",
       "      <td>0</td>\n",
       "      <td>1</td>\n",
       "      <td>0</td>\n",
       "      <td>1</td>\n",
       "      <td>1</td>\n",
       "      <td>0</td>\n",
       "      <td>1</td>\n",
       "      <td>0</td>\n",
       "      <td>0</td>\n",
       "      <td>0</td>\n",
       "      <td>0</td>\n",
       "      <td>0</td>\n",
       "      <td>0</td>\n",
       "      <td>0</td>\n",
       "      <td>1</td>\n",
       "      <td>0</td>\n",
       "      <td>0</td>\n",
       "      <td>0</td>\n",
       "    </tr>\n",
       "    <tr>\n",
       "      <th>3</th>\n",
       "      <td>47</td>\n",
       "      <td>20000</td>\n",
       "      <td>1506</td>\n",
       "      <td>5</td>\n",
       "      <td>92</td>\n",
       "      <td>1</td>\n",
       "      <td>999</td>\n",
       "      <td>0</td>\n",
       "      <td>0</td>\n",
       "      <td>1</td>\n",
       "      <td>0</td>\n",
       "      <td>0</td>\n",
       "      <td>0</td>\n",
       "      <td>0</td>\n",
       "      <td>0</td>\n",
       "      <td>0</td>\n",
       "      <td>0</td>\n",
       "      <td>0</td>\n",
       "      <td>0</td>\n",
       "      <td>0</td>\n",
       "      <td>1</td>\n",
       "      <td>0</td>\n",
       "      <td>0</td>\n",
       "      <td>0</td>\n",
       "      <td>1</td>\n",
       "      <td>0</td>\n",
       "      <td>0</td>\n",
       "      <td>1</td>\n",
       "      <td>0</td>\n",
       "      <td>0</td>\n",
       "      <td>1</td>\n",
       "      <td>0</td>\n",
       "      <td>0</td>\n",
       "      <td>0</td>\n",
       "      <td>0</td>\n",
       "      <td>0</td>\n",
       "      <td>0</td>\n",
       "      <td>0</td>\n",
       "      <td>1</td>\n",
       "      <td>0</td>\n",
       "      <td>0</td>\n",
       "      <td>0</td>\n",
       "    </tr>\n",
       "    <tr>\n",
       "      <th>4</th>\n",
       "      <td>33</td>\n",
       "      <td>0</td>\n",
       "      <td>1</td>\n",
       "      <td>5</td>\n",
       "      <td>198</td>\n",
       "      <td>1</td>\n",
       "      <td>999</td>\n",
       "      <td>0</td>\n",
       "      <td>0</td>\n",
       "      <td>0</td>\n",
       "      <td>0</td>\n",
       "      <td>0</td>\n",
       "      <td>0</td>\n",
       "      <td>0</td>\n",
       "      <td>0</td>\n",
       "      <td>0</td>\n",
       "      <td>0</td>\n",
       "      <td>0</td>\n",
       "      <td>0</td>\n",
       "      <td>1</td>\n",
       "      <td>0</td>\n",
       "      <td>1</td>\n",
       "      <td>0</td>\n",
       "      <td>0</td>\n",
       "      <td>1</td>\n",
       "      <td>0</td>\n",
       "      <td>0</td>\n",
       "      <td>0</td>\n",
       "      <td>0</td>\n",
       "      <td>0</td>\n",
       "      <td>1</td>\n",
       "      <td>0</td>\n",
       "      <td>0</td>\n",
       "      <td>0</td>\n",
       "      <td>0</td>\n",
       "      <td>0</td>\n",
       "      <td>0</td>\n",
       "      <td>0</td>\n",
       "      <td>1</td>\n",
       "      <td>0</td>\n",
       "      <td>0</td>\n",
       "      <td>0</td>\n",
       "    </tr>\n",
       "    <tr>\n",
       "      <th>...</th>\n",
       "      <td>...</td>\n",
       "      <td>...</td>\n",
       "      <td>...</td>\n",
       "      <td>...</td>\n",
       "      <td>...</td>\n",
       "      <td>...</td>\n",
       "      <td>...</td>\n",
       "      <td>...</td>\n",
       "      <td>...</td>\n",
       "      <td>...</td>\n",
       "      <td>...</td>\n",
       "      <td>...</td>\n",
       "      <td>...</td>\n",
       "      <td>...</td>\n",
       "      <td>...</td>\n",
       "      <td>...</td>\n",
       "      <td>...</td>\n",
       "      <td>...</td>\n",
       "      <td>...</td>\n",
       "      <td>...</td>\n",
       "      <td>...</td>\n",
       "      <td>...</td>\n",
       "      <td>...</td>\n",
       "      <td>...</td>\n",
       "      <td>...</td>\n",
       "      <td>...</td>\n",
       "      <td>...</td>\n",
       "      <td>...</td>\n",
       "      <td>...</td>\n",
       "      <td>...</td>\n",
       "      <td>...</td>\n",
       "      <td>...</td>\n",
       "      <td>...</td>\n",
       "      <td>...</td>\n",
       "      <td>...</td>\n",
       "      <td>...</td>\n",
       "      <td>...</td>\n",
       "      <td>...</td>\n",
       "      <td>...</td>\n",
       "      <td>...</td>\n",
       "      <td>...</td>\n",
       "      <td>...</td>\n",
       "    </tr>\n",
       "    <tr>\n",
       "      <th>45206</th>\n",
       "      <td>51</td>\n",
       "      <td>60000</td>\n",
       "      <td>825</td>\n",
       "      <td>17</td>\n",
       "      <td>977</td>\n",
       "      <td>3</td>\n",
       "      <td>999</td>\n",
       "      <td>0</td>\n",
       "      <td>1</td>\n",
       "      <td>0</td>\n",
       "      <td>0</td>\n",
       "      <td>0</td>\n",
       "      <td>0</td>\n",
       "      <td>0</td>\n",
       "      <td>0</td>\n",
       "      <td>0</td>\n",
       "      <td>0</td>\n",
       "      <td>1</td>\n",
       "      <td>0</td>\n",
       "      <td>0</td>\n",
       "      <td>1</td>\n",
       "      <td>0</td>\n",
       "      <td>0</td>\n",
       "      <td>1</td>\n",
       "      <td>0</td>\n",
       "      <td>1</td>\n",
       "      <td>0</td>\n",
       "      <td>0</td>\n",
       "      <td>0</td>\n",
       "      <td>0</td>\n",
       "      <td>0</td>\n",
       "      <td>0</td>\n",
       "      <td>0</td>\n",
       "      <td>0</td>\n",
       "      <td>0</td>\n",
       "      <td>0</td>\n",
       "      <td>0</td>\n",
       "      <td>0</td>\n",
       "      <td>0</td>\n",
       "      <td>1</td>\n",
       "      <td>0</td>\n",
       "      <td>0</td>\n",
       "    </tr>\n",
       "    <tr>\n",
       "      <th>45207</th>\n",
       "      <td>71</td>\n",
       "      <td>55000</td>\n",
       "      <td>1729</td>\n",
       "      <td>17</td>\n",
       "      <td>456</td>\n",
       "      <td>2</td>\n",
       "      <td>999</td>\n",
       "      <td>0</td>\n",
       "      <td>1</td>\n",
       "      <td>0</td>\n",
       "      <td>0</td>\n",
       "      <td>0</td>\n",
       "      <td>0</td>\n",
       "      <td>1</td>\n",
       "      <td>0</td>\n",
       "      <td>0</td>\n",
       "      <td>0</td>\n",
       "      <td>0</td>\n",
       "      <td>0</td>\n",
       "      <td>0</td>\n",
       "      <td>0</td>\n",
       "      <td>0</td>\n",
       "      <td>0</td>\n",
       "      <td>0</td>\n",
       "      <td>0</td>\n",
       "      <td>1</td>\n",
       "      <td>0</td>\n",
       "      <td>0</td>\n",
       "      <td>0</td>\n",
       "      <td>0</td>\n",
       "      <td>0</td>\n",
       "      <td>0</td>\n",
       "      <td>0</td>\n",
       "      <td>0</td>\n",
       "      <td>0</td>\n",
       "      <td>0</td>\n",
       "      <td>0</td>\n",
       "      <td>0</td>\n",
       "      <td>0</td>\n",
       "      <td>1</td>\n",
       "      <td>0</td>\n",
       "      <td>0</td>\n",
       "    </tr>\n",
       "    <tr>\n",
       "      <th>45208</th>\n",
       "      <td>72</td>\n",
       "      <td>55000</td>\n",
       "      <td>5715</td>\n",
       "      <td>17</td>\n",
       "      <td>1127</td>\n",
       "      <td>5</td>\n",
       "      <td>184</td>\n",
       "      <td>3</td>\n",
       "      <td>1</td>\n",
       "      <td>0</td>\n",
       "      <td>0</td>\n",
       "      <td>0</td>\n",
       "      <td>0</td>\n",
       "      <td>1</td>\n",
       "      <td>0</td>\n",
       "      <td>0</td>\n",
       "      <td>0</td>\n",
       "      <td>0</td>\n",
       "      <td>0</td>\n",
       "      <td>0</td>\n",
       "      <td>1</td>\n",
       "      <td>0</td>\n",
       "      <td>1</td>\n",
       "      <td>0</td>\n",
       "      <td>0</td>\n",
       "      <td>1</td>\n",
       "      <td>0</td>\n",
       "      <td>0</td>\n",
       "      <td>0</td>\n",
       "      <td>0</td>\n",
       "      <td>0</td>\n",
       "      <td>0</td>\n",
       "      <td>0</td>\n",
       "      <td>0</td>\n",
       "      <td>0</td>\n",
       "      <td>0</td>\n",
       "      <td>0</td>\n",
       "      <td>0</td>\n",
       "      <td>0</td>\n",
       "      <td>1</td>\n",
       "      <td>0</td>\n",
       "      <td>0</td>\n",
       "    </tr>\n",
       "    <tr>\n",
       "      <th>45209</th>\n",
       "      <td>57</td>\n",
       "      <td>20000</td>\n",
       "      <td>668</td>\n",
       "      <td>17</td>\n",
       "      <td>508</td>\n",
       "      <td>4</td>\n",
       "      <td>999</td>\n",
       "      <td>0</td>\n",
       "      <td>0</td>\n",
       "      <td>1</td>\n",
       "      <td>0</td>\n",
       "      <td>0</td>\n",
       "      <td>0</td>\n",
       "      <td>0</td>\n",
       "      <td>0</td>\n",
       "      <td>0</td>\n",
       "      <td>0</td>\n",
       "      <td>0</td>\n",
       "      <td>0</td>\n",
       "      <td>0</td>\n",
       "      <td>1</td>\n",
       "      <td>0</td>\n",
       "      <td>1</td>\n",
       "      <td>0</td>\n",
       "      <td>0</td>\n",
       "      <td>1</td>\n",
       "      <td>0</td>\n",
       "      <td>0</td>\n",
       "      <td>0</td>\n",
       "      <td>1</td>\n",
       "      <td>0</td>\n",
       "      <td>0</td>\n",
       "      <td>0</td>\n",
       "      <td>0</td>\n",
       "      <td>0</td>\n",
       "      <td>0</td>\n",
       "      <td>0</td>\n",
       "      <td>0</td>\n",
       "      <td>0</td>\n",
       "      <td>1</td>\n",
       "      <td>0</td>\n",
       "      <td>0</td>\n",
       "    </tr>\n",
       "    <tr>\n",
       "      <th>45210</th>\n",
       "      <td>37</td>\n",
       "      <td>120000</td>\n",
       "      <td>2971</td>\n",
       "      <td>17</td>\n",
       "      <td>361</td>\n",
       "      <td>2</td>\n",
       "      <td>188</td>\n",
       "      <td>11</td>\n",
       "      <td>0</td>\n",
       "      <td>0</td>\n",
       "      <td>1</td>\n",
       "      <td>0</td>\n",
       "      <td>0</td>\n",
       "      <td>0</td>\n",
       "      <td>0</td>\n",
       "      <td>0</td>\n",
       "      <td>0</td>\n",
       "      <td>0</td>\n",
       "      <td>0</td>\n",
       "      <td>0</td>\n",
       "      <td>1</td>\n",
       "      <td>0</td>\n",
       "      <td>1</td>\n",
       "      <td>0</td>\n",
       "      <td>0</td>\n",
       "      <td>1</td>\n",
       "      <td>0</td>\n",
       "      <td>0</td>\n",
       "      <td>0</td>\n",
       "      <td>0</td>\n",
       "      <td>0</td>\n",
       "      <td>0</td>\n",
       "      <td>0</td>\n",
       "      <td>0</td>\n",
       "      <td>0</td>\n",
       "      <td>0</td>\n",
       "      <td>0</td>\n",
       "      <td>0</td>\n",
       "      <td>0</td>\n",
       "      <td>1</td>\n",
       "      <td>0</td>\n",
       "      <td>0</td>\n",
       "    </tr>\n",
       "  </tbody>\n",
       "</table>\n",
       "<p>45211 rows × 42 columns</p>\n",
       "</div>"
      ],
      "text/plain": [
       "       age  salary  balance  day  duration  campaign  pdays  previous  \\\n",
       "0       58  100000     2143    5       261         1    999         0   \n",
       "1       44   60000       29    5       151         1    999         0   \n",
       "2       33  120000        2    5        76         1    999         0   \n",
       "3       47   20000     1506    5        92         1    999         0   \n",
       "4       33       0        1    5       198         1    999         0   \n",
       "...    ...     ...      ...  ...       ...       ...    ...       ...   \n",
       "45206   51   60000      825   17       977         3    999         0   \n",
       "45207   71   55000     1729   17       456         2    999         0   \n",
       "45208   72   55000     5715   17      1127         5    184         3   \n",
       "45209   57   20000      668   17       508         4    999         0   \n",
       "45210   37  120000     2971   17       361         2    188        11   \n",
       "\n",
       "       response  job_blue-collar  job_entrepreneur  job_housemaid  \\\n",
       "0             0                0                 0              0   \n",
       "1             0                0                 0              0   \n",
       "2             0                0                 1              0   \n",
       "3             0                1                 0              0   \n",
       "4             0                0                 0              0   \n",
       "...         ...              ...               ...            ...   \n",
       "45206         1                0                 0              0   \n",
       "45207         1                0                 0              0   \n",
       "45208         1                0                 0              0   \n",
       "45209         0                1                 0              0   \n",
       "45210         0                0                 1              0   \n",
       "\n",
       "       job_management  job_retired  job_self-employed  job_services  \\\n",
       "0                   1            0                  0             0   \n",
       "1                   0            0                  0             0   \n",
       "2                   0            0                  0             0   \n",
       "3                   0            0                  0             0   \n",
       "4                   0            0                  0             0   \n",
       "...               ...          ...                ...           ...   \n",
       "45206               0            0                  0             0   \n",
       "45207               0            1                  0             0   \n",
       "45208               0            1                  0             0   \n",
       "45209               0            0                  0             0   \n",
       "45210               0            0                  0             0   \n",
       "\n",
       "       job_student  job_technician  job_unemployed  job_unknown  \\\n",
       "0                0               0               0            0   \n",
       "1                0               1               0            0   \n",
       "2                0               0               0            0   \n",
       "3                0               0               0            0   \n",
       "4                0               0               0            1   \n",
       "...            ...             ...             ...          ...   \n",
       "45206            0               1               0            0   \n",
       "45207            0               0               0            0   \n",
       "45208            0               0               0            0   \n",
       "45209            0               0               0            0   \n",
       "45210            0               0               0            0   \n",
       "\n",
       "       marital_married  marital_single  education_secondary  \\\n",
       "0                    1               0                    0   \n",
       "1                    0               1                    1   \n",
       "2                    1               0                    1   \n",
       "3                    1               0                    0   \n",
       "4                    0               1                    0   \n",
       "...                ...             ...                  ...   \n",
       "45206                1               0                    0   \n",
       "45207                0               0                    0   \n",
       "45208                1               0                    1   \n",
       "45209                1               0                    1   \n",
       "45210                1               0                    1   \n",
       "\n",
       "       education_tertiary  education_unknown  targeted_yes  default_yes  \\\n",
       "0                       1                  0             1            0   \n",
       "1                       0                  0             1            0   \n",
       "2                       0                  0             1            0   \n",
       "3                       0                  1             0            0   \n",
       "4                       0                  1             0            0   \n",
       "...                   ...                ...           ...          ...   \n",
       "45206                   1                  0             1            0   \n",
       "45207                   0                  0             1            0   \n",
       "45208                   0                  0             1            0   \n",
       "45209                   0                  0             1            0   \n",
       "45210                   0                  0             1            0   \n",
       "\n",
       "       housing_yes  loan_yes  contact_telephone  contact_unknown  month_aug  \\\n",
       "0                1         0                  0                1          0   \n",
       "1                1         0                  0                1          0   \n",
       "2                1         1                  0                1          0   \n",
       "3                1         0                  0                1          0   \n",
       "4                0         0                  0                1          0   \n",
       "...            ...       ...                ...              ...        ...   \n",
       "45206            0         0                  0                0          0   \n",
       "45207            0         0                  0                0          0   \n",
       "45208            0         0                  0                0          0   \n",
       "45209            0         0                  1                0          0   \n",
       "45210            0         0                  0                0          0   \n",
       "\n",
       "       month_dec  month_feb  month_jan  month_jul  month_jun  month_mar  \\\n",
       "0              0          0          0          0          0          0   \n",
       "1              0          0          0          0          0          0   \n",
       "2              0          0          0          0          0          0   \n",
       "3              0          0          0          0          0          0   \n",
       "4              0          0          0          0          0          0   \n",
       "...          ...        ...        ...        ...        ...        ...   \n",
       "45206          0          0          0          0          0          0   \n",
       "45207          0          0          0          0          0          0   \n",
       "45208          0          0          0          0          0          0   \n",
       "45209          0          0          0          0          0          0   \n",
       "45210          0          0          0          0          0          0   \n",
       "\n",
       "       month_may  month_nov  month_oct  month_sep  \n",
       "0              1          0          0          0  \n",
       "1              1          0          0          0  \n",
       "2              1          0          0          0  \n",
       "3              1          0          0          0  \n",
       "4              1          0          0          0  \n",
       "...          ...        ...        ...        ...  \n",
       "45206          0          1          0          0  \n",
       "45207          0          1          0          0  \n",
       "45208          0          1          0          0  \n",
       "45209          0          1          0          0  \n",
       "45210          0          1          0          0  \n",
       "\n",
       "[45211 rows x 42 columns]"
      ]
     },
     "execution_count": 45,
     "metadata": {},
     "output_type": "execute_result"
    }
   ],
   "source": [
    "dataset_new"
   ]
  },
  {
   "cell_type": "code",
   "execution_count": 46,
   "metadata": {},
   "outputs": [],
   "source": [
    "dataset_new1 = dataset_new"
   ]
  },
  {
   "cell_type": "markdown",
   "metadata": {},
   "source": [
    "### Seperating data in independent and dependent variables"
   ]
  },
  {
   "cell_type": "code",
   "execution_count": 47,
   "metadata": {},
   "outputs": [],
   "source": [
    "X = dataset_new1.loc[:,dataset_new1.columns != 'response']\n",
    "y = dataset_new1.loc[:,dataset_new1.columns == 'response']"
   ]
  },
  {
   "cell_type": "code",
   "execution_count": 48,
   "metadata": {},
   "outputs": [
    {
     "data": {
      "text/plain": [
       "(45211, 1)"
      ]
     },
     "execution_count": 48,
     "metadata": {},
     "output_type": "execute_result"
    }
   ],
   "source": [
    "y.shape"
   ]
  },
  {
   "cell_type": "markdown",
   "metadata": {},
   "source": [
    "### Splitting the dataset into training set and testing set\n"
   ]
  },
  {
   "cell_type": "code",
   "execution_count": 49,
   "metadata": {},
   "outputs": [],
   "source": [
    "from sklearn.model_selection import train_test_split\n",
    "X_train, X_test, y_train, y_test = train_test_split(X, y, test_size = 0.25, random_state = 0)"
   ]
  },
  {
   "cell_type": "code",
   "execution_count": 50,
   "metadata": {},
   "outputs": [
    {
     "name": "stdout",
     "output_type": "stream",
     "text": [
      "shape of X_train :  33908 \n",
      "shape of y_train :  33908\n",
      "\n",
      "shape of X_test  :  11303 \n",
      "shape of y_test  :  11303\n"
     ]
    }
   ],
   "source": [
    "#print lenght of both test and train set\n",
    "print('shape of X_train : ',len(X_train), '\\nshape of y_train : ',len(y_train))\n",
    "print('\\nshape of X_test  : ',len(X_test), '\\nshape of y_test  : ',len(y_test))"
   ]
  },
  {
   "cell_type": "code",
   "execution_count": 51,
   "metadata": {},
   "outputs": [
    {
     "name": "stdout",
     "output_type": "stream",
     "text": [
      "       age  salary  balance  day  duration  campaign  pdays  previous  \\\n",
      "33362   39   70000     3870   20        72         1    999         0   \n",
      "28229   31  100000     1073   29        82         1    999         0   \n",
      "37952   36   50000      886   14       362         6    999         0   \n",
      "43408   19    4000      394    5       327         3    999         0   \n",
      "9897    45   16000        0    9       100         1    999         0   \n",
      "...    ...     ...      ...  ...       ...       ...    ...       ...   \n",
      "30403   35  100000      995    5        39         1    999         0   \n",
      "21243   35  100000      750   18       233        12    999         0   \n",
      "42613   35  100000      323   11       261         2    999         0   \n",
      "43567   70   55000      616   27       149         2    182         1   \n",
      "2732    46   20000       57   14       194         4    999         0   \n",
      "\n",
      "       job_blue-collar  job_entrepreneur  job_housemaid  job_management  \\\n",
      "33362                0                 0              0               0   \n",
      "28229                0                 0              0               1   \n",
      "37952                0                 0              0               0   \n",
      "43408                0                 0              0               0   \n",
      "9897                 0                 0              1               0   \n",
      "...                ...               ...            ...             ...   \n",
      "30403                0                 0              0               1   \n",
      "21243                0                 0              0               1   \n",
      "42613                0                 0              0               1   \n",
      "43567                0                 0              0               0   \n",
      "2732                 1                 0              0               0   \n",
      "\n",
      "       job_retired  job_self-employed  job_services  job_student  \\\n",
      "33362            0                  0             1            0   \n",
      "28229            0                  0             0            0   \n",
      "37952            0                  0             0            0   \n",
      "43408            0                  0             0            1   \n",
      "9897             0                  0             0            0   \n",
      "...            ...                ...           ...          ...   \n",
      "30403            0                  0             0            0   \n",
      "21243            0                  0             0            0   \n",
      "42613            0                  0             0            0   \n",
      "43567            1                  0             0            0   \n",
      "2732             0                  0             0            0   \n",
      "\n",
      "       job_technician  job_unemployed  job_unknown  marital_married  \\\n",
      "33362               0               0            0                1   \n",
      "28229               0               0            0                0   \n",
      "37952               0               0            0                0   \n",
      "43408               0               0            0                0   \n",
      "9897                0               0            0                1   \n",
      "...               ...             ...          ...              ...   \n",
      "30403               0               0            0                0   \n",
      "21243               0               0            0                1   \n",
      "42613               0               0            0                1   \n",
      "43567               0               0            0                1   \n",
      "2732                0               0            0                0   \n",
      "\n",
      "       marital_single  education_secondary  education_tertiary  \\\n",
      "33362               0                    1                   0   \n",
      "28229               1                    0                   1   \n",
      "37952               1                    1                   0   \n",
      "43408               1                    1                   0   \n",
      "9897                0                    0                   1   \n",
      "...               ...                  ...                 ...   \n",
      "30403               1                    0                   1   \n",
      "21243               0                    0                   1   \n",
      "42613               0                    0                   1   \n",
      "43567               0                    1                   0   \n",
      "2732                1                    1                   0   \n",
      "\n",
      "       education_unknown  targeted_yes  default_yes  housing_yes  loan_yes  \\\n",
      "33362                  0             1            0            1         0   \n",
      "28229                  0             0            0            1         0   \n",
      "37952                  0             1            0            1         1   \n",
      "43408                  0             1            0            0         0   \n",
      "9897                   0             1            0            0         0   \n",
      "...                  ...           ...          ...          ...       ...   \n",
      "30403                  0             0            0            0         0   \n",
      "21243                  0             1            0            1         0   \n",
      "42613                  0             1            0            0         0   \n",
      "43567                  0             1            0            0         0   \n",
      "2732                   0             1            0            1         0   \n",
      "\n",
      "       contact_telephone  contact_unknown  month_aug  month_dec  month_feb  \\\n",
      "33362                  0                0          0          0          0   \n",
      "28229                  1                0          0          0          0   \n",
      "37952                  0                0          0          0          0   \n",
      "43408                  0                0          0          0          0   \n",
      "9897                   0                1          0          0          0   \n",
      "...                  ...              ...        ...        ...        ...   \n",
      "30403                  0                0          0          0          1   \n",
      "21243                  0                0          1          0          0   \n",
      "42613                  0                0          0          0          0   \n",
      "43567                  0                0          0          0          0   \n",
      "2732                   0                1          0          0          0   \n",
      "\n",
      "       month_jan  month_jul  month_jun  month_mar  month_may  month_nov  \\\n",
      "33362          0          0          0          0          0          0   \n",
      "28229          1          0          0          0          0          0   \n",
      "37952          0          0          0          0          1          0   \n",
      "43408          0          0          0          0          0          0   \n",
      "9897           0          0          1          0          0          0   \n",
      "...          ...        ...        ...        ...        ...        ...   \n",
      "30403          0          0          0          0          0          0   \n",
      "21243          0          0          0          0          0          0   \n",
      "42613          1          0          0          0          0          0   \n",
      "43567          0          0          0          0          0          0   \n",
      "2732           0          0          0          0          1          0   \n",
      "\n",
      "       month_oct  month_sep  \n",
      "33362          0          0  \n",
      "28229          0          0  \n",
      "37952          0          0  \n",
      "43408          0          0  \n",
      "9897           0          0  \n",
      "...          ...        ...  \n",
      "30403          0          0  \n",
      "21243          0          0  \n",
      "42613          0          0  \n",
      "43567          0          0  \n",
      "2732           0          0  \n",
      "\n",
      "[33908 rows x 41 columns]\n"
     ]
    }
   ],
   "source": [
    "print(X_train)"
   ]
  },
  {
   "cell_type": "code",
   "execution_count": 52,
   "metadata": {},
   "outputs": [
    {
     "name": "stdout",
     "output_type": "stream",
     "text": [
      "       age  salary  balance  day  duration  campaign  pdays  previous  \\\n",
      "14001   37  100000     1403   10        91        15    999         0   \n",
      "32046   36   70000     -253   14      1073         1    999         0   \n",
      "13318   47   20000     -406    8       243         5    999         0   \n",
      "42991   57   16000      501   11       105         7    188         2   \n",
      "14237   33   20000     -406   14       332         2    999         0   \n",
      "...    ...     ...      ...  ...       ...       ...    ...       ...   \n",
      "9953    37   50000     3913    9        76         2    999         0   \n",
      "37898   36   70000     -267   14        99         7    352         1   \n",
      "1080    37   60000        0    7       112         4    999         0   \n",
      "17950   41  100000      636   30        80         2    999         0   \n",
      "20575   49  100000     4751   12       884         4    999         0   \n",
      "\n",
      "       job_blue-collar  job_entrepreneur  job_housemaid  job_management  \\\n",
      "14001                0                 0              0               1   \n",
      "32046                0                 0              0               0   \n",
      "13318                1                 0              0               0   \n",
      "42991                0                 0              1               0   \n",
      "14237                1                 0              0               0   \n",
      "...                ...               ...            ...             ...   \n",
      "9953                 0                 0              0               0   \n",
      "37898                0                 0              0               0   \n",
      "1080                 0                 0              0               0   \n",
      "17950                0                 0              0               1   \n",
      "20575                0                 0              0               1   \n",
      "\n",
      "       job_retired  job_self-employed  job_services  job_student  \\\n",
      "14001            0                  0             0            0   \n",
      "32046            0                  0             1            0   \n",
      "13318            0                  0             0            0   \n",
      "42991            0                  0             0            0   \n",
      "14237            0                  0             0            0   \n",
      "...            ...                ...           ...          ...   \n",
      "9953             0                  0             0            0   \n",
      "37898            0                  0             1            0   \n",
      "1080             0                  1             0            0   \n",
      "17950            0                  0             0            0   \n",
      "20575            0                  0             0            0   \n",
      "\n",
      "       job_technician  job_unemployed  job_unknown  marital_married  \\\n",
      "14001               0               0            0                1   \n",
      "32046               0               0            0                0   \n",
      "13318               0               0            0                1   \n",
      "42991               0               0            0                1   \n",
      "14237               0               0            0                1   \n",
      "...               ...             ...          ...              ...   \n",
      "9953                0               0            0                1   \n",
      "37898               0               0            0                0   \n",
      "1080                0               0            0                1   \n",
      "17950               0               0            0                1   \n",
      "20575               0               0            0                1   \n",
      "\n",
      "       marital_single  education_secondary  education_tertiary  \\\n",
      "14001               0                    0                   1   \n",
      "32046               1                    1                   0   \n",
      "13318               0                    0                   0   \n",
      "42991               0                    0                   0   \n",
      "14237               0                    1                   0   \n",
      "...               ...                  ...                 ...   \n",
      "9953                0                    0                   0   \n",
      "37898               1                    1                   0   \n",
      "1080                0                    0                   0   \n",
      "17950               0                    0                   1   \n",
      "20575               0                    0                   1   \n",
      "\n",
      "       education_unknown  targeted_yes  default_yes  housing_yes  loan_yes  \\\n",
      "14001                  0             1            0            1         0   \n",
      "32046                  0             1            0            1         0   \n",
      "13318                  0             1            0            0         1   \n",
      "42991                  0             1            0            1         1   \n",
      "14237                  0             1            1            1         1   \n",
      "...                  ...           ...          ...          ...       ...   \n",
      "9953                   0             1            0            1         0   \n",
      "37898                  0             1            0            1         0   \n",
      "1080                   0             1            0            0         0   \n",
      "17950                  0             1            0            1         0   \n",
      "20575                  0             1            0            0         0   \n",
      "\n",
      "       contact_telephone  contact_unknown  month_aug  month_dec  month_feb  \\\n",
      "14001                  0                0          0          0          0   \n",
      "32046                  0                0          0          0          0   \n",
      "13318                  1                0          0          0          0   \n",
      "42991                  0                0          0          0          1   \n",
      "14237                  0                0          0          0          0   \n",
      "...                  ...              ...        ...        ...        ...   \n",
      "9953                   0                1          0          0          0   \n",
      "37898                  0                0          0          0          0   \n",
      "1080                   0                1          0          0          0   \n",
      "17950                  1                0          0          0          0   \n",
      "20575                  0                0          1          0          0   \n",
      "\n",
      "       month_jan  month_jul  month_jun  month_mar  month_may  month_nov  \\\n",
      "14001          0          1          0          0          0          0   \n",
      "32046          0          0          0          0          0          0   \n",
      "13318          0          1          0          0          0          0   \n",
      "42991          0          0          0          0          0          0   \n",
      "14237          0          1          0          0          0          0   \n",
      "...          ...        ...        ...        ...        ...        ...   \n",
      "9953           0          0          1          0          0          0   \n",
      "37898          0          0          0          0          1          0   \n",
      "1080           0          0          0          0          1          0   \n",
      "17950          0          1          0          0          0          0   \n",
      "20575          0          0          0          0          0          0   \n",
      "\n",
      "       month_oct  month_sep  \n",
      "14001          0          0  \n",
      "32046          0          0  \n",
      "13318          0          0  \n",
      "42991          0          0  \n",
      "14237          0          0  \n",
      "...          ...        ...  \n",
      "9953           0          0  \n",
      "37898          0          0  \n",
      "1080           0          0  \n",
      "17950          0          0  \n",
      "20575          0          0  \n",
      "\n",
      "[11303 rows x 41 columns]\n"
     ]
    }
   ],
   "source": [
    "print(X_test)"
   ]
  },
  {
   "cell_type": "code",
   "execution_count": 53,
   "metadata": {},
   "outputs": [
    {
     "name": "stdout",
     "output_type": "stream",
     "text": [
      "       response\n",
      "33362         0\n",
      "28229         0\n",
      "37952         0\n",
      "43408         1\n",
      "9897          0\n",
      "...         ...\n",
      "30403         0\n",
      "21243         0\n",
      "42613         1\n",
      "43567         0\n",
      "2732          0\n",
      "\n",
      "[33908 rows x 1 columns]\n"
     ]
    }
   ],
   "source": [
    "print(y_train)"
   ]
  },
  {
   "cell_type": "code",
   "execution_count": 54,
   "metadata": {},
   "outputs": [
    {
     "name": "stdout",
     "output_type": "stream",
     "text": [
      "       response\n",
      "14001         0\n",
      "32046         1\n",
      "13318         0\n",
      "42991         0\n",
      "14237         0\n",
      "...         ...\n",
      "9953          0\n",
      "37898         0\n",
      "1080          0\n",
      "17950         0\n",
      "20575         1\n",
      "\n",
      "[11303 rows x 1 columns]\n"
     ]
    }
   ],
   "source": [
    "print(y_test)"
   ]
  },
  {
   "cell_type": "markdown",
   "metadata": {},
   "source": [
    "### Feature Scaling "
   ]
  },
  {
   "cell_type": "code",
   "execution_count": 55,
   "metadata": {},
   "outputs": [],
   "source": [
    "from sklearn.preprocessing import StandardScaler\n",
    "sc = StandardScaler()\n",
    "X_train = sc.fit_transform(X_train)\n",
    "X_test = sc.transform(X_test)"
   ]
  },
  {
   "cell_type": "code",
   "execution_count": 56,
   "metadata": {},
   "outputs": [
    {
     "name": "stdout",
     "output_type": "stream",
     "text": [
      "[[-0.18276354  0.39923449  0.80402975 ... -0.31291337 -0.12781026\n",
      "  -0.11225988]\n",
      " [-0.93754659  1.33362363 -0.09711178 ... -0.31291337 -0.12781026\n",
      "  -0.11225988]\n",
      " [-0.46580719 -0.22369161 -0.15735971 ... -0.31291337 -0.12781026\n",
      "  -0.11225988]\n",
      " ...\n",
      " [-0.56015507  1.33362363 -0.33874787 ... -0.31291337 -0.12781026\n",
      "  -0.11225988]\n",
      " [ 2.74202077 -0.06796008 -0.2443487  ... -0.31291337 -0.12781026\n",
      "  -0.11225988]\n",
      " [ 0.47767162 -1.15808075 -0.42444813 ... -0.31291337 -0.12781026\n",
      "  -0.11225988]]\n"
     ]
    }
   ],
   "source": [
    "print(X_train)"
   ]
  },
  {
   "cell_type": "code",
   "execution_count": 57,
   "metadata": {},
   "outputs": [
    {
     "name": "stdout",
     "output_type": "stream",
     "text": [
      "[[-0.3714593   1.33362363  0.0092081  ... -0.31291337 -0.12781026\n",
      "  -0.11225988]\n",
      " [-0.46580719  0.39923449 -0.52432439 ... -0.31291337 -0.12781026\n",
      "  -0.11225988]\n",
      " [ 0.5720195  -1.15808075 -0.57361815 ... -0.31291337 -0.12781026\n",
      "  -0.11225988]\n",
      " ...\n",
      " [-0.3714593   0.08777144 -0.44281248 ... -0.31291337 -0.12781026\n",
      "  -0.11225988]\n",
      " [ 0.00593222  1.33362363 -0.23790507 ... -0.31291337 -0.12781026\n",
      "  -0.11225988]\n",
      " [ 0.76071527  1.33362363  1.08787161 ... -0.31291337 -0.12781026\n",
      "  -0.11225988]]\n"
     ]
    }
   ],
   "source": [
    "print(X_test)"
   ]
  },
  {
   "cell_type": "markdown",
   "metadata": {},
   "source": [
    "## Predictive model 1: Logistic regression\n",
    "### Training the Logistic Regression Model on the Training set"
   ]
  },
  {
   "cell_type": "code",
   "execution_count": 58,
   "metadata": {},
   "outputs": [
    {
     "data": {
      "text/plain": [
       "LogisticRegression(random_state=0)"
      ]
     },
     "execution_count": 58,
     "metadata": {},
     "output_type": "execute_result"
    }
   ],
   "source": [
    "from sklearn.linear_model import LogisticRegression\n",
    "classifier = LogisticRegression(random_state = 0)\n",
    "classifier.fit(X_train, y_train)\n"
   ]
  },
  {
   "cell_type": "code",
   "execution_count": 59,
   "metadata": {},
   "outputs": [
    {
     "data": {
      "text/plain": [
       "0.8972513861035744"
      ]
     },
     "execution_count": 59,
     "metadata": {},
     "output_type": "execute_result"
    }
   ],
   "source": [
    "#Training accuracy\n",
    "classifier.score(X_train, y_train)"
   ]
  },
  {
   "cell_type": "code",
   "execution_count": 60,
   "metadata": {},
   "outputs": [
    {
     "data": {
      "text/plain": [
       "0.894895160576838"
      ]
     },
     "execution_count": 60,
     "metadata": {},
     "output_type": "execute_result"
    }
   ],
   "source": [
    "# Testing accuracy\n",
    "classifier.score(X_test, y_test)"
   ]
  },
  {
   "cell_type": "code",
   "execution_count": 61,
   "metadata": {},
   "outputs": [],
   "source": [
    "y_pred = classifier.predict(X_test)\n",
    "#print(np.concatenate((y_pred.reshape(len(y_pred),1), y_test.reshape(len(y_test),1)),1))"
   ]
  },
  {
   "cell_type": "markdown",
   "metadata": {},
   "source": [
    "### Making the Confusion Matrix"
   ]
  },
  {
   "cell_type": "code",
   "execution_count": 62,
   "metadata": {},
   "outputs": [
    {
     "name": "stdout",
     "output_type": "stream",
     "text": [
      "[[9720  258]\n",
      " [ 930  395]]\n"
     ]
    },
    {
     "data": {
      "text/plain": [
       "0.894895160576838"
      ]
     },
     "execution_count": 62,
     "metadata": {},
     "output_type": "execute_result"
    }
   ],
   "source": [
    "from sklearn.metrics import confusion_matrix, accuracy_score\n",
    "cm = confusion_matrix(y_test, y_pred)\n",
    "print(cm)\n",
    "accuracy_score(y_test, y_pred)"
   ]
  },
  {
   "cell_type": "code",
   "execution_count": 63,
   "metadata": {
    "scrolled": true
   },
   "outputs": [
    {
     "name": "stdout",
     "output_type": "stream",
     "text": [
      "              precision    recall  f1-score   support\n",
      "\n",
      "           0       0.91      0.97      0.94      9978\n",
      "           1       0.60      0.30      0.40      1325\n",
      "\n",
      "    accuracy                           0.89     11303\n",
      "   macro avg       0.76      0.64      0.67     11303\n",
      "weighted avg       0.88      0.89      0.88     11303\n",
      "\n"
     ]
    }
   ],
   "source": [
    "from sklearn.metrics import classification_report\n",
    "print(classification_report(y_test,y_pred))"
   ]
  },
  {
   "cell_type": "code",
   "execution_count": null,
   "metadata": {},
   "outputs": [],
   "source": []
  },
  {
   "cell_type": "markdown",
   "metadata": {},
   "source": [
    "### Now I will give a try for decision tree"
   ]
  },
  {
   "cell_type": "code",
   "execution_count": 64,
   "metadata": {},
   "outputs": [],
   "source": [
    "from sklearn.tree import DecisionTreeClassifier"
   ]
  },
  {
   "cell_type": "code",
   "execution_count": 65,
   "metadata": {},
   "outputs": [
    {
     "data": {
      "text/plain": [
       "DecisionTreeClassifier()"
      ]
     },
     "execution_count": 65,
     "metadata": {},
     "output_type": "execute_result"
    }
   ],
   "source": [
    "classifier = DecisionTreeClassifier()\n",
    "classifier.fit(X_train, y_train)"
   ]
  },
  {
   "cell_type": "code",
   "execution_count": 66,
   "metadata": {},
   "outputs": [
    {
     "data": {
      "text/plain": [
       "1.0"
      ]
     },
     "execution_count": 66,
     "metadata": {},
     "output_type": "execute_result"
    }
   ],
   "source": [
    "#Training Accuracy \n",
    "classifier.score(X_train, y_train)"
   ]
  },
  {
   "cell_type": "code",
   "execution_count": 67,
   "metadata": {},
   "outputs": [
    {
     "data": {
      "text/plain": [
       "0.8662302043705211"
      ]
     },
     "execution_count": 67,
     "metadata": {},
     "output_type": "execute_result"
    }
   ],
   "source": [
    "#Testing Accuracy\n",
    "classifier.score(X_test, y_test)"
   ]
  },
  {
   "cell_type": "code",
   "execution_count": 68,
   "metadata": {},
   "outputs": [],
   "source": [
    "y_pred = classifier.predict(X_test)"
   ]
  },
  {
   "cell_type": "code",
   "execution_count": 69,
   "metadata": {},
   "outputs": [
    {
     "name": "stdout",
     "output_type": "stream",
     "text": [
      "[[9189  789]\n",
      " [ 723  602]]\n"
     ]
    },
    {
     "data": {
      "text/plain": [
       "0.8662302043705211"
      ]
     },
     "execution_count": 69,
     "metadata": {},
     "output_type": "execute_result"
    }
   ],
   "source": [
    "from sklearn.metrics import confusion_matrix, accuracy_score\n",
    "cm = confusion_matrix(y_test, y_pred)\n",
    "print(cm)\n",
    "accuracy_score(y_test, y_pred)"
   ]
  },
  {
   "cell_type": "code",
   "execution_count": 70,
   "metadata": {},
   "outputs": [
    {
     "name": "stdout",
     "output_type": "stream",
     "text": [
      "              precision    recall  f1-score   support\n",
      "\n",
      "           0       0.93      0.92      0.92      9978\n",
      "           1       0.43      0.45      0.44      1325\n",
      "\n",
      "    accuracy                           0.87     11303\n",
      "   macro avg       0.68      0.69      0.68     11303\n",
      "weighted avg       0.87      0.87      0.87     11303\n",
      "\n"
     ]
    }
   ],
   "source": [
    "from sklearn.metrics import classification_report\n",
    "print(classification_report(y_test,y_pred))"
   ]
  },
  {
   "cell_type": "markdown",
   "metadata": {},
   "source": [
    "### Now i will make my data more clean and then again train and test my model accuracy"
   ]
  },
  {
   "cell_type": "code",
   "execution_count": 71,
   "metadata": {},
   "outputs": [
    {
     "data": {
      "text/plain": [
       "<matplotlib.axes._subplots.AxesSubplot at 0x1a7ee201f40>"
      ]
     },
     "execution_count": 71,
     "metadata": {},
     "output_type": "execute_result"
    },
    {
     "data": {
      "image/png": "[encoded data removed]",
      "text/plain": [
       "<Figure size 432x288 with 1 Axes>"
      ]
     },
     "metadata": {
      "needs_background": "light"
     },
     "output_type": "display_data"
    }
   ],
   "source": [
    "# Checking for outliers\n",
    "sns.boxplot(x = 'response', y='duration', data=dataset_new1)"
   ]
  },
  {
   "cell_type": "code",
   "execution_count": 72,
   "metadata": {},
   "outputs": [
    {
     "data": {
      "text/plain": [
       "<matplotlib.axes._subplots.AxesSubplot at 0x1a7ee260d30>"
      ]
     },
     "execution_count": 72,
     "metadata": {},
     "output_type": "execute_result"
    },
    {
     "data": {
      "image/png": "[encoded data removed]",
      "text/plain": [
       "<Figure size 432x288 with 1 Axes>"
      ]
     },
     "metadata": {
      "needs_background": "light"
     },
     "output_type": "display_data"
    }
   ],
   "source": [
    "sns.boxplot(x = 'response', y='housing_yes', data=dataset_new1)"
   ]
  },
  {
   "cell_type": "code",
   "execution_count": 73,
   "metadata": {},
   "outputs": [
    {
     "data": {
      "text/plain": [
       "<matplotlib.axes._subplots.AxesSubplot at 0x1a7ee2ccf40>"
      ]
     },
     "execution_count": 73,
     "metadata": {},
     "output_type": "execute_result"
    },
    {
     "data": {
      "image/png": "[encoded data removed]",
      "text/plain": [
       "<Figure size 432x288 with 1 Axes>"
      ]
     },
     "metadata": {
      "needs_background": "light"
     },
     "output_type": "display_data"
    }
   ],
   "source": [
    "sns.boxplot(x = 'response', y='age', data=dataset_new1)"
   ]
  },
  {
   "cell_type": "code",
   "execution_count": 74,
   "metadata": {},
   "outputs": [
    {
     "data": {
      "text/plain": [
       "<matplotlib.axes._subplots.AxesSubplot at 0x1a7ee6e3f70>"
      ]
     },
     "execution_count": 74,
     "metadata": {},
     "output_type": "execute_result"
    },
    {
     "data": {
      "image/png": "[encoded data removed]",
      "text/plain": [
       "<Figure size 432x288 with 1 Axes>"
      ]
     },
     "metadata": {
      "needs_background": "light"
     },
     "output_type": "display_data"
    }
   ],
   "source": [
    "sns.boxplot(x = 'response', y='campaign', data=dataset_new1)"
   ]
  },
  {
   "cell_type": "code",
   "execution_count": 75,
   "metadata": {},
   "outputs": [],
   "source": [
    "# Removing Outliers\n",
    "def remove_outliers(df, column , minimum, maximum):\n",
    "    col_values = df[column].values\n",
    "    df[column] = np.where(np.logical_or(col_values<minimum, col_values>maximum), col_values.mean(), col_values)\n",
    "    return df"
   ]
  },
  {
   "cell_type": "code",
   "execution_count": 76,
   "metadata": {},
   "outputs": [
    {
     "data": {
      "text/plain": [
       "45211"
      ]
     },
     "execution_count": 76,
     "metadata": {},
     "output_type": "execute_result"
    }
   ],
   "source": [
    "len(dataset_new1['duration'])"
   ]
  },
  {
   "cell_type": "code",
   "execution_count": 77,
   "metadata": {},
   "outputs": [],
   "source": [
    "min_val = dataset_new1[\"duration\"].min()\n",
    "max_val = 1500\n",
    "dataset_new1 = remove_outliers(df=dataset_new1, column='duration' , minimum=min_val, maximum=max_val)\n",
    "\n",
    "min_val = dataset_new1[\"age\"].min()\n",
    "max_val = 80\n",
    "dataset_new1 = remove_outliers(df=dataset_new1, column='age' , minimum=min_val, maximum=max_val)\n",
    "\n",
    "min_val = dataset_new1[\"campaign\"].min()\n",
    "max_val = 6\n",
    "dataset_new1 = remove_outliers(df=dataset_new1, column='campaign' , minimum=min_val, maximum=max_val)\n"
   ]
  },
  {
   "cell_type": "code",
   "execution_count": 78,
   "metadata": {},
   "outputs": [
    {
     "data": {
      "text/plain": [
       "<matplotlib.axes._subplots.AxesSubplot at 0x1a7ee758700>"
      ]
     },
     "execution_count": 78,
     "metadata": {},
     "output_type": "execute_result"
    },
    {
     "data": {
      "image/png": "[encoded data removed]",
      "text/plain": [
       "<Figure size 432x288 with 1 Axes>"
      ]
     },
     "metadata": {
      "needs_background": "light"
     },
     "output_type": "display_data"
    }
   ],
   "source": [
    "# dropping less meaningfull data\n",
    "sns.countplot(x='default_yes',hue='response',data=dataset_new1)"
   ]
  },
  {
   "cell_type": "code",
   "execution_count": 79,
   "metadata": {},
   "outputs": [],
   "source": [
    "# it is skewed  to zero, so i am dropping this.\n",
    "dataset_new1 = dataset_new1.drop('default_yes', axis = 1)"
   ]
  },
  {
   "cell_type": "code",
   "execution_count": 80,
   "metadata": {},
   "outputs": [
    {
     "data": {
      "text/plain": [
       "<matplotlib.axes._subplots.AxesSubplot at 0x1a7edc3f0a0>"
      ]
     },
     "execution_count": 80,
     "metadata": {},
     "output_type": "execute_result"
    },
    {
     "data": {
      "image/png": "[encoded data removed]",
      "text/plain": [
       "<Figure size 432x288 with 1 Axes>"
      ]
     },
     "metadata": {
      "needs_background": "light"
     },
     "output_type": "display_data"
    }
   ],
   "source": [
    "sns.countplot(x='contact_telephone',hue='response',data=dataset_new1)"
   ]
  },
  {
   "cell_type": "code",
   "execution_count": 81,
   "metadata": {},
   "outputs": [
    {
     "data": {
      "text/plain": [
       "<matplotlib.axes._subplots.AxesSubplot at 0x1a7edeafcd0>"
      ]
     },
     "execution_count": 81,
     "metadata": {},
     "output_type": "execute_result"
    },
    {
     "data": {
      "image/png": "[encoded data removed]",
      "text/plain": [
       "<Figure size 432x288 with 1 Axes>"
      ]
     },
     "metadata": {
      "needs_background": "light"
     },
     "output_type": "display_data"
    }
   ],
   "source": [
    "sns.countplot(x='contact_unknown',hue='response',data=dataset_new1)"
   ]
  },
  {
   "cell_type": "code",
   "execution_count": 82,
   "metadata": {},
   "outputs": [],
   "source": [
    "dataset_new1 = dataset_new1.drop('contact_telephone', axis = 1)"
   ]
  },
  {
   "cell_type": "code",
   "execution_count": 83,
   "metadata": {},
   "outputs": [],
   "source": [
    "dataset_new1 = dataset_new1.drop('contact_unknown', axis = 1)"
   ]
  },
  {
   "cell_type": "code",
   "execution_count": 84,
   "metadata": {},
   "outputs": [
    {
     "name": "stdout",
     "output_type": "stream",
     "text": [
      "<class 'pandas.core.frame.DataFrame'>\n",
      "RangeIndex: 45211 entries, 0 to 45210\n",
      "Data columns (total 39 columns):\n",
      " #   Column               Non-Null Count  Dtype  \n",
      "---  ------               --------------  -----  \n",
      " 0   age                  45211 non-null  float64\n",
      " 1   salary               45211 non-null  int64  \n",
      " 2   balance              45211 non-null  int64  \n",
      " 3   day                  45211 non-null  int64  \n",
      " 4   duration             45211 non-null  float64\n",
      " 5   campaign             45211 non-null  float64\n",
      " 6   pdays                45211 non-null  int64  \n",
      " 7   previous             45211 non-null  int64  \n",
      " 8   response             45211 non-null  int64  \n",
      " 9   job_blue-collar      45211 non-null  uint8  \n",
      " 10  job_entrepreneur     45211 non-null  uint8  \n",
      " 11  job_housemaid        45211 non-null  uint8  \n",
      " 12  job_management       45211 non-null  uint8  \n",
      " 13  job_retired          45211 non-null  uint8  \n",
      " 14  job_self-employed    45211 non-null  uint8  \n",
      " 15  job_services         45211 non-null  uint8  \n",
      " 16  job_student          45211 non-null  uint8  \n",
      " 17  job_technician       45211 non-null  uint8  \n",
      " 18  job_unemployed       45211 non-null  uint8  \n",
      " 19  job_unknown          45211 non-null  uint8  \n",
      " 20  marital_married      45211 non-null  uint8  \n",
      " 21  marital_single       45211 non-null  uint8  \n",
      " 22  education_secondary  45211 non-null  uint8  \n",
      " 23  education_tertiary   45211 non-null  uint8  \n",
      " 24  education_unknown    45211 non-null  uint8  \n",
      " 25  targeted_yes         45211 non-null  uint8  \n",
      " 26  housing_yes          45211 non-null  uint8  \n",
      " 27  loan_yes             45211 non-null  uint8  \n",
      " 28  month_aug            45211 non-null  uint8  \n",
      " 29  month_dec            45211 non-null  uint8  \n",
      " 30  month_feb            45211 non-null  uint8  \n",
      " 31  month_jan            45211 non-null  uint8  \n",
      " 32  month_jul            45211 non-null  uint8  \n",
      " 33  month_jun            45211 non-null  uint8  \n",
      " 34  month_mar            45211 non-null  uint8  \n",
      " 35  month_may            45211 non-null  uint8  \n",
      " 36  month_nov            45211 non-null  uint8  \n",
      " 37  month_oct            45211 non-null  uint8  \n",
      " 38  month_sep            45211 non-null  uint8  \n",
      "dtypes: float64(3), int64(6), uint8(30)\n",
      "memory usage: 4.4 MB\n"
     ]
    }
   ],
   "source": [
    "dataset_new1.info()"
   ]
  },
  {
   "cell_type": "code",
   "execution_count": 85,
   "metadata": {},
   "outputs": [],
   "source": [
    "# Again splitting\n",
    "X = dataset_new1.loc[:,dataset_new1.columns != 'response']\n",
    "y = dataset_new1.loc[:,dataset_new1.columns == 'response']\n",
    "# Training testing split\n",
    "from sklearn.model_selection import train_test_split\n",
    "X_train, X_test, y_train, y_test = train_test_split(X, y, test_size = 0.25, random_state = 0)\n",
    "\n",
    "#feature scaling\n",
    "from sklearn.preprocessing import StandardScaler\n",
    "sc = StandardScaler()\n",
    "X_train = sc.fit_transform(X_train)\n",
    "X_test = sc.transform(X_test)\n",
    "\n",
    "#creating logistic regression model\n",
    "from sklearn.linear_model import LogisticRegression\n",
    "classifier = LogisticRegression(random_state = 0)\n",
    "classifier.fit(X_train, y_train)\n",
    "\n",
    "#predicting X_test data\n",
    "y_pred = classifier.predict(X_test)\n",
    "\n",
    "\n"
   ]
  },
  {
   "cell_type": "code",
   "execution_count": 86,
   "metadata": {},
   "outputs": [
    {
     "name": "stdout",
     "output_type": "stream",
     "text": [
      "[[9708  270]\n",
      " [ 929  396]]\n"
     ]
    },
    {
     "data": {
      "text/plain": [
       "0.8939219676192162"
      ]
     },
     "execution_count": 86,
     "metadata": {},
     "output_type": "execute_result"
    }
   ],
   "source": [
    "#confusion matrix\n",
    "from sklearn.metrics import confusion_matrix, accuracy_score\n",
    "cm = confusion_matrix(y_test, y_pred)\n",
    "print(cm)\n",
    "accuracy_score(y_test, y_pred)\n"
   ]
  },
  {
   "cell_type": "code",
   "execution_count": 87,
   "metadata": {},
   "outputs": [
    {
     "name": "stdout",
     "output_type": "stream",
     "text": [
      "              precision    recall  f1-score   support\n",
      "\n",
      "           0       0.91      0.97      0.94      9978\n",
      "           1       0.59      0.30      0.40      1325\n",
      "\n",
      "    accuracy                           0.89     11303\n",
      "   macro avg       0.75      0.64      0.67     11303\n",
      "weighted avg       0.88      0.89      0.88     11303\n",
      "\n"
     ]
    }
   ],
   "source": [
    "from sklearn.metrics import classification_report\n",
    "print(classification_report(y_test,y_pred))"
   ]
  },
  {
   "cell_type": "markdown",
   "metadata": {},
   "source": [
    "### --> After removing outliers and dropping less meaningfull data accuracy of the model and classification report of the model remains same."
   ]
  },
  {
   "cell_type": "code",
   "execution_count": null,
   "metadata": {},
   "outputs": [],
   "source": []
  },
  {
   "cell_type": "markdown",
   "metadata": {},
   "source": [
    "## - Using RFE to select top n features in an automated fashion (choose n as you see fit)"
   ]
  },
  {
   "cell_type": "code",
   "execution_count": 88,
   "metadata": {},
   "outputs": [
    {
     "name": "stdout",
     "output_type": "stream",
     "text": [
      "Num Features: 15\n",
      "Selected Features: [False False False False False False False False False False  True False\n",
      " False False False  True False False False False False False False False\n",
      " False  True  True  True  True  True  True  True  True  True  True  True\n",
      "  True  True]\n",
      "Feature Ranking: [17 24 23 19 18  8 21 15  9  7  1 14  2 12 11  1 13 20 22  4 10  5  3  6\n",
      " 16  1  1  1  1  1  1  1  1  1  1  1  1  1]\n"
     ]
    }
   ],
   "source": [
    "# importing necessary libary for RFE\n",
    "from sklearn.feature_selection import RFE\n",
    "\n",
    "\n",
    "model = LogisticRegression(solver='lbfgs')\n",
    "rfe = RFE(model, 15)\n",
    "fit = rfe.fit_transform(X, y)\n",
    "model.fit(fit,y)\n",
    "print(\"Num Features: %d\" % rfe.n_features_)\n",
    "print(\"Selected Features: %s\" % rfe.support_)\n",
    "print(\"Feature Ranking: %s\" % rfe.ranking_)\n"
   ]
  },
  {
   "cell_type": "markdown",
   "metadata": {},
   "source": [
    "### Here I have too LogisticRegression model with 15 features and RFE gave feature ranking above, but the selection of number '15' was random. Now we need to find the optimum number of features, for which the accuracy is the highest. This will be done by using loop starting with 1 feature and going up to 39. we then take the one for which the accuracy is highest."
   ]
  },
  {
   "cell_type": "code",
   "execution_count": 89,
   "metadata": {},
   "outputs": [],
   "source": [
    "# #no of features\n",
    "# nof_list=np.arange(1,39)            \n",
    "# high_score=0\n",
    "# #Variable to store the optimum features\n",
    "# nof=0           \n",
    "# score_list =[]\n",
    "# for n in range(len(nof_list)):\n",
    "#     X_train, X_test, y_train, y_test = train_test_split(X,y, test_size = 0.3, random_state = 0)\n",
    "#     model = LogisticRegression()\n",
    "#     rfe = RFE(model,nof_list[n])\n",
    "#     X_train_rfe = rfe.fit_transform(X_train,y_train)\n",
    "#     X_test_rfe = rfe.transform(X_test)\n",
    "#     model.fit(X_train_rfe,y_train)\n",
    "#     score = model.score(X_test_rfe,y_test)\n",
    "#     score_list.append(score)\n",
    "#     if(score>high_score):\n",
    "#         high_score = score\n",
    "#         nof = nof_list[n]\n",
    "# print(\"Optimum number of features: %d\" %nof)\n",
    "# print(\"Score with %d features: %f\" % (nof, high_score))"
   ]
  },
  {
   "cell_type": "markdown",
   "metadata": {},
   "source": [
    "### As we can see from above that the optimum number of features is 34. Now I will feed 34 as number of features to RFE and get the final set of features given by RFE method, as follows:"
   ]
  },
  {
   "cell_type": "code",
   "execution_count": 90,
   "metadata": {},
   "outputs": [
    {
     "name": "stdout",
     "output_type": "stream",
     "text": [
      "Index(['age', 'day', 'duration', 'campaign', 'previous', 'job_blue-collar',\n",
      "       'job_entrepreneur', 'job_housemaid', 'job_management', 'job_retired',\n",
      "       'job_self-employed', 'job_services', 'job_student', 'job_technician',\n",
      "       'job_unemployed', 'marital_married', 'marital_single',\n",
      "       'education_secondary', 'education_tertiary', 'education_unknown',\n",
      "       'targeted_yes', 'housing_yes', 'loan_yes', 'month_aug', 'month_dec',\n",
      "       'month_feb', 'month_jan', 'month_jul', 'month_jun', 'month_mar',\n",
      "       'month_may', 'month_nov', 'month_oct', 'month_sep'],\n",
      "      dtype='object')\n"
     ]
    }
   ],
   "source": [
    "cols = list(X.columns)\n",
    "model = LogisticRegression()\n",
    "#Initializing RFE model\n",
    "rfe = RFE(model, 34)             \n",
    "#Transforming data using RFE\n",
    "X_rfe = rfe.fit_transform(X,y)  \n",
    "#Fitting the data to model\n",
    "model.fit(X_rfe,y)              \n",
    "temp = pd.Series(rfe.support_,index = cols)\n",
    "selected_features_rfe = temp[temp==True].index\n",
    "print(selected_features_rfe)"
   ]
  },
  {
   "cell_type": "markdown",
   "metadata": {},
   "source": [
    "### Now I am going to create model on above features."
   ]
  },
  {
   "cell_type": "code",
   "execution_count": 91,
   "metadata": {},
   "outputs": [],
   "source": [
    "dataset_new1.drop(['salary','balance','pdays','job_unknown'],axis = 1, inplace = True)"
   ]
  },
  {
   "cell_type": "code",
   "execution_count": 92,
   "metadata": {},
   "outputs": [
    {
     "data": {
      "text/plain": [
       "(45211, 35)"
      ]
     },
     "execution_count": 92,
     "metadata": {},
     "output_type": "execute_result"
    }
   ],
   "source": [
    "dataset_new1.shape"
   ]
  },
  {
   "cell_type": "code",
   "execution_count": 93,
   "metadata": {},
   "outputs": [],
   "source": [
    "# Again splitting\n",
    "X = dataset_new1.loc[:,dataset_new1.columns != 'response']\n",
    "y = dataset_new1.loc[:,dataset_new1.columns == 'response']\n",
    "\n",
    "\n",
    "# Training testing split\n",
    "from sklearn.model_selection import train_test_split\n",
    "X_train, X_test, y_train, y_test = train_test_split(X, y, test_size = 0.25, random_state = 0)\n",
    "\n",
    "#feature scaling\n",
    "from sklearn.preprocessing import StandardScaler\n",
    "sc = StandardScaler()\n",
    "X_train = sc.fit_transform(X_train)\n",
    "X_test = sc.transform(X_test)\n",
    "\n",
    "#creating logistic regression model\n",
    "from sklearn.linear_model import LogisticRegression\n",
    "classifier = LogisticRegression(random_state = 0)\n",
    "classifier.fit(X_train, y_train)\n",
    "\n",
    "#predicting X_test data\n",
    "y_pred = classifier.predict(X_test)\n"
   ]
  },
  {
   "cell_type": "markdown",
   "metadata": {},
   "source": [
    "#### --> - What is the precision, recall, accuracy of your model?\n"
   ]
  },
  {
   "cell_type": "code",
   "execution_count": 94,
   "metadata": {},
   "outputs": [
    {
     "name": "stdout",
     "output_type": "stream",
     "text": [
      "[[9722  256]\n",
      " [ 958  367]]\n"
     ]
    },
    {
     "data": {
      "text/plain": [
       "0.8925948863133681"
      ]
     },
     "execution_count": 94,
     "metadata": {},
     "output_type": "execute_result"
    }
   ],
   "source": [
    "\n",
    "#confusion matrix and accuracy of my model\n",
    "from sklearn.metrics import confusion_matrix, accuracy_score\n",
    "cm = confusion_matrix(y_test, y_pred)\n",
    "print(cm)\n",
    "accuracy_score(y_test, y_pred)\n"
   ]
  },
  {
   "cell_type": "code",
   "execution_count": 95,
   "metadata": {},
   "outputs": [
    {
     "name": "stdout",
     "output_type": "stream",
     "text": [
      "              precision    recall  f1-score   support\n",
      "\n",
      "           0       0.91      0.97      0.94      9978\n",
      "           1       0.59      0.28      0.38      1325\n",
      "\n",
      "    accuracy                           0.89     11303\n",
      "   macro avg       0.75      0.63      0.66     11303\n",
      "weighted avg       0.87      0.89      0.88     11303\n",
      "\n"
     ]
    }
   ],
   "source": [
    "# precision, recall of my model\n",
    "from sklearn.metrics import classification_report\n",
    "print(classification_report(y_test,y_pred))"
   ]
  },
  {
   "cell_type": "markdown",
   "metadata": {},
   "source": [
    "### Using p values and VIF, get rid of the redundant features\n"
   ]
  },
  {
   "cell_type": "code",
   "execution_count": 96,
   "metadata": {},
   "outputs": [
    {
     "data": {
      "text/plain": [
       "const                   1.360192e-08\n",
       "age                     8.970006e-02\n",
       "day                     7.701794e-03\n",
       "duration                0.000000e+00\n",
       "campaign                2.427393e-20\n",
       "previous                1.208374e-62\n",
       "job_blue-collar         7.886442e-06\n",
       "job_entrepreneur        7.966228e-05\n",
       "job_housemaid           2.973416e-05\n",
       "job_management          2.700284e-02\n",
       "job_retired             2.848952e-05\n",
       "job_self-employed       9.300915e-03\n",
       "job_services            1.935131e-02\n",
       "job_student             3.307952e-18\n",
       "job_technician          3.268164e-02\n",
       "job_unemployed          9.233603e-01\n",
       "marital_married         9.778333e-02\n",
       "marital_single          1.375501e-02\n",
       "education_secondary     7.681148e-03\n",
       "education_tertiary      3.851354e-08\n",
       "education_unknown       9.250537e-01\n",
       "targeted_yes            6.295172e-02\n",
       "housing_yes             5.833063e-82\n",
       "loan_yes                6.261206e-20\n",
       "month_aug               8.635288e-26\n",
       "month_dec               1.173012e-24\n",
       "month_feb               6.233734e-02\n",
       "month_jan               1.784737e-31\n",
       "month_jul               3.444259e-35\n",
       "month_jun               1.376037e-19\n",
       "month_mar              2.487116e-106\n",
       "month_may               5.580538e-49\n",
       "month_nov               4.711635e-26\n",
       "month_oct               2.443127e-67\n",
       "month_sep               4.856570e-63\n",
       "dtype: float64"
      ]
     },
     "execution_count": 96,
     "metadata": {},
     "output_type": "execute_result"
    }
   ],
   "source": [
    "#Adding constant column of ones, mandatory for sm.OLS model\n",
    "import statsmodels.regression.linear_model as lm\n",
    "import statsmodels.regression.linear_model as sm\n",
    "import statsmodels.api as smm\n",
    "X_1 = smm.add_constant(X)\n",
    "#Fitting sm.OLS model\n",
    "model = lm.OLS(y,X_1).fit()\n",
    "model.pvalues"
   ]
  },
  {
   "cell_type": "code",
   "execution_count": 97,
   "metadata": {
    "scrolled": true
   },
   "outputs": [
    {
     "name": "stdout",
     "output_type": "stream",
     "text": [
      "['day', 'duration', 'campaign', 'previous', 'job_blue-collar', 'job_entrepreneur', 'job_housemaid', 'job_management', 'job_retired', 'job_self-employed', 'job_services', 'job_student', 'job_technician', 'marital_single', 'education_secondary', 'education_tertiary', 'targeted_yes', 'housing_yes', 'loan_yes', 'month_aug', 'month_dec', 'month_jan', 'month_jul', 'month_jun', 'month_mar', 'month_may', 'month_nov', 'month_oct', 'month_sep']\n"
     ]
    }
   ],
   "source": [
    "\n",
    "cols = list(X.columns)\n",
    "pmax = 1\n",
    "while (len(cols)>0):\n",
    "    p= []\n",
    "    X_1 = X[cols]\n",
    "    X_1 = smm.add_constant(X_1)\n",
    "    model = sm.OLS(y,X_1).fit()\n",
    "    p = pd.Series(model.pvalues.values[1:],index = cols)      \n",
    "    pmax = max(p)\n",
    "    feature_with_p_max = p.idxmax()\n",
    "    if(pmax>0.05):\n",
    "        cols.remove(feature_with_p_max)\n",
    "    else:\n",
    "        break\n",
    "selected_features_BE = cols\n",
    "print(selected_features_BE)"
   ]
  },
  {
   "cell_type": "markdown",
   "metadata": {},
   "source": [
    "### Above are the redundant features we get using pvalues"
   ]
  },
  {
   "cell_type": "markdown",
   "metadata": {},
   "source": [
    "## Now again creating model using redundant features"
   ]
  },
  {
   "cell_type": "code",
   "execution_count": 98,
   "metadata": {},
   "outputs": [],
   "source": [
    "# Again splitting\n",
    "X = X.loc[:, ['day', 'duration', 'campaign', 'previous', 'job_blue-collar', 'job_entrepreneur', 'job_housemaid', 'job_management', 'job_retired', 'job_self-employed', 'job_services', 'job_student', 'job_technician', 'marital_single', 'education_secondary', 'education_tertiary', 'targeted_yes', 'housing_yes', 'loan_yes', 'month_aug', 'month_dec', 'month_jan', 'month_jul', 'month_jun', 'month_mar', 'month_may', 'month_nov', 'month_oct', 'month_sep']]\n",
    "y = dataset.loc[:,['response']]\n",
    "\n",
    "from sklearn.preprocessing import scale\n",
    "\n",
    "# storing column names in cols, since column names are (annoyingly) lost after \n",
    "# scaling (the df is converted to a numpy array)\n",
    "cols = X.columns\n",
    "X = pd.DataFrame(scale(X))\n",
    "X.columns = cols\n",
    "X.columns\n",
    "\n",
    "# Training testing split\n",
    "from sklearn.model_selection import train_test_split\n",
    "X_train, X_test, y_train, y_test = train_test_split(X, y, test_size = 0.25, random_state = 0)\n",
    "\n",
    "# #feature scaling\n",
    "# from sklearn.preprocessing import StandardScaler\n",
    "# sc = StandardScaler()\n",
    "# X_train = sc.fit_transform(X_train)\n",
    "# X_test = sc.transform(X_test)\n",
    "\n",
    "#creating logistic regression model\n",
    "from sklearn.linear_model import LogisticRegression\n",
    "classifier = LogisticRegression(random_state = 0)\n",
    "classifier.fit(X_train, y_train)\n",
    "\n",
    "#predicting X_test data\n",
    "y_pred = classifier.predict(X_test)\n"
   ]
  },
  {
   "cell_type": "code",
   "execution_count": 99,
   "metadata": {},
   "outputs": [
    {
     "name": "stdout",
     "output_type": "stream",
     "text": [
      "[[9723  255]\n",
      " [ 960  365]]\n"
     ]
    },
    {
     "data": {
      "text/plain": [
       "0.8925064142263116"
      ]
     },
     "execution_count": 99,
     "metadata": {},
     "output_type": "execute_result"
    }
   ],
   "source": [
    "\n",
    "#confusion matrix and accuracy of my model\n",
    "from sklearn.metrics import confusion_matrix, accuracy_score\n",
    "cm = confusion_matrix(y_test, y_pred)\n",
    "print(cm)\n",
    "accuracy_score(y_test, y_pred)\n"
   ]
  },
  {
   "cell_type": "code",
   "execution_count": 100,
   "metadata": {},
   "outputs": [
    {
     "name": "stdout",
     "output_type": "stream",
     "text": [
      "              precision    recall  f1-score   support\n",
      "\n",
      "           0       0.91      0.97      0.94      9978\n",
      "           1       0.59      0.28      0.38      1325\n",
      "\n",
      "    accuracy                           0.89     11303\n",
      "   macro avg       0.75      0.62      0.66     11303\n",
      "weighted avg       0.87      0.89      0.87     11303\n",
      "\n"
     ]
    }
   ],
   "source": [
    "# precision, recall of my model\n",
    "from sklearn.metrics import classification_report\n",
    "print(classification_report(y_test,y_pred))"
   ]
  },
  {
   "cell_type": "markdown",
   "metadata": {},
   "source": [
    "### Estimate the model performance using k fold cross validation"
   ]
  },
  {
   "cell_type": "code",
   "execution_count": 101,
   "metadata": {},
   "outputs": [],
   "source": [
    "from numpy import mean\n",
    "from numpy import std\n",
    "from sklearn.datasets import make_classification\n",
    "from sklearn.model_selection import KFold\n",
    "from sklearn.model_selection import cross_val_score\n",
    "from sklearn.linear_model import LogisticRegression"
   ]
  },
  {
   "cell_type": "code",
   "execution_count": 102,
   "metadata": {},
   "outputs": [
    {
     "name": "stdout",
     "output_type": "stream",
     "text": [
      "Accuracy: 0.892\n"
     ]
    }
   ],
   "source": [
    "# X = dataset_new1.loc[:,dataset_new1.columns != 'response']\n",
    "# y = dataset_new1.loc[:,dataset_new1.columns == 'response']\n",
    "X = X.loc[:, ['day', 'duration', 'campaign', 'previous', 'job_blue-collar', 'job_entrepreneur', 'job_housemaid', 'job_management', 'job_retired', 'job_self-employed', 'job_services', 'job_student', 'job_technician', 'marital_single', 'education_secondary', 'education_tertiary', 'targeted_yes', 'housing_yes', 'loan_yes', 'month_aug', 'month_dec', 'month_jan', 'month_jul', 'month_jun', 'month_mar', 'month_may', 'month_nov', 'month_oct', 'month_sep']]\n",
    "y = dataset.loc[:,['response']]\n",
    "\n",
    "from sklearn.preprocessing import scale\n",
    "\n",
    "# storing column names in cols, since column names are (annoyingly) lost after \n",
    "# scaling (the df is converted to a numpy array)\n",
    "cols = X.columns\n",
    "X = pd.DataFrame(scale(X))\n",
    "X.columns = cols\n",
    "X.columns\n",
    "\n",
    "# prepare the cross-validation procedure\n",
    "cv = KFold(n_splits=10, random_state=1, shuffle=True)\n",
    "# create model\n",
    "model = LogisticRegression()\n",
    "# evaluate model\n",
    "scores = cross_val_score(model, X, y, scoring='accuracy', cv=cv, n_jobs=-1)\n",
    "# report performance\n",
    "print('Accuracy: %.3f' % (mean(scores)))"
   ]
  },
  {
   "cell_type": "markdown",
   "metadata": {},
   "source": [
    "### My model accuracy is 89% and K-fold cross validation accuracy is 89%, not much difference, it means there is no overfitting or underfitting issue in my model and model is good."
   ]
  },
  {
   "cell_type": "markdown",
   "metadata": {},
   "source": [
    "#### --> - Which features are the most important from your model?\n"
   ]
  },
  {
   "cell_type": "code",
   "execution_count": 103,
   "metadata": {},
   "outputs": [
    {
     "name": "stdout",
     "output_type": "stream",
     "text": [
      "The most important features from my model are.... Index(['day', 'duration', 'campaign', 'previous', 'job_blue-collar',\n",
      "       'job_entrepreneur', 'job_housemaid', 'job_management', 'job_retired',\n",
      "       'job_self-employed', 'job_services', 'job_student', 'job_technician',\n",
      "       'marital_single', 'education_secondary', 'education_tertiary',\n",
      "       'targeted_yes', 'housing_yes', 'loan_yes', 'month_aug', 'month_dec',\n",
      "       'month_jan', 'month_jul', 'month_jun', 'month_mar', 'month_may',\n",
      "       'month_nov', 'month_oct', 'month_sep'],\n",
      "      dtype='object')\n"
     ]
    }
   ],
   "source": [
    "cols = list(X.columns)\n",
    "model = LogisticRegression()\n",
    "#Initializing RFE model\n",
    "rfe = RFE(model, 34)             \n",
    "#Transforming data using RFE\n",
    "X_rfe = rfe.fit_transform(X,y)  \n",
    "#Fitting the data to model\n",
    "model.fit(X_rfe,y)              \n",
    "temp = pd.Series(rfe.support_,index = cols)\n",
    "selected_features_rfe = temp[temp==True].index\n",
    "print('The most important features from my model are....',selected_features_rfe)"
   ]
  },
  {
   "cell_type": "markdown",
   "metadata": {},
   "source": [
    "### These are the most important feature from my model"
   ]
  },
  {
   "cell_type": "markdown",
   "metadata": {},
   "source": [
    "### Predictive model 2: Random Forest\n",
    "\n",
    "- Make a predictive model using random forest technique\n",
    "- Use not more than 50 trees, and control the depth of the trees to prevent overfitting\n",
    "- Estimate the model performance using k fold cross validation\n",
    "- What is the precision, recall, accuracy of your model?\n",
    "- Using the feature importance values from the Random Forest module, identify the most important features for the model"
   ]
  },
  {
   "cell_type": "code",
   "execution_count": 104,
   "metadata": {},
   "outputs": [],
   "source": [
    "RF_dataset=dataset_new"
   ]
  },
  {
   "cell_type": "code",
   "execution_count": 105,
   "metadata": {},
   "outputs": [],
   "source": [
    "X = RF_dataset.loc[:,RF_dataset.columns != 'response']\n",
    "y = RF_dataset.loc[:,RF_dataset.columns == 'response']\n",
    "y =y.to_numpy()\n",
    "X = X.to_numpy()"
   ]
  },
  {
   "cell_type": "code",
   "execution_count": 106,
   "metadata": {},
   "outputs": [],
   "source": [
    "from sklearn.model_selection import train_test_split\n",
    "X_train, X_test, y_train, y_test = train_test_split(X, y, test_size = 0.25, random_state = 0)"
   ]
  },
  {
   "cell_type": "code",
   "execution_count": 107,
   "metadata": {},
   "outputs": [
    {
     "name": "stdout",
     "output_type": "stream",
     "text": [
      "shape of X_train :  (33908, 41) \n",
      "shape of y_train :  (33908, 1)\n",
      "\n",
      "shape of X_test  :  (11303, 41) \n",
      "shape of y_test  :  (11303, 1)\n"
     ]
    }
   ],
   "source": [
    "print('shape of X_train : ',X_train.shape, '\\nshape of y_train : ',y_train.shape)\n",
    "print('\\nshape of X_test  : ',X_test.shape, '\\nshape of y_test  : ',y_test.shape)"
   ]
  },
  {
   "cell_type": "code",
   "execution_count": 108,
   "metadata": {},
   "outputs": [],
   "source": [
    "from sklearn.preprocessing import StandardScaler\n",
    "sc = StandardScaler()\n",
    "X_train = sc.fit_transform(X_train)\n",
    "X_test = sc.transform(X_test)"
   ]
  },
  {
   "cell_type": "markdown",
   "metadata": {},
   "source": [
    "### Training the Random Forest Classification model on the Training set"
   ]
  },
  {
   "cell_type": "code",
   "execution_count": 109,
   "metadata": {},
   "outputs": [
    {
     "data": {
      "text/plain": [
       "RandomForestClassifier(criterion='entropy', n_estimators=50, random_state=0)"
      ]
     },
     "execution_count": 109,
     "metadata": {},
     "output_type": "execute_result"
    }
   ],
   "source": [
    "from sklearn.ensemble import RandomForestClassifier\n",
    "classifier = RandomForestClassifier(n_estimators = 50, criterion = 'entropy', random_state = 0)\n",
    "classifier.fit(X_train, y_train)"
   ]
  },
  {
   "cell_type": "markdown",
   "metadata": {},
   "source": [
    "### Predicting the Test results"
   ]
  },
  {
   "cell_type": "code",
   "execution_count": 110,
   "metadata": {},
   "outputs": [
    {
     "name": "stdout",
     "output_type": "stream",
     "text": [
      "[[0 0]\n",
      " [1 1]\n",
      " [0 0]\n",
      " ...\n",
      " [0 0]\n",
      " [0 0]\n",
      " [1 1]]\n"
     ]
    }
   ],
   "source": [
    "y_pred = classifier.predict(X_test)\n",
    "print(np.concatenate((y_pred.reshape(len(y_pred),1), y_test.reshape(len(y_test),1)),1))"
   ]
  },
  {
   "cell_type": "markdown",
   "metadata": {},
   "source": [
    "### Making the Confusion Matrix"
   ]
  },
  {
   "cell_type": "code",
   "execution_count": 111,
   "metadata": {},
   "outputs": [
    {
     "name": "stdout",
     "output_type": "stream",
     "text": [
      "[[9697  281]\n",
      " [ 868  457]]\n"
     ]
    },
    {
     "data": {
      "text/plain": [
       "0.8983455719720428"
      ]
     },
     "execution_count": 111,
     "metadata": {},
     "output_type": "execute_result"
    }
   ],
   "source": [
    "from sklearn.metrics import confusion_matrix, accuracy_score\n",
    "cm = confusion_matrix(y_test, y_pred)\n",
    "print(cm)\n",
    "accuracy_score(y_test, y_pred)"
   ]
  },
  {
   "cell_type": "markdown",
   "metadata": {},
   "source": [
    "### Now I will perform hyperparameter tuning to find best attributes and features to make my model better "
   ]
  },
  {
   "cell_type": "code",
   "execution_count": 112,
   "metadata": {},
   "outputs": [],
   "source": [
    "from sklearn.model_selection import RandomizedSearchCV\n",
    "\n",
    "from scipy.stats import randint\n",
    "\n",
    "est = RandomForestClassifier(n_jobs=-1)\n",
    "rf_p_dist={'max_depth':[3,5,10,20],\n",
    "              'n_estimators':[10,20,30,40,50],\n",
    "              'max_features':randint(1,42),\n",
    "               'criterion':['gini','entropy'],\n",
    "               'bootstrap':[True,False],\n",
    "               'min_samples_leaf':randint(1,10)\n",
    "              }"
   ]
  },
  {
   "cell_type": "code",
   "execution_count": 113,
   "metadata": {},
   "outputs": [],
   "source": [
    "def hypertuning_rscv(est, p_distr, nbr_iter,X,y):\n",
    "    rdmsearch = RandomizedSearchCV(est, param_distributions=p_distr,\n",
    "                                  n_jobs=-1, n_iter=nbr_iter, cv=9)\n",
    "    #CV = Cross-Validation ( here using Stratified KFold CV)\n",
    "    rdmsearch.fit(X,y)\n",
    "    ht_params = rdmsearch.best_params_\n",
    "    ht_score = rdmsearch.best_score_\n",
    "    return ht_params, ht_score\n",
    "\n"
   ]
  },
  {
   "cell_type": "code",
   "execution_count": 114,
   "metadata": {},
   "outputs": [],
   "source": [
    "# rf_parameters, rf_ht_score = hypertuning_rscv(est, rf_p_dist, 10, X, y)\n",
    "\n"
   ]
  },
  {
   "cell_type": "code",
   "execution_count": 115,
   "metadata": {},
   "outputs": [],
   "source": [
    "# rf_parameters"
   ]
  },
  {
   "cell_type": "code",
   "execution_count": 116,
   "metadata": {},
   "outputs": [],
   "source": [
    "# rf_ht_score"
   ]
  },
  {
   "cell_type": "code",
   "execution_count": 117,
   "metadata": {},
   "outputs": [
    {
     "data": {
      "text/plain": [
       "RandomForestClassifier(criterion='entropy', max_depth=3, max_features=3,\n",
       "                       n_estimators=40, n_jobs=-1)"
      ]
     },
     "execution_count": 117,
     "metadata": {},
     "output_type": "execute_result"
    }
   ],
   "source": [
    "classifier=RandomForestClassifier(n_jobs=-1, n_estimators=40,bootstrap= True,criterion='entropy',max_depth=3,max_features=3,min_samples_leaf= 1)\n",
    "\n",
    "classifier.fit(X_train, y_train)"
   ]
  },
  {
   "cell_type": "code",
   "execution_count": 118,
   "metadata": {},
   "outputs": [
    {
     "name": "stdout",
     "output_type": "stream",
     "text": [
      "[[9978    0]\n",
      " [1325    0]]\n"
     ]
    }
   ],
   "source": [
    "# Predicting the Test set results\n",
    "y_pred = classifier.predict(X_test)\n",
    "\n",
    "# Making the Confusion Matrix\n",
    "from sklearn.metrics import confusion_matrix,accuracy_score\n",
    "cm = confusion_matrix(y_test, y_pred)\n",
    "print(cm)\n",
    "\n"
   ]
  },
  {
   "cell_type": "code",
   "execution_count": 119,
   "metadata": {},
   "outputs": [],
   "source": [
    "## Cross Validation good for selecting models\n",
    "from sklearn.model_selection import cross_val_score\n",
    "\n",
    "cross_val=cross_val_score(classifier,X,y,cv=10,scoring='accuracy').mean()\n"
   ]
  },
  {
   "cell_type": "code",
   "execution_count": 120,
   "metadata": {},
   "outputs": [
    {
     "data": {
      "text/plain": [
       "0.8830373143914081"
      ]
     },
     "execution_count": 120,
     "metadata": {},
     "output_type": "execute_result"
    }
   ],
   "source": [
    "cross_val"
   ]
  },
  {
   "cell_type": "markdown",
   "metadata": {},
   "source": [
    "### Estimate the model performance using k fold cross validation"
   ]
  },
  {
   "cell_type": "code",
   "execution_count": 121,
   "metadata": {},
   "outputs": [
    {
     "name": "stdout",
     "output_type": "stream",
     "text": [
      "Accuracy: 0.883\n"
     ]
    }
   ],
   "source": [
    "X = RF_dataset.loc[:,RF_dataset.columns != 'response']\n",
    "y = RF_dataset.loc[:,RF_dataset.columns == 'response']\n",
    "y =y.to_numpy()\n",
    "X = X.to_numpy()\n",
    "# prepare the cross-validation procedure\n",
    "cv = KFold(n_splits=10, random_state=1, shuffle=True)\n",
    "# create model\n",
    "model = RandomForestClassifier(n_jobs=-1, n_estimators=40,bootstrap= True,criterion='entropy',max_depth=3,max_features=3,min_samples_leaf= 1)\n",
    "\n",
    "# evaluate model\n",
    "scores = cross_val_score(model, X, y, scoring='accuracy', cv=cv, n_jobs=-1)\n",
    "# report performance\n",
    "print('Accuracy: %.3f' % (mean(scores)))"
   ]
  },
  {
   "cell_type": "markdown",
   "metadata": {},
   "source": [
    " ### My model accuracy is 89% and K-fold cross validation accuracy is 88%, not much difference, it means there is no overfitting or underfitting issue in my model and my randomForestClassifier model is good."
   ]
  },
  {
   "cell_type": "code",
   "execution_count": null,
   "metadata": {},
   "outputs": [],
   "source": []
  },
  {
   "cell_type": "markdown",
   "metadata": {},
   "source": [
    "### - What is the precision, recall, accuracy of your model?\n"
   ]
  },
  {
   "cell_type": "code",
   "execution_count": 122,
   "metadata": {},
   "outputs": [
    {
     "name": "stdout",
     "output_type": "stream",
     "text": [
      "              precision    recall  f1-score   support\n",
      "\n",
      "           0       0.88      1.00      0.94      9978\n",
      "           1       0.00      0.00      0.00      1325\n",
      "\n",
      "    accuracy                           0.88     11303\n",
      "   macro avg       0.44      0.50      0.47     11303\n",
      "weighted avg       0.78      0.88      0.83     11303\n",
      "\n"
     ]
    }
   ],
   "source": [
    "from sklearn.metrics import classification_report\n",
    "print(classification_report(y_test,y_pred))"
   ]
  },
  {
   "cell_type": "code",
   "execution_count": 123,
   "metadata": {},
   "outputs": [
    {
     "name": "stdout",
     "output_type": "stream",
     "text": [
      "Accuracy is.... 0.8827744846500929\n"
     ]
    }
   ],
   "source": [
    "print('Accuracy is....',accuracy_score(y_test,y_pred))"
   ]
  },
  {
   "cell_type": "markdown",
   "metadata": {},
   "source": [
    "### - Using the feature importance values from the Random Forest module, identify the most important features for the model\n"
   ]
  },
  {
   "cell_type": "code",
   "execution_count": 124,
   "metadata": {},
   "outputs": [
    {
     "name": "stdout",
     "output_type": "stream",
     "text": [
      "Feature: 0, Score: 0.04725\n",
      "Feature: 1, Score: 0.00817\n",
      "Feature: 2, Score: 0.04583\n",
      "Feature: 3, Score: 0.01151\n",
      "Feature: 4, Score: 0.20201\n",
      "Feature: 5, Score: 0.01953\n",
      "Feature: 6, Score: 0.11376\n",
      "Feature: 7, Score: 0.09515\n",
      "Feature: 8, Score: 0.02350\n",
      "Feature: 9, Score: 0.00018\n",
      "Feature: 10, Score: 0.00001\n",
      "Feature: 11, Score: 0.00087\n",
      "Feature: 12, Score: 0.00968\n",
      "Feature: 13, Score: 0.00049\n",
      "Feature: 14, Score: 0.00174\n",
      "Feature: 15, Score: 0.00600\n",
      "Feature: 16, Score: 0.00012\n",
      "Feature: 17, Score: 0.00000\n",
      "Feature: 18, Score: 0.00167\n",
      "Feature: 19, Score: 0.00466\n",
      "Feature: 20, Score: 0.00556\n",
      "Feature: 21, Score: 0.00182\n",
      "Feature: 22, Score: 0.01186\n",
      "Feature: 23, Score: 0.00041\n",
      "Feature: 24, Score: 0.01018\n",
      "Feature: 25, Score: 0.00018\n",
      "Feature: 26, Score: 0.07535\n",
      "Feature: 27, Score: 0.01403\n",
      "Feature: 28, Score: 0.00023\n",
      "Feature: 29, Score: 0.08158\n",
      "Feature: 30, Score: 0.00101\n",
      "Feature: 31, Score: 0.00545\n",
      "Feature: 32, Score: 0.00000\n",
      "Feature: 33, Score: 0.00005\n",
      "Feature: 34, Score: 0.00085\n",
      "Feature: 35, Score: 0.00009\n",
      "Feature: 36, Score: 0.01099\n",
      "Feature: 37, Score: 0.09902\n",
      "Feature: 38, Score: 0.00299\n",
      "Feature: 39, Score: 0.05760\n",
      "Feature: 40, Score: 0.02863\n",
      "0.024390243902439025\n"
     ]
    },
    {
     "data": {
      "image/png": "[encoded data removed]",
      "text/plain": [
       "<Figure size 432x288 with 1 Axes>"
      ]
     },
     "metadata": {
      "needs_background": "light"
     },
     "output_type": "display_data"
    }
   ],
   "source": [
    "\n",
    "\n",
    "from matplotlib import pyplot\n",
    "\n",
    "model = RandomForestClassifier(n_jobs=-1, n_estimators=40,bootstrap= True,criterion='entropy',max_depth=3,max_features=3,min_samples_leaf= 1, random_state=0)\n",
    "# fit the model\n",
    "model.fit(X, y)\n",
    "# get importance\n",
    "importance = model.feature_importances_\n",
    "l1=[]\n",
    "l0=[]\n",
    "# summarize feature importance\n",
    "for i,v in enumerate(importance):\n",
    "    print('Feature: %0d, Score: %.5f' % (i,v))\n",
    "    l1.append(v);\n",
    "    l0.append(i);\n",
    "print(mean(l1))\n",
    "\n",
    "# plot feature importance\n",
    "pyplot.bar([x for x in range(len(importance))], importance)\n",
    "pyplot.show()"
   ]
  },
  {
   "cell_type": "code",
   "execution_count": 125,
   "metadata": {},
   "outputs": [
    {
     "name": "stdout",
     "output_type": "stream",
     "text": [
      "0 0.04725487577519889\n",
      "2 0.04583127366973976\n",
      "4 0.20200928230197474\n",
      "6 0.11375836498807923\n",
      "7 0.09514798007395084\n",
      "26 0.07535376112795009\n",
      "29 0.08158330191005177\n",
      "37 0.09902129106759831\n",
      "39 0.0575985784583549\n",
      "40 0.02862731312878781\n"
     ]
    }
   ],
   "source": [
    "#for x in enumerate(importance):\n",
    "for a,b in enumerate(importance):\n",
    "    if b >= 0.024390243902439025:\n",
    "            print(a,b)"
   ]
  },
  {
   "cell_type": "markdown",
   "metadata": {},
   "source": [
    "## Above are the important features from my model"
   ]
  },
  {
   "cell_type": "code",
   "execution_count": null,
   "metadata": {},
   "outputs": [],
   "source": []
  },
  {
   "cell_type": "code",
   "execution_count": null,
   "metadata": {},
   "outputs": [],
   "source": []
  },
  {
   "cell_type": "markdown",
   "metadata": {},
   "source": [
    "### Compare the performance of the Random Forest and the logistic model –\n",
    "- Evaluate both models on the test set\n",
    "- Which metric did you choose and why?\n",
    "- Which model has better performance on the test set?\n",
    "- Compare the feature importance from the different models – do they agree? Are the top features similar in both models?"
   ]
  },
  {
   "cell_type": "markdown",
   "metadata": {},
   "source": [
    "## Evaluation of both models :"
   ]
  },
  {
   "cell_type": "markdown",
   "metadata": {},
   "source": [
    "### Logistic Regression Model Evaluation\n",
    "- Accuracy is 89% for logistic regression model that means number of correct predictions out of total predictions are 89%.\n",
    "- K-fold cross validation accuracy with 10 splits = 88%\n",
    "- Precision for non-subscribers = 91%\n",
    "- Precision for subscribers = 59%\n",
    "- recall for non-subscribers = 94%\n",
    "- recall for subscribers = 28%\n",
    "- F1-Score for non-subscribers of term deposit is 94% and F1-Score for subscribers of term deposit is 38% for my Logistic regression model."
   ]
  },
  {
   "cell_type": "markdown",
   "metadata": {},
   "source": [
    "### RandomForest Evaluation\n",
    "- Accuracy is 88% that means number of correct predictions out of total predictions are 88%.\n",
    "- Cross Validation Score = 88%\n",
    "- K-fold cross validation score with 10 splits = 88%\n",
    "- Precision for non-subscribers = 88%\n",
    "- Precision for subscribers = 0%\n",
    "- recall for non-subscribers = 100%\n",
    "- recall for subscribers = 0%\n",
    "- F1-Score for non-subscribers of term deposit is 94% and F1-Score for subscribers of term deposit is 0% for my RandomForest Classification model."
   ]
  },
  {
   "cell_type": "markdown",
   "metadata": {},
   "source": [
    "## The Metric I choose and why:...."
   ]
  },
  {
   "cell_type": "markdown",
   "metadata": {},
   "source": [
    "### For both model evaluation I have choose Accuracy, K-fold Cross-validation, recall, precision, and F1-score.\n",
    "### we can easily get extremely good accuracy but its not a good measure to evaluate the models, therefore with that I have also done K-fold cross validation, using k-fold cv accuracy we can say that if accuracy and k-fold accuracy varies too much than our model is not good, but if it is not varying too much then we can say that our model is good.\n",
    "### Then I have calculated precision, recall, and F1-score, but I prefer F1-score, as it uses harmonic mean of models precision and recall.\n",
    "- F1-score uses harmonic mean because it is not sensitive to extremely large values, unline simple averages.\n",
    "- Thus F1-score is a better measure to use if you are seeking a better measure to use if you are seeking a balance between Precision and Recall."
   ]
  },
  {
   "cell_type": "markdown",
   "metadata": {},
   "source": [
    "## The model that has better performance on Test Set is....."
   ]
  },
  {
   "cell_type": "markdown",
   "metadata": {},
   "source": [
    "###\n",
    "- The model that has better performance on test set is Logistic Regression model because as we can see above in both evaluation reports, Logistic Regression model is doing better than RandomForestClassification model.\n",
    "- We have a good score in evaluation metrics of logistic regression for both subscribers and non-subscribers of term deposit.\n",
    "- But in case of RandomForestClassifier model it has a good score in only for non-subscribers of term deposit and has no score for subscribers in recall, preicision, and F1-score.\n",
    "- Therefore I would prefer Logistic Regression model over RandomForestClassification model"
   ]
  }
 ],
 "metadata": {
  "kernelspec": {
   "display_name": "Python 3",
   "language": "python",
   "name": "python3"
  },
  "language_info": {
   "codemirror_mode": {
    "name": "ipython",
    "version": 3
   },
   "file_extension": ".py",
   "mimetype": "text/x-python",
   "name": "python",
   "nbconvert_exporter": "python",
   "pygments_lexer": "ipython3",
   "version": "3.8.3"
  }
 },
 "nbformat": 4,
 "nbformat_minor": 4
}
