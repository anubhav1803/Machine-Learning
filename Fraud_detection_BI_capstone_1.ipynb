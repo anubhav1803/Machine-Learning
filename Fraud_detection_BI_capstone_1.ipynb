{
  "nbformat": 4,
  "nbformat_minor": 0,
  "metadata": {
    "kernelspec": {
      "display_name": "Python 3",
      "language": "python",
      "name": "python3"
    },
    "language_info": {
      "codemirror_mode": {
        "name": "ipython",
        "version": 3
      },
      "file_extension": ".py",
      "mimetype": "text/x-python",
      "name": "python",
      "nbconvert_exporter": "python",
      "pygments_lexer": "ipython3",
      "version": "3.8.3"
    },
    "colab": {
      "name": "Fraud_detection_till RFE orginal .ipynb",
      "provenance": [],
      "collapsed_sections": [
        "Gm0wmM78yuUG",
        "FK4oims0yuUH",
        "6-iGIwxbyuUJ",
        "9ITN0xcrtp3g",
        "WEcbnk6b5OMg",
        "rdf5Ofvp9IGR",
        "myoXD9ad-ltn",
        "vW76yaUw_Gyf"
      ]
    }
  },
  "cells": [
    {
      "cell_type": "markdown",
      "metadata": {
        "id": "K8qdZPwhyuTh"
      },
      "source": [
        "# Fraud Detection"
      ]
    },
    {
      "cell_type": "code",
      "metadata": {
        "id": "-nE1PAMxy4Uf"
      },
      "source": [
        "# from google.colab import drive\n",
        "# drive.mount('/content/drive')"
      ],
      "execution_count": null,
      "outputs": []
    },
    {
      "cell_type": "code",
      "metadata": {
        "id": "XHfdC8x3yuTn"
      },
      "source": [
        "import numpy as np\n",
        "import pandas as pd\n",
        "import matplotlib.pyplot as plt"
      ],
      "execution_count": null,
      "outputs": []
    },
    {
      "cell_type": "code",
      "metadata": {
        "id": "lxTJZ0jByuTq"
      },
      "source": [
        "import warnings\n",
        "warnings.filterwarnings('ignore')"
      ],
      "execution_count": null,
      "outputs": []
    },
    {
      "cell_type": "code",
      "metadata": {
        "id": "Yt2HyLYNyuTr"
      },
      "source": [
        "pd.set_option('display.max_rows', 10000)\n",
        "pd.set_option('display.max_columns', 100)"
      ],
      "execution_count": null,
      "outputs": []
    },
    {
      "cell_type": "code",
      "metadata": {
        "id": "QmXvz62hyuTs"
      },
      "source": [
        "import seaborn as sns\n",
        "%matplotlib inline"
      ],
      "execution_count": null,
      "outputs": []
    },
    {
      "cell_type": "code",
      "metadata": {
        "id": "31wYryvcyuTt"
      },
      "source": [
        "import datetime as dt"
      ],
      "execution_count": null,
      "outputs": []
    },
    {
      "cell_type": "code",
      "metadata": {
        "id": "EtVa-GmcyuTu"
      },
      "source": [
        "dataset = pd.read_csv('/content/drive/MyDrive/fraud detection/Fraud Detection.csv') "
      ],
      "execution_count": null,
      "outputs": []
    },
    {
      "cell_type": "code",
      "metadata": {
        "colab": {
          "base_uri": "https://localhost:8080/"
        },
        "id": "_6fJ9VgZyuTv",
        "outputId": "f959e251-b587-4345-82fe-add9c2108495"
      },
      "source": [
        "dataset.shape"
      ],
      "execution_count": null,
      "outputs": [
        {
          "output_type": "execute_result",
          "data": {
            "text/plain": [
              "(76529, 11)"
            ]
          },
          "metadata": {
            "tags": []
          },
          "execution_count": 9
        }
      ]
    },
    {
      "cell_type": "code",
      "metadata": {
        "colab": {
          "base_uri": "https://localhost:8080/",
          "height": 309
        },
        "id": "CXTJD8niyuTx",
        "outputId": "fffd6dab-c0da-49c9-efaf-2c46ab01516c"
      },
      "source": [
        "dataset.head()"
      ],
      "execution_count": null,
      "outputs": [
        {
          "output_type": "execute_result",
          "data": {
            "text/html": [
              "<div>\n",
              "<style scoped>\n",
              "    .dataframe tbody tr th:only-of-type {\n",
              "        vertical-align: middle;\n",
              "    }\n",
              "\n",
              "    .dataframe tbody tr th {\n",
              "        vertical-align: top;\n",
              "    }\n",
              "\n",
              "    .dataframe thead th {\n",
              "        text-align: right;\n",
              "    }\n",
              "</style>\n",
              "<table border=\"1\" class=\"dataframe\">\n",
              "  <thead>\n",
              "    <tr style=\"text-align: right;\">\n",
              "      <th></th>\n",
              "      <th>transaction_number</th>\n",
              "      <th>user_id</th>\n",
              "      <th>payment_method</th>\n",
              "      <th>partner_id</th>\n",
              "      <th>partner_category</th>\n",
              "      <th>country</th>\n",
              "      <th>device_type</th>\n",
              "      <th>money_transacted</th>\n",
              "      <th>transaction_initiation</th>\n",
              "      <th>partner_pricing_category</th>\n",
              "      <th>is_fraud</th>\n",
              "    </tr>\n",
              "  </thead>\n",
              "  <tbody>\n",
              "    <tr>\n",
              "      <th>0</th>\n",
              "      <td>144703125000</td>\n",
              "      <td>17539344</td>\n",
              "      <td>sbi_atm_cum_debit_card</td>\n",
              "      <td>47334</td>\n",
              "      <td>cat_1</td>\n",
              "      <td>IND_INR</td>\n",
              "      <td>android_devices</td>\n",
              "      <td>-5.0</td>\n",
              "      <td>2016-11-15 19:16:12+00:00</td>\n",
              "      <td>2</td>\n",
              "      <td>0</td>\n",
              "    </tr>\n",
              "    <tr>\n",
              "      <th>1</th>\n",
              "      <td>77406814453032</td>\n",
              "      <td>24710841</td>\n",
              "      <td>e_wallet_payments</td>\n",
              "      <td>78890</td>\n",
              "      <td>cat_2</td>\n",
              "      <td>IND_INR</td>\n",
              "      <td>other_pcs</td>\n",
              "      <td>100.0</td>\n",
              "      <td>2017-01-11 09:25:33+00:00</td>\n",
              "      <td>2</td>\n",
              "      <td>0</td>\n",
              "    </tr>\n",
              "    <tr>\n",
              "      <th>2</th>\n",
              "      <td>308929485482801</td>\n",
              "      <td>24265476</td>\n",
              "      <td>e_wallet_payments</td>\n",
              "      <td>78890</td>\n",
              "      <td>cat_2</td>\n",
              "      <td>IND_INR</td>\n",
              "      <td>other_pcs</td>\n",
              "      <td>50.0</td>\n",
              "      <td>2016-12-07 07:58:09+00:00</td>\n",
              "      <td>2</td>\n",
              "      <td>0</td>\n",
              "    </tr>\n",
              "    <tr>\n",
              "      <th>3</th>\n",
              "      <td>665270027747073</td>\n",
              "      <td>10240000</td>\n",
              "      <td>other_debit_cards</td>\n",
              "      <td>102557</td>\n",
              "      <td>cat_3</td>\n",
              "      <td>IND_INR</td>\n",
              "      <td>other_pcs</td>\n",
              "      <td>1000.0</td>\n",
              "      <td>2017-01-11 16:15:44+00:00</td>\n",
              "      <td>2</td>\n",
              "      <td>0</td>\n",
              "    </tr>\n",
              "    <tr>\n",
              "      <th>4</th>\n",
              "      <td>38276160171101</td>\n",
              "      <td>5880625</td>\n",
              "      <td>other_debit_cards</td>\n",
              "      <td>118335</td>\n",
              "      <td>cat_1</td>\n",
              "      <td>IND_INR</td>\n",
              "      <td>other_pcs</td>\n",
              "      <td>200.0</td>\n",
              "      <td>2016-11-16 17:04:42+00:00</td>\n",
              "      <td>2</td>\n",
              "      <td>0</td>\n",
              "    </tr>\n",
              "  </tbody>\n",
              "</table>\n",
              "</div>"
            ],
            "text/plain": [
              "   transaction_number   user_id          payment_method  partner_id  \\\n",
              "0        144703125000  17539344  sbi_atm_cum_debit_card       47334   \n",
              "1      77406814453032  24710841       e_wallet_payments       78890   \n",
              "2     308929485482801  24265476       e_wallet_payments       78890   \n",
              "3     665270027747073  10240000       other_debit_cards      102557   \n",
              "4      38276160171101   5880625       other_debit_cards      118335   \n",
              "\n",
              "  partner_category  country      device_type  money_transacted  \\\n",
              "0            cat_1  IND_INR  android_devices              -5.0   \n",
              "1            cat_2  IND_INR        other_pcs             100.0   \n",
              "2            cat_2  IND_INR        other_pcs              50.0   \n",
              "3            cat_3  IND_INR        other_pcs            1000.0   \n",
              "4            cat_1  IND_INR        other_pcs             200.0   \n",
              "\n",
              "      transaction_initiation  partner_pricing_category  is_fraud  \n",
              "0  2016-11-15 19:16:12+00:00                         2         0  \n",
              "1  2017-01-11 09:25:33+00:00                         2         0  \n",
              "2  2016-12-07 07:58:09+00:00                         2         0  \n",
              "3  2017-01-11 16:15:44+00:00                         2         0  \n",
              "4  2016-11-16 17:04:42+00:00                         2         0  "
            ]
          },
          "metadata": {
            "tags": []
          },
          "execution_count": 10
        }
      ]
    },
    {
      "cell_type": "code",
      "metadata": {
        "scrolled": true,
        "colab": {
          "base_uri": "https://localhost:8080/"
        },
        "id": "u5ggqXe4yuTy",
        "outputId": "f3f1a514-e7b8-40f3-cf22-a4086038f617"
      },
      "source": [
        "dataset.info()"
      ],
      "execution_count": null,
      "outputs": [
        {
          "output_type": "stream",
          "text": [
            "<class 'pandas.core.frame.DataFrame'>\n",
            "RangeIndex: 76529 entries, 0 to 76528\n",
            "Data columns (total 11 columns):\n",
            " #   Column                    Non-Null Count  Dtype  \n",
            "---  ------                    --------------  -----  \n",
            " 0   transaction_number        76529 non-null  int64  \n",
            " 1   user_id                   76529 non-null  int64  \n",
            " 2   payment_method            76529 non-null  object \n",
            " 3   partner_id                76529 non-null  int64  \n",
            " 4   partner_category          76529 non-null  object \n",
            " 5   country                   76529 non-null  object \n",
            " 6   device_type               76529 non-null  object \n",
            " 7   money_transacted          76529 non-null  float64\n",
            " 8   transaction_initiation    76529 non-null  object \n",
            " 9   partner_pricing_category  76529 non-null  int64  \n",
            " 10  is_fraud                  76529 non-null  int64  \n",
            "dtypes: float64(1), int64(5), object(5)\n",
            "memory usage: 6.4+ MB\n"
          ],
          "name": "stdout"
        }
      ]
    },
    {
      "cell_type": "code",
      "metadata": {
        "id": "dJjzSzY2yuTz"
      },
      "source": [
        "#### Converting is_fraud to categorical variable, \n",
        "#### we can use it as integer also. but I prefer it as to do with categorial.\n",
        "\n",
        "\n",
        "dataset['is_fraud'] = dataset['is_fraud'].astype('object')\n"
      ],
      "execution_count": null,
      "outputs": []
    },
    {
      "cell_type": "code",
      "metadata": {
        "id": "7_ys9AGfyuT0"
      },
      "source": [
        "# converting partner_pricing_category from int to category because it has only 4 types of different values\n",
        "dataset['partner_pricing_category'] = dataset['partner_pricing_category'].astype('object')"
      ],
      "execution_count": null,
      "outputs": []
    },
    {
      "cell_type": "code",
      "metadata": {
        "id": "P0dE6AV6yuT1"
      },
      "source": [
        "# converting transaction_initiation from object to datetime \n",
        "dataset['transaction_initiation'] = pd.to_datetime(dataset['transaction_initiation'])"
      ],
      "execution_count": null,
      "outputs": []
    },
    {
      "cell_type": "code",
      "metadata": {
        "colab": {
          "base_uri": "https://localhost:8080/"
        },
        "id": "K0T6JViryuT2",
        "outputId": "529c28c7-57f0-44e6-aae0-fe957dcab25f"
      },
      "source": [
        "dataset.isnull().sum()"
      ],
      "execution_count": null,
      "outputs": [
        {
          "output_type": "execute_result",
          "data": {
            "text/plain": [
              "transaction_number          0\n",
              "user_id                     0\n",
              "payment_method              0\n",
              "partner_id                  0\n",
              "partner_category            0\n",
              "country                     0\n",
              "device_type                 0\n",
              "money_transacted            0\n",
              "transaction_initiation      0\n",
              "partner_pricing_category    0\n",
              "is_fraud                    0\n",
              "dtype: int64"
            ]
          },
          "metadata": {
            "tags": []
          },
          "execution_count": 15
        }
      ]
    },
    {
      "cell_type": "code",
      "metadata": {
        "id": "mpgo-coQyuT3"
      },
      "source": [
        "#  extracting day, month, year from transaction-initiation\n",
        "\n",
        "dataset['year'] = dataset['transaction_initiation'].dt.year\n",
        "dataset['month'] = dataset['transaction_initiation'].dt.month\n",
        "dataset['day'] = dataset['transaction_initiation'].dt.day"
      ],
      "execution_count": null,
      "outputs": []
    },
    {
      "cell_type": "code",
      "metadata": {
        "id": "QfiVpjKayuT3"
      },
      "source": [
        "dataset = dataset[['transaction_number','user_id','payment_method','partner_id','partner_category','country','device_type','money_transacted','transaction_initiation','year','month','day','partner_pricing_category','is_fraud']]"
      ],
      "execution_count": null,
      "outputs": []
    },
    {
      "cell_type": "code",
      "metadata": {
        "scrolled": true,
        "id": "-B5omOcwyuT4"
      },
      "source": [
        "dataset['year'] = dataset['year'].astype('object')\n",
        "dataset['month'] = dataset['month'].astype('object')\n",
        "# dataset['day'] = pd.to_datetime(dataset['day'])\n",
        "\n",
        "# dataset.info()"
      ],
      "execution_count": null,
      "outputs": []
    },
    {
      "cell_type": "code",
      "metadata": {
        "id": "rjwpKDUiyuT5"
      },
      "source": [
        "dataset['money_transacted'] = dataset['money_transacted'].astype('str')"
      ],
      "execution_count": null,
      "outputs": []
    },
    {
      "cell_type": "code",
      "metadata": {
        "id": "xurt-GqYyuT6"
      },
      "source": [
        "cred_deb = []\n",
        "for i in dataset['money_transacted']:\n",
        "  if (i.find('-') == 0):\n",
        "    cred_deb.append('credit')\n",
        "  else:\n",
        "    cred_deb.append('debit')"
      ],
      "execution_count": null,
      "outputs": []
    },
    {
      "cell_type": "code",
      "metadata": {
        "id": "hIuEz2dayuT6"
      },
      "source": [
        "dataset['money_transacted'] = dataset['money_transacted'].astype('float64')"
      ],
      "execution_count": null,
      "outputs": []
    },
    {
      "cell_type": "code",
      "metadata": {
        "colab": {
          "base_uri": "https://localhost:8080/",
          "height": 609
        },
        "id": "Z4cL9kOzyuT7",
        "outputId": "a4330414-89a2-42f5-a906-e9b77967d514"
      },
      "source": [
        "dataset['cred_deb'] = cred_deb\n",
        "dataset = dataset[['transaction_number','user_id','payment_method','partner_id','partner_category','country','device_type','money_transacted','cred_deb','transaction_initiation','year','month','day','partner_pricing_category','is_fraud']]\n",
        "dataset"
      ],
      "execution_count": null,
      "outputs": [
        {
          "output_type": "execute_result",
          "data": {
            "text/html": [
              "<div>\n",
              "<style scoped>\n",
              "    .dataframe tbody tr th:only-of-type {\n",
              "        vertical-align: middle;\n",
              "    }\n",
              "\n",
              "    .dataframe tbody tr th {\n",
              "        vertical-align: top;\n",
              "    }\n",
              "\n",
              "    .dataframe thead th {\n",
              "        text-align: right;\n",
              "    }\n",
              "</style>\n",
              "<table border=\"1\" class=\"dataframe\">\n",
              "  <thead>\n",
              "    <tr style=\"text-align: right;\">\n",
              "      <th></th>\n",
              "      <th>transaction_number</th>\n",
              "      <th>user_id</th>\n",
              "      <th>payment_method</th>\n",
              "      <th>partner_id</th>\n",
              "      <th>partner_category</th>\n",
              "      <th>country</th>\n",
              "      <th>device_type</th>\n",
              "      <th>money_transacted</th>\n",
              "      <th>cred_deb</th>\n",
              "      <th>transaction_initiation</th>\n",
              "      <th>year</th>\n",
              "      <th>month</th>\n",
              "      <th>day</th>\n",
              "      <th>partner_pricing_category</th>\n",
              "      <th>is_fraud</th>\n",
              "    </tr>\n",
              "  </thead>\n",
              "  <tbody>\n",
              "    <tr>\n",
              "      <th>0</th>\n",
              "      <td>144703125000</td>\n",
              "      <td>17539344</td>\n",
              "      <td>sbi_atm_cum_debit_card</td>\n",
              "      <td>47334</td>\n",
              "      <td>cat_1</td>\n",
              "      <td>IND_INR</td>\n",
              "      <td>android_devices</td>\n",
              "      <td>-5.0</td>\n",
              "      <td>credit</td>\n",
              "      <td>2016-11-15 19:16:12+00:00</td>\n",
              "      <td>2016</td>\n",
              "      <td>11</td>\n",
              "      <td>15</td>\n",
              "      <td>2</td>\n",
              "      <td>0</td>\n",
              "    </tr>\n",
              "    <tr>\n",
              "      <th>1</th>\n",
              "      <td>77406814453032</td>\n",
              "      <td>24710841</td>\n",
              "      <td>e_wallet_payments</td>\n",
              "      <td>78890</td>\n",
              "      <td>cat_2</td>\n",
              "      <td>IND_INR</td>\n",
              "      <td>other_pcs</td>\n",
              "      <td>100.0</td>\n",
              "      <td>debit</td>\n",
              "      <td>2017-01-11 09:25:33+00:00</td>\n",
              "      <td>2017</td>\n",
              "      <td>1</td>\n",
              "      <td>11</td>\n",
              "      <td>2</td>\n",
              "      <td>0</td>\n",
              "    </tr>\n",
              "    <tr>\n",
              "      <th>2</th>\n",
              "      <td>308929485482801</td>\n",
              "      <td>24265476</td>\n",
              "      <td>e_wallet_payments</td>\n",
              "      <td>78890</td>\n",
              "      <td>cat_2</td>\n",
              "      <td>IND_INR</td>\n",
              "      <td>other_pcs</td>\n",
              "      <td>50.0</td>\n",
              "      <td>debit</td>\n",
              "      <td>2016-12-07 07:58:09+00:00</td>\n",
              "      <td>2016</td>\n",
              "      <td>12</td>\n",
              "      <td>7</td>\n",
              "      <td>2</td>\n",
              "      <td>0</td>\n",
              "    </tr>\n",
              "    <tr>\n",
              "      <th>3</th>\n",
              "      <td>665270027747073</td>\n",
              "      <td>10240000</td>\n",
              "      <td>other_debit_cards</td>\n",
              "      <td>102557</td>\n",
              "      <td>cat_3</td>\n",
              "      <td>IND_INR</td>\n",
              "      <td>other_pcs</td>\n",
              "      <td>1000.0</td>\n",
              "      <td>debit</td>\n",
              "      <td>2017-01-11 16:15:44+00:00</td>\n",
              "      <td>2017</td>\n",
              "      <td>1</td>\n",
              "      <td>11</td>\n",
              "      <td>2</td>\n",
              "      <td>0</td>\n",
              "    </tr>\n",
              "    <tr>\n",
              "      <th>4</th>\n",
              "      <td>38276160171101</td>\n",
              "      <td>5880625</td>\n",
              "      <td>other_debit_cards</td>\n",
              "      <td>118335</td>\n",
              "      <td>cat_1</td>\n",
              "      <td>IND_INR</td>\n",
              "      <td>other_pcs</td>\n",
              "      <td>200.0</td>\n",
              "      <td>debit</td>\n",
              "      <td>2016-11-16 17:04:42+00:00</td>\n",
              "      <td>2016</td>\n",
              "      <td>11</td>\n",
              "      <td>16</td>\n",
              "      <td>2</td>\n",
              "      <td>0</td>\n",
              "    </tr>\n",
              "    <tr>\n",
              "      <th>...</th>\n",
              "      <td>...</td>\n",
              "      <td>...</td>\n",
              "      <td>...</td>\n",
              "      <td>...</td>\n",
              "      <td>...</td>\n",
              "      <td>...</td>\n",
              "      <td>...</td>\n",
              "      <td>...</td>\n",
              "      <td>...</td>\n",
              "      <td>...</td>\n",
              "      <td>...</td>\n",
              "      <td>...</td>\n",
              "      <td>...</td>\n",
              "      <td>...</td>\n",
              "      <td>...</td>\n",
              "    </tr>\n",
              "    <tr>\n",
              "      <th>76524</th>\n",
              "      <td>179759462245453</td>\n",
              "      <td>19686969</td>\n",
              "      <td>sbi_atm_cum_debit_card</td>\n",
              "      <td>47334</td>\n",
              "      <td>cat_1</td>\n",
              "      <td>IND_INR</td>\n",
              "      <td>android_devices</td>\n",
              "      <td>-100.0</td>\n",
              "      <td>credit</td>\n",
              "      <td>2016-11-30 13:40:45+00:00</td>\n",
              "      <td>2016</td>\n",
              "      <td>11</td>\n",
              "      <td>30</td>\n",
              "      <td>2</td>\n",
              "      <td>0</td>\n",
              "    </tr>\n",
              "    <tr>\n",
              "      <th>76525</th>\n",
              "      <td>2693567760244353</td>\n",
              "      <td>11662225</td>\n",
              "      <td>visa_master_debit_cards</td>\n",
              "      <td>118335</td>\n",
              "      <td>cat_1</td>\n",
              "      <td>IND_INR</td>\n",
              "      <td>other_pcs</td>\n",
              "      <td>200.0</td>\n",
              "      <td>debit</td>\n",
              "      <td>2017-01-08 08:35:31+00:00</td>\n",
              "      <td>2017</td>\n",
              "      <td>1</td>\n",
              "      <td>8</td>\n",
              "      <td>2</td>\n",
              "      <td>0</td>\n",
              "    </tr>\n",
              "    <tr>\n",
              "      <th>76526</th>\n",
              "      <td>119750257089000</td>\n",
              "      <td>374544</td>\n",
              "      <td>sbi_atm_cum_debit_card</td>\n",
              "      <td>47334</td>\n",
              "      <td>cat_1</td>\n",
              "      <td>IND_INR</td>\n",
              "      <td>android_devices</td>\n",
              "      <td>-3.5</td>\n",
              "      <td>credit</td>\n",
              "      <td>2016-12-26 21:47:08+00:00</td>\n",
              "      <td>2016</td>\n",
              "      <td>12</td>\n",
              "      <td>26</td>\n",
              "      <td>2</td>\n",
              "      <td>0</td>\n",
              "    </tr>\n",
              "    <tr>\n",
              "      <th>76527</th>\n",
              "      <td>1949798765017089</td>\n",
              "      <td>1687401</td>\n",
              "      <td>sbi_atm_cum_debit_card</td>\n",
              "      <td>47334</td>\n",
              "      <td>cat_1</td>\n",
              "      <td>IND_INR</td>\n",
              "      <td>android_devices</td>\n",
              "      <td>-20.0</td>\n",
              "      <td>credit</td>\n",
              "      <td>2016-12-11 13:44:06+00:00</td>\n",
              "      <td>2016</td>\n",
              "      <td>12</td>\n",
              "      <td>11</td>\n",
              "      <td>2</td>\n",
              "      <td>0</td>\n",
              "    </tr>\n",
              "    <tr>\n",
              "      <th>76528</th>\n",
              "      <td>1051344513778987</td>\n",
              "      <td>6754801</td>\n",
              "      <td>sbi_atm_cum_debit_card</td>\n",
              "      <td>47334</td>\n",
              "      <td>cat_1</td>\n",
              "      <td>IND_INR</td>\n",
              "      <td>android_devices</td>\n",
              "      <td>-100.0</td>\n",
              "      <td>credit</td>\n",
              "      <td>2017-01-11 19:08:18+00:00</td>\n",
              "      <td>2017</td>\n",
              "      <td>1</td>\n",
              "      <td>11</td>\n",
              "      <td>2</td>\n",
              "      <td>0</td>\n",
              "    </tr>\n",
              "  </tbody>\n",
              "</table>\n",
              "<p>76529 rows × 15 columns</p>\n",
              "</div>"
            ],
            "text/plain": [
              "       transaction_number   user_id           payment_method  partner_id  \\\n",
              "0            144703125000  17539344   sbi_atm_cum_debit_card       47334   \n",
              "1          77406814453032  24710841        e_wallet_payments       78890   \n",
              "2         308929485482801  24265476        e_wallet_payments       78890   \n",
              "3         665270027747073  10240000        other_debit_cards      102557   \n",
              "4          38276160171101   5880625        other_debit_cards      118335   \n",
              "...                   ...       ...                      ...         ...   \n",
              "76524     179759462245453  19686969   sbi_atm_cum_debit_card       47334   \n",
              "76525    2693567760244353  11662225  visa_master_debit_cards      118335   \n",
              "76526     119750257089000    374544   sbi_atm_cum_debit_card       47334   \n",
              "76527    1949798765017089   1687401   sbi_atm_cum_debit_card       47334   \n",
              "76528    1051344513778987   6754801   sbi_atm_cum_debit_card       47334   \n",
              "\n",
              "      partner_category  country      device_type  money_transacted cred_deb  \\\n",
              "0                cat_1  IND_INR  android_devices              -5.0   credit   \n",
              "1                cat_2  IND_INR        other_pcs             100.0    debit   \n",
              "2                cat_2  IND_INR        other_pcs              50.0    debit   \n",
              "3                cat_3  IND_INR        other_pcs            1000.0    debit   \n",
              "4                cat_1  IND_INR        other_pcs             200.0    debit   \n",
              "...                ...      ...              ...               ...      ...   \n",
              "76524            cat_1  IND_INR  android_devices            -100.0   credit   \n",
              "76525            cat_1  IND_INR        other_pcs             200.0    debit   \n",
              "76526            cat_1  IND_INR  android_devices              -3.5   credit   \n",
              "76527            cat_1  IND_INR  android_devices             -20.0   credit   \n",
              "76528            cat_1  IND_INR  android_devices            -100.0   credit   \n",
              "\n",
              "         transaction_initiation  year month  day partner_pricing_category  \\\n",
              "0     2016-11-15 19:16:12+00:00  2016    11   15                        2   \n",
              "1     2017-01-11 09:25:33+00:00  2017     1   11                        2   \n",
              "2     2016-12-07 07:58:09+00:00  2016    12    7                        2   \n",
              "3     2017-01-11 16:15:44+00:00  2017     1   11                        2   \n",
              "4     2016-11-16 17:04:42+00:00  2016    11   16                        2   \n",
              "...                         ...   ...   ...  ...                      ...   \n",
              "76524 2016-11-30 13:40:45+00:00  2016    11   30                        2   \n",
              "76525 2017-01-08 08:35:31+00:00  2017     1    8                        2   \n",
              "76526 2016-12-26 21:47:08+00:00  2016    12   26                        2   \n",
              "76527 2016-12-11 13:44:06+00:00  2016    12   11                        2   \n",
              "76528 2017-01-11 19:08:18+00:00  2017     1   11                        2   \n",
              "\n",
              "      is_fraud  \n",
              "0            0  \n",
              "1            0  \n",
              "2            0  \n",
              "3            0  \n",
              "4            0  \n",
              "...        ...  \n",
              "76524        0  \n",
              "76525        0  \n",
              "76526        0  \n",
              "76527        0  \n",
              "76528        0  \n",
              "\n",
              "[76529 rows x 15 columns]"
            ]
          },
          "metadata": {
            "tags": []
          },
          "execution_count": 22
        }
      ]
    },
    {
      "cell_type": "code",
      "metadata": {
        "colab": {
          "base_uri": "https://localhost:8080/"
        },
        "id": "5XF7GH1jyuT8",
        "outputId": "23f09080-8fb0-455a-ab25-ad6144721b56"
      },
      "source": [
        "dataset.info()"
      ],
      "execution_count": null,
      "outputs": [
        {
          "output_type": "stream",
          "text": [
            "<class 'pandas.core.frame.DataFrame'>\n",
            "RangeIndex: 76529 entries, 0 to 76528\n",
            "Data columns (total 15 columns):\n",
            " #   Column                    Non-Null Count  Dtype              \n",
            "---  ------                    --------------  -----              \n",
            " 0   transaction_number        76529 non-null  int64              \n",
            " 1   user_id                   76529 non-null  int64              \n",
            " 2   payment_method            76529 non-null  object             \n",
            " 3   partner_id                76529 non-null  int64              \n",
            " 4   partner_category          76529 non-null  object             \n",
            " 5   country                   76529 non-null  object             \n",
            " 6   device_type               76529 non-null  object             \n",
            " 7   money_transacted          76529 non-null  float64            \n",
            " 8   cred_deb                  76529 non-null  object             \n",
            " 9   transaction_initiation    76529 non-null  datetime64[ns, UTC]\n",
            " 10  year                      76529 non-null  object             \n",
            " 11  month                     76529 non-null  object             \n",
            " 12  day                       76529 non-null  int64              \n",
            " 13  partner_pricing_category  76529 non-null  object             \n",
            " 14  is_fraud                  76529 non-null  object             \n",
            "dtypes: datetime64[ns, UTC](1), float64(1), int64(4), object(9)\n",
            "memory usage: 8.8+ MB\n"
          ],
          "name": "stdout"
        }
      ]
    },
    {
      "cell_type": "code",
      "metadata": {
        "colab": {
          "base_uri": "https://localhost:8080/",
          "height": 297
        },
        "id": "5Wl1L_cgyuT9",
        "outputId": "109855e2-f7f5-4adb-9409-62c0ac463004"
      },
      "source": [
        "dataset.describe()"
      ],
      "execution_count": null,
      "outputs": [
        {
          "output_type": "execute_result",
          "data": {
            "text/html": [
              "<div>\n",
              "<style scoped>\n",
              "    .dataframe tbody tr th:only-of-type {\n",
              "        vertical-align: middle;\n",
              "    }\n",
              "\n",
              "    .dataframe tbody tr th {\n",
              "        vertical-align: top;\n",
              "    }\n",
              "\n",
              "    .dataframe thead th {\n",
              "        text-align: right;\n",
              "    }\n",
              "</style>\n",
              "<table border=\"1\" class=\"dataframe\">\n",
              "  <thead>\n",
              "    <tr style=\"text-align: right;\">\n",
              "      <th></th>\n",
              "      <th>transaction_number</th>\n",
              "      <th>user_id</th>\n",
              "      <th>partner_id</th>\n",
              "      <th>money_transacted</th>\n",
              "      <th>day</th>\n",
              "    </tr>\n",
              "  </thead>\n",
              "  <tbody>\n",
              "    <tr>\n",
              "      <th>count</th>\n",
              "      <td>7.652900e+04</td>\n",
              "      <td>7.652900e+04</td>\n",
              "      <td>76529.000000</td>\n",
              "      <td>76529.000000</td>\n",
              "      <td>76529.000000</td>\n",
              "    </tr>\n",
              "    <tr>\n",
              "      <th>mean</th>\n",
              "      <td>6.940200e+14</td>\n",
              "      <td>1.247483e+07</td>\n",
              "      <td>58497.189105</td>\n",
              "      <td>132.724348</td>\n",
              "      <td>15.909551</td>\n",
              "    </tr>\n",
              "    <tr>\n",
              "      <th>std</th>\n",
              "      <td>7.867885e+14</td>\n",
              "      <td>1.205878e+07</td>\n",
              "      <td>36740.216787</td>\n",
              "      <td>2350.110900</td>\n",
              "      <td>8.956141</td>\n",
              "    </tr>\n",
              "    <tr>\n",
              "      <th>min</th>\n",
              "      <td>8.000000e+00</td>\n",
              "      <td>1.000000e+00</td>\n",
              "      <td>7889.000000</td>\n",
              "      <td>-20000.000000</td>\n",
              "      <td>1.000000</td>\n",
              "    </tr>\n",
              "    <tr>\n",
              "      <th>25%</th>\n",
              "      <td>4.387866e+13</td>\n",
              "      <td>3.515625e+06</td>\n",
              "      <td>23667.000000</td>\n",
              "      <td>-1.000000</td>\n",
              "      <td>8.000000</td>\n",
              "    </tr>\n",
              "    <tr>\n",
              "      <th>50%</th>\n",
              "      <td>3.452540e+14</td>\n",
              "      <td>9.753129e+06</td>\n",
              "      <td>47334.000000</td>\n",
              "      <td>20.000000</td>\n",
              "      <td>16.000000</td>\n",
              "    </tr>\n",
              "    <tr>\n",
              "      <th>75%</th>\n",
              "      <td>1.173440e+15</td>\n",
              "      <td>1.788444e+07</td>\n",
              "      <td>78890.000000</td>\n",
              "      <td>52.000000</td>\n",
              "      <td>24.000000</td>\n",
              "    </tr>\n",
              "    <tr>\n",
              "      <th>max</th>\n",
              "      <td>2.784238e+15</td>\n",
              "      <td>5.592048e+07</td>\n",
              "      <td>213003.000000</td>\n",
              "      <td>197217.760000</td>\n",
              "      <td>31.000000</td>\n",
              "    </tr>\n",
              "  </tbody>\n",
              "</table>\n",
              "</div>"
            ],
            "text/plain": [
              "       transaction_number       user_id     partner_id  money_transacted  \\\n",
              "count        7.652900e+04  7.652900e+04   76529.000000      76529.000000   \n",
              "mean         6.940200e+14  1.247483e+07   58497.189105        132.724348   \n",
              "std          7.867885e+14  1.205878e+07   36740.216787       2350.110900   \n",
              "min          8.000000e+00  1.000000e+00    7889.000000     -20000.000000   \n",
              "25%          4.387866e+13  3.515625e+06   23667.000000         -1.000000   \n",
              "50%          3.452540e+14  9.753129e+06   47334.000000         20.000000   \n",
              "75%          1.173440e+15  1.788444e+07   78890.000000         52.000000   \n",
              "max          2.784238e+15  5.592048e+07  213003.000000     197217.760000   \n",
              "\n",
              "                day  \n",
              "count  76529.000000  \n",
              "mean      15.909551  \n",
              "std        8.956141  \n",
              "min        1.000000  \n",
              "25%        8.000000  \n",
              "50%       16.000000  \n",
              "75%       24.000000  \n",
              "max       31.000000  "
            ]
          },
          "metadata": {
            "tags": []
          },
          "execution_count": 24
        }
      ]
    },
    {
      "cell_type": "code",
      "metadata": {
        "scrolled": true,
        "colab": {
          "base_uri": "https://localhost:8080/",
          "height": 204
        },
        "id": "F1aQgmdayuT-",
        "outputId": "c9e225bd-4622-4ea3-b396-73ecd30e769f"
      },
      "source": [
        "dataset.corr()"
      ],
      "execution_count": null,
      "outputs": [
        {
          "output_type": "execute_result",
          "data": {
            "text/html": [
              "<div>\n",
              "<style scoped>\n",
              "    .dataframe tbody tr th:only-of-type {\n",
              "        vertical-align: middle;\n",
              "    }\n",
              "\n",
              "    .dataframe tbody tr th {\n",
              "        vertical-align: top;\n",
              "    }\n",
              "\n",
              "    .dataframe thead th {\n",
              "        text-align: right;\n",
              "    }\n",
              "</style>\n",
              "<table border=\"1\" class=\"dataframe\">\n",
              "  <thead>\n",
              "    <tr style=\"text-align: right;\">\n",
              "      <th></th>\n",
              "      <th>transaction_number</th>\n",
              "      <th>user_id</th>\n",
              "      <th>partner_id</th>\n",
              "      <th>money_transacted</th>\n",
              "      <th>day</th>\n",
              "    </tr>\n",
              "  </thead>\n",
              "  <tbody>\n",
              "    <tr>\n",
              "      <th>transaction_number</th>\n",
              "      <td>1.000000</td>\n",
              "      <td>-0.006608</td>\n",
              "      <td>0.001564</td>\n",
              "      <td>0.001049</td>\n",
              "      <td>0.003221</td>\n",
              "    </tr>\n",
              "    <tr>\n",
              "      <th>user_id</th>\n",
              "      <td>-0.006608</td>\n",
              "      <td>1.000000</td>\n",
              "      <td>-0.037846</td>\n",
              "      <td>-0.045650</td>\n",
              "      <td>-0.188212</td>\n",
              "    </tr>\n",
              "    <tr>\n",
              "      <th>partner_id</th>\n",
              "      <td>0.001564</td>\n",
              "      <td>-0.037846</td>\n",
              "      <td>1.000000</td>\n",
              "      <td>0.092432</td>\n",
              "      <td>-0.002999</td>\n",
              "    </tr>\n",
              "    <tr>\n",
              "      <th>money_transacted</th>\n",
              "      <td>0.001049</td>\n",
              "      <td>-0.045650</td>\n",
              "      <td>0.092432</td>\n",
              "      <td>1.000000</td>\n",
              "      <td>-0.002581</td>\n",
              "    </tr>\n",
              "    <tr>\n",
              "      <th>day</th>\n",
              "      <td>0.003221</td>\n",
              "      <td>-0.188212</td>\n",
              "      <td>-0.002999</td>\n",
              "      <td>-0.002581</td>\n",
              "      <td>1.000000</td>\n",
              "    </tr>\n",
              "  </tbody>\n",
              "</table>\n",
              "</div>"
            ],
            "text/plain": [
              "                    transaction_number   user_id  partner_id  \\\n",
              "transaction_number            1.000000 -0.006608    0.001564   \n",
              "user_id                      -0.006608  1.000000   -0.037846   \n",
              "partner_id                    0.001564 -0.037846    1.000000   \n",
              "money_transacted              0.001049 -0.045650    0.092432   \n",
              "day                           0.003221 -0.188212   -0.002999   \n",
              "\n",
              "                    money_transacted       day  \n",
              "transaction_number          0.001049  0.003221  \n",
              "user_id                    -0.045650 -0.188212  \n",
              "partner_id                  0.092432 -0.002999  \n",
              "money_transacted            1.000000 -0.002581  \n",
              "day                        -0.002581  1.000000  "
            ]
          },
          "metadata": {
            "tags": []
          },
          "execution_count": 25
        }
      ]
    },
    {
      "cell_type": "markdown",
      "metadata": {
        "id": "VnA2A000yuT_"
      },
      "source": [
        "### Performing Univariate Analysis\n",
        "- Exploring data individually to learn the distribution of the data is called univariate analysis."
      ]
    },
    {
      "cell_type": "code",
      "metadata": {
        "id": "a-MGGnokyuUA"
      },
      "source": [
        "# iterated through dataset and stored data with datatype as 'object' to new variable cat_col\n",
        "\n",
        "cat_col = [n for n in dataset.columns if dataset[n].dtypes == 'object']"
      ],
      "execution_count": null,
      "outputs": []
    },
    {
      "cell_type": "code",
      "metadata": {
        "colab": {
          "base_uri": "https://localhost:8080/"
        },
        "id": "Xn4qTrICyuUB",
        "outputId": "dc39c63c-f32e-4513-c847-bd6d9b774788"
      },
      "source": [
        "#obtain the value count of each column holding a categorical data \n",
        "\n",
        "for col in cat_col:\n",
        "    print(col, '\\n\\n')\n",
        "    print(dataset[col].value_counts())\n",
        "    print(\"======================\" * 4)"
      ],
      "execution_count": null,
      "outputs": [
        {
          "output_type": "stream",
          "text": [
            "payment_method \n",
            "\n",
            "\n",
            "sbi_atm_cum_debit_card        30538\n",
            "e_wallet_payments             27384\n",
            "visa_master_debit_cards       11643\n",
            "other_debit_cards              4495\n",
            "visa_master_credit_cards       2454\n",
            "unified_payments_interface       15\n",
            "Name: payment_method, dtype: int64\n",
            "========================================================================================\n",
            "partner_category \n",
            "\n",
            "\n",
            "cat_1    36306\n",
            "cat_2    36019\n",
            "cat_3     1536\n",
            "cat_4     1310\n",
            "cat_5     1026\n",
            "cat_7      165\n",
            "cat_6      146\n",
            "cat_8       19\n",
            "cat_9        2\n",
            "Name: partner_category, dtype: int64\n",
            "========================================================================================\n",
            "country \n",
            "\n",
            "\n",
            "IND_INR    76529\n",
            "Name: country, dtype: int64\n",
            "========================================================================================\n",
            "device_type \n",
            "\n",
            "\n",
            "other_pcs          45560\n",
            "android_devices    29662\n",
            "ios_devices          876\n",
            "windows_pcs          431\n",
            "Name: device_type, dtype: int64\n",
            "========================================================================================\n",
            "cred_deb \n",
            "\n",
            "\n",
            "debit     45991\n",
            "credit    30538\n",
            "Name: cred_deb, dtype: int64\n",
            "========================================================================================\n",
            "year \n",
            "\n",
            "\n",
            "2016    38563\n",
            "2017    37966\n",
            "Name: year, dtype: int64\n",
            "========================================================================================\n",
            "month \n",
            "\n",
            "\n",
            "12    28548\n",
            "1     25345\n",
            "2     12621\n",
            "11    10015\n",
            "Name: month, dtype: int64\n",
            "========================================================================================\n",
            "partner_pricing_category \n",
            "\n",
            "\n",
            "2    63899\n",
            "4    10833\n",
            "1     1497\n",
            "0      300\n",
            "Name: partner_pricing_category, dtype: int64\n",
            "========================================================================================\n",
            "is_fraud \n",
            "\n",
            "\n",
            "0    76375\n",
            "1      154\n",
            "Name: is_fraud, dtype: int64\n",
            "========================================================================================\n"
          ],
          "name": "stdout"
        }
      ]
    },
    {
      "cell_type": "code",
      "metadata": {
        "scrolled": false,
        "colab": {
          "base_uri": "https://localhost:8080/",
          "height": 823
        },
        "id": "XOar1u25yuUC",
        "outputId": "2f378313-3da8-4adc-82c6-775ad08b22f3"
      },
      "source": [
        "cat_columns = ['payment_method', 'partner_category', 'device_type', 'year', 'month', 'partner_pricing_category']\n",
        "\n",
        "fig, axs = plt.subplots(2, 3, sharex=False, sharey=False, figsize=(20,13))\n",
        "\n",
        "counter = 0\n",
        "for cat_column in cat_columns:\n",
        "    value_counts = dataset[cat_column].value_counts()\n",
        "    \n",
        "    trace_x = counter // 3\n",
        "    trace_y = counter % 3\n",
        "    x_pos = np.arange(0, len(value_counts))\n",
        "    \n",
        "    axs[trace_x, trace_y].bar(x_pos, value_counts.values, tick_label = value_counts.index)\n",
        "    \n",
        "    axs[trace_x, trace_y].set_title(cat_column)\n",
        "    \n",
        "    for tick in axs[trace_x, trace_y].get_xticklabels():\n",
        "        tick.set_rotation(90)\n",
        "    \n",
        "    counter += 1\n",
        "plt.tight_layout()\n",
        "plt.show()"
      ],
      "execution_count": null,
      "outputs": [
        {
          "output_type": "display_data",
          "data": {
            "image/png": "[encoded data removed]",
            "text/plain": [
              "<Figure size 1440x936 with 6 Axes>"
            ]
          },
          "metadata": {
            "tags": [],
            "needs_background": "light"
          }
        }
      ]
    },
    {
      "cell_type": "markdown",
      "metadata": {
        "id": "WScmL-BTyuUD"
      },
      "source": [
        "### @ Analysis of Target variable"
      ]
    },
    {
      "cell_type": "markdown",
      "metadata": {
        "id": "sFN9vZSxyuUE"
      },
      "source": [
        "It is very important to look at the target variable column, which holds the information, which we are going to predict. In our case we should compare its values to other columns.\n",
        "\n",
        "First of all we should look at the number of 1's and 0's values in the response column ."
      ]
    },
    {
      "cell_type": "code",
      "metadata": {
        "colab": {
          "base_uri": "https://localhost:8080/",
          "height": 407
        },
        "id": "zjP_TxHoyuUE",
        "outputId": "fd98135f-aefc-44d9-cd2f-d9bdd24a0bc4"
      },
      "source": [
        "edu = dataset['is_fraud'].value_counts().plot(kind = 'bar', color = 'green', figsize = (15,6))\n",
        "edu.set_xlabel('Balance',fontsize = 15)\n",
        "edu.set_ylabel('Education',fontsize = 15)\n",
        "edu.set_title('Median values of balance for each education level',fontsize = 15)\n",
        "plt.show()"
      ],
      "execution_count": null,
      "outputs": [
        {
          "output_type": "display_data",
          "data": {
            "image/png": "[encoded data removed]",
            "text/plain": [
              "<Figure size 1080x432 with 1 Axes>"
            ]
          },
          "metadata": {
            "tags": [],
            "needs_background": "light"
          }
        }
      ]
    },
    {
      "cell_type": "code",
      "metadata": {
        "colab": {
          "base_uri": "https://localhost:8080/"
        },
        "id": "r5oumFgyyuUF",
        "outputId": "50704837-6b41-4c98-c289-f748cf351be3"
      },
      "source": [
        "dataset['is_fraud'].value_counts()"
      ],
      "execution_count": null,
      "outputs": [
        {
          "output_type": "execute_result",
          "data": {
            "text/plain": [
              "0    76375\n",
              "1      154\n",
              "Name: is_fraud, dtype: int64"
            ]
          },
          "metadata": {
            "tags": []
          },
          "execution_count": 30
        }
      ]
    },
    {
      "cell_type": "markdown",
      "metadata": {
        "id": "Gm0wmM78yuUG"
      },
      "source": [
        "### As we can observe from the above figure that '0'(no) and '1'(yes) varies too much from each other."
      ]
    },
    {
      "cell_type": "markdown",
      "metadata": {
        "id": "FK4oims0yuUH"
      },
      "source": [
        "### Therefore this scenerio represents a case of Imbalanced class. Imbalanced Classes arises from classification problems where the classes are not represented equally.\n",
        "- And because my dataset is biased and imbalanced i cannot do slicing of data or inferential statistics because it give me wrong results because count of frauds are only 154 and non frauds are 76375."
      ]
    },
    {
      "cell_type": "markdown",
      "metadata": {
        "id": "WFCGKItcyuUI"
      },
      "source": [
        "### @ Performing bi-variate analysis to identify the features that are directly associated with the target variable."
      ]
    },
    {
      "cell_type": "markdown",
      "metadata": {
        "id": "6-iGIwxbyuUJ"
      },
      "source": [
        "#### Let's see how 'is_fraud' column value varies depending on other categorical columns' values:"
      ]
    },
    {
      "cell_type": "markdown",
      "metadata": {
        "id": "NLFu4UKTyuUJ"
      },
      "source": [
        "### Visualization"
      ]
    },
    {
      "cell_type": "code",
      "metadata": {
        "colab": {
          "base_uri": "https://localhost:8080/",
          "height": 295
        },
        "id": "E6dfz33oyuUK",
        "outputId": "3b6d731b-228e-4b80-d7fa-26351bda7891"
      },
      "source": [
        "# which payment method is used for frauds the most?\n",
        "labels = ['e_wallet_payments', 'other_debit_cards', 'sbi_atm_cum_debit_card', 'visa_master_credit_cards', 'visa_master_debit_cards']\n",
        "values = [2,43,5,53,51]\n",
        "\n",
        "\n",
        "plt.barh(labels, values, color=['red', 'blue', 'purple', 'green', 'lavender'])\n",
        "plt.ylabel('Payment_Method')\n",
        "plt.xlabel('No. of Frauds')\n",
        "plt.title('Payment_Method and Is_Fraud')\n",
        "plt.show()\n",
        "\n"
      ],
      "execution_count": null,
      "outputs": [
        {
          "output_type": "display_data",
          "data": {
            "image/png": "[encoded data removed]",
            "text/plain": [
              "<Figure size 432x288 with 1 Axes>"
            ]
          },
          "metadata": {
            "tags": [],
            "needs_background": "light"
          }
        }
      ]
    },
    {
      "cell_type": "markdown",
      "metadata": {
        "id": "iAoFUv06yuUL"
      },
      "source": [
        "We can observe here that most of the frauds are done using visa master credit cards, visa master debit card, and other debit cards. "
      ]
    },
    {
      "cell_type": "code",
      "metadata": {
        "scrolled": false,
        "colab": {
          "base_uri": "https://localhost:8080/",
          "height": 383
        },
        "id": "bWrushCnyuUL",
        "outputId": "8f32f13f-09fc-418a-ac23-f4ce44c7d525"
      },
      "source": [
        "# which device type is used for frauds the most?\n",
        "dev = pd.DataFrame()\n",
        "\n",
        "dev = dataset[dataset['is_fraud'] == 1]['device_type'].value_counts()\n",
        "plt.xlabel('Device Type')\n",
        "plt.ylabel('No. of Frauds')\n",
        "\n",
        "dev.plot.bar(title = 'Device_Type and Is_Fraud')"
      ],
      "execution_count": null,
      "outputs": [
        {
          "output_type": "execute_result",
          "data": {
            "text/plain": [
              "<matplotlib.axes._subplots.AxesSubplot at 0x7f2471237f90>"
            ]
          },
          "metadata": {
            "tags": []
          },
          "execution_count": 32
        },
        {
          "output_type": "display_data",
          "data": {
            "image/png": "[encoded data removed]",
            "text/plain": [
              "<Figure size 432x288 with 1 Axes>"
            ]
          },
          "metadata": {
            "tags": [],
            "needs_background": "light"
          }
        }
      ]
    },
    {
      "cell_type": "code",
      "metadata": {
        "scrolled": true,
        "colab": {
          "base_uri": "https://localhost:8080/"
        },
        "id": "O2TrQuGKyuUM",
        "outputId": "55c6dfd2-bcff-4d8a-e3e4-6e2cae1c5ea2"
      },
      "source": [
        "dev"
      ],
      "execution_count": null,
      "outputs": [
        {
          "output_type": "execute_result",
          "data": {
            "text/plain": [
              "other_pcs          145\n",
              "android_devices      5\n",
              "windows_pcs          4\n",
              "Name: device_type, dtype: int64"
            ]
          },
          "metadata": {
            "tags": []
          },
          "execution_count": 33
        }
      ]
    },
    {
      "cell_type": "markdown",
      "metadata": {
        "id": "af1wYFKYyuUP"
      },
      "source": [
        "We can observe from above chart that most of the frauds occured on other pcs, then 5 frauds on android devices, and 4 on window_pcs, and no fraud occured on IOS devices . "
      ]
    },
    {
      "cell_type": "code",
      "metadata": {
        "scrolled": true,
        "colab": {
          "base_uri": "https://localhost:8080/",
          "height": 332
        },
        "id": "SntNLUNJyuUQ",
        "outputId": "cbc2e96d-9148-4621-9b37-02c4d5a5a6a8"
      },
      "source": [
        "# In which transaction type(Debit/Credit) most of the frauds occured?\n",
        "cred_deb = pd.DataFrame()\n",
        "\n",
        "cred_deb = dataset[dataset['is_fraud'] == 1]['cred_deb'].value_counts()\n",
        "plt.xlabel('Cred_deb')\n",
        "plt.ylabel('No. of Frauds')\n",
        "\n",
        "cred_deb.plot.bar(title = 'Credit_debit and Is_Fraud')"
      ],
      "execution_count": null,
      "outputs": [
        {
          "output_type": "execute_result",
          "data": {
            "text/plain": [
              "<matplotlib.axes._subplots.AxesSubplot at 0x7f2471237cd0>"
            ]
          },
          "metadata": {
            "tags": []
          },
          "execution_count": 34
        },
        {
          "output_type": "display_data",
          "data": {
            "image/png": "[encoded data removed]",
            "text/plain": [
              "<Figure size 432x288 with 1 Axes>"
            ]
          },
          "metadata": {
            "tags": [],
            "needs_background": "light"
          }
        }
      ]
    },
    {
      "cell_type": "code",
      "metadata": {
        "colab": {
          "base_uri": "https://localhost:8080/"
        },
        "id": "ocNpkqMKyuUR",
        "outputId": "7c2707ed-211b-437c-96e4-8ed56593e4e7"
      },
      "source": [
        "cred_deb"
      ],
      "execution_count": null,
      "outputs": [
        {
          "output_type": "execute_result",
          "data": {
            "text/plain": [
              "debit     149\n",
              "credit      5\n",
              "Name: cred_deb, dtype: int64"
            ]
          },
          "metadata": {
            "tags": []
          },
          "execution_count": 35
        }
      ]
    },
    {
      "cell_type": "markdown",
      "metadata": {
        "id": "BTO7FfnByuUS"
      },
      "source": [
        "We can observe here that most of the fraud occured in a debit transaction."
      ]
    },
    {
      "cell_type": "code",
      "metadata": {
        "colab": {
          "base_uri": "https://localhost:8080/",
          "height": 328
        },
        "id": "RetMv2JUyuUT",
        "outputId": "b3c89137-0c7f-4767-b5fc-e9cd8cfa5069"
      },
      "source": [
        "#In which year more number of frauds occured?\n",
        "yearf = pd.DataFrame()\n",
        "\n",
        "yearf = dataset[dataset['is_fraud'] == 1]['year'].value_counts()\n",
        "plt.xlabel('Year')\n",
        "plt.ylabel('No. of Frauds')\n",
        "\n",
        "yearf.plot.bar(title = 'Year and Is_Fraud',color = 'orange')"
      ],
      "execution_count": null,
      "outputs": [
        {
          "output_type": "execute_result",
          "data": {
            "text/plain": [
              "<matplotlib.axes._subplots.AxesSubplot at 0x7f246834f550>"
            ]
          },
          "metadata": {
            "tags": []
          },
          "execution_count": 36
        },
        {
          "output_type": "display_data",
          "data": {
            "image/png": "[encoded data removed]",
            "text/plain": [
              "<Figure size 432x288 with 1 Axes>"
            ]
          },
          "metadata": {
            "tags": [],
            "needs_background": "light"
          }
        }
      ]
    },
    {
      "cell_type": "code",
      "metadata": {
        "colab": {
          "base_uri": "https://localhost:8080/"
        },
        "id": "KRaLc_uzyuUU",
        "outputId": "79faffd5-d443-4b5e-a281-b7b9951df5a7"
      },
      "source": [
        "yearf"
      ],
      "execution_count": null,
      "outputs": [
        {
          "output_type": "execute_result",
          "data": {
            "text/plain": [
              "2017    93\n",
              "2016    61\n",
              "Name: year, dtype: int64"
            ]
          },
          "metadata": {
            "tags": []
          },
          "execution_count": 37
        }
      ]
    },
    {
      "cell_type": "markdown",
      "metadata": {
        "id": "kbBzsWFxyuUV"
      },
      "source": [
        "More number of frauds occured in 2017 than 2016"
      ]
    },
    {
      "cell_type": "code",
      "metadata": {
        "colab": {
          "base_uri": "https://localhost:8080/",
          "height": 368
        },
        "id": "WNZVwD7JyuUW",
        "outputId": "f3c56608-c2cc-4d5d-99c3-a8db8005a0e1"
      },
      "source": [
        "#In which month of the year number of frauds are high?\n",
        "monthf = pd.DataFrame()\n",
        "\n",
        "monthf = dataset[dataset['is_fraud'] == 1].groupby(['year','month'])['is_fraud'].value_counts()\n",
        "plt.xlabel('Month')\n",
        "plt.ylabel('No. of Frauds')\n",
        "\n",
        "monthf.plot.bar(title = 'Month and Is_Fraud', color = 'green')"
      ],
      "execution_count": null,
      "outputs": [
        {
          "output_type": "execute_result",
          "data": {
            "text/plain": [
              "<matplotlib.axes._subplots.AxesSubplot at 0x7f24682baf90>"
            ]
          },
          "metadata": {
            "tags": []
          },
          "execution_count": 38
        },
        {
          "output_type": "display_data",
          "data": {
            "image/png": "[encoded data removed]",
            "text/plain": [
              "<Figure size 432x288 with 1 Axes>"
            ]
          },
          "metadata": {
            "tags": [],
            "needs_background": "light"
          }
        }
      ]
    },
    {
      "cell_type": "code",
      "metadata": {
        "colab": {
          "base_uri": "https://localhost:8080/"
        },
        "id": "xWRiH4bgyuUY",
        "outputId": "3c72925f-7c33-4999-95b1-50dc57602359"
      },
      "source": [
        "# dataset.groupby(['year','month'])['is_fraud'].value_counts()\n",
        "monthf"
      ],
      "execution_count": null,
      "outputs": [
        {
          "output_type": "execute_result",
          "data": {
            "text/plain": [
              "year  month  is_fraud\n",
              "2016  11     1           11\n",
              "      12     1           50\n",
              "2017  1      1           50\n",
              "      2      1           43\n",
              "Name: is_fraud, dtype: int64"
            ]
          },
          "metadata": {
            "tags": []
          },
          "execution_count": 39
        }
      ]
    },
    {
      "cell_type": "markdown",
      "metadata": {
        "id": "b2Wxxu2SyuUZ"
      },
      "source": [
        "In 2016 december and 2017 january, february fraud rate is high. "
      ]
    },
    {
      "cell_type": "code",
      "metadata": {
        "colab": {
          "base_uri": "https://localhost:8080/",
          "height": 329
        },
        "id": "lTaCHsHIyuUa",
        "outputId": "29af0603-f791-4025-8d2a-d8f375966c61"
      },
      "source": [
        "# In which partner category more number of frauds has occurred?\n",
        "parcf = pd.DataFrame()\n",
        "\n",
        "parcf = dataset[dataset['is_fraud'] == 1]['partner_category'].value_counts()\n",
        "plt.xlabel('Partner Category')\n",
        "plt.ylabel('No. of Frauds')\n",
        "\n",
        "parcf.plot.bar(title = 'partner_category and Is_Fraud',color = 'purple')"
      ],
      "execution_count": null,
      "outputs": [
        {
          "output_type": "execute_result",
          "data": {
            "text/plain": [
              "<matplotlib.axes._subplots.AxesSubplot at 0x7f2468231f90>"
            ]
          },
          "metadata": {
            "tags": []
          },
          "execution_count": 40
        },
        {
          "output_type": "display_data",
          "data": {
            "image/png": "[encoded data removed]",
            "text/plain": [
              "<Figure size 432x288 with 1 Axes>"
            ]
          },
          "metadata": {
            "tags": [],
            "needs_background": "light"
          }
        }
      ]
    },
    {
      "cell_type": "code",
      "metadata": {
        "colab": {
          "base_uri": "https://localhost:8080/"
        },
        "id": "gxT5Yd-myuUb",
        "outputId": "b92609fd-4674-45f9-b03b-755619160067"
      },
      "source": [
        "parcf"
      ],
      "execution_count": null,
      "outputs": [
        {
          "output_type": "execute_result",
          "data": {
            "text/plain": [
              "cat_1    128\n",
              "cat_2     15\n",
              "cat_3      9\n",
              "cat_8      2\n",
              "Name: partner_category, dtype: int64"
            ]
          },
          "metadata": {
            "tags": []
          },
          "execution_count": 41
        }
      ]
    },
    {
      "cell_type": "markdown",
      "metadata": {
        "id": "Ez3OkNp8yuUb"
      },
      "source": [
        " From above chart we can observe here that partner category cat_1 most frauds have occurred."
      ]
    },
    {
      "cell_type": "code",
      "metadata": {
        "id": "7wLwfq3LyuUc"
      },
      "source": [
        "fraud_det = dataset"
      ],
      "execution_count": null,
      "outputs": []
    },
    {
      "cell_type": "code",
      "metadata": {
        "id": "-EhxPE93yuUd"
      },
      "source": [
        "fraud_det.drop(['day'], axis = 1, inplace = True) "
      ],
      "execution_count": null,
      "outputs": []
    },
    {
      "cell_type": "code",
      "metadata": {
        "id": "wph0wAGxyuUd"
      },
      "source": [
        "fraud_det.drop(['transaction_initiation'], axis = 1, inplace= True)"
      ],
      "execution_count": null,
      "outputs": []
    },
    {
      "cell_type": "markdown",
      "metadata": {
        "id": "IoHNSFktyuUe"
      },
      "source": [
        "# Data Preprocessing"
      ]
    },
    {
      "cell_type": "code",
      "metadata": {
        "id": "JXn_FPMOyuUe"
      },
      "source": [
        "# Here I am creating dummy variable for categorical data.\n",
        "fraud_det = pd.get_dummies(fraud_det,columns = ['payment_method','partner_category','country','device_type','cred_deb','year',\n",
        "                                   'month','partner_pricing_category'], drop_first = True)"
      ],
      "execution_count": null,
      "outputs": []
    },
    {
      "cell_type": "code",
      "metadata": {
        "colab": {
          "base_uri": "https://localhost:8080/",
          "height": 439
        },
        "id": "7nIZH5GAyuUf",
        "outputId": "a6e37861-b4d5-4faa-a695-f1003672cf42"
      },
      "source": [
        "fraud_det"
      ],
      "execution_count": null,
      "outputs": [
        {
          "output_type": "execute_result",
          "data": {
            "text/html": [
              "<div>\n",
              "<style scoped>\n",
              "    .dataframe tbody tr th:only-of-type {\n",
              "        vertical-align: middle;\n",
              "    }\n",
              "\n",
              "    .dataframe tbody tr th {\n",
              "        vertical-align: top;\n",
              "    }\n",
              "\n",
              "    .dataframe thead th {\n",
              "        text-align: right;\n",
              "    }\n",
              "</style>\n",
              "<table border=\"1\" class=\"dataframe\">\n",
              "  <thead>\n",
              "    <tr style=\"text-align: right;\">\n",
              "      <th></th>\n",
              "      <th>transaction_number</th>\n",
              "      <th>user_id</th>\n",
              "      <th>partner_id</th>\n",
              "      <th>money_transacted</th>\n",
              "      <th>is_fraud</th>\n",
              "      <th>payment_method_other_debit_cards</th>\n",
              "      <th>payment_method_sbi_atm_cum_debit_card</th>\n",
              "      <th>payment_method_unified_payments_interface</th>\n",
              "      <th>payment_method_visa_master_credit_cards</th>\n",
              "      <th>payment_method_visa_master_debit_cards</th>\n",
              "      <th>partner_category_cat_2</th>\n",
              "      <th>partner_category_cat_3</th>\n",
              "      <th>partner_category_cat_4</th>\n",
              "      <th>partner_category_cat_5</th>\n",
              "      <th>partner_category_cat_6</th>\n",
              "      <th>partner_category_cat_7</th>\n",
              "      <th>partner_category_cat_8</th>\n",
              "      <th>partner_category_cat_9</th>\n",
              "      <th>device_type_ios_devices</th>\n",
              "      <th>device_type_other_pcs</th>\n",
              "      <th>device_type_windows_pcs</th>\n",
              "      <th>cred_deb_debit</th>\n",
              "      <th>year_2017</th>\n",
              "      <th>month_2</th>\n",
              "      <th>month_11</th>\n",
              "      <th>month_12</th>\n",
              "      <th>partner_pricing_category_1</th>\n",
              "      <th>partner_pricing_category_2</th>\n",
              "      <th>partner_pricing_category_4</th>\n",
              "    </tr>\n",
              "  </thead>\n",
              "  <tbody>\n",
              "    <tr>\n",
              "      <th>0</th>\n",
              "      <td>144703125000</td>\n",
              "      <td>17539344</td>\n",
              "      <td>47334</td>\n",
              "      <td>-5.0</td>\n",
              "      <td>0</td>\n",
              "      <td>0</td>\n",
              "      <td>1</td>\n",
              "      <td>0</td>\n",
              "      <td>0</td>\n",
              "      <td>0</td>\n",
              "      <td>0</td>\n",
              "      <td>0</td>\n",
              "      <td>0</td>\n",
              "      <td>0</td>\n",
              "      <td>0</td>\n",
              "      <td>0</td>\n",
              "      <td>0</td>\n",
              "      <td>0</td>\n",
              "      <td>0</td>\n",
              "      <td>0</td>\n",
              "      <td>0</td>\n",
              "      <td>0</td>\n",
              "      <td>0</td>\n",
              "      <td>0</td>\n",
              "      <td>1</td>\n",
              "      <td>0</td>\n",
              "      <td>0</td>\n",
              "      <td>1</td>\n",
              "      <td>0</td>\n",
              "    </tr>\n",
              "    <tr>\n",
              "      <th>1</th>\n",
              "      <td>77406814453032</td>\n",
              "      <td>24710841</td>\n",
              "      <td>78890</td>\n",
              "      <td>100.0</td>\n",
              "      <td>0</td>\n",
              "      <td>0</td>\n",
              "      <td>0</td>\n",
              "      <td>0</td>\n",
              "      <td>0</td>\n",
              "      <td>0</td>\n",
              "      <td>1</td>\n",
              "      <td>0</td>\n",
              "      <td>0</td>\n",
              "      <td>0</td>\n",
              "      <td>0</td>\n",
              "      <td>0</td>\n",
              "      <td>0</td>\n",
              "      <td>0</td>\n",
              "      <td>0</td>\n",
              "      <td>1</td>\n",
              "      <td>0</td>\n",
              "      <td>1</td>\n",
              "      <td>1</td>\n",
              "      <td>0</td>\n",
              "      <td>0</td>\n",
              "      <td>0</td>\n",
              "      <td>0</td>\n",
              "      <td>1</td>\n",
              "      <td>0</td>\n",
              "    </tr>\n",
              "    <tr>\n",
              "      <th>2</th>\n",
              "      <td>308929485482801</td>\n",
              "      <td>24265476</td>\n",
              "      <td>78890</td>\n",
              "      <td>50.0</td>\n",
              "      <td>0</td>\n",
              "      <td>0</td>\n",
              "      <td>0</td>\n",
              "      <td>0</td>\n",
              "      <td>0</td>\n",
              "      <td>0</td>\n",
              "      <td>1</td>\n",
              "      <td>0</td>\n",
              "      <td>0</td>\n",
              "      <td>0</td>\n",
              "      <td>0</td>\n",
              "      <td>0</td>\n",
              "      <td>0</td>\n",
              "      <td>0</td>\n",
              "      <td>0</td>\n",
              "      <td>1</td>\n",
              "      <td>0</td>\n",
              "      <td>1</td>\n",
              "      <td>0</td>\n",
              "      <td>0</td>\n",
              "      <td>0</td>\n",
              "      <td>1</td>\n",
              "      <td>0</td>\n",
              "      <td>1</td>\n",
              "      <td>0</td>\n",
              "    </tr>\n",
              "    <tr>\n",
              "      <th>3</th>\n",
              "      <td>665270027747073</td>\n",
              "      <td>10240000</td>\n",
              "      <td>102557</td>\n",
              "      <td>1000.0</td>\n",
              "      <td>0</td>\n",
              "      <td>1</td>\n",
              "      <td>0</td>\n",
              "      <td>0</td>\n",
              "      <td>0</td>\n",
              "      <td>0</td>\n",
              "      <td>0</td>\n",
              "      <td>1</td>\n",
              "      <td>0</td>\n",
              "      <td>0</td>\n",
              "      <td>0</td>\n",
              "      <td>0</td>\n",
              "      <td>0</td>\n",
              "      <td>0</td>\n",
              "      <td>0</td>\n",
              "      <td>1</td>\n",
              "      <td>0</td>\n",
              "      <td>1</td>\n",
              "      <td>1</td>\n",
              "      <td>0</td>\n",
              "      <td>0</td>\n",
              "      <td>0</td>\n",
              "      <td>0</td>\n",
              "      <td>1</td>\n",
              "      <td>0</td>\n",
              "    </tr>\n",
              "    <tr>\n",
              "      <th>4</th>\n",
              "      <td>38276160171101</td>\n",
              "      <td>5880625</td>\n",
              "      <td>118335</td>\n",
              "      <td>200.0</td>\n",
              "      <td>0</td>\n",
              "      <td>1</td>\n",
              "      <td>0</td>\n",
              "      <td>0</td>\n",
              "      <td>0</td>\n",
              "      <td>0</td>\n",
              "      <td>0</td>\n",
              "      <td>0</td>\n",
              "      <td>0</td>\n",
              "      <td>0</td>\n",
              "      <td>0</td>\n",
              "      <td>0</td>\n",
              "      <td>0</td>\n",
              "      <td>0</td>\n",
              "      <td>0</td>\n",
              "      <td>1</td>\n",
              "      <td>0</td>\n",
              "      <td>1</td>\n",
              "      <td>0</td>\n",
              "      <td>0</td>\n",
              "      <td>1</td>\n",
              "      <td>0</td>\n",
              "      <td>0</td>\n",
              "      <td>1</td>\n",
              "      <td>0</td>\n",
              "    </tr>\n",
              "    <tr>\n",
              "      <th>...</th>\n",
              "      <td>...</td>\n",
              "      <td>...</td>\n",
              "      <td>...</td>\n",
              "      <td>...</td>\n",
              "      <td>...</td>\n",
              "      <td>...</td>\n",
              "      <td>...</td>\n",
              "      <td>...</td>\n",
              "      <td>...</td>\n",
              "      <td>...</td>\n",
              "      <td>...</td>\n",
              "      <td>...</td>\n",
              "      <td>...</td>\n",
              "      <td>...</td>\n",
              "      <td>...</td>\n",
              "      <td>...</td>\n",
              "      <td>...</td>\n",
              "      <td>...</td>\n",
              "      <td>...</td>\n",
              "      <td>...</td>\n",
              "      <td>...</td>\n",
              "      <td>...</td>\n",
              "      <td>...</td>\n",
              "      <td>...</td>\n",
              "      <td>...</td>\n",
              "      <td>...</td>\n",
              "      <td>...</td>\n",
              "      <td>...</td>\n",
              "      <td>...</td>\n",
              "    </tr>\n",
              "    <tr>\n",
              "      <th>76524</th>\n",
              "      <td>179759462245453</td>\n",
              "      <td>19686969</td>\n",
              "      <td>47334</td>\n",
              "      <td>-100.0</td>\n",
              "      <td>0</td>\n",
              "      <td>0</td>\n",
              "      <td>1</td>\n",
              "      <td>0</td>\n",
              "      <td>0</td>\n",
              "      <td>0</td>\n",
              "      <td>0</td>\n",
              "      <td>0</td>\n",
              "      <td>0</td>\n",
              "      <td>0</td>\n",
              "      <td>0</td>\n",
              "      <td>0</td>\n",
              "      <td>0</td>\n",
              "      <td>0</td>\n",
              "      <td>0</td>\n",
              "      <td>0</td>\n",
              "      <td>0</td>\n",
              "      <td>0</td>\n",
              "      <td>0</td>\n",
              "      <td>0</td>\n",
              "      <td>1</td>\n",
              "      <td>0</td>\n",
              "      <td>0</td>\n",
              "      <td>1</td>\n",
              "      <td>0</td>\n",
              "    </tr>\n",
              "    <tr>\n",
              "      <th>76525</th>\n",
              "      <td>2693567760244353</td>\n",
              "      <td>11662225</td>\n",
              "      <td>118335</td>\n",
              "      <td>200.0</td>\n",
              "      <td>0</td>\n",
              "      <td>0</td>\n",
              "      <td>0</td>\n",
              "      <td>0</td>\n",
              "      <td>0</td>\n",
              "      <td>1</td>\n",
              "      <td>0</td>\n",
              "      <td>0</td>\n",
              "      <td>0</td>\n",
              "      <td>0</td>\n",
              "      <td>0</td>\n",
              "      <td>0</td>\n",
              "      <td>0</td>\n",
              "      <td>0</td>\n",
              "      <td>0</td>\n",
              "      <td>1</td>\n",
              "      <td>0</td>\n",
              "      <td>1</td>\n",
              "      <td>1</td>\n",
              "      <td>0</td>\n",
              "      <td>0</td>\n",
              "      <td>0</td>\n",
              "      <td>0</td>\n",
              "      <td>1</td>\n",
              "      <td>0</td>\n",
              "    </tr>\n",
              "    <tr>\n",
              "      <th>76526</th>\n",
              "      <td>119750257089000</td>\n",
              "      <td>374544</td>\n",
              "      <td>47334</td>\n",
              "      <td>-3.5</td>\n",
              "      <td>0</td>\n",
              "      <td>0</td>\n",
              "      <td>1</td>\n",
              "      <td>0</td>\n",
              "      <td>0</td>\n",
              "      <td>0</td>\n",
              "      <td>0</td>\n",
              "      <td>0</td>\n",
              "      <td>0</td>\n",
              "      <td>0</td>\n",
              "      <td>0</td>\n",
              "      <td>0</td>\n",
              "      <td>0</td>\n",
              "      <td>0</td>\n",
              "      <td>0</td>\n",
              "      <td>0</td>\n",
              "      <td>0</td>\n",
              "      <td>0</td>\n",
              "      <td>0</td>\n",
              "      <td>0</td>\n",
              "      <td>0</td>\n",
              "      <td>1</td>\n",
              "      <td>0</td>\n",
              "      <td>1</td>\n",
              "      <td>0</td>\n",
              "    </tr>\n",
              "    <tr>\n",
              "      <th>76527</th>\n",
              "      <td>1949798765017089</td>\n",
              "      <td>1687401</td>\n",
              "      <td>47334</td>\n",
              "      <td>-20.0</td>\n",
              "      <td>0</td>\n",
              "      <td>0</td>\n",
              "      <td>1</td>\n",
              "      <td>0</td>\n",
              "      <td>0</td>\n",
              "      <td>0</td>\n",
              "      <td>0</td>\n",
              "      <td>0</td>\n",
              "      <td>0</td>\n",
              "      <td>0</td>\n",
              "      <td>0</td>\n",
              "      <td>0</td>\n",
              "      <td>0</td>\n",
              "      <td>0</td>\n",
              "      <td>0</td>\n",
              "      <td>0</td>\n",
              "      <td>0</td>\n",
              "      <td>0</td>\n",
              "      <td>0</td>\n",
              "      <td>0</td>\n",
              "      <td>0</td>\n",
              "      <td>1</td>\n",
              "      <td>0</td>\n",
              "      <td>1</td>\n",
              "      <td>0</td>\n",
              "    </tr>\n",
              "    <tr>\n",
              "      <th>76528</th>\n",
              "      <td>1051344513778987</td>\n",
              "      <td>6754801</td>\n",
              "      <td>47334</td>\n",
              "      <td>-100.0</td>\n",
              "      <td>0</td>\n",
              "      <td>0</td>\n",
              "      <td>1</td>\n",
              "      <td>0</td>\n",
              "      <td>0</td>\n",
              "      <td>0</td>\n",
              "      <td>0</td>\n",
              "      <td>0</td>\n",
              "      <td>0</td>\n",
              "      <td>0</td>\n",
              "      <td>0</td>\n",
              "      <td>0</td>\n",
              "      <td>0</td>\n",
              "      <td>0</td>\n",
              "      <td>0</td>\n",
              "      <td>0</td>\n",
              "      <td>0</td>\n",
              "      <td>0</td>\n",
              "      <td>1</td>\n",
              "      <td>0</td>\n",
              "      <td>0</td>\n",
              "      <td>0</td>\n",
              "      <td>0</td>\n",
              "      <td>1</td>\n",
              "      <td>0</td>\n",
              "    </tr>\n",
              "  </tbody>\n",
              "</table>\n",
              "<p>76529 rows × 29 columns</p>\n",
              "</div>"
            ],
            "text/plain": [
              "       transaction_number   user_id  partner_id  money_transacted is_fraud  \\\n",
              "0            144703125000  17539344       47334              -5.0        0   \n",
              "1          77406814453032  24710841       78890             100.0        0   \n",
              "2         308929485482801  24265476       78890              50.0        0   \n",
              "3         665270027747073  10240000      102557            1000.0        0   \n",
              "4          38276160171101   5880625      118335             200.0        0   \n",
              "...                   ...       ...         ...               ...      ...   \n",
              "76524     179759462245453  19686969       47334            -100.0        0   \n",
              "76525    2693567760244353  11662225      118335             200.0        0   \n",
              "76526     119750257089000    374544       47334              -3.5        0   \n",
              "76527    1949798765017089   1687401       47334             -20.0        0   \n",
              "76528    1051344513778987   6754801       47334            -100.0        0   \n",
              "\n",
              "       payment_method_other_debit_cards  \\\n",
              "0                                     0   \n",
              "1                                     0   \n",
              "2                                     0   \n",
              "3                                     1   \n",
              "4                                     1   \n",
              "...                                 ...   \n",
              "76524                                 0   \n",
              "76525                                 0   \n",
              "76526                                 0   \n",
              "76527                                 0   \n",
              "76528                                 0   \n",
              "\n",
              "       payment_method_sbi_atm_cum_debit_card  \\\n",
              "0                                          1   \n",
              "1                                          0   \n",
              "2                                          0   \n",
              "3                                          0   \n",
              "4                                          0   \n",
              "...                                      ...   \n",
              "76524                                      1   \n",
              "76525                                      0   \n",
              "76526                                      1   \n",
              "76527                                      1   \n",
              "76528                                      1   \n",
              "\n",
              "       payment_method_unified_payments_interface  \\\n",
              "0                                              0   \n",
              "1                                              0   \n",
              "2                                              0   \n",
              "3                                              0   \n",
              "4                                              0   \n",
              "...                                          ...   \n",
              "76524                                          0   \n",
              "76525                                          0   \n",
              "76526                                          0   \n",
              "76527                                          0   \n",
              "76528                                          0   \n",
              "\n",
              "       payment_method_visa_master_credit_cards  \\\n",
              "0                                            0   \n",
              "1                                            0   \n",
              "2                                            0   \n",
              "3                                            0   \n",
              "4                                            0   \n",
              "...                                        ...   \n",
              "76524                                        0   \n",
              "76525                                        0   \n",
              "76526                                        0   \n",
              "76527                                        0   \n",
              "76528                                        0   \n",
              "\n",
              "       payment_method_visa_master_debit_cards  partner_category_cat_2  \\\n",
              "0                                           0                       0   \n",
              "1                                           0                       1   \n",
              "2                                           0                       1   \n",
              "3                                           0                       0   \n",
              "4                                           0                       0   \n",
              "...                                       ...                     ...   \n",
              "76524                                       0                       0   \n",
              "76525                                       1                       0   \n",
              "76526                                       0                       0   \n",
              "76527                                       0                       0   \n",
              "76528                                       0                       0   \n",
              "\n",
              "       partner_category_cat_3  partner_category_cat_4  partner_category_cat_5  \\\n",
              "0                           0                       0                       0   \n",
              "1                           0                       0                       0   \n",
              "2                           0                       0                       0   \n",
              "3                           1                       0                       0   \n",
              "4                           0                       0                       0   \n",
              "...                       ...                     ...                     ...   \n",
              "76524                       0                       0                       0   \n",
              "76525                       0                       0                       0   \n",
              "76526                       0                       0                       0   \n",
              "76527                       0                       0                       0   \n",
              "76528                       0                       0                       0   \n",
              "\n",
              "       partner_category_cat_6  partner_category_cat_7  partner_category_cat_8  \\\n",
              "0                           0                       0                       0   \n",
              "1                           0                       0                       0   \n",
              "2                           0                       0                       0   \n",
              "3                           0                       0                       0   \n",
              "4                           0                       0                       0   \n",
              "...                       ...                     ...                     ...   \n",
              "76524                       0                       0                       0   \n",
              "76525                       0                       0                       0   \n",
              "76526                       0                       0                       0   \n",
              "76527                       0                       0                       0   \n",
              "76528                       0                       0                       0   \n",
              "\n",
              "       partner_category_cat_9  device_type_ios_devices  device_type_other_pcs  \\\n",
              "0                           0                        0                      0   \n",
              "1                           0                        0                      1   \n",
              "2                           0                        0                      1   \n",
              "3                           0                        0                      1   \n",
              "4                           0                        0                      1   \n",
              "...                       ...                      ...                    ...   \n",
              "76524                       0                        0                      0   \n",
              "76525                       0                        0                      1   \n",
              "76526                       0                        0                      0   \n",
              "76527                       0                        0                      0   \n",
              "76528                       0                        0                      0   \n",
              "\n",
              "       device_type_windows_pcs  cred_deb_debit  year_2017  month_2  month_11  \\\n",
              "0                            0               0          0        0         1   \n",
              "1                            0               1          1        0         0   \n",
              "2                            0               1          0        0         0   \n",
              "3                            0               1          1        0         0   \n",
              "4                            0               1          0        0         1   \n",
              "...                        ...             ...        ...      ...       ...   \n",
              "76524                        0               0          0        0         1   \n",
              "76525                        0               1          1        0         0   \n",
              "76526                        0               0          0        0         0   \n",
              "76527                        0               0          0        0         0   \n",
              "76528                        0               0          1        0         0   \n",
              "\n",
              "       month_12  partner_pricing_category_1  partner_pricing_category_2  \\\n",
              "0             0                           0                           1   \n",
              "1             0                           0                           1   \n",
              "2             1                           0                           1   \n",
              "3             0                           0                           1   \n",
              "4             0                           0                           1   \n",
              "...         ...                         ...                         ...   \n",
              "76524         0                           0                           1   \n",
              "76525         0                           0                           1   \n",
              "76526         1                           0                           1   \n",
              "76527         1                           0                           1   \n",
              "76528         0                           0                           1   \n",
              "\n",
              "       partner_pricing_category_4  \n",
              "0                               0  \n",
              "1                               0  \n",
              "2                               0  \n",
              "3                               0  \n",
              "4                               0  \n",
              "...                           ...  \n",
              "76524                           0  \n",
              "76525                           0  \n",
              "76526                           0  \n",
              "76527                           0  \n",
              "76528                           0  \n",
              "\n",
              "[76529 rows x 29 columns]"
            ]
          },
          "metadata": {
            "tags": []
          },
          "execution_count": 46
        }
      ]
    },
    {
      "cell_type": "code",
      "metadata": {
        "colab": {
          "base_uri": "https://localhost:8080/"
        },
        "id": "uhMXARncyuUg",
        "outputId": "31c789f5-47a1-42ed-90e7-e91cb14bb2e7"
      },
      "source": [
        "fraud_det.shape"
      ],
      "execution_count": null,
      "outputs": [
        {
          "output_type": "execute_result",
          "data": {
            "text/plain": [
              "(76529, 29)"
            ]
          },
          "metadata": {
            "tags": []
          },
          "execution_count": 47
        }
      ]
    },
    {
      "cell_type": "code",
      "metadata": {
        "id": "TEoCAMroyuUh"
      },
      "source": [
        "#Splitting dataset into dependent and independent variables.\n",
        "X = fraud_det.loc[:,fraud_det.columns != 'is_fraud']\n",
        "y = fraud_det.loc[:,fraud_det.columns == 'is_fraud']\n",
        "y=y.astype('int')\n",
        "# y =y.to_numpy()\n",
        "# X = X.to_numpy()"
      ],
      "execution_count": null,
      "outputs": []
    },
    {
      "cell_type": "code",
      "metadata": {
        "colab": {
          "base_uri": "https://localhost:8080/"
        },
        "id": "Vaqe81K3yuUh",
        "outputId": "9e687147-88c3-470f-f191-79f09642bb20"
      },
      "source": [
        "X.shape"
      ],
      "execution_count": null,
      "outputs": [
        {
          "output_type": "execute_result",
          "data": {
            "text/plain": [
              "(76529, 28)"
            ]
          },
          "metadata": {
            "tags": []
          },
          "execution_count": 49
        }
      ]
    },
    {
      "cell_type": "code",
      "metadata": {
        "scrolled": true,
        "colab": {
          "base_uri": "https://localhost:8080/"
        },
        "id": "bWcmhenUyuUi",
        "outputId": "e864e2d0-ae65-47dc-d830-c67bf5ab4816"
      },
      "source": [
        "y.shape"
      ],
      "execution_count": null,
      "outputs": [
        {
          "output_type": "execute_result",
          "data": {
            "text/plain": [
              "(76529, 1)"
            ]
          },
          "metadata": {
            "tags": []
          },
          "execution_count": 50
        }
      ]
    },
    {
      "cell_type": "code",
      "metadata": {
        "id": "xQe6OGOIyuUj"
      },
      "source": [
        "#Splitting the dataset into training set and testing set\n",
        "from sklearn.model_selection import train_test_split\n",
        "X_train, X_test, y_train, y_test = train_test_split(X, y, test_size = 0.25, random_state = 0)"
      ],
      "execution_count": null,
      "outputs": []
    },
    {
      "cell_type": "code",
      "metadata": {
        "colab": {
          "base_uri": "https://localhost:8080/"
        },
        "id": "fHdOU---yuUk",
        "outputId": "221056f3-8040-4045-c5ad-ae4e2803cd62"
      },
      "source": [
        "#print lenght of both test and train set\n",
        "print('shape of X_train : ',len(X_train), '\\nshape of y_train : ',len(y_train))\n",
        "print('\\nshape of X_test  : ',len(X_test), '\\nshape of y_test  : ',len(y_test))"
      ],
      "execution_count": null,
      "outputs": [
        {
          "output_type": "stream",
          "text": [
            "shape of X_train :  57396 \n",
            "shape of y_train :  57396\n",
            "\n",
            "shape of X_test  :  19133 \n",
            "shape of y_test  :  19133\n"
          ],
          "name": "stdout"
        }
      ]
    },
    {
      "cell_type": "markdown",
      "metadata": {
        "id": "Fppp2pm8yuUk"
      },
      "source": [
        "# Feature Scaling"
      ]
    },
    {
      "cell_type": "code",
      "metadata": {
        "id": "i3n_GjyGyuUl"
      },
      "source": [
        "from sklearn.preprocessing import StandardScaler\n",
        "sc = StandardScaler()\n",
        "X_train = sc.fit_transform(X_train)\n",
        "X_test = sc.transform(X_test)\n",
        "#min max scalar\n",
        "# statrified sampling"
      ],
      "execution_count": null,
      "outputs": []
    },
    {
      "cell_type": "markdown",
      "metadata": {
        "id": "GHOxvyDuyuUm"
      },
      "source": [
        "# Predictive Model 1: Logistic Regression"
      ]
    },
    {
      "cell_type": "markdown",
      "metadata": {
        "id": "7ijuIzBVyuUm"
      },
      "source": [
        "Training the Logistic Regression Model on the Training set"
      ]
    },
    {
      "cell_type": "code",
      "metadata": {
        "colab": {
          "base_uri": "https://localhost:8080/"
        },
        "id": "J7DDxhkcyuUn",
        "outputId": "f50a2c7d-bcd7-4971-9024-9a3eaacf8785"
      },
      "source": [
        "from sklearn.linear_model import LogisticRegression\n",
        "classifier = LogisticRegression(random_state = 0)\n",
        "classifier.fit(X_train, y_train)\n"
      ],
      "execution_count": null,
      "outputs": [
        {
          "output_type": "execute_result",
          "data": {
            "text/plain": [
              "LogisticRegression(C=1.0, class_weight=None, dual=False, fit_intercept=True,\n",
              "                   intercept_scaling=1, l1_ratio=None, max_iter=100,\n",
              "                   multi_class='auto', n_jobs=None, penalty='l2',\n",
              "                   random_state=0, solver='lbfgs', tol=0.0001, verbose=0,\n",
              "                   warm_start=False)"
            ]
          },
          "metadata": {
            "tags": []
          },
          "execution_count": 54
        }
      ]
    },
    {
      "cell_type": "code",
      "metadata": {
        "colab": {
          "base_uri": "https://localhost:8080/"
        },
        "id": "YrfHs-BXyuUo",
        "outputId": "6abe7659-6cb2-4266-c655-1b20f4bfc50b"
      },
      "source": [
        "#training accuracy\n",
        "classifier.score(X_train,y_train)"
      ],
      "execution_count": null,
      "outputs": [
        {
          "output_type": "execute_result",
          "data": {
            "text/plain": [
              "0.9984145236601853"
            ]
          },
          "metadata": {
            "tags": []
          },
          "execution_count": 55
        }
      ]
    },
    {
      "cell_type": "code",
      "metadata": {
        "colab": {
          "base_uri": "https://localhost:8080/"
        },
        "id": "FY7pbAfNyuUo",
        "outputId": "a04d242b-e3d8-4e20-d759-056a9e8bc7b3"
      },
      "source": [
        "#testing accuracy\n",
        "classifier.score(X_test,y_test)"
      ],
      "execution_count": null,
      "outputs": [
        {
          "output_type": "execute_result",
          "data": {
            "text/plain": [
              "0.9981184341190613"
            ]
          },
          "metadata": {
            "tags": []
          },
          "execution_count": 56
        }
      ]
    },
    {
      "cell_type": "code",
      "metadata": {
        "id": "e-vyOol4yuUp"
      },
      "source": [
        "y_pred = classifier.predict(X_test)"
      ],
      "execution_count": null,
      "outputs": []
    },
    {
      "cell_type": "markdown",
      "metadata": {
        "id": "Zv6Ohu0OyuUq"
      },
      "source": [
        " Making the Confusion Matrix"
      ]
    },
    {
      "cell_type": "code",
      "metadata": {
        "colab": {
          "base_uri": "https://localhost:8080/"
        },
        "id": "2mLO3v8ZyuUq",
        "outputId": "0728a16e-dd89-4a51-e24a-fe90c7dd3cf8"
      },
      "source": [
        "from sklearn.metrics import confusion_matrix, accuracy_score\n",
        "cm = confusion_matrix(y_test, y_pred)\n",
        "print(cm)\n",
        "score = accuracy_score(y_test, y_pred)\n",
        "score"
      ],
      "execution_count": null,
      "outputs": [
        {
          "output_type": "stream",
          "text": [
            "[[19076    12]\n",
            " [   24    21]]\n"
          ],
          "name": "stdout"
        },
        {
          "output_type": "execute_result",
          "data": {
            "text/plain": [
              "0.9981184341190613"
            ]
          },
          "metadata": {
            "tags": []
          },
          "execution_count": 58
        }
      ]
    },
    {
      "cell_type": "code",
      "metadata": {
        "colab": {
          "base_uri": "https://localhost:8080/",
          "height": 537
        },
        "id": "OyP6YPvFyuUr",
        "outputId": "63697d4c-a7cb-4988-960c-0ea34c36a2ef"
      },
      "source": [
        "plt.figure(figsize=(9,9))\n",
        "sns.heatmap(cm, annot=True, fmt=\".3f\", linewidths=.5, square = True, cmap = 'Blues_r')\n",
        "plt.ylabel('Actual label')\n",
        "plt.xlabel('Predicted label')\n",
        "all_sample_title = 'Accuracy Score: {0}'.format(score)\n",
        "plt.title(all_sample_title, size = 15)"
      ],
      "execution_count": null,
      "outputs": [
        {
          "output_type": "execute_result",
          "data": {
            "text/plain": [
              "Text(0.5, 1.0, 'Accuracy Score: 0.9981184341190613')"
            ]
          },
          "metadata": {
            "tags": []
          },
          "execution_count": 59
        },
        {
          "output_type": "display_data",
          "data": {
            "image/png": "[encoded data removed]",
            "text/plain": [
              "<Figure size 648x648 with 2 Axes>"
            ]
          },
          "metadata": {
            "tags": [],
            "needs_background": "light"
          }
        }
      ]
    },
    {
      "cell_type": "markdown",
      "metadata": {
        "id": "_dNNVa6nyuUs"
      },
      "source": [
        "From above confusion matrix we can observe that 21 are predicted 1's(yes) out of 45 and 24 are predicted false."
      ]
    },
    {
      "cell_type": "code",
      "metadata": {
        "colab": {
          "base_uri": "https://localhost:8080/"
        },
        "id": "7UOs6GaqyuUt",
        "outputId": "ff72bfd8-e2e8-47ad-ec95-9d64b852eeee"
      },
      "source": [
        "from sklearn.metrics import classification_report\n",
        "print(classification_report(y_test,y_pred))"
      ],
      "execution_count": null,
      "outputs": [
        {
          "output_type": "stream",
          "text": [
            "              precision    recall  f1-score   support\n",
            "\n",
            "           0       1.00      1.00      1.00     19088\n",
            "           1       0.64      0.47      0.54        45\n",
            "\n",
            "    accuracy                           1.00     19133\n",
            "   macro avg       0.82      0.73      0.77     19133\n",
            "weighted avg       1.00      1.00      1.00     19133\n",
            "\n"
          ],
          "name": "stdout"
        }
      ]
    },
    {
      "cell_type": "code",
      "metadata": {
        "id": "NYie39lOyuUu"
      },
      "source": [
        "# from above report we can tell that recall must be more higher ."
      ],
      "execution_count": null,
      "outputs": []
    },
    {
      "cell_type": "markdown",
      "metadata": {
        "id": "-JgXNXSgyuUu"
      },
      "source": [
        "Estimating the model performance using K-fold Cross Validation"
      ]
    },
    {
      "cell_type": "code",
      "metadata": {
        "id": "lb66GKaByuUv"
      },
      "source": [
        "from numpy import mean\n",
        "from numpy import std\n",
        "from sklearn.datasets import make_classification\n",
        "from sklearn.model_selection import KFold\n",
        "from sklearn.model_selection import cross_val_score"
      ],
      "execution_count": null,
      "outputs": []
    },
    {
      "cell_type": "code",
      "metadata": {
        "id": "qniDuVcyyuUw"
      },
      "source": [
        "  # prepare the cross-validation procedure\n",
        "cv = KFold(n_splits=10, random_state=1, shuffle=True)"
      ],
      "execution_count": null,
      "outputs": []
    },
    {
      "cell_type": "code",
      "metadata": {
        "colab": {
          "base_uri": "https://localhost:8080/"
        },
        "id": "1VDSHqVByuUw",
        "outputId": "5c09a696-96fb-4194-a75a-c05f9b7bf3fd"
      },
      "source": [
        "# evaluate model\n",
        "scores = cross_val_score(classifier, X, y, scoring='accuracy', cv=cv, n_jobs=-1)\n",
        "# report performance\n",
        "print('Accuracy: %.3f' % (mean(scores)))"
      ],
      "execution_count": null,
      "outputs": [
        {
          "output_type": "stream",
          "text": [
            "Accuracy: 0.998\n"
          ],
          "name": "stdout"
        }
      ]
    },
    {
      "cell_type": "code",
      "metadata": {
        "id": "hX5DbPQCyuUy"
      },
      "source": [
        "# The k-fold cross-validation procedure \n",
        "# divides a limited dataset into k non-overlapping folds. \n",
        "# Each of the k folds is given an opportunity to be used \n",
        "# as a held back test set, whilst all other folds \n",
        "# collectively are used as a training dataset."
      ],
      "execution_count": null,
      "outputs": []
    },
    {
      "cell_type": "markdown",
      "metadata": {
        "id": "sQaNH2e-yuUz"
      },
      "source": [
        "# Predictive model 2: Decision tree classifier"
      ]
    },
    {
      "cell_type": "code",
      "metadata": {
        "id": "zS4uQY-ByuUz"
      },
      "source": [
        "from sklearn.tree import DecisionTreeClassifier"
      ],
      "execution_count": null,
      "outputs": []
    },
    {
      "cell_type": "code",
      "metadata": {
        "colab": {
          "base_uri": "https://localhost:8080/"
        },
        "id": "BNDi19T4yuU0",
        "outputId": "8c603874-7b22-49a6-aa15-ab00fc82ba3c"
      },
      "source": [
        "classifier = DecisionTreeClassifier(criterion = 'entropy',random_state=0)\n",
        "classifier.fit(X_train, y_train)"
      ],
      "execution_count": null,
      "outputs": [
        {
          "output_type": "execute_result",
          "data": {
            "text/plain": [
              "DecisionTreeClassifier(ccp_alpha=0.0, class_weight=None, criterion='entropy',\n",
              "                       max_depth=None, max_features=None, max_leaf_nodes=None,\n",
              "                       min_impurity_decrease=0.0, min_impurity_split=None,\n",
              "                       min_samples_leaf=1, min_samples_split=2,\n",
              "                       min_weight_fraction_leaf=0.0, presort='deprecated',\n",
              "                       random_state=0, splitter='best')"
            ]
          },
          "metadata": {
            "tags": []
          },
          "execution_count": 67
        }
      ]
    },
    {
      "cell_type": "code",
      "metadata": {
        "colab": {
          "base_uri": "https://localhost:8080/"
        },
        "id": "GXlhWGQxyuU1",
        "outputId": "4434184b-7abb-4405-f3b4-ad96f960fbd0"
      },
      "source": [
        "#Training Accuracy \n",
        "classifier.score(X_train, y_train)"
      ],
      "execution_count": null,
      "outputs": [
        {
          "output_type": "execute_result",
          "data": {
            "text/plain": [
              "1.0"
            ]
          },
          "metadata": {
            "tags": []
          },
          "execution_count": 68
        }
      ]
    },
    {
      "cell_type": "code",
      "metadata": {
        "id": "E17wPZwMyuU2"
      },
      "source": [
        "y_pred = classifier.predict(X_test)"
      ],
      "execution_count": null,
      "outputs": []
    },
    {
      "cell_type": "code",
      "metadata": {
        "colab": {
          "base_uri": "https://localhost:8080/"
        },
        "id": "B7GE2QuHyuU3",
        "outputId": "7d4c428b-76c6-4089-945a-1acd2e6e1996"
      },
      "source": [
        "from sklearn.metrics import confusion_matrix, accuracy_score\n",
        "cm = confusion_matrix(y_test, y_pred)\n",
        "print(cm)\n",
        "score = accuracy_score(y_test, y_pred)\n",
        "score"
      ],
      "execution_count": null,
      "outputs": [
        {
          "output_type": "stream",
          "text": [
            "[[19080     8]\n",
            " [    3    42]]\n"
          ],
          "name": "stdout"
        },
        {
          "output_type": "execute_result",
          "data": {
            "text/plain": [
              "0.9994250770919354"
            ]
          },
          "metadata": {
            "tags": []
          },
          "execution_count": 70
        }
      ]
    },
    {
      "cell_type": "code",
      "metadata": {
        "colab": {
          "base_uri": "https://localhost:8080/",
          "height": 537
        },
        "id": "nkV5Ai2JyuU4",
        "outputId": "77990f66-6c3e-4e0f-c599-1a3f769e7184"
      },
      "source": [
        "plt.figure(figsize=(9,9))\n",
        "sns.heatmap(cm, annot=True, fmt=\".3f\", linewidths=.5, square = True, cmap = 'Blues_r')\n",
        "plt.ylabel('Actual label')\n",
        "plt.xlabel('Predicted label')\n",
        "all_sample_title = 'Accuracy Score: {0}'.format(score)\n",
        "plt.title(all_sample_title, size = 15)"
      ],
      "execution_count": null,
      "outputs": [
        {
          "output_type": "execute_result",
          "data": {
            "text/plain": [
              "Text(0.5, 1.0, 'Accuracy Score: 0.9994250770919354')"
            ]
          },
          "metadata": {
            "tags": []
          },
          "execution_count": 71
        },
        {
          "output_type": "display_data",
          "data": {
            "image/png": "[encoded data removed]",
            "text/plain": [
              "<Figure size 648x648 with 2 Axes>"
            ]
          },
          "metadata": {
            "tags": [],
            "needs_background": "light"
          }
        }
      ]
    },
    {
      "cell_type": "code",
      "metadata": {
        "id": "Hfi1IPYZyuU5"
      },
      "source": [
        "## From above confusion matrix we can observe that out of 45 1's(yes) this model predicted 41 1's correctly."
      ],
      "execution_count": null,
      "outputs": []
    },
    {
      "cell_type": "code",
      "metadata": {
        "colab": {
          "base_uri": "https://localhost:8080/"
        },
        "id": "7A1YPdXhyuU5",
        "outputId": "ac00bc6f-8234-4d7e-8ece-2dba4b2c7f3b"
      },
      "source": [
        "from sklearn.metrics import classification_report\n",
        "print(classification_report(y_test,y_pred))"
      ],
      "execution_count": null,
      "outputs": [
        {
          "output_type": "stream",
          "text": [
            "              precision    recall  f1-score   support\n",
            "\n",
            "           0       1.00      1.00      1.00     19088\n",
            "           1       0.84      0.93      0.88        45\n",
            "\n",
            "    accuracy                           1.00     19133\n",
            "   macro avg       0.92      0.97      0.94     19133\n",
            "weighted avg       1.00      1.00      1.00     19133\n",
            "\n"
          ],
          "name": "stdout"
        }
      ]
    },
    {
      "cell_type": "markdown",
      "metadata": {
        "id": "loOPxfTWyuU6"
      },
      "source": [
        "# Predictive model 3: Random Forest Classifier"
      ]
    },
    {
      "cell_type": "code",
      "metadata": {
        "colab": {
          "base_uri": "https://localhost:8080/"
        },
        "id": "Fv9AFFORyuU7",
        "outputId": "4be12787-850a-4d33-b6d1-0058d5108083"
      },
      "source": [
        "from sklearn.ensemble import RandomForestClassifier\n",
        "classifier = RandomForestClassifier(n_estimators = 100, criterion = 'entropy', random_state = 0)\n",
        "classifier.fit(X_train, y_train)"
      ],
      "execution_count": null,
      "outputs": [
        {
          "output_type": "execute_result",
          "data": {
            "text/plain": [
              "RandomForestClassifier(bootstrap=True, ccp_alpha=0.0, class_weight=None,\n",
              "                       criterion='entropy', max_depth=None, max_features='auto',\n",
              "                       max_leaf_nodes=None, max_samples=None,\n",
              "                       min_impurity_decrease=0.0, min_impurity_split=None,\n",
              "                       min_samples_leaf=1, min_samples_split=2,\n",
              "                       min_weight_fraction_leaf=0.0, n_estimators=100,\n",
              "                       n_jobs=None, oob_score=False, random_state=0, verbose=0,\n",
              "                       warm_start=False)"
            ]
          },
          "metadata": {
            "tags": []
          },
          "execution_count": 74
        }
      ]
    },
    {
      "cell_type": "code",
      "metadata": {
        "colab": {
          "base_uri": "https://localhost:8080/"
        },
        "id": "aUXJnhgfyuU-",
        "outputId": "c3c666fd-0c8d-4f72-b969-321b48224cfe"
      },
      "source": [
        "#training accuracy\n",
        "classifier.score(X_train, y_train)"
      ],
      "execution_count": null,
      "outputs": [
        {
          "output_type": "execute_result",
          "data": {
            "text/plain": [
              "1.0"
            ]
          },
          "metadata": {
            "tags": []
          },
          "execution_count": 75
        }
      ]
    },
    {
      "cell_type": "code",
      "metadata": {
        "id": "tY_cXi1vyuU_"
      },
      "source": [
        "y_pred = classifier.predict(X_test)"
      ],
      "execution_count": null,
      "outputs": []
    },
    {
      "cell_type": "code",
      "metadata": {
        "colab": {
          "base_uri": "https://localhost:8080/"
        },
        "id": "27p0F25byuU_",
        "outputId": "6c88c7f9-2e5f-44c8-e0d6-433724056f79"
      },
      "source": [
        "from sklearn.metrics import confusion_matrix, accuracy_score\n",
        "cm = confusion_matrix(y_test, y_pred)\n",
        "print(cm)\n",
        "score = accuracy_score(y_test, y_pred)\n",
        "score"
      ],
      "execution_count": null,
      "outputs": [
        {
          "output_type": "stream",
          "text": [
            "[[19082     6]\n",
            " [   13    32]]\n"
          ],
          "name": "stdout"
        },
        {
          "output_type": "execute_result",
          "data": {
            "text/plain": [
              "0.9990069513406157"
            ]
          },
          "metadata": {
            "tags": []
          },
          "execution_count": 77
        }
      ]
    },
    {
      "cell_type": "code",
      "metadata": {
        "colab": {
          "base_uri": "https://localhost:8080/",
          "height": 537
        },
        "id": "wZnFOJ4WzW2q",
        "outputId": "c8ffc6d3-b0e0-4202-cbb3-4d8dad0f6d8f"
      },
      "source": [
        "plt.figure(figsize=(9,9))\n",
        "sns.heatmap(cm, annot=True, fmt=\".3f\", linewidths=.5, square = True, cmap = 'Blues_r')\n",
        "plt.ylabel('Actual label')\n",
        "plt.xlabel('Predicted label')\n",
        "all_sample_title = 'Accuracy Score: {0}'.format(score)\n",
        "plt.title(all_sample_title, size = 15)"
      ],
      "execution_count": null,
      "outputs": [
        {
          "output_type": "execute_result",
          "data": {
            "text/plain": [
              "Text(0.5, 1.0, 'Accuracy Score: 0.9990069513406157')"
            ]
          },
          "metadata": {
            "tags": []
          },
          "execution_count": 78
        },
        {
          "output_type": "display_data",
          "data": {
            "image/png": "[encoded data removed]",
            "text/plain": [
              "<Figure size 648x648 with 2 Axes>"
            ]
          },
          "metadata": {
            "tags": [],
            "needs_background": "light"
          }
        }
      ]
    },
    {
      "cell_type": "code",
      "metadata": {
        "id": "SseHTlm-yuVA"
      },
      "source": [
        "# This model predicted 32 1's correctly out of 45, and also predicted 6 0's as 1's."
      ],
      "execution_count": null,
      "outputs": []
    },
    {
      "cell_type": "code",
      "metadata": {
        "scrolled": false,
        "colab": {
          "base_uri": "https://localhost:8080/"
        },
        "id": "W76fzCeByuVB",
        "outputId": "30f7c0dc-cda2-4db5-c7db-45a6d911a0d7"
      },
      "source": [
        "print(classification_report(y_test,y_pred))"
      ],
      "execution_count": null,
      "outputs": [
        {
          "output_type": "stream",
          "text": [
            "              precision    recall  f1-score   support\n",
            "\n",
            "           0       1.00      1.00      1.00     19088\n",
            "           1       0.84      0.71      0.77        45\n",
            "\n",
            "    accuracy                           1.00     19133\n",
            "   macro avg       0.92      0.86      0.89     19133\n",
            "weighted avg       1.00      1.00      1.00     19133\n",
            "\n"
          ],
          "name": "stdout"
        }
      ]
    },
    {
      "cell_type": "markdown",
      "metadata": {
        "id": "34yJ-fffzgkI"
      },
      "source": [
        "## **Now I will perform hyperparameter tuning to find best attributes and features to make my model better**\n"
      ]
    },
    {
      "cell_type": "code",
      "metadata": {
        "id": "OkAH5zc6yuVC"
      },
      "source": [
        "from sklearn.model_selection import RandomizedSearchCV\n",
        "\n",
        "from scipy.stats import randint\n",
        "\n",
        "est = RandomForestClassifier(n_jobs=-1)\n",
        "rf_p_dist={'max_depth':[3,5,10,20,30,40],\n",
        "              'n_estimators':[10,20,30,40,50],\n",
        "              'max_features':randint(1,30),\n",
        "               'criterion':['gini','entropy'],\n",
        "               'bootstrap':[True,False],\n",
        "               'min_samples_leaf':randint(1,30)\n",
        "              }"
      ],
      "execution_count": null,
      "outputs": []
    },
    {
      "cell_type": "code",
      "metadata": {
        "colab": {
          "base_uri": "https://localhost:8080/"
        },
        "id": "9XzBvE0r074G",
        "outputId": "da2d386e-a3d1-49a4-e8c2-025dc2ba10b0"
      },
      "source": [
        "# scaling the features\n",
        "from sklearn.preprocessing import scale\n",
        "\n",
        "# storing column names in cols, since column names are (annoyingly) lost after \n",
        "# scaling (the df is converted to a numpy array)\n",
        "cols = X.columns\n",
        "X_scale = pd.DataFrame(scale(X))\n",
        "X_scale.columns = cols\n",
        "X_scale.columns"
      ],
      "execution_count": null,
      "outputs": [
        {
          "output_type": "execute_result",
          "data": {
            "text/plain": [
              "Index(['transaction_number', 'user_id', 'partner_id', 'money_transacted',\n",
              "       'payment_method_other_debit_cards',\n",
              "       'payment_method_sbi_atm_cum_debit_card',\n",
              "       'payment_method_unified_payments_interface',\n",
              "       'payment_method_visa_master_credit_cards',\n",
              "       'payment_method_visa_master_debit_cards', 'partner_category_cat_2',\n",
              "       'partner_category_cat_3', 'partner_category_cat_4',\n",
              "       'partner_category_cat_5', 'partner_category_cat_6',\n",
              "       'partner_category_cat_7', 'partner_category_cat_8',\n",
              "       'partner_category_cat_9', 'device_type_ios_devices',\n",
              "       'device_type_other_pcs', 'device_type_windows_pcs', 'cred_deb_debit',\n",
              "       'year_2017', 'month_2', 'month_11', 'month_12',\n",
              "       'partner_pricing_category_1', 'partner_pricing_category_2',\n",
              "       'partner_pricing_category_4'],\n",
              "      dtype='object')"
            ]
          },
          "metadata": {
            "tags": []
          },
          "execution_count": 82
        }
      ]
    },
    {
      "cell_type": "code",
      "metadata": {
        "id": "yDKGAJ330bB7"
      },
      "source": [
        "def hypertuning_rscv(est, p_distr, nbr_iter,X_scale,y):\n",
        "    rdmsearch = RandomizedSearchCV(est, param_distributions=p_distr,\n",
        "                                  n_jobs=-1, n_iter=nbr_iter, cv=9)\n",
        "    #CV = Cross-Validation ( here using Stratified KFold CV)\n",
        "    rdmsearch.fit(X_scale,y)\n",
        "    ht_params = rdmsearch.best_params_\n",
        "    ht_score = rdmsearch.best_score_\n",
        "    return ht_params, ht_score\n",
        "\n"
      ],
      "execution_count": null,
      "outputs": []
    },
    {
      "cell_type": "code",
      "metadata": {
        "id": "ulr9Y5u51fJN"
      },
      "source": [
        "rf_parameters, rf_ht_score = hypertuning_rscv(est, rf_p_dist, 10, X_scale, y)"
      ],
      "execution_count": null,
      "outputs": []
    },
    {
      "cell_type": "code",
      "metadata": {
        "colab": {
          "base_uri": "https://localhost:8080/"
        },
        "id": "aFbq44gB39UB",
        "outputId": "fe7f91c8-8370-4afe-a440-ba98e81397d7"
      },
      "source": [
        "rf_parameters"
      ],
      "execution_count": null,
      "outputs": [
        {
          "output_type": "execute_result",
          "data": {
            "text/plain": [
              "{'bootstrap': False,\n",
              " 'criterion': 'gini',\n",
              " 'max_depth': 10,\n",
              " 'max_features': 25,\n",
              " 'min_samples_leaf': 22,\n",
              " 'n_estimators': 10}"
            ]
          },
          "metadata": {
            "tags": []
          },
          "execution_count": 85
        }
      ]
    },
    {
      "cell_type": "code",
      "metadata": {
        "colab": {
          "base_uri": "https://localhost:8080/"
        },
        "id": "uBEpTksi4Dxw",
        "outputId": "445e7ac6-c359-4fd1-8db8-8015ef871d5f"
      },
      "source": [
        "rf_ht_score"
      ],
      "execution_count": null,
      "outputs": [
        {
          "output_type": "execute_result",
          "data": {
            "text/plain": [
              "0.9994511879248564"
            ]
          },
          "metadata": {
            "tags": []
          },
          "execution_count": 86
        }
      ]
    },
    {
      "cell_type": "markdown",
      "metadata": {
        "id": "YJUJ7gL26Kyu"
      },
      "source": [
        "## Now Building random forest classifier using above parameters"
      ]
    },
    {
      "cell_type": "code",
      "metadata": {
        "colab": {
          "base_uri": "https://localhost:8080/"
        },
        "id": "HtDRAlJM4Ioe",
        "outputId": "b4db9417-c5e1-4f56-f2e6-fa234470ec0b"
      },
      "source": [
        "classifier=RandomForestClassifier(n_jobs=-1, n_estimators=10,bootstrap= False,criterion='entropy',max_depth=30,max_features=19,min_samples_leaf= 5)\n",
        "\n",
        "classifier.fit(X_train, y_train)"
      ],
      "execution_count": null,
      "outputs": [
        {
          "output_type": "execute_result",
          "data": {
            "text/plain": [
              "RandomForestClassifier(bootstrap=False, ccp_alpha=0.0, class_weight=None,\n",
              "                       criterion='entropy', max_depth=30, max_features=19,\n",
              "                       max_leaf_nodes=None, max_samples=None,\n",
              "                       min_impurity_decrease=0.0, min_impurity_split=None,\n",
              "                       min_samples_leaf=5, min_samples_split=2,\n",
              "                       min_weight_fraction_leaf=0.0, n_estimators=10, n_jobs=-1,\n",
              "                       oob_score=False, random_state=None, verbose=0,\n",
              "                       warm_start=False)"
            ]
          },
          "metadata": {
            "tags": []
          },
          "execution_count": 87
        }
      ]
    },
    {
      "cell_type": "code",
      "metadata": {
        "colab": {
          "base_uri": "https://localhost:8080/"
        },
        "id": "jJC-DHP248EP",
        "outputId": "3ad4b12d-899e-4f7c-e7c7-709a57b93358"
      },
      "source": [
        "# Predicting the Test set results\n",
        "y_pred = classifier.predict(X_test)\n",
        "\n",
        "# Making the Confusion Matrix\n",
        "from sklearn.metrics import confusion_matrix,accuracy_score\n",
        "cm = confusion_matrix(y_test, y_pred)\n",
        "print(cm)\n",
        "\n",
        "score = accuracy_score(y_test, y_pred)\n",
        "score"
      ],
      "execution_count": null,
      "outputs": [
        {
          "output_type": "stream",
          "text": [
            "[[19083     5]\n",
            " [    8    37]]\n"
          ],
          "name": "stdout"
        },
        {
          "output_type": "execute_result",
          "data": {
            "text/plain": [
              "0.9993205456541054"
            ]
          },
          "metadata": {
            "tags": []
          },
          "execution_count": 88
        }
      ]
    },
    {
      "cell_type": "code",
      "metadata": {
        "colab": {
          "base_uri": "https://localhost:8080/",
          "height": 537
        },
        "id": "jqN7SYrSzhkB",
        "outputId": "67148669-a2cd-4e97-ebdf-3fcf91e37ed2"
      },
      "source": [
        "plt.figure(figsize=(9,9))\n",
        "sns.heatmap(cm, annot=True, fmt=\".3f\", linewidths=.5, square = True, cmap = 'Blues_r')\n",
        "plt.ylabel('Actual label')\n",
        "plt.xlabel('Predicted label')\n",
        "all_sample_title = 'Accuracy Score: {0}'.format(score)\n",
        "plt.title(all_sample_title, size = 15)"
      ],
      "execution_count": null,
      "outputs": [
        {
          "output_type": "execute_result",
          "data": {
            "text/plain": [
              "Text(0.5, 1.0, 'Accuracy Score: 0.9993205456541054')"
            ]
          },
          "metadata": {
            "tags": []
          },
          "execution_count": 89
        },
        {
          "output_type": "display_data",
          "data": {
            "image/png": "[encoded data removed]",
            "text/plain": [
              "<Figure size 648x648 with 2 Axes>"
            ]
          },
          "metadata": {
            "tags": [],
            "needs_background": "light"
          }
        }
      ]
    },
    {
      "cell_type": "markdown",
      "metadata": {
        "id": "kleu4csd6iFW"
      },
      "source": [
        "Here we can observe that out of 45 1's, 39 1's are predicted correctly."
      ]
    },
    {
      "cell_type": "code",
      "metadata": {
        "colab": {
          "base_uri": "https://localhost:8080/"
        },
        "id": "omEnFwdf5ks2",
        "outputId": "896461b4-c7e0-4d29-8dc9-6614f4bc17c4"
      },
      "source": [
        "print(classification_report(y_test,y_pred))"
      ],
      "execution_count": null,
      "outputs": [
        {
          "output_type": "stream",
          "text": [
            "              precision    recall  f1-score   support\n",
            "\n",
            "           0       1.00      1.00      1.00     19088\n",
            "           1       0.88      0.82      0.85        45\n",
            "\n",
            "    accuracy                           1.00     19133\n",
            "   macro avg       0.94      0.91      0.93     19133\n",
            "weighted avg       1.00      1.00      1.00     19133\n",
            "\n"
          ],
          "name": "stdout"
        }
      ]
    },
    {
      "cell_type": "markdown",
      "metadata": {
        "id": "sG09rfRA6x3b"
      },
      "source": [
        "Here we can see that precision is quite high, that means this model is not predicting wrong 1's, i.e false positive are decreased, which is good."
      ]
    },
    {
      "cell_type": "code",
      "metadata": {
        "colab": {
          "base_uri": "https://localhost:8080/"
        },
        "id": "LV49XmmX7T-I",
        "outputId": "7d57a271-3b24-406a-a0ce-c65b0a26b624"
      },
      "source": [
        "# K-fold cross validation\n",
        "# evaluate model\n",
        "scores = cross_val_score(classifier, X, y, scoring='accuracy', cv=cv, n_jobs=-1)\n",
        "# report performance\n",
        "print('Accuracy: %.3f' % (mean(scores)))"
      ],
      "execution_count": null,
      "outputs": [
        {
          "output_type": "stream",
          "text": [
            "Accuracy: 1.000\n"
          ],
          "name": "stdout"
        }
      ]
    },
    {
      "cell_type": "markdown",
      "metadata": {
        "id": "-xWpg7-UGZex"
      },
      "source": [
        "# Predictive Model 4: XGBClassifier"
      ]
    },
    {
      "cell_type": "code",
      "metadata": {
        "colab": {
          "base_uri": "https://localhost:8080/"
        },
        "id": "XGeZ75t_8vo4",
        "outputId": "2a6fe1bd-bf93-4382-a098-5b48f24b9af7"
      },
      "source": [
        "from xgboost import XGBClassifier\n",
        "model = XGBClassifier()\n",
        "model.fit(X_train,y_train)"
      ],
      "execution_count": null,
      "outputs": [
        {
          "output_type": "execute_result",
          "data": {
            "text/plain": [
              "XGBClassifier(base_score=0.5, booster='gbtree', colsample_bylevel=1,\n",
              "              colsample_bynode=1, colsample_bytree=1, gamma=0,\n",
              "              learning_rate=0.1, max_delta_step=0, max_depth=3,\n",
              "              min_child_weight=1, missing=None, n_estimators=100, n_jobs=1,\n",
              "              nthread=None, objective='binary:logistic', random_state=0,\n",
              "              reg_alpha=0, reg_lambda=1, scale_pos_weight=1, seed=None,\n",
              "              silent=None, subsample=1, verbosity=1)"
            ]
          },
          "metadata": {
            "tags": []
          },
          "execution_count": 92
        }
      ]
    },
    {
      "cell_type": "code",
      "metadata": {
        "id": "tiPC6FPgDgkG"
      },
      "source": [
        "#predicting test results\n",
        "y_pred = model.predict(X_test)"
      ],
      "execution_count": null,
      "outputs": []
    },
    {
      "cell_type": "code",
      "metadata": {
        "colab": {
          "base_uri": "https://localhost:8080/"
        },
        "id": "Q6yV9-NCEBFm",
        "outputId": "99870744-fd07-4d7f-afca-fca9a37a7889"
      },
      "source": [
        "# Making the Confusion Matrix\n",
        "from sklearn.metrics import confusion_matrix,accuracy_score\n",
        "cm = confusion_matrix(y_test, y_pred)\n",
        "print(cm)\n",
        "\n",
        "accuracy_score(y_test, y_pred)"
      ],
      "execution_count": null,
      "outputs": [
        {
          "output_type": "stream",
          "text": [
            "[[19085     3]\n",
            " [    7    38]]\n"
          ],
          "name": "stdout"
        },
        {
          "output_type": "execute_result",
          "data": {
            "text/plain": [
              "0.9994773428108503"
            ]
          },
          "metadata": {
            "tags": []
          },
          "execution_count": 94
        }
      ]
    },
    {
      "cell_type": "code",
      "metadata": {
        "colab": {
          "base_uri": "https://localhost:8080/"
        },
        "id": "5cDG3ak1EpGk",
        "outputId": "074623bd-8554-4f6d-fc0a-7ea9e61f6e09"
      },
      "source": [
        "print(classification_report(y_test,y_pred))"
      ],
      "execution_count": null,
      "outputs": [
        {
          "output_type": "stream",
          "text": [
            "              precision    recall  f1-score   support\n",
            "\n",
            "           0       1.00      1.00      1.00     19088\n",
            "           1       0.93      0.84      0.88        45\n",
            "\n",
            "    accuracy                           1.00     19133\n",
            "   macro avg       0.96      0.92      0.94     19133\n",
            "weighted avg       1.00      1.00      1.00     19133\n",
            "\n"
          ],
          "name": "stdout"
        }
      ]
    },
    {
      "cell_type": "markdown",
      "metadata": {
        "id": "ykUtWpgWGr8X"
      },
      "source": [
        "## **Now I will Try using some Feature Selection Methods to select only that feature which makes our model robust and better.**"
      ]
    },
    {
      "cell_type": "markdown",
      "metadata": {
        "id": "CDXklLKp0htY"
      },
      "source": [
        "**Feature selection method 1: Backward Elimination**"
      ]
    },
    {
      "cell_type": "code",
      "metadata": {
        "id": "3_YbjQv7YZ1M",
        "colab": {
          "base_uri": "https://localhost:8080/"
        },
        "outputId": "ff35d9b6-bce2-45e8-c832-918a88959ae1"
      },
      "source": [
        "#Adding constant column of ones, mandatory for sm.OLS model\n",
        "import statsmodels.regression.linear_model as lm\n",
        "import statsmodels.regression.linear_model as sm\n",
        "import statsmodels.api as smm\n",
        "X_1 = smm.add_constant(X)\n",
        "#Fitting sm.OLS model\n",
        "model = lm.OLS(y,X_1).fit()\n",
        "model.pvalues"
      ],
      "execution_count": null,
      "outputs": [
        {
          "output_type": "execute_result",
          "data": {
            "text/plain": [
              "const                                        0.000000e+00\n",
              "transaction_number                           2.020769e-01\n",
              "user_id                                      9.369746e-14\n",
              "partner_id                                   6.161084e-01\n",
              "money_transacted                             0.000000e+00\n",
              "payment_method_other_debit_cards             0.000000e+00\n",
              "payment_method_sbi_atm_cum_debit_card        0.000000e+00\n",
              "payment_method_unified_payments_interface    0.000000e+00\n",
              "payment_method_visa_master_credit_cards      0.000000e+00\n",
              "payment_method_visa_master_debit_cards       0.000000e+00\n",
              "partner_category_cat_2                       0.000000e+00\n",
              "partner_category_cat_3                       0.000000e+00\n",
              "partner_category_cat_4                       0.000000e+00\n",
              "partner_category_cat_5                       0.000000e+00\n",
              "partner_category_cat_6                       0.000000e+00\n",
              "partner_category_cat_7                       0.000000e+00\n",
              "partner_category_cat_8                       0.000000e+00\n",
              "partner_category_cat_9                       0.000000e+00\n",
              "device_type_ios_devices                      0.000000e+00\n",
              "device_type_other_pcs                        0.000000e+00\n",
              "device_type_windows_pcs                      0.000000e+00\n",
              "cred_deb_debit                               0.000000e+00\n",
              "year_2017                                    0.000000e+00\n",
              "month_2                                      0.000000e+00\n",
              "month_11                                     0.000000e+00\n",
              "month_12                                     0.000000e+00\n",
              "partner_pricing_category_1                   0.000000e+00\n",
              "partner_pricing_category_2                   0.000000e+00\n",
              "partner_pricing_category_4                   0.000000e+00\n",
              "dtype: float64"
            ]
          },
          "metadata": {
            "tags": []
          },
          "execution_count": 96
        }
      ]
    },
    {
      "cell_type": "code",
      "metadata": {
        "colab": {
          "base_uri": "https://localhost:8080/"
        },
        "id": "w7z38fMw1ZTj",
        "outputId": "90f64e5c-3331-4369-80d4-791ea254dd5e"
      },
      "source": [
        "#Backward Elimination\n",
        "cols = list(X.columns)\n",
        "pmax = 1\n",
        "while (len(cols)>0):\n",
        "    p= []\n",
        "    X_1 = X[cols]\n",
        "    X_1 = smm.add_constant(X_1)\n",
        "    model = sm.OLS(y,X_1).fit()\n",
        "    p = pd.Series(model.pvalues.values[1:],index = cols)      \n",
        "    pmax = max(p)\n",
        "    feature_with_p_max = p.idxmax()\n",
        "    if(pmax>0.05):\n",
        "        cols.remove(feature_with_p_max)\n",
        "    else:\n",
        "        break\n",
        "selected_features_BE = cols\n",
        "print(selected_features_BE)"
      ],
      "execution_count": null,
      "outputs": [
        {
          "output_type": "stream",
          "text": [
            "['user_id', 'money_transacted', 'payment_method_other_debit_cards', 'payment_method_sbi_atm_cum_debit_card', 'payment_method_visa_master_credit_cards', 'partner_category_cat_3', 'partner_category_cat_5', 'partner_category_cat_7', 'partner_category_cat_8', 'device_type_other_pcs', 'device_type_windows_pcs', 'cred_deb_debit', 'year_2017', 'month_11', 'month_12', 'partner_pricing_category_1', 'partner_pricing_category_2', 'partner_pricing_category_4']\n"
          ],
          "name": "stdout"
        }
      ]
    },
    {
      "cell_type": "markdown",
      "metadata": {
        "id": "kF0Tyt892vpi"
      },
      "source": [
        "**Now I will build model on only above redundant features and check for accuracy**"
      ]
    },
    {
      "cell_type": "code",
      "metadata": {
        "id": "ViCAKxKc2sol"
      },
      "source": [
        "# Again splitting\n",
        "X = fraud_det.loc[:, ['user_id', 'money_transacted', 'payment_method_other_debit_cards', 'payment_method_sbi_atm_cum_debit_card', 'payment_method_visa_master_credit_cards', 'partner_category_cat_3', 'partner_category_cat_5', 'partner_category_cat_7', 'partner_category_cat_8', 'device_type_other_pcs', 'device_type_windows_pcs', 'cred_deb_debit', 'year_2017', 'month_11', 'month_12', 'partner_pricing_category_1', 'partner_pricing_category_2', 'partner_pricing_category_4']]\n",
        "y = fraud_det.loc[:,['is_fraud']]\n",
        "y=y.astype('int')\n",
        "\n",
        "from sklearn.preprocessing import scale\n",
        "\n",
        "# storing column names in cols, since column names are (annoyingly) lost after \n",
        "# scaling (the df is converted to a numpy array)\n",
        "cols = X.columns\n",
        "X = pd.DataFrame(scale(X))\n",
        "X.columns = cols\n",
        "X.columns\n",
        "\n",
        "# Training testing split\n",
        "from sklearn.model_selection import train_test_split\n",
        "X_train, X_test, y_train, y_test = train_test_split(X, y, test_size = 0.25, random_state = 0)\n",
        "\n",
        "# #feature scaling\n",
        "# from sklearn.preprocessing import StandardScaler\n",
        "# sc = StandardScaler()\n",
        "# X_train = sc.fit_transform(X_train)\n",
        "# X_test = sc.transform(X_test)"
      ],
      "execution_count": null,
      "outputs": []
    },
    {
      "cell_type": "markdown",
      "metadata": {
        "id": "x8NcU3XP4CaZ"
      },
      "source": [
        "**Logistic Regression**\n",
        "\n"
      ]
    },
    {
      "cell_type": "code",
      "metadata": {
        "id": "-ThcZ7nB4Nb-"
      },
      "source": [
        "#creating logistic regression model\n",
        "from sklearn.linear_model import LogisticRegression\n",
        "classifier = LogisticRegression(random_state = 0)\n",
        "classifier.fit(X_train, y_train)\n",
        "\n",
        "#predicting X_test data\n",
        "y_pred = classifier.predict(X_test)"
      ],
      "execution_count": null,
      "outputs": []
    },
    {
      "cell_type": "code",
      "metadata": {
        "colab": {
          "base_uri": "https://localhost:8080/"
        },
        "id": "PUwcswUl5B1V",
        "outputId": "c3928d54-e34e-45b2-e7a6-ee8541f23013"
      },
      "source": [
        "#confusion matrix and accuracy of my model\n",
        "from sklearn.metrics import confusion_matrix, accuracy_score\n",
        "cm = confusion_matrix(y_test, y_pred)\n",
        "print(cm)\n",
        "score = accuracy_score(y_test, y_pred)\n",
        "score"
      ],
      "execution_count": null,
      "outputs": [
        {
          "output_type": "stream",
          "text": [
            "[[19076    12]\n",
            " [   23    22]]\n"
          ],
          "name": "stdout"
        },
        {
          "output_type": "execute_result",
          "data": {
            "text/plain": [
              "0.9981706998379762"
            ]
          },
          "metadata": {
            "tags": []
          },
          "execution_count": 100
        }
      ]
    },
    {
      "cell_type": "code",
      "metadata": {
        "colab": {
          "base_uri": "https://localhost:8080/",
          "height": 537
        },
        "id": "DPBj6VXb5Wrd",
        "outputId": "eadf9911-4cd8-4bc6-b14b-a895f63ded54"
      },
      "source": [
        "plt.figure(figsize=(9,9))\n",
        "sns.heatmap(cm, annot=True, fmt=\".3f\", linewidths=.5, square = True, cmap = 'Blues_r')\n",
        "plt.ylabel('Actual label')\n",
        "plt.xlabel('Predicted label')\n",
        "all_sample_title = 'Accuracy Score: {0}'.format(score)\n",
        "plt.title(all_sample_title, size = 15)"
      ],
      "execution_count": null,
      "outputs": [
        {
          "output_type": "execute_result",
          "data": {
            "text/plain": [
              "Text(0.5, 1.0, 'Accuracy Score: 0.9981706998379762')"
            ]
          },
          "metadata": {
            "tags": []
          },
          "execution_count": 101
        },
        {
          "output_type": "display_data",
          "data": {
            "image/png": "[encoded data removed]",
            "text/plain": [
              "<Figure size 648x648 with 2 Axes>"
            ]
          },
          "metadata": {
            "tags": [],
            "needs_background": "light"
          }
        }
      ]
    },
    {
      "cell_type": "code",
      "metadata": {
        "colab": {
          "base_uri": "https://localhost:8080/"
        },
        "id": "UbAesZ0k8yhq",
        "outputId": "47f2291d-5ea9-43e7-f85c-8cb76fca3e71"
      },
      "source": [
        "print(classification_report(y_test,y_pred))"
      ],
      "execution_count": null,
      "outputs": [
        {
          "output_type": "stream",
          "text": [
            "              precision    recall  f1-score   support\n",
            "\n",
            "           0       1.00      1.00      1.00     19088\n",
            "           1       0.65      0.49      0.56        45\n",
            "\n",
            "    accuracy                           1.00     19133\n",
            "   macro avg       0.82      0.74      0.78     19133\n",
            "weighted avg       1.00      1.00      1.00     19133\n",
            "\n"
          ],
          "name": "stdout"
        }
      ]
    },
    {
      "cell_type": "markdown",
      "metadata": {
        "id": "XTnmcM34884d"
      },
      "source": [
        "**Decision Tree Classifier**"
      ]
    },
    {
      "cell_type": "code",
      "metadata": {
        "colab": {
          "base_uri": "https://localhost:8080/"
        },
        "id": "ptl45UXC87Ox",
        "outputId": "1722c69e-22fe-40c9-a8ef-13788f18130d"
      },
      "source": [
        "from sklearn.tree import DecisionTreeClassifier\n",
        "classifier = DecisionTreeClassifier(criterion = 'entropy',random_state=0)\n",
        "classifier.fit(X_train, y_train)"
      ],
      "execution_count": null,
      "outputs": [
        {
          "output_type": "execute_result",
          "data": {
            "text/plain": [
              "DecisionTreeClassifier(ccp_alpha=0.0, class_weight=None, criterion='entropy',\n",
              "                       max_depth=None, max_features=None, max_leaf_nodes=None,\n",
              "                       min_impurity_decrease=0.0, min_impurity_split=None,\n",
              "                       min_samples_leaf=1, min_samples_split=2,\n",
              "                       min_weight_fraction_leaf=0.0, presort='deprecated',\n",
              "                       random_state=0, splitter='best')"
            ]
          },
          "metadata": {
            "tags": []
          },
          "execution_count": 103
        }
      ]
    },
    {
      "cell_type": "code",
      "metadata": {
        "id": "APtDDujW9WKx"
      },
      "source": [
        "#predicting X_test data\n",
        "y_pred = classifier.predict(X_test)"
      ],
      "execution_count": null,
      "outputs": []
    },
    {
      "cell_type": "code",
      "metadata": {
        "colab": {
          "base_uri": "https://localhost:8080/"
        },
        "id": "u8K_PsZi9c8D",
        "outputId": "ffe64f97-73d1-4014-fc81-764e3214b761"
      },
      "source": [
        "cm = confusion_matrix(y_test, y_pred)\n",
        "print(cm)\n",
        "score = accuracy_score(y_test, y_pred)\n",
        "score"
      ],
      "execution_count": null,
      "outputs": [
        {
          "output_type": "stream",
          "text": [
            "[[19083     5]\n",
            " [    2    43]]\n"
          ],
          "name": "stdout"
        },
        {
          "output_type": "execute_result",
          "data": {
            "text/plain": [
              "0.9996341399675952"
            ]
          },
          "metadata": {
            "tags": []
          },
          "execution_count": 105
        }
      ]
    },
    {
      "cell_type": "code",
      "metadata": {
        "colab": {
          "base_uri": "https://localhost:8080/",
          "height": 537
        },
        "id": "pl-vueo1-X25",
        "outputId": "7fa71433-bd1b-496d-e368-9d9e18ab1c81"
      },
      "source": [
        "plt.figure(figsize=(9,9))\n",
        "sns.heatmap(cm, annot=True, fmt=\".3f\", linewidths=.5, square = True, cmap = 'Blues_r')\n",
        "plt.ylabel('Actual label')\n",
        "plt.xlabel('Predicted label')\n",
        "all_sample_title = 'Accuracy Score: {0}'.format(score)\n",
        "plt.title(all_sample_title, size = 15)"
      ],
      "execution_count": null,
      "outputs": [
        {
          "output_type": "execute_result",
          "data": {
            "text/plain": [
              "Text(0.5, 1.0, 'Accuracy Score: 0.9996341399675952')"
            ]
          },
          "metadata": {
            "tags": []
          },
          "execution_count": 106
        },
        {
          "output_type": "display_data",
          "data": {
            "image/png": "[encoded data removed]",
            "text/plain": [
              "<Figure size 648x648 with 2 Axes>"
            ]
          },
          "metadata": {
            "tags": [],
            "needs_background": "light"
          }
        }
      ]
    },
    {
      "cell_type": "code",
      "metadata": {
        "colab": {
          "base_uri": "https://localhost:8080/"
        },
        "id": "kn_eO9n-_O7P",
        "outputId": "fc62a931-f78c-4000-e2e9-79ca48e7ded9"
      },
      "source": [
        "print(classification_report(y_test,y_pred))"
      ],
      "execution_count": null,
      "outputs": [
        {
          "output_type": "stream",
          "text": [
            "              precision    recall  f1-score   support\n",
            "\n",
            "           0       1.00      1.00      1.00     19088\n",
            "           1       0.90      0.96      0.92        45\n",
            "\n",
            "    accuracy                           1.00     19133\n",
            "   macro avg       0.95      0.98      0.96     19133\n",
            "weighted avg       1.00      1.00      1.00     19133\n",
            "\n"
          ],
          "name": "stdout"
        }
      ]
    },
    {
      "cell_type": "markdown",
      "metadata": {
        "id": "N2pyuZQ1_vuB"
      },
      "source": [
        "**Random Forest Classifier**"
      ]
    },
    {
      "cell_type": "code",
      "metadata": {
        "colab": {
          "base_uri": "https://localhost:8080/"
        },
        "id": "VLwXwKi2_tYD",
        "outputId": "36e88528-02d3-43ed-ae00-ab64be8d5284"
      },
      "source": [
        "from sklearn.ensemble import RandomForestClassifier\n",
        "classifier = RandomForestClassifier(n_estimators = 100, criterion = 'entropy', random_state = 0)\n",
        "classifier.fit(X_train, y_train)"
      ],
      "execution_count": null,
      "outputs": [
        {
          "output_type": "execute_result",
          "data": {
            "text/plain": [
              "RandomForestClassifier(bootstrap=True, ccp_alpha=0.0, class_weight=None,\n",
              "                       criterion='entropy', max_depth=None, max_features='auto',\n",
              "                       max_leaf_nodes=None, max_samples=None,\n",
              "                       min_impurity_decrease=0.0, min_impurity_split=None,\n",
              "                       min_samples_leaf=1, min_samples_split=2,\n",
              "                       min_weight_fraction_leaf=0.0, n_estimators=100,\n",
              "                       n_jobs=None, oob_score=False, random_state=0, verbose=0,\n",
              "                       warm_start=False)"
            ]
          },
          "metadata": {
            "tags": []
          },
          "execution_count": 108
        }
      ]
    },
    {
      "cell_type": "code",
      "metadata": {
        "id": "nOGbImweAI9K"
      },
      "source": [
        "#predicting X_test data\n",
        "y_pred = classifier.predict(X_test)"
      ],
      "execution_count": null,
      "outputs": []
    },
    {
      "cell_type": "code",
      "metadata": {
        "colab": {
          "base_uri": "https://localhost:8080/"
        },
        "id": "bmFuLk72ARF4",
        "outputId": "99622459-4b5f-4242-f705-909487e1bbd8"
      },
      "source": [
        "cm = confusion_matrix(y_test, y_pred)\n",
        "print(cm)\n",
        "score = accuracy_score(y_test, y_pred)\n",
        "score"
      ],
      "execution_count": null,
      "outputs": [
        {
          "output_type": "stream",
          "text": [
            "[[19080     8]\n",
            " [    9    36]]\n"
          ],
          "name": "stdout"
        },
        {
          "output_type": "execute_result",
          "data": {
            "text/plain": [
              "0.9991114827784456"
            ]
          },
          "metadata": {
            "tags": []
          },
          "execution_count": 110
        }
      ]
    },
    {
      "cell_type": "code",
      "metadata": {
        "colab": {
          "base_uri": "https://localhost:8080/"
        },
        "id": "X6qfa8QKAYTh",
        "outputId": "c7b553e9-494d-429e-c143-227eee253c07"
      },
      "source": [
        "print(classification_report(y_test,y_pred))"
      ],
      "execution_count": null,
      "outputs": [
        {
          "output_type": "stream",
          "text": [
            "              precision    recall  f1-score   support\n",
            "\n",
            "           0       1.00      1.00      1.00     19088\n",
            "           1       0.82      0.80      0.81        45\n",
            "\n",
            "    accuracy                           1.00     19133\n",
            "   macro avg       0.91      0.90      0.90     19133\n",
            "weighted avg       1.00      1.00      1.00     19133\n",
            "\n"
          ],
          "name": "stdout"
        }
      ]
    },
    {
      "cell_type": "markdown",
      "metadata": {
        "id": "WEcbnk6b5OMg"
      },
      "source": [
        "# **Bi-directional Elimination**"
      ]
    },
    {
      "cell_type": "code",
      "metadata": {
        "colab": {
          "base_uri": "https://localhost:8080/"
        },
        "id": "FmlAC2AyST40",
        "outputId": "2a4c5872-9fd3-43ff-f907-b26dd254b3b9"
      },
      "source": [
        "fraud_det.columns"
      ],
      "execution_count": null,
      "outputs": [
        {
          "output_type": "execute_result",
          "data": {
            "text/plain": [
              "Index(['transaction_number', 'user_id', 'partner_id', 'money_transacted',\n",
              "       'is_fraud', 'payment_method_other_debit_cards',\n",
              "       'payment_method_sbi_atm_cum_debit_card',\n",
              "       'payment_method_unified_payments_interface',\n",
              "       'payment_method_visa_master_credit_cards',\n",
              "       'payment_method_visa_master_debit_cards', 'partner_category_cat_2',\n",
              "       'partner_category_cat_3', 'partner_category_cat_4',\n",
              "       'partner_category_cat_5', 'partner_category_cat_6',\n",
              "       'partner_category_cat_7', 'partner_category_cat_8',\n",
              "       'partner_category_cat_9', 'device_type_ios_devices',\n",
              "       'device_type_other_pcs', 'device_type_windows_pcs', 'cred_deb_debit',\n",
              "       'year_2017', 'month_2', 'month_11', 'month_12',\n",
              "       'partner_pricing_category_1', 'partner_pricing_category_2',\n",
              "       'partner_pricing_category_4'],\n",
              "      dtype='object')"
            ]
          },
          "metadata": {
            "tags": []
          },
          "execution_count": 112
        }
      ]
    },
    {
      "cell_type": "code",
      "metadata": {
        "id": "mTAV59dv5x54"
      },
      "source": [
        "#Splitting dataset into dependent and independent variables.\n",
        "\n",
        "# In Independent variables I am using all the features other than 'transaction_number', 'user_id', 'partner_id'\n",
        "\n",
        "X = fraud_det.loc[:,['user_id','money_transacted',\n",
        "       'payment_method_visa_master_credit_cards','payment_method_unified_payments_interface',\n",
        "       'payment_method_visa_master_debit_cards', \n",
        "       'partner_category_cat_3'\n",
        "       ]]\n",
        "y = fraud_det.loc[:,fraud_det.columns == 'is_fraud']\n",
        "y=y.astype('int')\n"
      ],
      "execution_count": null,
      "outputs": []
    },
    {
      "cell_type": "code",
      "metadata": {
        "colab": {
          "base_uri": "https://localhost:8080/"
        },
        "id": "ijq1CqhQ6bfz",
        "outputId": "3cde389e-a774-4c4e-8581-dff48a3ad73a"
      },
      "source": [
        "from sklearn.preprocessing import scale\n",
        "\n",
        "# storing column names in cols, since column names are (annoyingly) lost after \n",
        "# scaling (the df is converted to a numpy array)\n",
        "cols = X.columns\n",
        "X = pd.DataFrame(scale(X))\n",
        "X.columns = cols\n",
        "X.columns"
      ],
      "execution_count": null,
      "outputs": [
        {
          "output_type": "execute_result",
          "data": {
            "text/plain": [
              "Index(['user_id', 'money_transacted',\n",
              "       'payment_method_visa_master_credit_cards',\n",
              "       'payment_method_unified_payments_interface',\n",
              "       'payment_method_visa_master_debit_cards', 'partner_category_cat_3'],\n",
              "      dtype='object')"
            ]
          },
          "metadata": {
            "tags": []
          },
          "execution_count": 114
        }
      ]
    },
    {
      "cell_type": "code",
      "metadata": {
        "id": "-eaTn3Rt94SV"
      },
      "source": [
        "from sklearn.model_selection import train_test_split\n",
        "X_train, X_test, y_train, y_test = train_test_split(X, y, test_size = 0.25, random_state = 0)\n"
      ],
      "execution_count": null,
      "outputs": []
    },
    {
      "cell_type": "markdown",
      "metadata": {
        "id": "rdf5Ofvp9IGR"
      },
      "source": [
        "# Logistic Regression"
      ]
    },
    {
      "cell_type": "code",
      "metadata": {
        "colab": {
          "base_uri": "https://localhost:8080/"
        },
        "id": "romw9Pn17OZn",
        "outputId": "998bcbb4-916c-4d6a-e791-0f7ea4374553"
      },
      "source": [
        "classifier = LogisticRegression(random_state = 0)\n",
        "classifier.fit(X_train, y_train)\n"
      ],
      "execution_count": null,
      "outputs": [
        {
          "output_type": "execute_result",
          "data": {
            "text/plain": [
              "LogisticRegression(C=1.0, class_weight=None, dual=False, fit_intercept=True,\n",
              "                   intercept_scaling=1, l1_ratio=None, max_iter=100,\n",
              "                   multi_class='auto', n_jobs=None, penalty='l2',\n",
              "                   random_state=0, solver='lbfgs', tol=0.0001, verbose=0,\n",
              "                   warm_start=False)"
            ]
          },
          "metadata": {
            "tags": []
          },
          "execution_count": 116
        }
      ]
    },
    {
      "cell_type": "code",
      "metadata": {
        "id": "YLxaRMIC9a-z"
      },
      "source": [
        "y_pred = classifier.predict(X_test)"
      ],
      "execution_count": null,
      "outputs": []
    },
    {
      "cell_type": "code",
      "metadata": {
        "colab": {
          "base_uri": "https://localhost:8080/"
        },
        "id": "vOiRyKKP9Uj8",
        "outputId": "3daaee34-b515-4d03-84ef-cdade7e5371d"
      },
      "source": [
        "from sklearn.metrics import confusion_matrix, accuracy_score\n",
        "cm = confusion_matrix(y_test, y_pred)\n",
        "print(cm)\n",
        "score = accuracy_score(y_test, y_pred)\n",
        "score"
      ],
      "execution_count": null,
      "outputs": [
        {
          "output_type": "stream",
          "text": [
            "[[19077    11]\n",
            " [   23    22]]\n"
          ],
          "name": "stdout"
        },
        {
          "output_type": "execute_result",
          "data": {
            "text/plain": [
              "0.9982229655568913"
            ]
          },
          "metadata": {
            "tags": []
          },
          "execution_count": 118
        }
      ]
    },
    {
      "cell_type": "code",
      "metadata": {
        "colab": {
          "base_uri": "https://localhost:8080/"
        },
        "id": "-T4Q9U7S-V-t",
        "outputId": "20059a05-e6c7-43b2-812c-9aa1212902a6"
      },
      "source": [
        "from sklearn.metrics import classification_report\n",
        "print(classification_report(y_test,y_pred))"
      ],
      "execution_count": null,
      "outputs": [
        {
          "output_type": "stream",
          "text": [
            "              precision    recall  f1-score   support\n",
            "\n",
            "           0       1.00      1.00      1.00     19088\n",
            "           1       0.67      0.49      0.56        45\n",
            "\n",
            "    accuracy                           1.00     19133\n",
            "   macro avg       0.83      0.74      0.78     19133\n",
            "weighted avg       1.00      1.00      1.00     19133\n",
            "\n"
          ],
          "name": "stdout"
        }
      ]
    },
    {
      "cell_type": "markdown",
      "metadata": {
        "id": "myoXD9ad-ltn"
      },
      "source": [
        "# Decision Tree Classifier"
      ]
    },
    {
      "cell_type": "code",
      "metadata": {
        "colab": {
          "base_uri": "https://localhost:8080/"
        },
        "id": "58RBDgol-kmi",
        "outputId": "25a1d2c5-4d0d-4343-8275-620649955ad6"
      },
      "source": [
        "classifier = DecisionTreeClassifier(criterion = 'entropy',random_state=0)\n",
        "classifier.fit(X_train, y_train)"
      ],
      "execution_count": null,
      "outputs": [
        {
          "output_type": "execute_result",
          "data": {
            "text/plain": [
              "DecisionTreeClassifier(ccp_alpha=0.0, class_weight=None, criterion='entropy',\n",
              "                       max_depth=None, max_features=None, max_leaf_nodes=None,\n",
              "                       min_impurity_decrease=0.0, min_impurity_split=None,\n",
              "                       min_samples_leaf=1, min_samples_split=2,\n",
              "                       min_weight_fraction_leaf=0.0, presort='deprecated',\n",
              "                       random_state=0, splitter='best')"
            ]
          },
          "metadata": {
            "tags": []
          },
          "execution_count": 120
        }
      ]
    },
    {
      "cell_type": "code",
      "metadata": {
        "id": "O4axnVcc-yp9"
      },
      "source": [
        "y_pred = classifier.predict(X_test)"
      ],
      "execution_count": null,
      "outputs": []
    },
    {
      "cell_type": "code",
      "metadata": {
        "colab": {
          "base_uri": "https://localhost:8080/"
        },
        "id": "67Mm_m-u-0CK",
        "outputId": "98d0e011-01b7-4c23-cf86-5477a97a4435"
      },
      "source": [
        "from sklearn.metrics import confusion_matrix, accuracy_score\n",
        "cm = confusion_matrix(y_test, y_pred)\n",
        "print(cm)\n",
        "score = accuracy_score(y_test, y_pred)\n",
        "score"
      ],
      "execution_count": null,
      "outputs": [
        {
          "output_type": "stream",
          "text": [
            "[[19082     6]\n",
            " [    2    43]]\n"
          ],
          "name": "stdout"
        },
        {
          "output_type": "execute_result",
          "data": {
            "text/plain": [
              "0.9995818742486803"
            ]
          },
          "metadata": {
            "tags": []
          },
          "execution_count": 122
        }
      ]
    },
    {
      "cell_type": "code",
      "metadata": {
        "colab": {
          "base_uri": "https://localhost:8080/"
        },
        "id": "8yuaqOTS--fC",
        "outputId": "5589b154-f490-45e1-b737-f06fa6053963"
      },
      "source": [
        "from sklearn.metrics import classification_report\n",
        "print(classification_report(y_test,y_pred))"
      ],
      "execution_count": null,
      "outputs": [
        {
          "output_type": "stream",
          "text": [
            "              precision    recall  f1-score   support\n",
            "\n",
            "           0       1.00      1.00      1.00     19088\n",
            "           1       0.88      0.96      0.91        45\n",
            "\n",
            "    accuracy                           1.00     19133\n",
            "   macro avg       0.94      0.98      0.96     19133\n",
            "weighted avg       1.00      1.00      1.00     19133\n",
            "\n"
          ],
          "name": "stdout"
        }
      ]
    },
    {
      "cell_type": "markdown",
      "metadata": {
        "id": "vW76yaUw_Gyf"
      },
      "source": [
        "# Random Forest Classifier"
      ]
    },
    {
      "cell_type": "code",
      "metadata": {
        "colab": {
          "base_uri": "https://localhost:8080/"
        },
        "id": "J6nUK6NF_Fpx",
        "outputId": "d829fb79-b61b-431a-e0ae-e1eb22eaf229"
      },
      "source": [
        "classifier = RandomForestClassifier(n_estimators = 100, criterion = 'entropy', random_state = 0)\n",
        "classifier.fit(X_train, y_train)"
      ],
      "execution_count": null,
      "outputs": [
        {
          "output_type": "execute_result",
          "data": {
            "text/plain": [
              "RandomForestClassifier(bootstrap=True, ccp_alpha=0.0, class_weight=None,\n",
              "                       criterion='entropy', max_depth=None, max_features='auto',\n",
              "                       max_leaf_nodes=None, max_samples=None,\n",
              "                       min_impurity_decrease=0.0, min_impurity_split=None,\n",
              "                       min_samples_leaf=1, min_samples_split=2,\n",
              "                       min_weight_fraction_leaf=0.0, n_estimators=100,\n",
              "                       n_jobs=None, oob_score=False, random_state=0, verbose=0,\n",
              "                       warm_start=False)"
            ]
          },
          "metadata": {
            "tags": []
          },
          "execution_count": 124
        }
      ]
    },
    {
      "cell_type": "code",
      "metadata": {
        "id": "vg1rUlPn_UhS"
      },
      "source": [
        "y_pred = classifier.predict(X_test)"
      ],
      "execution_count": null,
      "outputs": []
    },
    {
      "cell_type": "code",
      "metadata": {
        "colab": {
          "base_uri": "https://localhost:8080/"
        },
        "id": "REZDK31A_crA",
        "outputId": "e8fa2d85-f3e4-4992-8c70-55283ff0d98f"
      },
      "source": [
        "from sklearn.metrics import confusion_matrix, accuracy_score\n",
        "cm = confusion_matrix(y_test, y_pred)\n",
        "print(cm)\n",
        "score = accuracy_score(y_test, y_pred)\n",
        "score"
      ],
      "execution_count": null,
      "outputs": [
        {
          "output_type": "stream",
          "text": [
            "[[19082     6]\n",
            " [    2    43]]\n"
          ],
          "name": "stdout"
        },
        {
          "output_type": "execute_result",
          "data": {
            "text/plain": [
              "0.9995818742486803"
            ]
          },
          "metadata": {
            "tags": []
          },
          "execution_count": 126
        }
      ]
    },
    {
      "cell_type": "code",
      "metadata": {
        "colab": {
          "base_uri": "https://localhost:8080/"
        },
        "id": "GfOeRIK-_iEa",
        "outputId": "44cab7fc-f7ad-49aa-9183-49ba4cea0e27"
      },
      "source": [
        "from sklearn.metrics import classification_report\n",
        "print(classification_report(y_test,y_pred))"
      ],
      "execution_count": null,
      "outputs": [
        {
          "output_type": "stream",
          "text": [
            "              precision    recall  f1-score   support\n",
            "\n",
            "           0       1.00      1.00      1.00     19088\n",
            "           1       0.88      0.96      0.91        45\n",
            "\n",
            "    accuracy                           1.00     19133\n",
            "   macro avg       0.94      0.98      0.96     19133\n",
            "weighted avg       1.00      1.00      1.00     19133\n",
            "\n"
          ],
          "name": "stdout"
        }
      ]
    },
    {
      "cell_type": "markdown",
      "metadata": {
        "id": "g0SZIGATUqvt"
      },
      "source": [
        "After too many iterations of training and testing the model with different features and checking the accuracy each time with different feature.\n",
        "In each iteration I have added or substracted feature and check the accuracy and confusion matrix each time, and finally I got the best accuracy with following features :\n",
        "\n",
        "> 'user_id','money_transacted',\n",
        "       'payment_method_visa_master_credit_cards','payment_method_unified_payments_interface',\n",
        "       'payment_method_visa_master_debit_cards', \n",
        "       'partner_category_cat_3'\n",
        "\n",
        "With Both Decision Tree Classifier and Random Forest Classifier model I got best and same accuracy. Both model predicted correct 43 number of 1's(yes) out of 45 number of 1's.\n",
        "\n"
      ]
    },
    {
      "cell_type": "markdown",
      "metadata": {
        "id": "XKttQccgMTPq"
      },
      "source": [
        "# Using Recursive Feature Elimination to select top N features in an automated fashion\n",
        "\n",
        "\n"
      ]
    },
    {
      "cell_type": "code",
      "metadata": {
        "id": "_Z8zWDagUpNw"
      },
      "source": [
        "#Splitting dataset into dependent and independent variables.\n",
        "X = fraud_det.loc[:,fraud_det.columns != 'is_fraud']\n",
        "y = fraud_det.loc[:,fraud_det.columns == 'is_fraud']\n",
        "y=y.astype('int')\n",
        "X = X.drop('partner_id', axis = 1)"
      ],
      "execution_count": null,
      "outputs": []
    },
    {
      "cell_type": "code",
      "metadata": {
        "id": "kVcy_teaY8vE"
      },
      "source": [
        "# cols = X.columns\n",
        "# X = pd.DataFrame(scale(X))\n",
        "# X.columns = cols\n",
        "# X.columns"
      ],
      "execution_count": null,
      "outputs": []
    },
    {
      "cell_type": "code",
      "metadata": {
        "colab": {
          "base_uri": "https://localhost:8080/"
        },
        "id": "CdrQUYTNZyf5",
        "outputId": "dcb995c7-4a3d-4749-c06a-fa5f49fba1c7"
      },
      "source": [
        "X.shape"
      ],
      "execution_count": null,
      "outputs": [
        {
          "output_type": "execute_result",
          "data": {
            "text/plain": [
              "(76529, 27)"
            ]
          },
          "metadata": {
            "tags": []
          },
          "execution_count": 130
        }
      ]
    },
    {
      "cell_type": "markdown",
      "metadata": {
        "id": "WpcTHn89Zhpz"
      },
      "source": [
        "Finding Top n features\n"
      ]
    },
    {
      "cell_type": "code",
      "metadata": {
        "id": "U1LXDo2_ZPtN"
      },
      "source": [
        "# # importing necessary libary for RFE\n",
        "from sklearn.feature_selection import RFE\n",
        "# #no of features\n",
        "# nof_list=np.arange(1,28)            \n",
        "# high_score=0\n",
        "# #Variable to store the optimum features\n",
        "# nof=0           \n",
        "# score_list =[]\n",
        "# for n in range(len(nof_list)):\n",
        "#     X_train, X_test, y_train, y_test = train_test_split(X,y, test_size = 0.25, random_state = 0)\n",
        "#     model = LogisticRegression()\n",
        "#     rfe = RFE(model,nof_list[n])\n",
        "#     X_train_rfe = rfe.fit_transform(X_train,y_train)\n",
        "#     X_test_rfe = rfe.transform(X_test)\n",
        "#     model.fit(X_train_rfe,y_train)\n",
        "#     score = model.score(X_test_rfe,y_test)\n",
        "#     score_list.append(score)\n",
        "#     if(score>high_score):\n",
        "#         high_score = score\n",
        "#         nof = nof_list[n]\n",
        "# print(\"Optimum number of features: %d\" %nof)\n",
        "# print(\"Score with %d features: %f\" % (nof, high_score))"
      ],
      "execution_count": null,
      "outputs": []
    },
    {
      "cell_type": "code",
      "metadata": {
        "colab": {
          "base_uri": "https://localhost:8080/"
        },
        "id": "IF6EeziJa-hj",
        "outputId": "368b3576-732d-4fba-b901-76c2c9d86dff"
      },
      "source": [
        "cols = list(X.columns)\n",
        "model = LogisticRegression()\n",
        "#Initializing RFE model\n",
        "rfe = RFE(model,10)             \n",
        "#Transforming data using RFE\n",
        "X_rfe = rfe.fit_transform(X,y)  \n",
        "#Fitting the data to model\n",
        "model.fit(X_rfe,y)              \n",
        "temp = pd.Series(rfe.support_,index = cols)\n",
        "selected_features_rfe = temp[temp==True].index\n",
        "print(selected_features_rfe)"
      ],
      "execution_count": null,
      "outputs": [
        {
          "output_type": "stream",
          "text": [
            "Index(['user_id', 'money_transacted', 'payment_method_sbi_atm_cum_debit_card',\n",
            "       'partner_category_cat_2', 'device_type_other_pcs', 'cred_deb_debit',\n",
            "       'year_2017', 'month_2', 'month_12', 'partner_pricing_category_2'],\n",
            "      dtype='object')\n"
          ],
          "name": "stdout"
        }
      ]
    },
    {
      "cell_type": "code",
      "metadata": {
        "id": "HW1L9NJAbl6S"
      },
      "source": [
        "#Splitting dataset into dependent and independent variables.\n",
        "X = fraud_det.loc[:,['user_id', 'money_transacted', 'payment_method_sbi_atm_cum_debit_card',\n",
        "       'partner_category_cat_2', 'device_type_other_pcs', 'cred_deb_debit',\n",
        "       'year_2017', 'month_2', 'month_12', 'partner_pricing_category_2']]\n",
        "y = fraud_det.loc[:,fraud_det.columns == 'is_fraud']\n",
        "y=y.astype('int')"
      ],
      "execution_count": null,
      "outputs": []
    },
    {
      "cell_type": "code",
      "metadata": {
        "colab": {
          "base_uri": "https://localhost:8080/"
        },
        "id": "rYqcLb96b6ki",
        "outputId": "c7364c45-d34c-43dc-e62c-b09fe152d88f"
      },
      "source": [
        "cols = X.columns\n",
        "X = pd.DataFrame(scale(X))\n",
        "X.columns = cols\n",
        "X.columns"
      ],
      "execution_count": null,
      "outputs": [
        {
          "output_type": "execute_result",
          "data": {
            "text/plain": [
              "Index(['user_id', 'money_transacted', 'payment_method_sbi_atm_cum_debit_card',\n",
              "       'partner_category_cat_2', 'device_type_other_pcs', 'cred_deb_debit',\n",
              "       'year_2017', 'month_2', 'month_12', 'partner_pricing_category_2'],\n",
              "      dtype='object')"
            ]
          },
          "metadata": {
            "tags": []
          },
          "execution_count": 134
        }
      ]
    },
    {
      "cell_type": "code",
      "metadata": {
        "id": "ZjDTAf1Xb8CW"
      },
      "source": [
        "from sklearn.model_selection import train_test_split\n",
        "X_train, X_test, y_train, y_test = train_test_split(X, y, test_size = 0.25, random_state = 0)\n"
      ],
      "execution_count": null,
      "outputs": []
    },
    {
      "cell_type": "markdown",
      "metadata": {
        "id": "1fh961WFch-3"
      },
      "source": [
        "Logistic Regression"
      ]
    },
    {
      "cell_type": "code",
      "metadata": {
        "colab": {
          "base_uri": "https://localhost:8080/"
        },
        "id": "tv3eaN-pcFWS",
        "outputId": "d79c9c81-8f8f-450e-cb7d-adc79c7bade7"
      },
      "source": [
        "classifier = LogisticRegression(random_state = 0)\n",
        "classifier.fit(X_train, y_train)\n"
      ],
      "execution_count": null,
      "outputs": [
        {
          "output_type": "execute_result",
          "data": {
            "text/plain": [
              "LogisticRegression(C=1.0, class_weight=None, dual=False, fit_intercept=True,\n",
              "                   intercept_scaling=1, l1_ratio=None, max_iter=100,\n",
              "                   multi_class='auto', n_jobs=None, penalty='l2',\n",
              "                   random_state=0, solver='lbfgs', tol=0.0001, verbose=0,\n",
              "                   warm_start=False)"
            ]
          },
          "metadata": {
            "tags": []
          },
          "execution_count": 136
        }
      ]
    },
    {
      "cell_type": "code",
      "metadata": {
        "id": "m_p8lwD_cHQD"
      },
      "source": [
        "y_pred = classifier.predict(X_test)"
      ],
      "execution_count": null,
      "outputs": []
    },
    {
      "cell_type": "code",
      "metadata": {
        "colab": {
          "base_uri": "https://localhost:8080/"
        },
        "id": "wnzA2ESfcTs_",
        "outputId": "55e010d3-767f-4ca7-e95d-7dede2265490"
      },
      "source": [
        "from sklearn.metrics import confusion_matrix, accuracy_score\n",
        "cm = confusion_matrix(y_test, y_pred)\n",
        "print(cm)\n",
        "score = accuracy_score(y_test, y_pred)\n",
        "score"
      ],
      "execution_count": null,
      "outputs": [
        {
          "output_type": "stream",
          "text": [
            "[[19073    15]\n",
            " [   25    20]]\n"
          ],
          "name": "stdout"
        },
        {
          "output_type": "execute_result",
          "data": {
            "text/plain": [
              "0.9979093712434014"
            ]
          },
          "metadata": {
            "tags": []
          },
          "execution_count": 138
        }
      ]
    },
    {
      "cell_type": "code",
      "metadata": {
        "colab": {
          "base_uri": "https://localhost:8080/"
        },
        "id": "svbisEle0Moj",
        "outputId": "cbd7d0a5-e072-496e-ba70-527cd9eb82cb"
      },
      "source": [
        "from sklearn.metrics import classification_report\n",
        "print(classification_report(y_test,y_pred))"
      ],
      "execution_count": null,
      "outputs": [
        {
          "output_type": "stream",
          "text": [
            "              precision    recall  f1-score   support\n",
            "\n",
            "           0       1.00      1.00      1.00     19088\n",
            "           1       0.57      0.44      0.50        45\n",
            "\n",
            "    accuracy                           1.00     19133\n",
            "   macro avg       0.79      0.72      0.75     19133\n",
            "weighted avg       1.00      1.00      1.00     19133\n",
            "\n"
          ],
          "name": "stdout"
        }
      ]
    },
    {
      "cell_type": "markdown",
      "metadata": {
        "id": "0-wWIY9xdLUi"
      },
      "source": [
        "Decision Tree"
      ]
    },
    {
      "cell_type": "code",
      "metadata": {
        "colab": {
          "base_uri": "https://localhost:8080/"
        },
        "id": "_XYi-zZZcnfd",
        "outputId": "e0ac7de4-f58a-44d7-c4e9-faa1ab8f5f76"
      },
      "source": [
        "classifier = DecisionTreeClassifier(criterion = 'entropy',random_state=0)\n",
        "classifier.fit(X_train, y_train)"
      ],
      "execution_count": null,
      "outputs": [
        {
          "output_type": "execute_result",
          "data": {
            "text/plain": [
              "DecisionTreeClassifier(ccp_alpha=0.0, class_weight=None, criterion='entropy',\n",
              "                       max_depth=None, max_features=None, max_leaf_nodes=None,\n",
              "                       min_impurity_decrease=0.0, min_impurity_split=None,\n",
              "                       min_samples_leaf=1, min_samples_split=2,\n",
              "                       min_weight_fraction_leaf=0.0, presort='deprecated',\n",
              "                       random_state=0, splitter='best')"
            ]
          },
          "metadata": {
            "tags": []
          },
          "execution_count": 140
        }
      ]
    },
    {
      "cell_type": "code",
      "metadata": {
        "id": "bIKG1ogyc46z"
      },
      "source": [
        "y_pred = classifier.predict(X_test)"
      ],
      "execution_count": null,
      "outputs": []
    },
    {
      "cell_type": "code",
      "metadata": {
        "colab": {
          "base_uri": "https://localhost:8080/"
        },
        "id": "UZTrdremdA8h",
        "outputId": "3857ba3d-d916-4979-8c42-f0513948d97f"
      },
      "source": [
        "from sklearn.metrics import confusion_matrix, accuracy_score\n",
        "cm = confusion_matrix(y_test, y_pred)\n",
        "print(cm)\n",
        "score = accuracy_score(y_test, y_pred)\n",
        "score"
      ],
      "execution_count": null,
      "outputs": [
        {
          "output_type": "stream",
          "text": [
            "[[19084     4]\n",
            " [    3    42]]\n"
          ],
          "name": "stdout"
        },
        {
          "output_type": "execute_result",
          "data": {
            "text/plain": [
              "0.9996341399675952"
            ]
          },
          "metadata": {
            "tags": []
          },
          "execution_count": 142
        }
      ]
    },
    {
      "cell_type": "code",
      "metadata": {
        "id": "BEG6cIcm0OwU",
        "colab": {
          "base_uri": "https://localhost:8080/"
        },
        "outputId": "17a39f79-5004-4f75-ebd9-822745d34119"
      },
      "source": [
        "from sklearn.metrics import classification_report\n",
        "print(classification_report(y_test,y_pred))"
      ],
      "execution_count": null,
      "outputs": [
        {
          "output_type": "stream",
          "text": [
            "              precision    recall  f1-score   support\n",
            "\n",
            "           0       1.00      1.00      1.00     19088\n",
            "           1       0.91      0.93      0.92        45\n",
            "\n",
            "    accuracy                           1.00     19133\n",
            "   macro avg       0.96      0.97      0.96     19133\n",
            "weighted avg       1.00      1.00      1.00     19133\n",
            "\n"
          ],
          "name": "stdout"
        }
      ]
    },
    {
      "cell_type": "markdown",
      "metadata": {
        "id": "_5jVhvKrddAo"
      },
      "source": [
        "Random Forest"
      ]
    },
    {
      "cell_type": "code",
      "metadata": {
        "colab": {
          "base_uri": "https://localhost:8080/"
        },
        "id": "Oph6fG42dhZa",
        "outputId": "ea630455-3aa8-4732-e908-6fca8c6cacfc"
      },
      "source": [
        "classifier = RandomForestClassifier(n_estimators = 100, criterion = 'entropy', random_state = 0)\n",
        "classifier.fit(X_train, y_train)"
      ],
      "execution_count": null,
      "outputs": [
        {
          "output_type": "execute_result",
          "data": {
            "text/plain": [
              "RandomForestClassifier(bootstrap=True, ccp_alpha=0.0, class_weight=None,\n",
              "                       criterion='entropy', max_depth=None, max_features='auto',\n",
              "                       max_leaf_nodes=None, max_samples=None,\n",
              "                       min_impurity_decrease=0.0, min_impurity_split=None,\n",
              "                       min_samples_leaf=1, min_samples_split=2,\n",
              "                       min_weight_fraction_leaf=0.0, n_estimators=100,\n",
              "                       n_jobs=None, oob_score=False, random_state=0, verbose=0,\n",
              "                       warm_start=False)"
            ]
          },
          "metadata": {
            "tags": []
          },
          "execution_count": 144
        }
      ]
    },
    {
      "cell_type": "code",
      "metadata": {
        "id": "23V4Ztladq0I"
      },
      "source": [
        "y_pred = classifier.predict(X_test)"
      ],
      "execution_count": null,
      "outputs": []
    },
    {
      "cell_type": "code",
      "metadata": {
        "colab": {
          "base_uri": "https://localhost:8080/"
        },
        "id": "8gZCdfcRdw3f",
        "outputId": "31befac8-ec64-4688-8259-b53a37b97487"
      },
      "source": [
        "from sklearn.metrics import confusion_matrix, accuracy_score\n",
        "cm = confusion_matrix(y_test, y_pred)\n",
        "print(cm)\n",
        "score = accuracy_score(y_test, y_pred)\n",
        "score"
      ],
      "execution_count": null,
      "outputs": [
        {
          "output_type": "stream",
          "text": [
            "[[19083     5]\n",
            " [    5    40]]\n"
          ],
          "name": "stdout"
        },
        {
          "output_type": "execute_result",
          "data": {
            "text/plain": [
              "0.9994773428108503"
            ]
          },
          "metadata": {
            "tags": []
          },
          "execution_count": 146
        }
      ]
    },
    {
      "cell_type": "code",
      "metadata": {
        "id": "dFOJ1kDR0RDz",
        "colab": {
          "base_uri": "https://localhost:8080/"
        },
        "outputId": "6e402596-039a-4464-b184-08e6f41d46b0"
      },
      "source": [
        "from sklearn.metrics import classification_report\n",
        "print(classification_report(y_test,y_pred))"
      ],
      "execution_count": null,
      "outputs": [
        {
          "output_type": "stream",
          "text": [
            "              precision    recall  f1-score   support\n",
            "\n",
            "           0       1.00      1.00      1.00     19088\n",
            "           1       0.89      0.89      0.89        45\n",
            "\n",
            "    accuracy                           1.00     19133\n",
            "   macro avg       0.94      0.94      0.94     19133\n",
            "weighted avg       1.00      1.00      1.00     19133\n",
            "\n"
          ],
          "name": "stdout"
        }
      ]
    }
  ]
}